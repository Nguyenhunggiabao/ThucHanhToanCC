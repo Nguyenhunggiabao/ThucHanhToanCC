{
  "nbformat": 4,
  "nbformat_minor": 0,
  "metadata": {
    "colab": {
      "name": "Bai1.ipynb",
      "provenance": [],
      "collapsed_sections": [],
      "toc_visible": true,
      "authorship_tag": "ABX9TyNT0nlWs743Gx3NyhX2jnRx",
      "include_colab_link": true
    },
    "kernelspec": {
      "name": "python3",
      "display_name": "Python 3"
    },
    "language_info": {
      "name": "python"
    }
  },
  "cells": [
    {
      "cell_type": "markdown",
      "metadata": {
        "id": "view-in-github",
        "colab_type": "text"
      },
      "source": [
        "<a href=\"https://colab.research.google.com/github/Nguyenhunggiabao/ThucHanhToanCC/blob/main/Bai1.ipynb\" target=\"_parent\"><img src=\"https://colab.research.google.com/assets/colab-badge.svg\" alt=\"Open In Colab\"/></a>"
      ]
    },
    {
      "cell_type": "markdown",
      "source": [
        "Thực Hành 1"
      ],
      "metadata": {
        "id": "HXGiezOi_FgX"
      }
    },
    {
      "cell_type": "code",
      "source": [
        "n = 10000000\n",
        "\n",
        "X = [(2-0)*k/n for k in range(0, n+1)]"
      ],
      "metadata": {
        "id": "RmqLXTEz_JXB"
      },
      "execution_count": null,
      "outputs": []
    },
    {
      "cell_type": "code",
      "source": [
        "S = 0\n",
        "\n",
        "for k in range(1, n + 1):\n",
        "\n",
        "  S = S + X[k]**2 * (X[k] - X[k-1])\n",
        "\n",
        "print (S)"
      ],
      "metadata": {
        "colab": {
          "base_uri": "https://localhost:8080/"
        },
        "id": "XYwFvmKTHZ6v",
        "outputId": "e4cfd141-9d41-4fb2-9040-c2e12670a90b"
      },
      "execution_count": null,
      "outputs": [
        {
          "output_type": "stream",
          "name": "stdout",
          "text": [
            "2.666667066666659\n"
          ]
        }
      ]
    },
    {
      "cell_type": "code",
      "source": [
        "from sympy.solvers.solvers import denoms\n",
        "from sympy import *\n",
        "x = Symbol('x')\n",
        "eq=(1/x)*1/(x-3)\n",
        "dd=denoms(eq)\n",
        "print(dd)"
      ],
      "metadata": {
        "colab": {
          "base_uri": "https://localhost:8080/"
        },
        "id": "8Hoh-tAmMntM",
        "outputId": "024d44de-46c1-455e-82df-7083d7276785"
      },
      "execution_count": null,
      "outputs": [
        {
          "output_type": "stream",
          "name": "stdout",
          "text": [
            "{x, x - 3}\n"
          ]
        }
      ]
    },
    {
      "cell_type": "code",
      "source": [
        "eq = (1+1/x)/(x-1)\n",
        "from sympy.solvers.solvers import denoms\n",
        "loai_tru= set()\n",
        "for d in denoms(eq):\n",
        "  for s in solve(d):\n",
        "    loai_tru.add(s)\n",
        "print(loai_tru)\n"
      ],
      "metadata": {
        "colab": {
          "base_uri": "https://localhost:8080/"
        },
        "id": "40mmxixtPEgR",
        "outputId": "12287d4d-9725-423a-8cc0-ed8d82fcc137"
      },
      "execution_count": null,
      "outputs": [
        {
          "output_type": "stream",
          "name": "stdout",
          "text": [
            "{0, 1}\n"
          ]
        }
      ]
    },
    {
      "cell_type": "code",
      "source": [
        "from sympy import Symbol\n",
        "x = Symbol(\"x\",positive=True)\n",
        "if (x+3)>0:\n",
        "  print('chắc chắn x+3 là số dương')\n",
        "else:\n",
        "  print('chắc chắn x+3 là số âm')"
      ],
      "metadata": {
        "colab": {
          "base_uri": "https://localhost:8080/"
        },
        "id": "6vHiCg52QfbB",
        "outputId": "84244a70-5e09-4fa8-d9f9-70db1e155fc2"
      },
      "execution_count": null,
      "outputs": [
        {
          "output_type": "stream",
          "name": "stdout",
          "text": [
            "chắc chắn x+3 là số dương\n"
          ]
        }
      ]
    },
    {
      "cell_type": "code",
      "source": [
        "from sympy import Limit\n",
        "Limit (1/x,x,0, dir=\"-\").doit()"
      ],
      "metadata": {
        "colab": {
          "base_uri": "https://localhost:8080/",
          "height": 38
        },
        "id": "eCd3Vp7QT4_S",
        "outputId": "79621bc6-8dbb-4302-e72f-55a10855cd05"
      },
      "execution_count": null,
      "outputs": [
        {
          "output_type": "execute_result",
          "data": {
            "text/latex": "$\\displaystyle -\\infty$",
            "text/plain": [
              "-oo"
            ]
          },
          "metadata": {},
          "execution_count": 15
        }
      ]
    },
    {
      "cell_type": "code",
      "source": [
        "from sympy import Limit\n",
        "Limit (1/x,x,0, dir=\"+\").doit()"
      ],
      "metadata": {
        "colab": {
          "base_uri": "https://localhost:8080/",
          "height": 38
        },
        "id": "6qE1qqWKUM5V",
        "outputId": "b36db1d7-1edf-4f26-becf-ff45bb3bd7ee"
      },
      "execution_count": null,
      "outputs": [
        {
          "output_type": "execute_result",
          "data": {
            "text/latex": "$\\displaystyle \\infty$",
            "text/plain": [
              "oo"
            ]
          },
          "metadata": {},
          "execution_count": 16
        }
      ]
    },
    {
      "cell_type": "code",
      "source": [
        "from sympy import Symbol, sin\n",
        "Limit (sin(x)/x,x,0).doit()"
      ],
      "metadata": {
        "colab": {
          "base_uri": "https://localhost:8080/",
          "height": 38
        },
        "id": "G9m-urf8UcAo",
        "outputId": "334df4da-a4bc-4625-d7cd-977206f88d07"
      },
      "execution_count": null,
      "outputs": [
        {
          "output_type": "execute_result",
          "data": {
            "text/latex": "$\\displaystyle 1$",
            "text/plain": [
              "1"
            ]
          },
          "metadata": {},
          "execution_count": 17
        }
      ]
    },
    {
      "cell_type": "code",
      "source": [
        "from sympy import Limit, sin , S, Symbol \n",
        "x = Symbol('x')\n",
        "Limit(x*sin(1/x),x,S.Infinity)"
      ],
      "metadata": {
        "id": "YHBAg09L3Lys",
        "outputId": "2d10a32e-1cb1-44d3-cc8e-c21921a60f03",
        "colab": {
          "base_uri": "https://localhost:8080/",
          "height": 58
        }
      },
      "execution_count": 7,
      "outputs": [
        {
          "output_type": "execute_result",
          "data": {
            "text/latex": "$\\displaystyle \\lim_{x \\to \\infty}\\left(x \\sin{\\left(\\frac{1}{x} \\right)}\\right)$",
            "text/plain": [
              "Limit(x*sin(1/x), x, oo, dir='-')"
            ]
          },
          "metadata": {},
          "execution_count": 7
        }
      ]
    },
    {
      "cell_type": "markdown",
      "source": [
        "Bài 1"
      ],
      "metadata": {
        "id": "CRXtDdnR5QPi"
      }
    },
    {
      "cell_type": "code",
      "source": [
        "a = 3.1\n",
        "b = 3.0\n",
        "i = -1\n",
        "while (a != b):\n",
        "  print (a, '!=', b)\n",
        "  a_new = a - 0.9 * 10 ** (i)\n",
        "  if a_new != a:\n",
        "    a = a_new\n",
        "    i = i-1\n",
        "  else:\n",
        "    print (i)\n",
        "    a = b\n",
        "\n"
      ],
      "metadata": {
        "id": "BBGTWGKT5T04",
        "outputId": "a904bf01-1c9e-485b-9d39-890f76b39e17",
        "colab": {
          "base_uri": "https://localhost:8080/"
        }
      },
      "execution_count": 8,
      "outputs": [
        {
          "output_type": "stream",
          "name": "stdout",
          "text": [
            "3.1 != 3.0\n",
            "3.0100000000000002 != 3.0\n",
            "3.0010000000000003 != 3.0\n",
            "3.0001 != 3.0\n",
            "3.00001 != 3.0\n",
            "3.000001 != 3.0\n",
            "3.0000001000000003 != 3.0\n",
            "3.0000000100000004 != 3.0\n",
            "3.0000000010000005 != 3.0\n",
            "3.0000000001000005 != 3.0\n",
            "3.0000000000100004 != 3.0\n",
            "3.0000000000010005 != 3.0\n",
            "3.0000000000001004 != 3.0\n",
            "3.00000000000001 != 3.0\n",
            "3.0000000000000013 != 3.0\n",
            "3.0000000000000004 != 3.0\n",
            "-16\n"
          ]
        }
      ]
    },
    {
      "cell_type": "markdown",
      "source": [
        "bài 2 "
      ],
      "metadata": {
        "id": "hu7jyFMB6zRn"
      }
    },
    {
      "cell_type": "code",
      "source": [
        "a = True\n",
        "b = False\n",
        "if a == b and 1/0 > 0:\n",
        "  print(\"a = b\")\n",
        "else:\n",
        "  print(\"a != b\")\n",
        "\n"
      ],
      "metadata": {
        "id": "Toyw22ir604k",
        "outputId": "38b2a7dd-8f85-49f2-cf07-c0a8dea7a018",
        "colab": {
          "base_uri": "https://localhost:8080/"
        }
      },
      "execution_count": 12,
      "outputs": [
        {
          "output_type": "stream",
          "name": "stdout",
          "text": [
            "a != b\n"
          ]
        }
      ]
    }
  ]
}