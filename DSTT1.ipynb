{
  "nbformat": 4,
  "nbformat_minor": 0,
  "metadata": {
    "colab": {
      "provenance": [],
      "authorship_tag": "ABX9TyMtJKvUkFnIMZX6RLfPC+y+",
      "include_colab_link": true
    },
    "kernelspec": {
      "name": "python3",
      "display_name": "Python 3"
    },
    "language_info": {
      "name": "python"
    }
  },
  "cells": [
    {
      "cell_type": "markdown",
      "metadata": {
        "id": "view-in-github",
        "colab_type": "text"
      },
      "source": [
        "<a href=\"https://colab.research.google.com/github/Nguyenhunggiabao/ThucHanhToanCC/blob/main/DSTT1.ipynb\" target=\"_parent\"><img src=\"https://colab.research.google.com/assets/colab-badge.svg\" alt=\"Open In Colab\"/></a>"
      ]
    },
    {
      "cell_type": "markdown",
      "source": [
        "bài 1: giới thiệu gói Sympy và Numpy"
      ],
      "metadata": {
        "id": "oejZyMBBeO3Y"
      }
    },
    {
      "cell_type": "markdown",
      "source": [
        "1.2.1 cac phep xu ly voi danh sach"
      ],
      "metadata": {
        "id": "UmEyjdD0iAws"
      }
    },
    {
      "cell_type": "code",
      "execution_count": 32,
      "metadata": {
        "colab": {
          "base_uri": "https://localhost:8080/"
        },
        "id": "tyLDfZqeZwri",
        "outputId": "2d77bc13-6b04-4a10-88af-5f711b8f3f3b"
      },
      "outputs": [
        {
          "output_type": "stream",
          "name": "stdout",
          "text": [
            "[1, 3, 5, 7]\n"
          ]
        }
      ],
      "source": [
        " danhsach1 = [1,3]\n",
        " danhsach2 = [5,7]\n",
        " danhsach = danhsach1 + danhsach2\n",
        " print(danhsach)"
      ]
    },
    {
      "cell_type": "code",
      "source": [
        "danhsach_gapdoi = 2*danhsach\n",
        "print(danhsach_gapdoi)\n",
        "print(danhsach*2)\n",
        "'''print(danhsach/2)'''"
      ],
      "metadata": {
        "colab": {
          "base_uri": "https://localhost:8080/",
          "height": 70
        },
        "id": "RWHwqisNe5Dz",
        "outputId": "1eb0a487-cddd-41df-fbb8-2c2e26830bd5"
      },
      "execution_count": 33,
      "outputs": [
        {
          "output_type": "stream",
          "name": "stdout",
          "text": [
            "[1, 3, 5, 7, 1, 3, 5, 7]\n",
            "[1, 3, 5, 7, 1, 3, 5, 7]\n"
          ]
        },
        {
          "output_type": "execute_result",
          "data": {
            "text/plain": [
              "'print(danhsach/2)'"
            ],
            "application/vnd.google.colaboratory.intrinsic+json": {
              "type": "string"
            }
          },
          "metadata": {},
          "execution_count": 33
        }
      ]
    },
    {
      "cell_type": "markdown",
      "source": [
        "ghep cac dnah sach bang lenh zip"
      ],
      "metadata": {
        "id": "pm-LYYEagule"
      }
    },
    {
      "cell_type": "code",
      "source": [
        "mon_hoc = [\"toancc\",\"DSTT\",\"ToanRR\",\"laptrinhCB\"]\n",
        "thu_tu = [2, 3, 4, 1]\n",
        "diem_so = [10, 9, 8, 7]\n",
        "anh_xa = zip(thu_tu, mon_hoc, diem_so)\n",
        "\n",
        "tap_hop = set(anh_xa)\n",
        "print(tap_hop)"
      ],
      "metadata": {
        "colab": {
          "base_uri": "https://localhost:8080/"
        },
        "id": "uY2EaVjsgvV2",
        "outputId": "f1005b69-e5fd-4e7b-e960-13b6e690ed8d"
      },
      "execution_count": 34,
      "outputs": [
        {
          "output_type": "stream",
          "name": "stdout",
          "text": [
            "{(2, 'toancc', 10), (4, 'ToanRR', 8), (1, 'laptrinhCB', 7), (3, 'DSTT', 9)}\n"
          ]
        }
      ]
    },
    {
      "cell_type": "markdown",
      "source": [
        "từ dữ liệu được ghép bằng zip, chúng ta có thể phân rã bằng phương pháp sau:"
      ],
      "metadata": {
        "id": "1LrJ_ucqiZ86"
      }
    },
    {
      "cell_type": "code",
      "source": [
        "mon_hoc = [\"toancc\",\"DSTT\",\"ToanRR\",\"laptrinhCB\"]\n",
        "thu_tu = [2, 3, 4, 1]\n",
        "diem_so = [10, 9, 8, 7]\n",
        "anh_xa = zip(thu_tu, mon_hoc, diem_so)\n",
        "lay_TT, lay_monhoc, lay_diem = zip(*anh_xa)\n",
        "lay_monhoc"
      ],
      "metadata": {
        "colab": {
          "base_uri": "https://localhost:8080/"
        },
        "id": "1PtZoZxIiZoC",
        "outputId": "762e5314-46a6-4115-96bb-9dd2252d66ec"
      },
      "execution_count": 35,
      "outputs": [
        {
          "output_type": "execute_result",
          "data": {
            "text/plain": [
              "('toancc', 'DSTT', 'ToanRR', 'laptrinhCB')"
            ]
          },
          "metadata": {},
          "execution_count": 35
        }
      ]
    },
    {
      "cell_type": "markdown",
      "source": [
        "xây dựng danh sách"
      ],
      "metadata": {
        "id": "9hSqtIogjIH6"
      }
    },
    {
      "cell_type": "code",
      "source": [
        "import itertools\n",
        "tap_sinh = list(itertools.chain(range(4), range(5,10), range(15,20)))\n",
        "tap_sinh"
      ],
      "metadata": {
        "colab": {
          "base_uri": "https://localhost:8080/"
        },
        "id": "MaKSvfELjHa6",
        "outputId": "618855ca-828a-44af-a532-d33f29eafed0"
      },
      "execution_count": 36,
      "outputs": [
        {
          "output_type": "execute_result",
          "data": {
            "text/plain": [
              "[0, 1, 2, 3, 5, 6, 7, 8, 9, 15, 16, 17, 18, 19]"
            ]
          },
          "metadata": {},
          "execution_count": 36
        }
      ]
    },
    {
      "cell_type": "markdown",
      "source": [
        "bài tập 1: cần tạo 1 bộ 3 thành phần gồm: danh sách từ 0 đến 3, từ 7 đén 11 và ngược lại từ 10"
      ],
      "metadata": {
        "id": "WORaCjuQjpsn"
      }
    },
    {
      "cell_type": "code",
      "source": [
        "import itertools\n",
        "tap_sinh_1 = list(itertools.chain(range(0,3), range(7,11), range(10)))\n",
        "tap_sinh_1"
      ],
      "metadata": {
        "colab": {
          "base_uri": "https://localhost:8080/"
        },
        "id": "NJV5OUXHjxjy",
        "outputId": "a73e8a96-1722-41f5-9178-e3305f2c7420"
      },
      "execution_count": 37,
      "outputs": [
        {
          "output_type": "execute_result",
          "data": {
            "text/plain": [
              "[0, 1, 2, 7, 8, 9, 10, 0, 1, 2, 3, 4, 5, 6, 7, 8, 9]"
            ]
          },
          "metadata": {},
          "execution_count": 37
        }
      ]
    },
    {
      "cell_type": "markdown",
      "source": [
        "2.thư viện Sympy và biểu thức đại số"
      ],
      "metadata": {
        "id": "bvyERleLo3XG"
      }
    },
    {
      "cell_type": "code",
      "source": [
        "from sympy import Symbol\n",
        "x = Symbol('x')\n",
        "f = x+x+x+2\n",
        "f"
      ],
      "metadata": {
        "colab": {
          "base_uri": "https://localhost:8080/",
          "height": 38
        },
        "id": "UEl2ekO6pNa-",
        "outputId": "eb329ac2-02d3-4d04-a17e-2d26b1e93b83"
      },
      "execution_count": 51,
      "outputs": [
        {
          "output_type": "execute_result",
          "data": {
            "text/plain": [
              "3*x + 2"
            ],
            "text/latex": "$\\displaystyle 3 x + 2$"
          },
          "metadata": {},
          "execution_count": 51
        }
      ]
    },
    {
      "cell_type": "code",
      "source": [
        "x = Symbol('x')\n",
        "y = Symbol('y')\n",
        "z = Symbol('z')"
      ],
      "metadata": {
        "id": "opxkMKjlpkJt"
      },
      "execution_count": 39,
      "outputs": []
    },
    {
      "cell_type": "markdown",
      "source": [
        "để ngắn gọn hơn, chúng ta sử dụng hàm symbols để định nghĩa"
      ],
      "metadata": {
        "id": "gVnRn10UqABi"
      }
    },
    {
      "cell_type": "code",
      "source": [
        "from sympy import symbols\n",
        "a, b, c = symbols('a,b,c')\n"
      ],
      "metadata": {
        "id": "AwWpSwKsqAbE"
      },
      "execution_count": null,
      "outputs": []
    },
    {
      "cell_type": "markdown",
      "source": [
        "bài tập 2: hãy nhập các biểu thức"
      ],
      "metadata": {
        "id": "nR0S2vQUqW_T"
      }
    },
    {
      "cell_type": "code",
      "source": [
        "from sympy import symbols\n",
        "x , y = symbols('x,y')\n",
        "P = x*x*x - y*y*y\n",
        "P\n"
      ],
      "metadata": {
        "colab": {
          "base_uri": "https://localhost:8080/",
          "height": 38
        },
        "id": "1ps-i8mAqmvi",
        "outputId": "0a5962e8-c6cb-4aa3-e671-c9431742049d"
      },
      "execution_count": 49,
      "outputs": [
        {
          "output_type": "execute_result",
          "data": {
            "text/plain": [
              "x**3 - y**3"
            ],
            "text/latex": "$\\displaystyle x^{3} - y^{3}$"
          },
          "metadata": {},
          "execution_count": 49
        }
      ]
    },
    {
      "cell_type": "code",
      "source": [
        "Q = (x-y)*(x*x + x*y + y*y)\n",
        "Q"
      ],
      "metadata": {
        "colab": {
          "base_uri": "https://localhost:8080/",
          "height": 38
        },
        "id": "J98JdXEEsmTI",
        "outputId": "39172157-9f6d-4867-989a-99cb1361169e"
      },
      "execution_count": 50,
      "outputs": [
        {
          "output_type": "execute_result",
          "data": {
            "text/plain": [
              "(x - y)*(x**2 + x*y + y**2)"
            ],
            "text/latex": "$\\displaystyle \\left(x - y\\right) \\left(x^{2} + x y + y^{2}\\right)$"
          },
          "metadata": {},
          "execution_count": 50
        }
      ]
    }
  ]
}