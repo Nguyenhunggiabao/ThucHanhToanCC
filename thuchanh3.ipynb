{
  "nbformat": 4,
  "nbformat_minor": 0,
  "metadata": {
    "colab": {
      "name": "Untitled0.ipynb",
      "provenance": [],
      "authorship_tag": "ABX9TyPSP2w7oB2tSFmnSTpEyZoj",
      "include_colab_link": true
    },
    "kernelspec": {
      "name": "python3",
      "display_name": "Python 3"
    },
    "language_info": {
      "name": "python"
    }
  },
  "cells": [
    {
      "cell_type": "markdown",
      "metadata": {
        "id": "view-in-github",
        "colab_type": "text"
      },
      "source": [
        "<a href=\"https://colab.research.google.com/github/Nguyenhunggiabao/ThucHanhToanCC/blob/main/thuchanh3.ipynb\" target=\"_parent\"><img src=\"https://colab.research.google.com/assets/colab-badge.svg\" alt=\"Open In Colab\"/></a>"
      ]
    },
    {
      "cell_type": "code",
      "execution_count": null,
      "metadata": {
        "id": "-EKXE72gRlaN"
      },
      "outputs": [],
      "source": [
        "thực hành 1"
      ]
    },
    {
      "cell_type": "code",
      "source": [
        "def luythua (x,n):\n",
        "  ketqua=1\n",
        "  for i in range(n):\n",
        "    ketqua=ketqua*x\n",
        "  return ketqua "
      ],
      "metadata": {
        "id": "YmQukNh-Rq-w"
      },
      "execution_count": null,
      "outputs": []
    },
    {
      "cell_type": "code",
      "source": [
        "luythua(2,1)"
      ],
      "metadata": {
        "colab": {
          "base_uri": "https://localhost:8080/"
        },
        "id": "oR8lC9Q0TE2S",
        "outputId": "71346b68-e6d0-4942-963f-57d887b2ed96"
      },
      "execution_count": null,
      "outputs": [
        {
          "output_type": "execute_result",
          "data": {
            "text/plain": [
              "2"
            ]
          },
          "metadata": {},
          "execution_count": 3
        }
      ]
    },
    {
      "cell_type": "code",
      "source": [
        "luythua(2,0)"
      ],
      "metadata": {
        "colab": {
          "base_uri": "https://localhost:8080/"
        },
        "id": "oWgqNnmxTL_m",
        "outputId": "417c0135-0634-401c-fc9b-416fadb515e5"
      },
      "execution_count": null,
      "outputs": [
        {
          "output_type": "execute_result",
          "data": {
            "text/plain": [
              "1"
            ]
          },
          "metadata": {},
          "execution_count": 5
        }
      ]
    },
    {
      "cell_type": "markdown",
      "source": [
        "thực hành 2"
      ],
      "metadata": {
        "id": "dYvbP4maTr2t"
      }
    },
    {
      "cell_type": "code",
      "source": [
        "while 1=2"
      ],
      "metadata": {
        "colab": {
          "base_uri": "https://localhost:8080/",
          "height": 130
        },
        "id": "91z1BPxfTx-z",
        "outputId": "2fe2c6af-210f-47f0-8351-0b30c7a64007"
      },
      "execution_count": null,
      "outputs": [
        {
          "output_type": "error",
          "ename": "SyntaxError",
          "evalue": "ignored",
          "traceback": [
            "\u001b[0;36m  File \u001b[0;32m\"<ipython-input-7-9bdd5a710100>\"\u001b[0;36m, line \u001b[0;32m1\u001b[0m\n\u001b[0;31m    while 1=2\u001b[0m\n\u001b[0m           ^\u001b[0m\n\u001b[0;31mSyntaxError\u001b[0m\u001b[0;31m:\u001b[0m invalid syntax\n"
          ]
        }
      ]
    },
    {
      "cell_type": "code",
      "source": [
        "10*(1/0)"
      ],
      "metadata": {
        "colab": {
          "base_uri": "https://localhost:8080/",
          "height": 165
        },
        "id": "TfeJy3qMT8IU",
        "outputId": "82bf2ae3-79d2-416e-d980-ef10209134f4"
      },
      "execution_count": null,
      "outputs": [
        {
          "output_type": "error",
          "ename": "ZeroDivisionError",
          "evalue": "ignored",
          "traceback": [
            "\u001b[0;31m---------------------------------------------------------------------------\u001b[0m",
            "\u001b[0;31mZeroDivisionError\u001b[0m                         Traceback (most recent call last)",
            "\u001b[0;32m<ipython-input-9-fbc7e86ae71a>\u001b[0m in \u001b[0;36m<module>\u001b[0;34m()\u001b[0m\n\u001b[0;32m----> 1\u001b[0;31m \u001b[0;36m10\u001b[0m\u001b[0;34m*\u001b[0m\u001b[0;34m(\u001b[0m\u001b[0;36m1\u001b[0m\u001b[0;34m/\u001b[0m\u001b[0;36m0\u001b[0m\u001b[0;34m)\u001b[0m\u001b[0;34m\u001b[0m\u001b[0;34m\u001b[0m\u001b[0m\n\u001b[0m",
            "\u001b[0;31mZeroDivisionError\u001b[0m: division by zero"
          ]
        }
      ]
    },
    {
      "cell_type": "code",
      "source": [
        "3*bien_chua_khai_bao /4 "
      ],
      "metadata": {
        "colab": {
          "base_uri": "https://localhost:8080/",
          "height": 165
        },
        "id": "Fr6khLY2UJpB",
        "outputId": "94fbb465-62d6-4b5a-e953-2edae042fbad"
      },
      "execution_count": null,
      "outputs": [
        {
          "output_type": "error",
          "ename": "NameError",
          "evalue": "ignored",
          "traceback": [
            "\u001b[0;31m---------------------------------------------------------------------------\u001b[0m",
            "\u001b[0;31mNameError\u001b[0m                                 Traceback (most recent call last)",
            "\u001b[0;32m<ipython-input-10-4cd1792af5f2>\u001b[0m in \u001b[0;36m<module>\u001b[0;34m()\u001b[0m\n\u001b[0;32m----> 1\u001b[0;31m \u001b[0;36m3\u001b[0m\u001b[0;34m*\u001b[0m\u001b[0mbien_chua_khai_bao\u001b[0m \u001b[0;34m/\u001b[0m\u001b[0;36m4\u001b[0m\u001b[0;34m\u001b[0m\u001b[0;34m\u001b[0m\u001b[0m\n\u001b[0m",
            "\u001b[0;31mNameError\u001b[0m: name 'bien_chua_khai_bao' is not defined"
          ]
        }
      ]
    },
    {
      "cell_type": "code",
      "source": [
        "\"ba\" + 7 "
      ],
      "metadata": {
        "colab": {
          "base_uri": "https://localhost:8080/",
          "height": 165
        },
        "id": "6aKhHJJwUQIZ",
        "outputId": "5bab6e3b-10d0-470b-cb8f-69461b5b3dac"
      },
      "execution_count": null,
      "outputs": [
        {
          "output_type": "error",
          "ename": "TypeError",
          "evalue": "ignored",
          "traceback": [
            "\u001b[0;31m---------------------------------------------------------------------------\u001b[0m",
            "\u001b[0;31mTypeError\u001b[0m                                 Traceback (most recent call last)",
            "\u001b[0;32m<ipython-input-11-626c6b02ab08>\u001b[0m in \u001b[0;36m<module>\u001b[0;34m()\u001b[0m\n\u001b[0;32m----> 1\u001b[0;31m \u001b[0;34m\"ba\"\u001b[0m \u001b[0;34m+\u001b[0m \u001b[0;36m7\u001b[0m\u001b[0;34m\u001b[0m\u001b[0;34m\u001b[0m\u001b[0m\n\u001b[0m",
            "\u001b[0;31mTypeError\u001b[0m: can only concatenate str (not \"int\") to str"
          ]
        }
      ]
    },
    {
      "cell_type": "markdown",
      "source": [
        "thực hành 3 "
      ],
      "metadata": {
        "id": "a274KYj4Uawc"
      }
    },
    {
      "cell_type": "code",
      "source": [
        "'''x = int(input('nhập x : '))'''\n",
        "while True:\n",
        "  try:\n",
        "    x =int(input('nhập x : '))\n",
        "    break\n",
        "  except:\n",
        "    print('vui lòng nhập số ko nhập chữ ')"
      ],
      "metadata": {
        "colab": {
          "base_uri": "https://localhost:8080/"
        },
        "id": "5LsF12yFUcic",
        "outputId": "4146b7db-14b1-4509-de9c-2cf4e1702895"
      },
      "execution_count": null,
      "outputs": [
        {
          "name": "stdout",
          "output_type": "stream",
          "text": [
            "nhập x : a\n",
            "vui lòng nhập số ko nhập chữ \n",
            "nhập x : 1\n"
          ]
        }
      ]
    },
    {
      "cell_type": "markdown",
      "source": [
        "thực hành 4 "
      ],
      "metadata": {
        "id": "W882a5hgh5_M"
      }
    },
    {
      "cell_type": "code",
      "source": [
        "while True:\n",
        "  try:\n",
        "    x = int(input('vui long nhap so: '))\n",
        "  except:\n",
        "    print('so vua nhap sai')\n",
        "  else:\n",
        "    print('so vua nhap la ' + str(x))\n",
        "    break\n",
        "  finally:\n",
        "    print('da hoan thanh chuong trinh')"
      ],
      "metadata": {
        "id": "aoYoCgOFh7lV",
        "outputId": "17f5bc86-f0a7-4050-8c9a-0e8e2d8c809d",
        "colab": {
          "base_uri": "https://localhost:8080/"
        }
      },
      "execution_count": 2,
      "outputs": [
        {
          "output_type": "stream",
          "name": "stdout",
          "text": [
            "vui long nhap so: w\n",
            "so vua nhap sai\n",
            "da hoan thanh chuong trinh\n",
            "vui long nhap so: 1\n",
            "so vua nhap la 1\n",
            "da hoan thanh chuong trinh\n"
          ]
        }
      ]
    },
    {
      "cell_type": "markdown",
      "source": [
        "thuc hanh 5 "
      ],
      "metadata": {
        "id": "TdSjmRH7iuop"
      }
    },
    {
      "cell_type": "code",
      "source": [
        "def frange(batdau, ketthuc, buocnhay):\n",
        "  day_ketqua =[]\n",
        "  while batdau < ketthuc:\n",
        "    day_ketqua.append(batdau)\n",
        "    batdau= batdau + buocnhay\n",
        "  return day_ketqua \n"
      ],
      "metadata": {
        "id": "ELmkxeg1iuWo"
      },
      "execution_count": 4,
      "outputs": []
    },
    {
      "cell_type": "code",
      "source": [
        "tu0den2 = frange(0, 2, 0.2)\n",
        "tu0den2"
      ],
      "metadata": {
        "id": "loRR9pG7jkSy",
        "outputId": "b80b2e4b-348f-4c77-9472-4dd175caf686",
        "colab": {
          "base_uri": "https://localhost:8080/"
        }
      },
      "execution_count": 7,
      "outputs": [
        {
          "output_type": "execute_result",
          "data": {
            "text/plain": [
              "[0,\n",
              " 0.2,\n",
              " 0.4,\n",
              " 0.6000000000000001,\n",
              " 0.8,\n",
              " 1.0,\n",
              " 1.2,\n",
              " 1.4,\n",
              " 1.5999999999999999,\n",
              " 1.7999999999999998,\n",
              " 1.9999999999999998]"
            ]
          },
          "metadata": {},
          "execution_count": 7
        }
      ]
    },
    {
      "cell_type": "markdown",
      "source": [
        "thuc hanh 6 "
      ],
      "metadata": {
        "id": "YOZNNoksj3xZ"
      }
    },
    {
      "cell_type": "code",
      "source": [
        "from matplotlib import pyplot as plt\n",
        "import math"
      ],
      "metadata": {
        "id": "YzzIbxetj5jK"
      },
      "execution_count": 8,
      "outputs": []
    },
    {
      "cell_type": "code",
      "source": [
        "def draw_graph(x,y):\n",
        "  plt.plot(x,y)\n",
        "  plt.xlabel('truc X')\n",
        "  plt.xlabel('truc Y')\n",
        "  plt.title('do thi bai toan nem bong')"
      ],
      "metadata": {
        "id": "LaVxdCJJkHkE"
      },
      "execution_count": 15,
      "outputs": []
    },
    {
      "cell_type": "code",
      "source": [
        "def frange(batdau,ketthuc,buocnhay):\n",
        "  numbers = []\n",
        "  while batdau<ketthuc:\n",
        "    numbers.append(batdau)\n",
        "    batdau= batdau+buocnhay\n",
        "  return numbers"
      ],
      "metadata": {
        "id": "dF9-aVSEk256"
      },
      "execution_count": 17,
      "outputs": []
    },
    {
      "cell_type": "code",
      "source": [
        "def draw_trajectory(u,theta):\n",
        "  #gia toc trong truong\n",
        "  g= 9.8\n",
        "  #goc bay\n",
        "  theta = math.radians(theta)\n",
        "  #thoi gian bay\n",
        "  t_flight = 2*u*math.sin(theta)/g\n",
        "  #tinh toan khoang cach thoi gian\n",
        "  intervals = frange(0, t_flight, 0.001)\n",
        "  # danh sach toa do X Y\n",
        "  x=[]\n",
        "  y=[]\n",
        "  for y in intervals:\n",
        "    x.append(u*math.cos(theta)*t)\n",
        "    y.append(u*math.sin(theta)*t - 0.5*g*t*t)\n",
        "  draw_graph(x,y)"
      ],
      "metadata": {
        "id": "p569lbRGlidZ"
      },
      "execution_count": 18,
      "outputs": []
    },
    {
      "cell_type": "code",
      "source": [
        ""
      ],
      "metadata": {
        "id": "BUvUb1zam7ok"
      },
      "execution_count": null,
      "outputs": []
    }
  ]
}