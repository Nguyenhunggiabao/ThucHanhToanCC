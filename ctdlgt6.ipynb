{
  "nbformat": 4,
  "nbformat_minor": 0,
  "metadata": {
    "colab": {
      "provenance": [],
      "collapsed_sections": [],
      "authorship_tag": "ABX9TyMmAVfmtlAvUaGBXEop70Vt",
      "include_colab_link": true
    },
    "kernelspec": {
      "name": "python3",
      "display_name": "Python 3"
    },
    "language_info": {
      "name": "python"
    }
  },
  "cells": [
    {
      "cell_type": "markdown",
      "metadata": {
        "id": "view-in-github",
        "colab_type": "text"
      },
      "source": [
        "<a href=\"https://colab.research.google.com/github/Nguyenhunggiabao/ThucHanhToanCC/blob/main/ctdlgt6.ipynb\" target=\"_parent\"><img src=\"https://colab.research.google.com/assets/colab-badge.svg\" alt=\"Open In Colab\"/></a>"
      ]
    },
    {
      "cell_type": "markdown",
      "source": [
        "Nguyễn Hùng Gia Bảo "
      ],
      "metadata": {
        "id": "fcAM7ynquENU"
      }
    },
    {
      "cell_type": "markdown",
      "source": [
        "chương 6"
      ],
      "metadata": {
        "id": "Kl_RaZhIuK56"
      }
    },
    {
      "cell_type": "markdown",
      "source": [
        "thực hành 1 "
      ],
      "metadata": {
        "id": "6WiKxxV8uNBN"
      }
    },
    {
      "cell_type": "code",
      "execution_count": null,
      "metadata": {
        "colab": {
          "base_uri": "https://localhost:8080/"
        },
        "id": "mjpTl_AztzTh",
        "outputId": "eb28c9ca-9b09-43db-f46b-5500f64190f7"
      },
      "outputs": [
        {
          "output_type": "stream",
          "name": "stdout",
          "text": [
            "The hash value is 1\n",
            "The hash value is 2\n",
            "The hash value is 3\n",
            "The hash value is 2\n",
            "The hash value is 4\n",
            "The hash value is 0\n"
          ]
        }
      ],
      "source": [
        "def hash_key( key, m): # gọi hàm hash_key với hai biến key và m\n",
        "  return (key % m) # trả về giá trị chia lấy dư của key chia m \n",
        "m = 7# gán m bằng 7\n",
        "print(f'The hash value is {hash_key(15,m)}') # in ra một string \"The hash value is\" và phần dư 15/7\n",
        "print(f'The hash value is {hash_key(2,m)}')# in ra một string \"The hash value is\" và phần dư 2/7\n",
        "print(f'The hash value is {hash_key(3,m)}')# in ra một string \"The hash value is\" và phần dư 3/7\n",
        "print(f'The hash value is {hash_key(9,m)}')# in ra một string \"The hash value is\" và phần dư 9/7\n",
        "print(f'The hash value is {hash_key(11,m)}')# in ra một string \"The hash value is\" và phần dư 11/7\n",
        "print(f'The hash value is {hash_key(7,m)}')# in ra một string \"The hash value is\" và phần dư 7/7"
      ]
    },
    {
      "cell_type": "markdown",
      "source": [
        "input:\n",
        "\n",
        "m = 7\n",
        "\n",
        "key = 15,2,3,9,11,7\n",
        "\n",
        "output:\n",
        "\n",
        "The hash value is 1\n",
        "\n",
        "The hash value is 2\n",
        "\n",
        "The hash value is 3\n",
        "\n",
        "The hash value is 2\n",
        "\n",
        "The hash value is 4\n",
        "\n",
        "The hash value is 0"
      ],
      "metadata": {
        "id": "Sus535hGy6Ch"
      }
    },
    {
      "cell_type": "markdown",
      "source": [
        "thực hành 2 "
      ],
      "metadata": {
        "id": "9f-hviI9uYrd"
      }
    },
    {
      "cell_type": "code",
      "source": [
        "def display_hash(hashTable): # hàm display_hash với biến hashTable\n",
        "  for i in range(len(hashTable)): # duyệt phần tử trong hashTable\n",
        "    print(i, end = \" \") # in kết quả i \n",
        "\n",
        "    for j in hashTable[i]:# cho j chạy trong i \n",
        "      print(\"-->\", end = \" \")# in dấu --> \n",
        "      print(j, end = \" \")# in kết quả j \n",
        "\n",
        "    print()# in phần tử của i \n",
        "HashTable = [[] for _ in range(10)] # bảng băm có giá trị là 10 \n",
        "def Hashing(keyvalue): # hàm Băm \n",
        "  return (keyvalue % len(HashTable)) # công thức tính của hàm băm \n",
        "def insert(Hashtable, keyvalue, value): # hàm thêm phần tử vào bảng băm \n",
        "\n",
        "  hash_key = Hashing(keyvalue) # gán hash_key bằng hàm băm \n",
        "  Hashtable[hash_key].append(value)# gán giá trị append vào vị trí của bẳng băm \n",
        "\n",
        "\n",
        "insert(HashTable, 10, 'MachineLearning') # thêm gia trị vào vị trí tương ứng trong bảng băm \n",
        "insert(HashTable, 45, 'DataScience')# thêm gia trị vào vị trí tương ứng trong bảng băm \n",
        "insert(HashTable, 20, 'DataAnalytics')# thêm gia trị vào vị trí tương ứng trong bảng băm\n",
        "insert(HashTable, 9, 'BigData')# thêm gia trị vào vị trí tương ứng trong bảng băm\n",
        "insert(HashTable, 21, 'DataStructure ')# thêm gia trị vào vị trí tương ứng trong bảng băm\n",
        "insert(HashTable, 41, 'IoT')# thêm gia trị vào vị trí tương ứng trong bảng băm\n",
        "insert(HashTable, 35, 'Probability')# thêm gia trị vào vị trí tương ứng trong bảng băm\n",
        "display_hash (HashTable) # hiện thị bảng băm "
      ],
      "metadata": {
        "colab": {
          "base_uri": "https://localhost:8080/"
        },
        "id": "rVjFYK-XuOOx",
        "outputId": "1f850eb4-eae2-4a27-c763-2a1ae5c615da"
      },
      "execution_count": 2,
      "outputs": [
        {
          "output_type": "stream",
          "name": "stdout",
          "text": [
            "0 --> MachineLearning --> DataAnalytics \n",
            "1 --> DataStructure  --> IoT \n",
            "2 \n",
            "3 \n",
            "4 \n",
            "5 --> DataScience --> Probability \n",
            "6 \n",
            "7 \n",
            "8 \n",
            "9 --> BigData \n"
          ]
        }
      ]
    }
  ]
}