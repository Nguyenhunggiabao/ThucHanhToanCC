{
  "nbformat": 4,
  "nbformat_minor": 0,
  "metadata": {
    "colab": {
      "name": "Untitled14.ipynb",
      "provenance": [],
      "authorship_tag": "ABX9TyPuSzCkkpuLnZyBwIrRd++C",
      "include_colab_link": true
    },
    "kernelspec": {
      "name": "python3",
      "display_name": "Python 3"
    },
    "language_info": {
      "name": "python"
    }
  },
  "cells": [
    {
      "cell_type": "markdown",
      "metadata": {
        "id": "view-in-github",
        "colab_type": "text"
      },
      "source": [
        "<a href=\"https://colab.research.google.com/github/Nguyenhunggiabao/ThucHanhToanCC/blob/main/toanroirac6.ipynb\" target=\"_parent\"><img src=\"https://colab.research.google.com/assets/colab-badge.svg\" alt=\"Open In Colab\"/></a>"
      ]
    },
    {
      "cell_type": "markdown",
      "source": [
        "CHƯƠNG 6: CƠ BẢN VỀ ĐẠI SỐ BOOL,\n",
        "FINITE STATE MACHINE "
      ],
      "metadata": {
        "id": "-AACXXf4MQdP"
      }
    },
    {
      "cell_type": "markdown",
      "source": [
        "1. Cơ bản về đại số Bool với Python"
      ],
      "metadata": {
        "id": "MWq-BnE3MR7_"
      }
    },
    {
      "cell_type": "code",
      "source": [
        "def bool_xy(x, y):\n",
        "  kq = 0\n",
        "  if (x==1) and (y==1):\n",
        "    kq = 0\n",
        "  if (x==1) and (y==0):\n",
        "    kq = 1\n",
        "  if (x==0) and (y==1):\n",
        "    kq = 0\n",
        "  if (x==0) and (y==0):\n",
        "    kq = 0\n",
        "  return kq "
      ],
      "metadata": {
        "id": "Pl6_2mIDMUx6"
      },
      "execution_count": 1,
      "outputs": []
    },
    {
      "cell_type": "code",
      "source": [
        "for x in [1,0]:\n",
        "  for y in [1,0]:\n",
        "    print (bool_xy(x,y)) "
      ],
      "metadata": {
        "colab": {
          "base_uri": "https://localhost:8080/"
        },
        "id": "mLGiroe4M1yj",
        "outputId": "0b28a44b-d1da-4a0d-f75b-e07fc97767a3"
      },
      "execution_count": 2,
      "outputs": [
        {
          "output_type": "stream",
          "name": "stdout",
          "text": [
            "0\n",
            "1\n",
            "0\n",
            "0\n"
          ]
        }
      ]
    },
    {
      "cell_type": "markdown",
      "source": [
        "Cải tiến hàm theo phân tích"
      ],
      "metadata": {
        "id": "dW7lDv1zNRyK"
      }
    },
    {
      "cell_type": "code",
      "source": [
        "def bool_xy1(x,y):\n",
        "  kq = 0\n",
        "  if (x == 1) and (y==0):\n",
        "    kq = 1\n",
        "  return kq \n",
        "  "
      ],
      "metadata": {
        "id": "08IfZm06M5L7"
      },
      "execution_count": 5,
      "outputs": []
    },
    {
      "cell_type": "code",
      "source": [
        "for x in [1,0]:\n",
        "    for y in [1,0]:\n",
        "      print (bool_xy(x,y))"
      ],
      "metadata": {
        "colab": {
          "base_uri": "https://localhost:8080/"
        },
        "id": "uuyzMZShNNow",
        "outputId": "95ceb416-9f84-44cb-dd05-fd702d564421"
      },
      "execution_count": 6,
      "outputs": [
        {
          "output_type": "stream",
          "name": "stdout",
          "text": [
            "0\n",
            "1\n",
            "0\n",
            "0\n"
          ]
        }
      ]
    },
    {
      "cell_type": "markdown",
      "source": [
        "Ví dụ 2: Trong hình bên dưới, hai mạch được thiết kế với cùng một chức năng. Trong đó, mạch\n",
        "bên trái nhiều linh kiện hơn mạch bên phải nhưng cùng một tính năng. "
      ],
      "metadata": {
        "id": "D1Y3gy_4NY0u"
      }
    },
    {
      "cell_type": "code",
      "source": [
        ""
      ],
      "metadata": {
        "id": "vN4smBgyNNff"
      },
      "execution_count": null,
      "outputs": []
    },
    {
      "cell_type": "markdown",
      "source": [
        "2. Khái niệm về Máy trạng thái hữu hạn FSM (Finite State Machines) "
      ],
      "metadata": {
        "id": "fC0dLOJnNdsU"
      }
    },
    {
      "cell_type": "markdown",
      "source": [
        "2.1. Mô hình toán học:"
      ],
      "metadata": {
        "id": "9VI-qLttNeqC"
      }
    },
    {
      "cell_type": "markdown",
      "source": [
        "2.2. Ví dụ: Mạch điện đèn điều khiển tín hiệu giao thông"
      ],
      "metadata": {
        "id": "Yey_5pjwNkiD"
      }
    },
    {
      "cell_type": "code",
      "source": [
        "trang_thai = 's0'\n",
        "def chuyen(tin_hieu):\n",
        "  global trang_thai\n",
        "  if trang_thai == 's0':\n",
        "    if tin_hieu == 0:\n",
        "      print ('0 -s0')\n",
        "      trang_thai = 's0'\n",
        "    elif tin_hieu == 1:\n",
        "      print ('1-s1')\n",
        "      trang_thai = \"s1\"\n",
        "  elif trang_thai == 's1':\n",
        "    if tin_hieu == 0:\n",
        "      print ('0-s1')\n",
        "      trang_thai =='s1'\n",
        "    elif tin_hieu == 1:\n",
        "      print ('1-s2')\n",
        "      trang_thai == 's2'\n",
        "    elif trang_thai == 's2':\n",
        "      if tin_hieu == 0:\n",
        "        print ('0-s2')\n",
        "        trang_thai =='s2'\n",
        "      elif tin_hieu == 1:\n",
        "        print ('1-s0')\n",
        "        trang_thai == 's0'"
      ],
      "metadata": {
        "id": "WZ6BRPrLNvBZ"
      },
      "execution_count": 7,
      "outputs": []
    },
    {
      "cell_type": "code",
      "source": [
        "tap_tinhieu = [1, 0, 1, 0, 1, 1, 0 , 0, 1]\n",
        "for i in tap_tinhieu:\n",
        " chuyen(i) "
      ],
      "metadata": {
        "colab": {
          "base_uri": "https://localhost:8080/"
        },
        "id": "8mVylYwaPolY",
        "outputId": "c88b496b-7f80-45dd-99a2-a22dad7d0540"
      },
      "execution_count": 8,
      "outputs": [
        {
          "output_type": "stream",
          "name": "stdout",
          "text": [
            "1-s1\n",
            "0-s1\n",
            "1-s2\n",
            "0-s1\n",
            "1-s2\n",
            "1-s2\n",
            "0-s1\n",
            "0-s1\n",
            "1-s2\n"
          ]
        }
      ]
    },
    {
      "cell_type": "code",
      "source": [
        "trang_thai = \"s0\"\n",
        "trangthai_ke = {'s0': ['s0', 's1'],\n",
        "                's1': ['s1', 's2'],\n",
        "                's2': ['s2', 's0']} \n"
      ],
      "metadata": {
        "id": "HF_ESIfbPvI-"
      },
      "execution_count": 11,
      "outputs": []
    },
    {
      "cell_type": "code",
      "source": [
        "ket_qua = { 's0': [ 0, 1],\n",
        " 's1': [ 0, 1],\n",
        " 's2': [ 0, 1]} "
      ],
      "metadata": {
        "id": "d_aAY16lP-I1"
      },
      "execution_count": 10,
      "outputs": []
    },
    {
      "cell_type": "code",
      "source": [
        "def chuyen_trangthai(tin_hieu):\n",
        "  global trang_thai\n",
        "  chuoi_in = str(ket_qua[trang_thai][tin_hieu])\n",
        "  chuoi_in = chuoi_in + \"-\" + trangthai_ke[trang_thai][tin_hieu]\n",
        "  print (chuoi_in)\n",
        "  trang_thai = trangthai_ke[trang_thai][tin_hieu]"
      ],
      "metadata": {
        "id": "3PSu3kj5QBBw"
      },
      "execution_count": 9,
      "outputs": []
    },
    {
      "cell_type": "code",
      "source": [
        "tap_tinhieu = [1, 0, 1, 0, 1, 1, 0 , 0, 1]\n",
        "for i in tap_tinhieu:\n",
        " chuyen_trangthai(i) "
      ],
      "metadata": {
        "colab": {
          "base_uri": "https://localhost:8080/"
        },
        "id": "l7ylbPAEQzgP",
        "outputId": "0651931b-024b-4253-9087-427d04446e0d"
      },
      "execution_count": 12,
      "outputs": [
        {
          "output_type": "stream",
          "name": "stdout",
          "text": [
            "1-s1\n",
            "0-s1\n",
            "1-s2\n",
            "0-s2\n",
            "1-s0\n",
            "1-s1\n",
            "0-s1\n",
            "0-s1\n",
            "1-s2\n"
          ]
        }
      ]
    },
    {
      "cell_type": "markdown",
      "source": [
        "3. Xây dựng chương trình kiểm tra ngữ pháp đơn giản"
      ],
      "metadata": {
        "id": "ua08SQw9Q2m6"
      }
    },
    {
      "cell_type": "code",
      "source": [
        "class StateMachine:\n",
        "  def __init__(self):\n",
        "    self.tap_xuly = {}\n",
        "    self.trangthaiBatdau = None\n",
        "    self.trangthaiKetthuc = []\n",
        "  def them_Trangthai(self, trangthai,xuly,trangthai_Ketthuc = 0):\n",
        "    trangthai= trangthai.upper()\n",
        "    self.tap_xuly[trangthai] = xuly\n",
        "    if trangthai_Ketthuc:\n",
        "      self.trangthai_Ketthuc.append(trangthai)\n",
        "  def thietlap_TrangthaiBatdau(self,trangthai):\n",
        "    self.trangthaiBatdau = trangthai.upper()\n",
        "  def thucthi(self,dauvao):\n",
        "    try:\n",
        "      xuly = self.tap_xuly[self.trangthaiBatdau]\n",
        "    except:\n",
        "      raise IndentationError('pahi ghi .thietlap_TrangthaiBatdau() truoc khi goi .thucthi')\n",
        "    if not self.trangthaiKetthuc:\n",
        "      raise IndentationError(\"it nhat mot trang thai pahi la trang thai ket thuc\")\n",
        "    while True:\n",
        "      (TrangThaiMoi, dauvao)=xuly(dauvao)\n",
        "      if TrangThaiMoi.upper() in self.trangthaiKetthuc:\n",
        "        print ('den dich!',TrangThaiMoi)\n",
        "        break\n",
        "      else:\n",
        "        xuly = self.tap_xuly[TrangThaiMoi.upper()]\n",
        "\n",
        "\n"
      ],
      "metadata": {
        "id": "BlQVbsWcRlFm"
      },
      "execution_count": 13,
      "outputs": []
    },
    {
      "cell_type": "code",
      "source": [
        "from statemachine import StateMachine \n",
        "tinhtu_tichcuc = [\"vi_dai\", \"sieu\", \"vui\", \"de\", \"giai_tri\"]\n",
        "tinhtu_tieucuc = [\"chan\", \"kho\", \"xau\", \"kem\"]"
      ],
      "metadata": {
        "colab": {
          "base_uri": "https://localhost:8080/",
          "height": 339
        },
        "id": "UqDA4ZVFU-Eg",
        "outputId": "d4c54d42-e124-4176-f7e1-366059014b3f"
      },
      "execution_count": 16,
      "outputs": [
        {
          "output_type": "error",
          "ename": "ModuleNotFoundError",
          "evalue": "ignored",
          "traceback": [
            "\u001b[0;31m---------------------------------------------------------------------------\u001b[0m",
            "\u001b[0;31mModuleNotFoundError\u001b[0m                       Traceback (most recent call last)",
            "\u001b[0;32m<ipython-input-16-8e52813f88f6>\u001b[0m in \u001b[0;36m<module>\u001b[0;34m()\u001b[0m\n\u001b[0;32m----> 1\u001b[0;31m \u001b[0;32mimport\u001b[0m \u001b[0mStateMachine\u001b[0m\u001b[0;34m\u001b[0m\u001b[0;34m\u001b[0m\u001b[0m\n\u001b[0m\u001b[1;32m      2\u001b[0m \u001b[0mtinhtu_tichcuc\u001b[0m \u001b[0;34m=\u001b[0m \u001b[0;34m[\u001b[0m\u001b[0;34m\"vi_dai\"\u001b[0m\u001b[0;34m,\u001b[0m \u001b[0;34m\"sieu\"\u001b[0m\u001b[0;34m,\u001b[0m \u001b[0;34m\"vui\"\u001b[0m\u001b[0;34m,\u001b[0m \u001b[0;34m\"de\"\u001b[0m\u001b[0;34m,\u001b[0m \u001b[0;34m\"giai_tri\"\u001b[0m\u001b[0;34m]\u001b[0m\u001b[0;34m\u001b[0m\u001b[0;34m\u001b[0m\u001b[0m\n\u001b[1;32m      3\u001b[0m \u001b[0mtinhtu_tieucuc\u001b[0m \u001b[0;34m=\u001b[0m \u001b[0;34m[\u001b[0m\u001b[0;34m\"chan\"\u001b[0m\u001b[0;34m,\u001b[0m \u001b[0;34m\"kho\"\u001b[0m\u001b[0;34m,\u001b[0m \u001b[0;34m\"xau\"\u001b[0m\u001b[0;34m,\u001b[0m \u001b[0;34m\"kem\"\u001b[0m\u001b[0;34m]\u001b[0m\u001b[0;34m\u001b[0m\u001b[0;34m\u001b[0m\u001b[0m\n",
            "\u001b[0;31mModuleNotFoundError\u001b[0m: No module named 'StateMachine'",
            "",
            "\u001b[0;31m---------------------------------------------------------------------------\u001b[0;32m\nNOTE: If your import is failing due to a missing package, you can\nmanually install dependencies using either !pip or !apt.\n\nTo view examples of installing some common dependencies, click the\n\"Open Examples\" button below.\n\u001b[0;31m---------------------------------------------------------------------------\u001b[0m\n"
          ],
          "errorDetails": {
            "actions": [
              {
                "action": "open_url",
                "actionText": "Open Examples",
                "url": "/notebooks/snippets/importing_libraries.ipynb"
              }
            ]
          }
        }
      ]
    },
    {
      "cell_type": "code",
      "source": [
        "def trangthai_baudau(txt):\n",
        " splitted_txt = txt.split(None, 1)\n",
        " tu, txt = splitted_txt if len(splitted_txt) > 1 else (txt, \"\")\n",
        " if tu == \"Python\":\n",
        "  trangthaimoi = \"Python_state\"\n",
        " else:\n",
        "  trangthaimoi = \"error_state\"\n",
        " return (trangthaimoi, txt) "
      ],
      "metadata": {
        "id": "dWlB3yUDVWCr"
      },
      "execution_count": 17,
      "outputs": []
    },
    {
      "cell_type": "code",
      "source": [
        "def trangthai_python(txt):\n",
        " splitted_txt = txt.split(None, 1)\n",
        " tu, txt = splitted_txt if len(splitted_txt) > 1 else (txt, \"\")\n",
        " if tu == \"is\":\n",
        "  trangthaimoi = \"is_state\" \n",
        " else:\n",
        "  trangthaimoi = \"error_state\"\n",
        " return (trangthaimoi, txt) "
      ],
      "metadata": {
        "id": "DuWfWPr-Vkw5"
      },
      "execution_count": 18,
      "outputs": []
    },
    {
      "cell_type": "code",
      "source": [
        "def trangthai_is_chuyentrangthai(txt):\n",
        " splitted_txt = txt.split(None, 1)\n",
        " tu, txt = splitted_txt if len(splitted_txt) > 1 else (txt, \"\")\n",
        " if tu == \"not\":\n",
        "  trangthaimoi = \"not_state\"\n",
        " elif tu in tinhtu_tichcuc:\n",
        "  trangthaimoi = \"pos_state\"\n",
        " elif tu in tinhtu_tieucuc:\n",
        "  trangthaimoi = \"neg_state\"\n",
        " else:\n",
        "  trangthaimoi = \"error_state\"\n",
        " return (trangthaimoi, txt)"
      ],
      "metadata": {
        "id": "yd22FjpyVuln"
      },
      "execution_count": 19,
      "outputs": []
    },
    {
      "cell_type": "code",
      "source": [
        "def trangthai_isnot_chuyentrangthai(txt):\n",
        "  splitted_txt = txt.split(None, 1)\n",
        "  tu, txt = splitted_txt if len(splitted_txt) > 1 else (txt, \"\")\n",
        "  if tu in tinhtu_tichcuc:\n",
        "    trangthaimoi = \"pos_state\"\n",
        "  elif tu in tinhtu_tieucuc:\n",
        "    trangthaimoi = \"neg_state\"\n",
        "  else:\n",
        "    trangthaimoi = \"error_state\"\n",
        "  return (trangthaimoi, txt) "
      ],
      "metadata": {
        "id": "WZGeJkC_V0Bb"
      },
      "execution_count": 21,
      "outputs": []
    },
    {
      "cell_type": "code",
      "source": [
        "def neg_state(txt):\n",
        " print (\"Chao!\")\n",
        " return (\"neg_state\",\"\") "
      ],
      "metadata": {
        "id": "tq3LN5DhWHCr"
      },
      "execution_count": 22,
      "outputs": []
    },
    {
      "cell_type": "code",
      "source": [
        "if __name__ == \"__main__\":\n",
        " m = StateMachine() \n",
        " m.them_Trangthai(\"Start\", trangthai_baudau)\n",
        " m.them_Trangthai(\"Python_state\", trangthai_python)\n",
        " m.them_Trangthai(\"is_state\", trangthai_is_chuyentrangthai)\n",
        " m.them_Trangthai(\"not_state\", trangthai_isnot_chuyentrangthai)\n",
        " m.them_Trangthai(\"neg_state\", None, trangthai_ketthuc = 1)\n",
        " m.them_Trangthai(\"pos_state\", None, trangthai_ketthuc = 1)\n",
        " m.them_Trangthai(\"error_state\", None, trangthai_ketthuc = 1) \n",
        "\n",
        " m.thietlap_TrangthaiBatdau(\"Start\") \n",
        "\n",
        " m.thucthi(\"Python is vi_dai\")\n",
        " m.thucthi(\"Python is kho\")\n",
        " m.thucthi(\"Python is xau\")\n",
        " m.thucthi(\"Python is xao\") "
      ],
      "metadata": {
        "colab": {
          "base_uri": "https://localhost:8080/",
          "height": 235
        },
        "id": "xNGWQL-GWJ8x",
        "outputId": "2eff2dba-0940-4d13-b899-9e80c8c07377"
      },
      "execution_count": 23,
      "outputs": [
        {
          "output_type": "error",
          "ename": "TypeError",
          "evalue": "ignored",
          "traceback": [
            "\u001b[0;31m---------------------------------------------------------------------------\u001b[0m",
            "\u001b[0;31mTypeError\u001b[0m                                 Traceback (most recent call last)",
            "\u001b[0;32m<ipython-input-23-e1566d2c369e>\u001b[0m in \u001b[0;36m<module>\u001b[0;34m()\u001b[0m\n\u001b[1;32m      5\u001b[0m  \u001b[0mm\u001b[0m\u001b[0;34m.\u001b[0m\u001b[0mthem_Trangthai\u001b[0m\u001b[0;34m(\u001b[0m\u001b[0;34m\"is_state\"\u001b[0m\u001b[0;34m,\u001b[0m \u001b[0mtrangthai_is_chuyentrangthai\u001b[0m\u001b[0;34m)\u001b[0m\u001b[0;34m\u001b[0m\u001b[0;34m\u001b[0m\u001b[0m\n\u001b[1;32m      6\u001b[0m  \u001b[0mm\u001b[0m\u001b[0;34m.\u001b[0m\u001b[0mthem_Trangthai\u001b[0m\u001b[0;34m(\u001b[0m\u001b[0;34m\"not_state\"\u001b[0m\u001b[0;34m,\u001b[0m \u001b[0mtrangthai_isnot_chuyentrangthai\u001b[0m\u001b[0;34m)\u001b[0m\u001b[0;34m\u001b[0m\u001b[0;34m\u001b[0m\u001b[0m\n\u001b[0;32m----> 7\u001b[0;31m  \u001b[0mm\u001b[0m\u001b[0;34m.\u001b[0m\u001b[0mthem_Trangthai\u001b[0m\u001b[0;34m(\u001b[0m\u001b[0;34m\"neg_state\"\u001b[0m\u001b[0;34m,\u001b[0m \u001b[0;32mNone\u001b[0m\u001b[0;34m,\u001b[0m \u001b[0mtrangthai_ketthuc\u001b[0m \u001b[0;34m=\u001b[0m \u001b[0;36m1\u001b[0m\u001b[0;34m)\u001b[0m\u001b[0;34m\u001b[0m\u001b[0;34m\u001b[0m\u001b[0m\n\u001b[0m\u001b[1;32m      8\u001b[0m  \u001b[0mm\u001b[0m\u001b[0;34m.\u001b[0m\u001b[0mthem_Trangthai\u001b[0m\u001b[0;34m(\u001b[0m\u001b[0;34m\"pos_state\"\u001b[0m\u001b[0;34m,\u001b[0m \u001b[0;32mNone\u001b[0m\u001b[0;34m,\u001b[0m \u001b[0mtrangthai_ketthuc\u001b[0m \u001b[0;34m=\u001b[0m \u001b[0;36m1\u001b[0m\u001b[0;34m)\u001b[0m\u001b[0;34m\u001b[0m\u001b[0;34m\u001b[0m\u001b[0m\n\u001b[1;32m      9\u001b[0m  \u001b[0mm\u001b[0m\u001b[0;34m.\u001b[0m\u001b[0mthem_Trangthai\u001b[0m\u001b[0;34m(\u001b[0m\u001b[0;34m\"error_state\"\u001b[0m\u001b[0;34m,\u001b[0m \u001b[0;32mNone\u001b[0m\u001b[0;34m,\u001b[0m \u001b[0mtrangthai_ketthuc\u001b[0m \u001b[0;34m=\u001b[0m \u001b[0;36m1\u001b[0m\u001b[0;34m)\u001b[0m\u001b[0;34m\u001b[0m\u001b[0;34m\u001b[0m\u001b[0m\n",
            "\u001b[0;31mTypeError\u001b[0m: them_Trangthai() got an unexpected keyword argument 'trangthai_ketthuc'"
          ]
        }
      ]
    }
  ]
}