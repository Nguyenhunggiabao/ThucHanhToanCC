{
  "nbformat": 4,
  "nbformat_minor": 0,
  "metadata": {
    "colab": {
      "name": "Untitled7.ipynb",
      "provenance": [],
      "authorship_tag": "ABX9TyNao7+mfRdvSwPr6bISm2el",
      "include_colab_link": true
    },
    "kernelspec": {
      "name": "python3",
      "display_name": "Python 3"
    },
    "language_info": {
      "name": "python"
    }
  },
  "cells": [
    {
      "cell_type": "markdown",
      "metadata": {
        "id": "view-in-github",
        "colab_type": "text"
      },
      "source": [
        "<a href=\"https://colab.research.google.com/github/Nguyenhunggiabao/ThucHanhToanCC/blob/main/thi.ipynb\" target=\"_parent\"><img src=\"https://colab.research.google.com/assets/colab-badge.svg\" alt=\"Open In Colab\"/></a>"
      ]
    },
    {
      "cell_type": "markdown",
      "source": [
        "đạo hàm"
      ],
      "metadata": {
        "id": "Po5hKPSQtR3O"
      }
    },
    {
      "cell_type": "code",
      "execution_count": 8,
      "metadata": {
        "colab": {
          "base_uri": "https://localhost:8080/",
          "height": 53
        },
        "id": "dXC-CgCSog5f",
        "outputId": "a55cdd6f-b802-4e68-a17c-418a6c1387eb"
      },
      "outputs": [
        {
          "output_type": "execute_result",
          "data": {
            "text/plain": [
              "(2*x - 1)/(x + 2)"
            ],
            "text/latex": "$\\displaystyle \\frac{2 x - 1}{x + 2}$"
          },
          "metadata": {},
          "execution_count": 8
        }
      ],
      "source": [
        "from sympy import Derivative, Symbol\n",
        "x = Symbol('x')\n",
        "y = (2*x-1)/(x+2)\n",
        "Derivative( y,x ).doit()"
      ]
    },
    {
      "cell_type": "code",
      "source": [
        "from sympy import Derivative, Symbol\n",
        "x = Symbol('x')\n",
        "y = (x**2+3*x-1)/(x+1)\n",
        "Derivative( y,x ).doit()"
      ],
      "metadata": {
        "colab": {
          "base_uri": "https://localhost:8080/",
          "height": 61
        },
        "id": "Cr6sdgyosBqQ",
        "outputId": "398418d2-4829-4e05-a147-8ca28e8989a0"
      },
      "execution_count": 4,
      "outputs": [
        {
          "output_type": "execute_result",
          "data": {
            "text/plain": [
              "(2*x + 3)/(x + 1) - (x**2 + 3*x - 1)/(x + 1)**2"
            ],
            "text/latex": "$\\displaystyle \\frac{2 x + 3}{x + 1} - \\frac{x^{2} + 3 x - 1}{\\left(x + 1\\right)^{2}}$"
          },
          "metadata": {},
          "execution_count": 4
        }
      ]
    },
    {
      "cell_type": "markdown",
      "source": [
        "giới hạn"
      ],
      "metadata": {
        "id": "n7UmRvTPtl9h"
      }
    },
    {
      "cell_type": "code",
      "source": [
        "from sympy import Symbol, Limit, sqrt\n",
        "x = Symbol('x')\n",
        "f = Limit((sqrt(x**2-2*x+3)/(x+1)),x ,-1)\n",
        "f.doit()"
      ],
      "metadata": {
        "colab": {
          "base_uri": "https://localhost:8080/",
          "height": 38
        },
        "id": "eAlGmL0ntraN",
        "outputId": "58283dd0-d248-4bd8-f148-6b662cfb259f"
      },
      "execution_count": 6,
      "outputs": [
        {
          "output_type": "execute_result",
          "data": {
            "text/plain": [
              "oo"
            ],
            "text/latex": "$\\displaystyle \\infty$"
          },
          "metadata": {},
          "execution_count": 6
        }
      ]
    },
    {
      "cell_type": "code",
      "source": [
        "from sympy import Symbol, Limit, sqrt\n",
        "x = Symbol('x')\n",
        "f = Limit((sqrt(x**2-x+1)/(x-1)),x ,2)\n",
        "f.doit()"
      ],
      "metadata": {
        "colab": {
          "base_uri": "https://localhost:8080/",
          "height": 38
        },
        "id": "Io3L_3RbuoOT",
        "outputId": "1a7ea1e6-b951-4df3-8efa-5bc5e8063eed"
      },
      "execution_count": null,
      "outputs": [
        {
          "output_type": "execute_result",
          "data": {
            "text/plain": [
              "sqrt(3)"
            ],
            "text/latex": "$\\displaystyle \\sqrt{3}$"
          },
          "metadata": {},
          "execution_count": 10
        }
      ]
    }
  ]
}