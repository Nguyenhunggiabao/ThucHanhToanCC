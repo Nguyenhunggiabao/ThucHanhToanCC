{
  "nbformat": 4,
  "nbformat_minor": 0,
  "metadata": {
    "colab": {
      "provenance": [],
      "authorship_tag": "ABX9TyMWjIaB6TvLiNNm5LILA+m9",
      "include_colab_link": true
    },
    "kernelspec": {
      "name": "python3",
      "display_name": "Python 3"
    },
    "language_info": {
      "name": "python"
    }
  },
  "cells": [
    {
      "cell_type": "markdown",
      "metadata": {
        "id": "view-in-github",
        "colab_type": "text"
      },
      "source": [
        "<a href=\"https://colab.research.google.com/github/Nguyenhunggiabao/ThucHanhToanCC/blob/main/DSTT2.ipynb\" target=\"_parent\"><img src=\"https://colab.research.google.com/assets/colab-badge.svg\" alt=\"Open In Colab\"/></a>"
      ]
    },
    {
      "cell_type": "markdown",
      "source": [
        "Nguyễn Hùng Gia Bảo"
      ],
      "metadata": {
        "id": "xT1k-dXqqpVl"
      }
    },
    {
      "cell_type": "markdown",
      "source": [
        "CHƯƠNG 2: MA TRẬN VÀ HỆ PHƯƠNG TRÌNH TUYẾN TÍNH"
      ],
      "metadata": {
        "id": "pem6o2rTi_Od"
      }
    },
    {
      "cell_type": "markdown",
      "source": [
        "1. Dẫn nhập – Một số hàm về xử lý vector với Python "
      ],
      "metadata": {
        "id": "LIaPj8b9jF4U"
      }
    },
    {
      "cell_type": "markdown",
      "source": [
        "Hàm “scale” tỉ số vector bằng một giá trị thực:"
      ],
      "metadata": {
        "id": "9ZihwhCNjMvU"
      }
    },
    {
      "cell_type": "code",
      "source": [
        "def scale(a, v):\n",
        " return [a*vi for vi in v]\n",
        "v = [3,5,7]\n",
        "scale(10, v) "
      ],
      "metadata": {
        "colab": {
          "base_uri": "https://localhost:8080/"
        },
        "id": "Xt3Sxn4yjERm",
        "outputId": "3da5f107-30bc-4c84-dfa1-61552c6227d4"
      },
      "execution_count": 1,
      "outputs": [
        {
          "output_type": "execute_result",
          "data": {
            "text/plain": [
              "[30, 50, 70]"
            ]
          },
          "metadata": {},
          "execution_count": 1
        }
      ]
    },
    {
      "cell_type": "markdown",
      "source": [
        "Hàm lấy tổng hai vector:"
      ],
      "metadata": {
        "id": "8QqAsG3NjTog"
      }
    },
    {
      "cell_type": "code",
      "source": [
        "def sumvector(v, w):\n",
        " return [vi+wi for (vi, wi) in zip(v, w)]\n",
        "v = [3,5,7]\n",
        "w = [2,4,6]\n",
        "sumvector(v, w) "
      ],
      "metadata": {
        "colab": {
          "base_uri": "https://localhost:8080/"
        },
        "id": "kpXWnf20jXsD",
        "outputId": "a063f9d9-8b7d-40de-e79f-38e946cfb23e"
      },
      "execution_count": 2,
      "outputs": [
        {
          "output_type": "execute_result",
          "data": {
            "text/plain": [
              "[5, 9, 13]"
            ]
          },
          "metadata": {},
          "execution_count": 2
        }
      ]
    },
    {
      "cell_type": "markdown",
      "source": [
        "Hàm nhân 2 vector vô hướng:"
      ],
      "metadata": {
        "id": "8o4zhZ1Ujbn0"
      }
    },
    {
      "cell_type": "code",
      "source": [
        "def dotvector(v, w):\n",
        " return sum([vi*wi for (vi, wi) in zip(v, w)])\n",
        "dotvector(v, w)"
      ],
      "metadata": {
        "colab": {
          "base_uri": "https://localhost:8080/"
        },
        "id": "bOZD5ciqjf-y",
        "outputId": "eb282428-08e1-4d79-b9e0-8eac477f7ea5"
      },
      "execution_count": 3,
      "outputs": [
        {
          "output_type": "execute_result",
          "data": {
            "text/plain": [
              "68"
            ]
          },
          "metadata": {},
          "execution_count": 3
        }
      ]
    },
    {
      "cell_type": "markdown",
      "source": [
        "Hàm tính chiều dài một vector:"
      ],
      "metadata": {
        "id": "sf9kI8w3jjWq"
      }
    },
    {
      "cell_type": "code",
      "source": [
        "def lenvector(v):\n",
        " return dotvector(v,v)\n",
        "lenvector(w) "
      ],
      "metadata": {
        "colab": {
          "base_uri": "https://localhost:8080/"
        },
        "id": "iucKlnWBjmDG",
        "outputId": "d6937d6a-169f-432c-c1a5-d7bad8781957"
      },
      "execution_count": 4,
      "outputs": [
        {
          "output_type": "execute_result",
          "data": {
            "text/plain": [
              "56"
            ]
          },
          "metadata": {},
          "execution_count": 4
        }
      ]
    },
    {
      "cell_type": "markdown",
      "source": [
        "2. Bài toán ứng dụng 1 – Phân loại tuyến tính"
      ],
      "metadata": {
        "id": "Bs0NJO95j1z_"
      }
    },
    {
      "cell_type": "code",
      "source": [
        "import numpy as np\n",
        "scores = np.array([-1, 1, 2, -3, 5, -4]) \n",
        "scores >= 0 \n",
        "scores < 0 \n",
        "np.select([scores >=0, scores < 0],['so duong', 'so am']) "
      ],
      "metadata": {
        "colab": {
          "base_uri": "https://localhost:8080/"
        },
        "id": "3grpij_DjtZk",
        "outputId": "053f7386-caac-427f-9636-6d76ba016253"
      },
      "execution_count": 6,
      "outputs": [
        {
          "output_type": "execute_result",
          "data": {
            "text/plain": [
              "array(['so am', 'so duong', 'so duong', 'so am', 'so duong', 'so am'],\n",
              "      dtype='<U8')"
            ]
          },
          "metadata": {},
          "execution_count": 6
        }
      ]
    },
    {
      "cell_type": "code",
      "source": [
        "scores = np.array([-1, 1, 2, 0, -3, 5, 0, -4])\n",
        "np.select([scores >0, scores ==0, scores < 0],['so duong', 'so 0', 'so am'])"
      ],
      "metadata": {
        "colab": {
          "base_uri": "https://localhost:8080/"
        },
        "id": "LTsJ000GkQAy",
        "outputId": "946c1363-060a-4c57-b636-db4f2b6a9868"
      },
      "execution_count": 7,
      "outputs": [
        {
          "output_type": "execute_result",
          "data": {
            "text/plain": [
              "array(['so am', 'so duong', 'so duong', 'so 0', 'so am', 'so duong',\n",
              "       'so 0', 'so am'], dtype='<U8')"
            ]
          },
          "metadata": {},
          "execution_count": 7
        }
      ]
    },
    {
      "cell_type": "markdown",
      "source": [
        "3.1. Cơ bản về xử lý ma trận"
      ],
      "metadata": {
        "id": "afMm3q0LkZJ_"
      }
    },
    {
      "cell_type": "code",
      "source": [
        "import sympy as sp\n",
        "x = sp.Symbol('x')\n",
        "y = sp.Symbol('y')\n",
        "z = sp.Symbol('z')\n",
        "sp.solve([x*x+2-6, y-1-6, 2*x*x-8, z*z+4-5, y-z-8], [x,y,z])"
      ],
      "metadata": {
        "colab": {
          "base_uri": "https://localhost:8080/"
        },
        "id": "b5r5AnffkegK",
        "outputId": "1751ed50-648f-4ab3-e44e-a34c8fa0ce07"
      },
      "execution_count": 8,
      "outputs": [
        {
          "output_type": "execute_result",
          "data": {
            "text/plain": [
              "[(-2, 7, -1), (2, 7, -1)]"
            ]
          },
          "metadata": {},
          "execution_count": 8
        }
      ]
    },
    {
      "cell_type": "code",
      "source": [
        "import numpy as np \n",
        "np.array_equal([1,2],[1,2])"
      ],
      "metadata": {
        "colab": {
          "base_uri": "https://localhost:8080/"
        },
        "id": "QkjXnB-Fov6f",
        "outputId": "c82439ad-dc77-4353-a255-d6a944cc73d5"
      },
      "execution_count": 9,
      "outputs": [
        {
          "output_type": "execute_result",
          "data": {
            "text/plain": [
              "True"
            ]
          },
          "metadata": {},
          "execution_count": 9
        }
      ]
    },
    {
      "cell_type": "code",
      "source": [
        "np.array_equal(np.array([1,2]), np.array([1,2]))"
      ],
      "metadata": {
        "colab": {
          "base_uri": "https://localhost:8080/"
        },
        "id": "EUXuhKmCpe-8",
        "outputId": "4ad56250-62dd-4d1a-9822-9d034ffbc2c3"
      },
      "execution_count": 10,
      "outputs": [
        {
          "output_type": "execute_result",
          "data": {
            "text/plain": [
              "True"
            ]
          },
          "metadata": {},
          "execution_count": 10
        }
      ]
    },
    {
      "cell_type": "markdown",
      "source": [
        "3.2. Các phép biến đổi sơ cấp trên ma trận "
      ],
      "metadata": {
        "id": "Caj04h6Upw4J"
      }
    },
    {
      "cell_type": "code",
      "source": [
        "import numpy as np \n",
        "A = np.reshape(np.arange(36.0), (6,6))\n",
        "print(A)"
      ],
      "metadata": {
        "colab": {
          "base_uri": "https://localhost:8080/"
        },
        "id": "rEG3wQoYpyri",
        "outputId": "56f2220f-b35b-42ef-c397-d8b997fc02ed"
      },
      "execution_count": 11,
      "outputs": [
        {
          "output_type": "stream",
          "name": "stdout",
          "text": [
            "[[ 0.  1.  2.  3.  4.  5.]\n",
            " [ 6.  7.  8.  9. 10. 11.]\n",
            " [12. 13. 14. 15. 16. 17.]\n",
            " [18. 19. 20. 21. 22. 23.]\n",
            " [24. 25. 26. 27. 28. 29.]\n",
            " [30. 31. 32. 33. 34. 35.]]\n"
          ]
        }
      ]
    },
    {
      "cell_type": "code",
      "source": [
        "I6 = np.identity(6)\n",
        "print (I6)"
      ],
      "metadata": {
        "colab": {
          "base_uri": "https://localhost:8080/"
        },
        "id": "zMZXBc4Ep8vN",
        "outputId": "a5392221-49cc-41ed-ec50-f2db1d8e9406"
      },
      "execution_count": 13,
      "outputs": [
        {
          "output_type": "stream",
          "name": "stdout",
          "text": [
            "[[1. 0. 0. 0. 0. 0.]\n",
            " [0. 1. 0. 0. 0. 0.]\n",
            " [0. 0. 1. 0. 0. 0.]\n",
            " [0. 0. 0. 1. 0. 0.]\n",
            " [0. 0. 0. 0. 1. 0.]\n",
            " [0. 0. 0. 0. 0. 1.]]\n"
          ]
        }
      ]
    },
    {
      "cell_type": "code",
      "source": [
        "A.size "
      ],
      "metadata": {
        "colab": {
          "base_uri": "https://localhost:8080/"
        },
        "id": "MmLXzFMcqB0X",
        "outputId": "f813e005-7965-4b8a-e4c0-daddc4c0219d"
      },
      "execution_count": 14,
      "outputs": [
        {
          "output_type": "execute_result",
          "data": {
            "text/plain": [
              "36"
            ]
          },
          "metadata": {},
          "execution_count": 14
        }
      ]
    },
    {
      "cell_type": "code",
      "source": [
        "np.matrix.diagonal(A) "
      ],
      "metadata": {
        "colab": {
          "base_uri": "https://localhost:8080/"
        },
        "id": "36_UIvSdqELQ",
        "outputId": "37bc4460-c066-4dfe-cee5-079410874770"
      },
      "execution_count": 15,
      "outputs": [
        {
          "output_type": "execute_result",
          "data": {
            "text/plain": [
              "array([ 0.,  7., 14., 21., 28., 35.])"
            ]
          },
          "metadata": {},
          "execution_count": 15
        }
      ]
    },
    {
      "cell_type": "code",
      "source": [
        "A = A + I6\n",
        "print(A)"
      ],
      "metadata": {
        "colab": {
          "base_uri": "https://localhost:8080/"
        },
        "id": "qcJHXGD5qH_S",
        "outputId": "79f999e4-6a3f-419f-f02f-24664ee64a57"
      },
      "execution_count": 17,
      "outputs": [
        {
          "output_type": "stream",
          "name": "stdout",
          "text": [
            "[[ 2.  1.  2.  3.  4.  5.]\n",
            " [ 6.  9.  8.  9. 10. 11.]\n",
            " [12. 13. 16. 15. 16. 17.]\n",
            " [18. 19. 20. 23. 22. 23.]\n",
            " [24. 25. 26. 27. 30. 29.]\n",
            " [30. 31. 32. 33. 34. 37.]]\n"
          ]
        }
      ]
    },
    {
      "cell_type": "code",
      "source": [
        "vecB = np.array([1., 2., 3., 4., 5., 6.])\n",
        "C = A.dot(vecB)\n",
        "print(C)"
      ],
      "metadata": {
        "colab": {
          "base_uri": "https://localhost:8080/"
        },
        "id": "g6Wr_nI1qXd6",
        "outputId": "791a1e61-7452-4dd8-a59d-eb6caa60e4c0"
      },
      "execution_count": 19,
      "outputs": [
        {
          "output_type": "stream",
          "name": "stdout",
          "text": [
            "[ 72. 200. 328. 456. 584. 712.]\n"
          ]
        }
      ]
    },
    {
      "cell_type": "markdown",
      "source": [
        "Khai báo ma trận D 2x6 "
      ],
      "metadata": {
        "id": "5s618bQUqc-j"
      }
    },
    {
      "cell_type": "code",
      "source": [
        "D = np.array([[1., 2., 3., 4., 5., 6.], [1., 0., 1., 0., 1., 0.]])\n",
        "print(D)"
      ],
      "metadata": {
        "colab": {
          "base_uri": "https://localhost:8080/"
        },
        "id": "cm6ENF8XqblO",
        "outputId": "178b1d29-8368-4c2b-a10c-b5621e0f945d"
      },
      "execution_count": 20,
      "outputs": [
        {
          "output_type": "stream",
          "name": "stdout",
          "text": [
            "[[1. 2. 3. 4. 5. 6.]\n",
            " [1. 0. 1. 0. 1. 0.]]\n"
          ]
        }
      ]
    },
    {
      "cell_type": "markdown",
      "source": [
        "Xây dựng ma trận F kích thước 6x2: \n",
        "\n"
      ],
      "metadata": {
        "id": "oluMqD-BqjBA"
      }
    },
    {
      "cell_type": "code",
      "source": [
        "F = np.array([[1., 1.], [2., 0.], [3., 1.], [4., 0], [5., 1], [6., 0.]])\n",
        "G = A.dot(F)\n",
        "print(F)"
      ],
      "metadata": {
        "colab": {
          "base_uri": "https://localhost:8080/"
        },
        "id": "HyV8FeBzqlJh",
        "outputId": "b87e27b2-eb73-40fc-a79c-ef6caad67386"
      },
      "execution_count": 24,
      "outputs": [
        {
          "output_type": "stream",
          "name": "stdout",
          "text": [
            "[[1. 1.]\n",
            " [2. 0.]\n",
            " [3. 1.]\n",
            " [4. 0.]\n",
            " [5. 1.]\n",
            " [6. 0.]]\n"
          ]
        }
      ]
    },
    {
      "cell_type": "code",
      "source": [
        "print(G)"
      ],
      "metadata": {
        "colab": {
          "base_uri": "https://localhost:8080/"
        },
        "id": "1rwG4d_erb25",
        "outputId": "d618fdd2-1cd1-47d3-b581-15ec1914723a"
      },
      "execution_count": 26,
      "outputs": [
        {
          "output_type": "stream",
          "name": "stdout",
          "text": [
            "[[ 72.   8.]\n",
            " [200.  24.]\n",
            " [328.  44.]\n",
            " [456.  60.]\n",
            " [584.  80.]\n",
            " [712.  96.]]\n"
          ]
        }
      ]
    },
    {
      "cell_type": "markdown",
      "source": [
        "Tính ma trận nghịch đảo: "
      ],
      "metadata": {
        "id": "fLZ_trysrYbH"
      }
    },
    {
      "cell_type": "code",
      "source": [
        "np.linalg.inv(A) "
      ],
      "metadata": {
        "colab": {
          "base_uri": "https://localhost:8080/"
        },
        "id": "S1Jygaigrys_",
        "outputId": "4afd0f70-ac67-4444-e9a1-d68c934fd61a"
      },
      "execution_count": 28,
      "outputs": [
        {
          "output_type": "execute_result",
          "data": {
            "text/plain": [
              "array([[ 0.10336538, -0.28605769, -0.17548077, -0.06490385,  0.04567308,\n",
              "         0.15625   ],\n",
              "       [-0.27403846,  0.29326923, -0.13942308, -0.07211538, -0.00480769,\n",
              "         0.0625    ],\n",
              "       [-0.15144231, -0.12740385,  0.39663462, -0.07932692, -0.05528846,\n",
              "        -0.03125   ],\n",
              "       [-0.02884615, -0.04807692, -0.06730769,  0.41346154, -0.10576923,\n",
              "        -0.125     ],\n",
              "       [ 0.09375   ,  0.03125   , -0.03125   , -0.09375   ,  0.34375   ,\n",
              "        -0.21875   ],\n",
              "       [ 0.21634615,  0.11057692,  0.00480769, -0.10096154, -0.20673077,\n",
              "         0.1875    ]])"
            ]
          },
          "metadata": {},
          "execution_count": 28
        }
      ]
    },
    {
      "cell_type": "code",
      "source": [
        "np.linalg.inv(np.linalg.inv(A))"
      ],
      "metadata": {
        "colab": {
          "base_uri": "https://localhost:8080/"
        },
        "id": "EzWDKYCjr5U2",
        "outputId": "5f6c3695-8fdd-4094-92c5-f889eebc32f1"
      },
      "execution_count": 29,
      "outputs": [
        {
          "output_type": "execute_result",
          "data": {
            "text/plain": [
              "array([[ 2.,  1.,  2.,  3.,  4.,  5.],\n",
              "       [ 6.,  9.,  8.,  9., 10., 11.],\n",
              "       [12., 13., 16., 15., 16., 17.],\n",
              "       [18., 19., 20., 23., 22., 23.],\n",
              "       [24., 25., 26., 27., 30., 29.],\n",
              "       [30., 31., 32., 33., 34., 37.]])"
            ]
          },
          "metadata": {},
          "execution_count": 29
        }
      ]
    },
    {
      "cell_type": "markdown",
      "source": [
        "4. Bài toán ứng dụng 2 – Tính toán dãy Fibonacci: Con đường tìm đến tỉ số vàng! "
      ],
      "metadata": {
        "id": "PBPzkiCxr_7w"
      }
    },
    {
      "cell_type": "code",
      "source": [
        "import numpy as np\n",
        "A = np.array( [ [1,1], [1,0] ] )\n",
        "b = np.array([1, 0])\n",
        "n = 10\n",
        "for i in range(n):\n",
        " b = A.dot(b)\n",
        " print(b) "
      ],
      "metadata": {
        "colab": {
          "base_uri": "https://localhost:8080/"
        },
        "id": "x8oxFigOsA2t",
        "outputId": "c97ea0ab-026d-4b00-b4af-061c7c000176"
      },
      "execution_count": 30,
      "outputs": [
        {
          "output_type": "stream",
          "name": "stdout",
          "text": [
            "[1 1]\n",
            "[2 1]\n",
            "[3 2]\n",
            "[5 3]\n",
            "[8 5]\n",
            "[13  8]\n",
            "[21 13]\n",
            "[34 21]\n",
            "[55 34]\n",
            "[89 55]\n"
          ]
        }
      ]
    },
    {
      "cell_type": "markdown",
      "source": [
        "5.2. Bài toán ứng dụng 3 – Đếm số lượng xe vào khu vực trung tâm "
      ],
      "metadata": {
        "id": "C0qW6rqRsOfx"
      }
    },
    {
      "cell_type": "code",
      "source": [
        "import sympy as sp\n",
        "from sympy import Symbol\n",
        "x1 = Symbol('x1')\n",
        "x2 = Symbol('x2')\n",
        "x3 = Symbol('x3')\n",
        "x4 = Symbol('x4')\n",
        "from sympy import solve\n",
        "pt1 = x4+610-450-x1\n",
        "pt2 = x1+400-x2-640\n",
        "pt3 = x2+600-x3\n",
        "pt4 = x3-x4-520\n",
        "nghiem = sp.solve((pt1, pt2, pt3, pt4))\n",
        "nghiem"
      ],
      "metadata": {
        "colab": {
          "base_uri": "https://localhost:8080/"
        },
        "id": "z6Ljt3z-sPLR",
        "outputId": "e87d225c-2bdc-4d7d-b543-abcd4f3e4781"
      },
      "execution_count": 31,
      "outputs": [
        {
          "output_type": "execute_result",
          "data": {
            "text/plain": [
              "{x1: x4 + 160, x2: x4 - 80, x3: x4 + 520}"
            ]
          },
          "metadata": {},
          "execution_count": 31
        }
      ]
    },
    {
      "cell_type": "code",
      "source": [
        "import numpy as np\n",
        "a = np.matrix([[-1,0,0,1],[1,-1,0,0],[0,1,-1,0],[0,0,1,-1]]) \n"
      ],
      "metadata": {
        "id": "kN25RPp6saRq"
      },
      "execution_count": 40,
      "outputs": []
    }
  ]
}