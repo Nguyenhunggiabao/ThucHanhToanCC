{
  "nbformat": 4,
  "nbformat_minor": 0,
  "metadata": {
    "colab": {
      "name": "Untitled11.ipynb",
      "provenance": [],
      "authorship_tag": "ABX9TyMvodCK6nO5RoqC33Rp1Wxp",
      "include_colab_link": true
    },
    "kernelspec": {
      "name": "python3",
      "display_name": "Python 3"
    },
    "language_info": {
      "name": "python"
    }
  },
  "cells": [
    {
      "cell_type": "markdown",
      "metadata": {
        "id": "view-in-github",
        "colab_type": "text"
      },
      "source": [
        "<a href=\"https://colab.research.google.com/github/Nguyenhunggiabao/ThucHanhToanCC/blob/main/toanroirac3.ipynb\" target=\"_parent\"><img src=\"https://colab.research.google.com/assets/colab-badge.svg\" alt=\"Open In Colab\"/></a>"
      ]
    },
    {
      "cell_type": "markdown",
      "source": [
        "CHƯƠNG 3: PHÉP ĐẾM: VỀ CÁC NGUYÊN LÝ"
      ],
      "metadata": {
        "id": "qEXfLmi4Ctb1"
      }
    },
    {
      "cell_type": "markdown",
      "source": [
        "1. Các nguyên lý: cộng, nhân, bù trừ"
      ],
      "metadata": {
        "id": "iXpOXinjCvsY"
      }
    },
    {
      "cell_type": "code",
      "execution_count": 69,
      "metadata": {
        "colab": {
          "base_uri": "https://localhost:8080/",
          "height": 0
        },
        "id": "H3cb6sMWCrx2",
        "outputId": "04cd38b9-9180-47a8-8ead-e76750fcfca0"
      },
      "outputs": [
        {
          "output_type": "stream",
          "name": "stdout",
          "text": [
            "Ten cau thu VietNam:  Van Lam\n",
            "Ten cau thu VietNam:  Tien Dung\n",
            "Ten cau thu VietNam:  Anh Duc\n",
            "Ten cau thu VietNam:  Cong Phuong\n"
          ]
        }
      ],
      "source": [
        "bongda_VN = ['Van Lam', 'Tien Dung', 'Anh Duc', 'Cong Phuong']\n",
        "for cau_thu in bongda_VN:\n",
        "  print (\"Ten cau thu VietNam: \", cau_thu)"
      ]
    },
    {
      "cell_type": "code",
      "source": [
        "bongda_TG = ['Messi', 'Ronaldo', 'Thonglao', 'Mbappé']\n",
        "for cau_thu in bongda_TG:\n",
        "  print (\"Ten cau thu The gioi: \", cau_thu) "
      ],
      "metadata": {
        "colab": {
          "base_uri": "https://localhost:8080/",
          "height": 0
        },
        "id": "tA4S0shjC8YO",
        "outputId": "09f21659-c4f6-4160-bff2-b9ae90223243"
      },
      "execution_count": 70,
      "outputs": [
        {
          "output_type": "stream",
          "name": "stdout",
          "text": [
            "Ten cau thu The gioi:  Messi\n",
            "Ten cau thu The gioi:  Ronaldo\n",
            "Ten cau thu The gioi:  Thonglao\n",
            "Ten cau thu The gioi:  Mbappé\n"
          ]
        }
      ]
    },
    {
      "cell_type": "code",
      "source": [
        "for bong_VN in bongda_VN:\n",
        "  for bong_TG in bongda_TG:\n",
        "    print (\"Khả năng tranh chấp quả bóng vàng giữa: \", bong_VN, \" với \", bong_TG)"
      ],
      "metadata": {
        "colab": {
          "base_uri": "https://localhost:8080/",
          "height": 0
        },
        "id": "6ReStBwKDpAS",
        "outputId": "19414775-1856-42bf-a06f-8d2603572778"
      },
      "execution_count": 71,
      "outputs": [
        {
          "output_type": "stream",
          "name": "stdout",
          "text": [
            "Khả năng tranh chấp quả bóng vàng giữa:  Van Lam  với  Messi\n",
            "Khả năng tranh chấp quả bóng vàng giữa:  Van Lam  với  Ronaldo\n",
            "Khả năng tranh chấp quả bóng vàng giữa:  Van Lam  với  Thonglao\n",
            "Khả năng tranh chấp quả bóng vàng giữa:  Van Lam  với  Mbappé\n",
            "Khả năng tranh chấp quả bóng vàng giữa:  Tien Dung  với  Messi\n",
            "Khả năng tranh chấp quả bóng vàng giữa:  Tien Dung  với  Ronaldo\n",
            "Khả năng tranh chấp quả bóng vàng giữa:  Tien Dung  với  Thonglao\n",
            "Khả năng tranh chấp quả bóng vàng giữa:  Tien Dung  với  Mbappé\n",
            "Khả năng tranh chấp quả bóng vàng giữa:  Anh Duc  với  Messi\n",
            "Khả năng tranh chấp quả bóng vàng giữa:  Anh Duc  với  Ronaldo\n",
            "Khả năng tranh chấp quả bóng vàng giữa:  Anh Duc  với  Thonglao\n",
            "Khả năng tranh chấp quả bóng vàng giữa:  Anh Duc  với  Mbappé\n",
            "Khả năng tranh chấp quả bóng vàng giữa:  Cong Phuong  với  Messi\n",
            "Khả năng tranh chấp quả bóng vàng giữa:  Cong Phuong  với  Ronaldo\n",
            "Khả năng tranh chấp quả bóng vàng giữa:  Cong Phuong  với  Thonglao\n",
            "Khả năng tranh chấp quả bóng vàng giữa:  Cong Phuong  với  Mbappé\n"
          ]
        }
      ]
    },
    {
      "cell_type": "markdown",
      "source": [
        "ví dụ 1 "
      ],
      "metadata": {
        "id": "z_i-AcQpD08O"
      }
    },
    {
      "cell_type": "code",
      "source": [
        "N = 4\n",
        "for i1 in range(0, N):\n",
        "  for i2 in range(0, N):\n",
        "    for i3 in range(0, N):\n",
        "      print (i1, i2, i3) "
      ],
      "metadata": {
        "colab": {
          "base_uri": "https://localhost:8080/",
          "height": 0
        },
        "id": "CnucdlCUDzNS",
        "outputId": "b8d9c89f-a229-42cc-b336-9b80bcffdb71"
      },
      "execution_count": 72,
      "outputs": [
        {
          "output_type": "stream",
          "name": "stdout",
          "text": [
            "0 0 0\n",
            "0 0 1\n",
            "0 0 2\n",
            "0 0 3\n",
            "0 1 0\n",
            "0 1 1\n",
            "0 1 2\n",
            "0 1 3\n",
            "0 2 0\n",
            "0 2 1\n",
            "0 2 2\n",
            "0 2 3\n",
            "0 3 0\n",
            "0 3 1\n",
            "0 3 2\n",
            "0 3 3\n",
            "1 0 0\n",
            "1 0 1\n",
            "1 0 2\n",
            "1 0 3\n",
            "1 1 0\n",
            "1 1 1\n",
            "1 1 2\n",
            "1 1 3\n",
            "1 2 0\n",
            "1 2 1\n",
            "1 2 2\n",
            "1 2 3\n",
            "1 3 0\n",
            "1 3 1\n",
            "1 3 2\n",
            "1 3 3\n",
            "2 0 0\n",
            "2 0 1\n",
            "2 0 2\n",
            "2 0 3\n",
            "2 1 0\n",
            "2 1 1\n",
            "2 1 2\n",
            "2 1 3\n",
            "2 2 0\n",
            "2 2 1\n",
            "2 2 2\n",
            "2 2 3\n",
            "2 3 0\n",
            "2 3 1\n",
            "2 3 2\n",
            "2 3 3\n",
            "3 0 0\n",
            "3 0 1\n",
            "3 0 2\n",
            "3 0 3\n",
            "3 1 0\n",
            "3 1 1\n",
            "3 1 2\n",
            "3 1 3\n",
            "3 2 0\n",
            "3 2 1\n",
            "3 2 2\n",
            "3 2 3\n",
            "3 3 0\n",
            "3 3 1\n",
            "3 3 2\n",
            "3 3 3\n"
          ]
        }
      ]
    },
    {
      "cell_type": "markdown",
      "source": [
        "ví dụ 2 "
      ],
      "metadata": {
        "id": "PNLgeoGMD-fF"
      }
    },
    {
      "cell_type": "code",
      "source": [
        "for i1 in range(0, N):\n",
        "  for i2 in range(0, N):\n",
        "    for i3 in range(0, N):\n",
        "      if i1 != i2 and i2 != i3 and i1 != i3:\n",
        "        print (i1, i2, i3) "
      ],
      "metadata": {
        "colab": {
          "base_uri": "https://localhost:8080/",
          "height": 0
        },
        "id": "WfuCpiOJEAJG",
        "outputId": "7df27c37-e573-4f34-e68f-2fe32f70044b"
      },
      "execution_count": 73,
      "outputs": [
        {
          "output_type": "stream",
          "name": "stdout",
          "text": [
            "0 1 2\n",
            "0 1 3\n",
            "0 2 1\n",
            "0 2 3\n",
            "0 3 1\n",
            "0 3 2\n",
            "1 0 2\n",
            "1 0 3\n",
            "1 2 0\n",
            "1 2 3\n",
            "1 3 0\n",
            "1 3 2\n",
            "2 0 1\n",
            "2 0 3\n",
            "2 1 0\n",
            "2 1 3\n",
            "2 3 0\n",
            "2 3 1\n",
            "3 0 1\n",
            "3 0 2\n",
            "3 1 0\n",
            "3 1 2\n",
            "3 2 0\n",
            "3 2 1\n"
          ]
        }
      ]
    },
    {
      "cell_type": "markdown",
      "source": [
        "ví dụ 3 "
      ],
      "metadata": {
        "id": "bf5poHl-EGi6"
      }
    },
    {
      "cell_type": "code",
      "source": [
        "for i1 in range(0, N):\n",
        "  for i2 in range(i1+1, N):\n",
        "    for i3 in range(i2+1, N):\n",
        "      print (i1, i2, i3) "
      ],
      "metadata": {
        "colab": {
          "base_uri": "https://localhost:8080/",
          "height": 0
        },
        "id": "CShU_nGaEH38",
        "outputId": "125ea510-790c-4ca0-8cd5-8c5bd764f0d5"
      },
      "execution_count": 74,
      "outputs": [
        {
          "output_type": "stream",
          "name": "stdout",
          "text": [
            "0 1 2\n",
            "0 1 3\n",
            "0 2 3\n",
            "1 2 3\n"
          ]
        }
      ]
    },
    {
      "cell_type": "markdown",
      "source": [
        "ví dụ 4 "
      ],
      "metadata": {
        "id": "x1T9kmRpEMp0"
      }
    },
    {
      "cell_type": "code",
      "source": [
        "for i1 in range(0, N):\n",
        "  for i2 in range(i1, N):\n",
        "    for i3 in range(i2, N):\n",
        "      print (i1, i2, i3) "
      ],
      "metadata": {
        "colab": {
          "base_uri": "https://localhost:8080/",
          "height": 0
        },
        "id": "j9Sd8IjEEN_c",
        "outputId": "85274115-5a28-48e2-b322-0f51fa982f8c"
      },
      "execution_count": 75,
      "outputs": [
        {
          "output_type": "stream",
          "name": "stdout",
          "text": [
            "0 0 0\n",
            "0 0 1\n",
            "0 0 2\n",
            "0 0 3\n",
            "0 1 1\n",
            "0 1 2\n",
            "0 1 3\n",
            "0 2 2\n",
            "0 2 3\n",
            "0 3 3\n",
            "1 1 1\n",
            "1 1 2\n",
            "1 1 3\n",
            "1 2 2\n",
            "1 2 3\n",
            "1 3 3\n",
            "2 2 2\n",
            "2 2 3\n",
            "2 3 3\n",
            "3 3 3\n"
          ]
        }
      ]
    },
    {
      "cell_type": "markdown",
      "source": [
        "1.2. Thể hiện biểu thức luận lý bằng Python"
      ],
      "metadata": {
        "id": "0Ay1FMtRETj6"
      }
    },
    {
      "cell_type": "code",
      "source": [
        "def implies(a, b):\n",
        " if a:\n",
        "  return b\n",
        " else:\n",
        "  return True "
      ],
      "metadata": {
        "id": "UjsEPOH_Eg_Q"
      },
      "execution_count": 76,
      "outputs": []
    },
    {
      "cell_type": "code",
      "source": [
        "implies(10, 11)"
      ],
      "metadata": {
        "colab": {
          "base_uri": "https://localhost:8080/",
          "height": 0
        },
        "id": "dznAueGQElsU",
        "outputId": "6a66e233-4ad9-48fd-cdab-d57389ac0d45"
      },
      "execution_count": 77,
      "outputs": [
        {
          "output_type": "execute_result",
          "data": {
            "text/plain": [
              "11"
            ]
          },
          "metadata": {},
          "execution_count": 77
        }
      ]
    },
    {
      "cell_type": "code",
      "source": [
        "implies(1, 11) "
      ],
      "metadata": {
        "colab": {
          "base_uri": "https://localhost:8080/",
          "height": 0
        },
        "id": "j38dVcZIEo_C",
        "outputId": "86e5c357-72db-45b7-8db3-eee4fd5fed29"
      },
      "execution_count": 78,
      "outputs": [
        {
          "output_type": "execute_result",
          "data": {
            "text/plain": [
              "11"
            ]
          },
          "metadata": {},
          "execution_count": 78
        }
      ]
    },
    {
      "cell_type": "code",
      "source": [
        "implies(0, 11) "
      ],
      "metadata": {
        "colab": {
          "base_uri": "https://localhost:8080/",
          "height": 0
        },
        "id": "BGP082V0Eq4A",
        "outputId": "d765ff4e-eebf-4259-8ea8-242adfc228d0"
      },
      "execution_count": 79,
      "outputs": [
        {
          "output_type": "execute_result",
          "data": {
            "text/plain": [
              "True"
            ]
          },
          "metadata": {},
          "execution_count": 79
        }
      ]
    },
    {
      "cell_type": "markdown",
      "source": [
        "2. Lý thuyết tập hợp với kiểu dữ liệu list trong Python "
      ],
      "metadata": {
        "id": "U5CdGPreExT7"
      }
    },
    {
      "cell_type": "code",
      "source": [
        "N = 3\n",
        "ketqua = []\n",
        "for i1 in range(0, N):\n",
        " for i2 in range(i1, N):\n",
        "  for i3 in range(i2, N):\n",
        "    ketqua = ketqua + [(i1, i2, i3)]"
      ],
      "metadata": {
        "id": "QmMU8Y5NEx1K"
      },
      "execution_count": 80,
      "outputs": []
    },
    {
      "cell_type": "code",
      "source": [
        "(0, 2, 2) in ketqua "
      ],
      "metadata": {
        "colab": {
          "base_uri": "https://localhost:8080/",
          "height": 0
        },
        "id": "bWBxOtP6E5i9",
        "outputId": "fb70cc86-9cd9-46e7-95e9-4d5930f455a8"
      },
      "execution_count": 81,
      "outputs": [
        {
          "output_type": "execute_result",
          "data": {
            "text/plain": [
              "True"
            ]
          },
          "metadata": {},
          "execution_count": 81
        }
      ]
    },
    {
      "cell_type": "code",
      "source": [
        "(0, 2, 1) in ketqua"
      ],
      "metadata": {
        "colab": {
          "base_uri": "https://localhost:8080/",
          "height": 0
        },
        "id": "QlLhKKjJE7hQ",
        "outputId": "2e7c4268-6101-4014-986c-14e394948282"
      },
      "execution_count": 82,
      "outputs": [
        {
          "output_type": "execute_result",
          "data": {
            "text/plain": [
              "False"
            ]
          },
          "metadata": {},
          "execution_count": 82
        }
      ]
    },
    {
      "cell_type": "markdown",
      "source": [
        "Phép giao (intersection) giữa 2 tập A và B:"
      ],
      "metadata": {
        "id": "zJZiLob1E9Uu"
      }
    },
    {
      "cell_type": "code",
      "source": [
        "A = [0, 1, 2, 3, 4, 5, 6, 7]\n",
        "B = [2, 4, 6, 8, 10]\n",
        "def intersection(A, B):\n",
        "  ketqua = []\n",
        "  for x in A:\n",
        "    if x in B:\n",
        "      ketqua = ketqua + [x]\n",
        "  return ketqua "
      ],
      "metadata": {
        "id": "-OJ4MlYFFBq6"
      },
      "execution_count": 83,
      "outputs": []
    },
    {
      "cell_type": "code",
      "source": [
        "intersection(A, B) "
      ],
      "metadata": {
        "colab": {
          "base_uri": "https://localhost:8080/",
          "height": 0
        },
        "id": "cTP5-clHFUO8",
        "outputId": "a9ee2e72-4147-4caf-9b22-a358c8b6fbc8"
      },
      "execution_count": 84,
      "outputs": [
        {
          "output_type": "execute_result",
          "data": {
            "text/plain": [
              "[2, 4, 6]"
            ]
          },
          "metadata": {},
          "execution_count": 84
        }
      ]
    },
    {
      "cell_type": "markdown",
      "source": [
        "Phép tìm tập hiệu (difference) giữa 2 tập A và B: "
      ],
      "metadata": {
        "id": "Ay0eTN2wFXUF"
      }
    },
    {
      "cell_type": "code",
      "source": [
        "def difference(A, B):\n",
        " ketqua = []\n",
        " for x in A:\n",
        "  if x not in B:\n",
        "    ketqua = ketqua + [x]\n",
        " return ketqua "
      ],
      "metadata": {
        "id": "zm5E-jmjFaDn"
      },
      "execution_count": 85,
      "outputs": []
    },
    {
      "cell_type": "code",
      "source": [
        "A = [0, 1, 2, 3, 4, 5, 6, 7]\n",
        "B = [2, 4, 6, 8, 10]\n",
        "difference(A, B) "
      ],
      "metadata": {
        "colab": {
          "base_uri": "https://localhost:8080/",
          "height": 0
        },
        "id": "nuQ5jg_yFgx-",
        "outputId": "506ef8a2-c6a5-4747-9858-6abf70203373"
      },
      "execution_count": 86,
      "outputs": [
        {
          "output_type": "execute_result",
          "data": {
            "text/plain": [
              "[0, 1, 3, 5, 7]"
            ]
          },
          "metadata": {},
          "execution_count": 86
        }
      ]
    },
    {
      "cell_type": "markdown",
      "source": [
        "Phép kiểm tra tập con (subset) giữa 2 tập A và B: "
      ],
      "metadata": {
        "id": "9zg-GjgoFsCd"
      }
    },
    {
      "cell_type": "code",
      "source": [
        "def isSubSet(A, B):\n",
        "  ketqua = True\n",
        "  for x in A:\n",
        "    if x not in B:\n",
        "      ketqua = False\n",
        "  return ketqua"
      ],
      "metadata": {
        "id": "hBdzyv2jFuTI"
      },
      "execution_count": 87,
      "outputs": []
    },
    {
      "cell_type": "code",
      "source": [
        "A = [0, 1, 2, 3, 4, 5, 6, 7]\n",
        "B = [2, 4, 6, 8, 10]\n",
        "isSubSet(A, B)"
      ],
      "metadata": {
        "colab": {
          "base_uri": "https://localhost:8080/",
          "height": 0
        },
        "id": "Kx9v-Ax3F72s",
        "outputId": "4a58b4d4-5119-4184-9380-dd90a0a402c8"
      },
      "execution_count": 88,
      "outputs": [
        {
          "output_type": "execute_result",
          "data": {
            "text/plain": [
              "False"
            ]
          },
          "metadata": {},
          "execution_count": 88
        }
      ]
    },
    {
      "cell_type": "code",
      "source": [
        "def equalSets(A, B):\n",
        " return isSubSet(A, B) and isSubSet(B, A)\n",
        "equalSets([1, 3, 5, 7], [7, 3, 1, 5]) "
      ],
      "metadata": {
        "colab": {
          "base_uri": "https://localhost:8080/",
          "height": 0
        },
        "id": "AsUettuNGJUr",
        "outputId": "baa2f516-efa4-494e-8bda-3e4df7c10788"
      },
      "execution_count": 89,
      "outputs": [
        {
          "output_type": "execute_result",
          "data": {
            "text/plain": [
              "True"
            ]
          },
          "metadata": {},
          "execution_count": 89
        }
      ]
    },
    {
      "cell_type": "markdown",
      "source": [
        "3. Bài toán ứng dụng 1: Xây dựng danh sách tour địa điểm du lịch tại TP.HCM\n"
      ],
      "metadata": {
        "id": "f9bw7AnyF_kg"
      }
    },
    {
      "cell_type": "markdown",
      "source": [
        "3.1. Xây dựng dữ liệu đầu vào "
      ],
      "metadata": {
        "id": "mzXY8rGXGSsw"
      }
    },
    {
      "cell_type": "code",
      "source": [
        "sodiem_DL = 9\n",
        "diadiem = ['Cần Giờ', 'Củ Chi', 'Chợ Bến Thành', 'Sở Thú', 'BV thẫm mỹ răng', 'Chí Hòa','Dinh Độc lập', 'Bào tàng', 'Trường Văn Lang']\n",
        "thoigian = [1.0, 1.0, 0.6, 0.4, 1.5, 0.3, 0.3, 0.3, 0.6]\n",
        "songay_dulich = 1.5"
      ],
      "metadata": {
        "id": "cnVqZZnXGNtB"
      },
      "execution_count": 90,
      "outputs": []
    },
    {
      "cell_type": "markdown",
      "source": [
        "3.2. Phương pháp “vét cạn” tìm tất cả các giải pháp"
      ],
      "metadata": {
        "id": "jHwaZ9yHGigz"
      }
    },
    {
      "cell_type": "code",
      "source": [
        "def liet_kechuoinhiphan(n):\n",
        "  danh_sach=[]\n",
        "  for i in range(0,2**n):\n",
        "    gia_tri = i\n",
        "    chuoi_np = bin(gia_tri).replace('0b','')\n",
        "    while (len(chuoi_np)<n):\n",
        "      chuoi_np = '0'+ chuoi_np \n",
        "    danh_sach.append(chuoi_np)\n",
        "  return danh_sach"
      ],
      "metadata": {
        "id": "JTu8QoDHGcmL"
      },
      "execution_count": 91,
      "outputs": []
    },
    {
      "cell_type": "code",
      "source": [
        "bin(10) "
      ],
      "metadata": {
        "colab": {
          "base_uri": "https://localhost:8080/",
          "height": 36
        },
        "id": "ikHk_2wHHj4L",
        "outputId": "ac70d0d7-4831-4c26-d13d-75b3e67e823a"
      },
      "execution_count": 92,
      "outputs": [
        {
          "output_type": "execute_result",
          "data": {
            "text/plain": [
              "'0b1010'"
            ],
            "application/vnd.google.colaboratory.intrinsic+json": {
              "type": "string"
            }
          },
          "metadata": {},
          "execution_count": 92
        }
      ]
    },
    {
      "cell_type": "code",
      "source": [
        "bin(10).replace('0b', '') "
      ],
      "metadata": {
        "colab": {
          "base_uri": "https://localhost:8080/",
          "height": 36
        },
        "id": "K0vHFqMjHqne",
        "outputId": "8b296b86-bbf9-4da5-e7b9-a451d9cfbaff"
      },
      "execution_count": 93,
      "outputs": [
        {
          "output_type": "execute_result",
          "data": {
            "text/plain": [
              "'1010'"
            ],
            "application/vnd.google.colaboratory.intrinsic+json": {
              "type": "string"
            }
          },
          "metadata": {},
          "execution_count": 93
        }
      ]
    },
    {
      "cell_type": "code",
      "source": [
        "n = 9\n",
        "chuoi_np = bin(10).replace('0b','')\n",
        "while (len(chuoi_np) < n):\n",
        " chuoi_np = '0' + chuoi_np\n",
        "chuoi_np "
      ],
      "metadata": {
        "colab": {
          "base_uri": "https://localhost:8080/",
          "height": 36
        },
        "id": "VxtTaOxjHsUk",
        "outputId": "c10e43ab-8d8e-4dad-d9a4-af9c011bf80a"
      },
      "execution_count": 94,
      "outputs": [
        {
          "output_type": "execute_result",
          "data": {
            "text/plain": [
              "'000001010'"
            ],
            "application/vnd.google.colaboratory.intrinsic+json": {
              "type": "string"
            }
          },
          "metadata": {},
          "execution_count": 94
        }
      ]
    },
    {
      "cell_type": "code",
      "source": [
        "def kiem_tra(chuoi_dang_chon, danhsach,gioihan):\n",
        "  tong_thoigian = 0 \n",
        "  for j in range (0,len(chuoi_dang_chon)):\n",
        "    if chuoi_dang_chon[j] == '1':\n",
        "      tong_thoigian = tong_thoigian + thoigian[j]\n",
        "  ketqua = True \n",
        "  if tong_thoigian>gioihan:\n",
        "    ketqua = False\n",
        "  return ketqua,tong_thoigian\n",
        "  "
      ],
      "metadata": {
        "id": "-PRD9VygHxdA"
      },
      "execution_count": 95,
      "outputs": []
    },
    {
      "cell_type": "code",
      "source": [
        "def tim_phuongan (thoigian,gioihan):\n",
        "  search = []\n",
        "  cac_phuongan = liet_kechuoinhiphan(len(thoigian))\n",
        "  for i in range(len(cac_phuongan)):\n",
        "    dc_kg, diem = kiem_tra(cac_phuongan[i],thoigian,gioihan)\n",
        "    if dc_kg == True:\n",
        "      print(cac_phuongan[i],dc_kg,diem)\n",
        "      search.append(cac_phuongan[i])\n",
        "  return search "
      ],
      "metadata": {
        "id": "kmZvAt3FJS1w"
      },
      "execution_count": 102,
      "outputs": []
    },
    {
      "cell_type": "code",
      "source": [
        "songay_dulich = 1.5 "
      ],
      "metadata": {
        "id": "xaW65Q_fKWtW"
      },
      "execution_count": 97,
      "outputs": []
    },
    {
      "cell_type": "code",
      "source": [
        "tim_phuongan(thoigian, songay_dulich) "
      ],
      "metadata": {
        "colab": {
          "base_uri": "https://localhost:8080/",
          "height": 0
        },
        "id": "_QA9IfEzKZdw",
        "outputId": "9efff4e4-e78f-4b84-c69f-24a36569da38"
      },
      "execution_count": 103,
      "outputs": [
        {
          "output_type": "stream",
          "name": "stdout",
          "text": [
            "000000000 True 0\n",
            "000000001 True 0.6\n",
            "000000010 True 0.3\n",
            "000000011 True 0.8999999999999999\n",
            "000000100 True 0.3\n",
            "000000101 True 0.8999999999999999\n",
            "000000110 True 0.6\n",
            "000000111 True 1.2\n",
            "000001000 True 0.3\n",
            "000001001 True 0.8999999999999999\n",
            "000001010 True 0.6\n",
            "000001011 True 1.2\n",
            "000001100 True 0.6\n",
            "000001101 True 1.2\n",
            "000001110 True 0.8999999999999999\n",
            "000001111 True 1.5\n",
            "000010000 True 1.5\n",
            "000100000 True 0.4\n",
            "000100001 True 1.0\n",
            "000100010 True 0.7\n",
            "000100011 True 1.2999999999999998\n",
            "000100100 True 0.7\n",
            "000100101 True 1.2999999999999998\n",
            "000100110 True 1.0\n",
            "000101000 True 0.7\n",
            "000101001 True 1.2999999999999998\n",
            "000101010 True 1.0\n",
            "000101100 True 1.0\n",
            "000101110 True 1.3\n",
            "001000000 True 0.6\n",
            "001000001 True 1.2\n",
            "001000010 True 0.8999999999999999\n",
            "001000011 True 1.5\n",
            "001000100 True 0.8999999999999999\n",
            "001000101 True 1.5\n",
            "001000110 True 1.2\n",
            "001001000 True 0.8999999999999999\n",
            "001001001 True 1.5\n",
            "001001010 True 1.2\n",
            "001001100 True 1.2\n",
            "001001110 True 1.5\n",
            "001100000 True 1.0\n",
            "001100010 True 1.3\n",
            "001100100 True 1.3\n",
            "001101000 True 1.3\n",
            "010000000 True 1.0\n",
            "010000010 True 1.3\n",
            "010000100 True 1.3\n",
            "010001000 True 1.3\n",
            "010100000 True 1.4\n",
            "100000000 True 1.0\n",
            "100000010 True 1.3\n",
            "100000100 True 1.3\n",
            "100001000 True 1.3\n",
            "100100000 True 1.4\n"
          ]
        },
        {
          "output_type": "execute_result",
          "data": {
            "text/plain": [
              "['000000000',\n",
              " '000000001',\n",
              " '000000010',\n",
              " '000000011',\n",
              " '000000100',\n",
              " '000000101',\n",
              " '000000110',\n",
              " '000000111',\n",
              " '000001000',\n",
              " '000001001',\n",
              " '000001010',\n",
              " '000001011',\n",
              " '000001100',\n",
              " '000001101',\n",
              " '000001110',\n",
              " '000001111',\n",
              " '000010000',\n",
              " '000100000',\n",
              " '000100001',\n",
              " '000100010',\n",
              " '000100011',\n",
              " '000100100',\n",
              " '000100101',\n",
              " '000100110',\n",
              " '000101000',\n",
              " '000101001',\n",
              " '000101010',\n",
              " '000101100',\n",
              " '000101110',\n",
              " '001000000',\n",
              " '001000001',\n",
              " '001000010',\n",
              " '001000011',\n",
              " '001000100',\n",
              " '001000101',\n",
              " '001000110',\n",
              " '001001000',\n",
              " '001001001',\n",
              " '001001010',\n",
              " '001001100',\n",
              " '001001110',\n",
              " '001100000',\n",
              " '001100010',\n",
              " '001100100',\n",
              " '001101000',\n",
              " '010000000',\n",
              " '010000010',\n",
              " '010000100',\n",
              " '010001000',\n",
              " '010100000',\n",
              " '100000000',\n",
              " '100000010',\n",
              " '100000100',\n",
              " '100001000',\n",
              " '100100000']"
            ]
          },
          "metadata": {},
          "execution_count": 103
        }
      ]
    }
  ]
}