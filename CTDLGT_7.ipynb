{
  "nbformat": 4,
  "nbformat_minor": 0,
  "metadata": {
    "colab": {
      "provenance": [],
      "authorship_tag": "ABX9TyMskIk8jnT+axVv+k/2UsX0",
      "include_colab_link": true
    },
    "kernelspec": {
      "name": "python3",
      "display_name": "Python 3"
    },
    "language_info": {
      "name": "python"
    }
  },
  "cells": [
    {
      "cell_type": "markdown",
      "metadata": {
        "id": "view-in-github",
        "colab_type": "text"
      },
      "source": [
        "<a href=\"https://colab.research.google.com/github/Nguyenhunggiabao/ThucHanhToanCC/blob/main/CTDLGT_7.ipynb\" target=\"_parent\"><img src=\"https://colab.research.google.com/assets/colab-badge.svg\" alt=\"Open In Colab\"/></a>"
      ]
    },
    {
      "cell_type": "markdown",
      "source": [
        "Nguyen Hung Gia Bao"
      ],
      "metadata": {
        "id": "ZJPanSYVuoD_"
      }
    },
    {
      "cell_type": "markdown",
      "source": [
        "thuc hanh 1 "
      ],
      "metadata": {
        "id": "AnayojBDu42R"
      }
    },
    {
      "cell_type": "code",
      "execution_count": 20,
      "metadata": {
        "colab": {
          "base_uri": "https://localhost:8080/"
        },
        "id": "FnGY0Uinugxv",
        "outputId": "e7a7d6a5-ffde-4f0c-a36d-be4d652e672a"
      },
      "outputs": [
        {
          "output_type": "stream",
          "name": "stdout",
          "text": [
            "8\n",
            "5\n"
          ]
        }
      ],
      "source": [
        "class treeNode:\n",
        "  def __init__(self,val = None):\n",
        "    self.val = val\n",
        "    self.left = None\n",
        "    self.right = None\n",
        "root = treeNode(10)# khởi tạo nút gốc bằng 10\n",
        "root.left = treeNode(7)# nút trái bằng 7\n",
        "root.right = treeNode(13)# nút phải bằng 13 \n",
        "root.left.left = treeNode(5) # thêm 5 vào \n",
        "root.left.right = treeNode(8)\n",
        "print(root.left.right.val) # -> 8\n",
        "print(root.left.left.val) # -> 5"
      ]
    },
    {
      "cell_type": "markdown",
      "source": [
        "thuc hanh 2 "
      ],
      "metadata": {
        "id": "8rmC_cDSvfql"
      }
    },
    {
      "cell_type": "code",
      "source": [
        "class BinaryTreeNode: \n",
        "    def __init__(self, data): \n",
        "        self.data = data\n",
        "        self.leftChild = None \n",
        "        self.rightChild = None\n",
        "\n",
        "def insert (root, newValue) : \n",
        "    if root is None: \n",
        "        root=BinaryTreeNode(newValue)\n",
        "        return root \n",
        "    if newValue<root.data: \n",
        "        root.leftChild =insert(root.leftChild,newValue)\n",
        "    else: \n",
        "        root.rightChild=insert(root.rightChild,newValue)\n",
        "    return root \n",
        "\n",
        "root = insert(None,15)\n",
        "insert(root,10)\n",
        "insert(root,25)\n",
        "insert(root,6)\n",
        "insert(root,14)\n",
        "insert(root,20)\n",
        "insert(root,60)\n",
        "a1=root \n",
        "a2=a1.leftChild \n",
        "a3=a1.leftChild \n",
        "a4=a2.leftChild\n",
        "a5=a2.rightChild \n",
        "a6=a3.leftChild\n",
        "a7=a3.rightChild \n",
        "\n",
        "print(\"Root Node is: \")\n",
        "print(a1.data)\n",
        "print(\"left child of node is: \")\n",
        "print(a1.leftChild.data)\n",
        "print(\"right child of node is: \")\n",
        "print(a1.rightChild.data)\n",
        "\n",
        "print(\"Node is: \")\n",
        "print(a2.data)\n",
        "print(\"left child of node is: \")\n",
        "print(a2.rightChild.data)\n",
        "\n",
        "print(\"Node is: \")\n",
        "print(a3.data)\n",
        "print(\"left child of node is:\")\n",
        "print(a3.leftChild.data)\n",
        "print(\"right child of node is: \")\n",
        "print(a3.rightChild.data)\n",
        "\n",
        "print(\"Node is:\")\n",
        "print(a4.data)\n",
        "print(\"left child of node is:\")\n",
        "print(a4.leftChild)\n",
        "print(\"right child of node is:\")\n",
        "print(a4.rightChild)\n",
        "\n",
        "print(\"Node is:\")\n",
        "print(a5.data)\n",
        "print(\"left child of node is:\")\n",
        "print(a5.leftChild)\n",
        "print(\"right child of node is: \")\n",
        "print(a5.rightChild)\n",
        "\n",
        "print(\"Node is:\")\n",
        "print(a6.data)\n",
        "print(\"left child of node is:\")\n",
        "print(a6.leftChild)\n",
        "print(\"right child of node is:\")\n",
        "print(a6.rightChild)\n",
        "\n",
        "print(\"Node is: \")\n",
        "print(a7.data)\n",
        "print(\"left child of node is:\")\n",
        "print(a7.leftChild)\n",
        "print(\"right child of node is: \")\n",
        "print(a7.rightChild)"
      ],
      "metadata": {
        "id": "J8_UjWloDbJi",
        "outputId": "73098d2f-6e08-40b8-f973-843a2a17fb06",
        "colab": {
          "base_uri": "https://localhost:8080/"
        }
      },
      "execution_count": 30,
      "outputs": [
        {
          "output_type": "stream",
          "name": "stdout",
          "text": [
            "Root Node is: \n",
            "15\n",
            "left child of node is: \n",
            "10\n",
            "right child of node is: \n",
            "25\n",
            "Node is: \n",
            "10\n",
            "left child of node is: \n",
            "14\n",
            "Node is: \n",
            "10\n",
            "left child of node is:\n",
            "6\n",
            "right child of node is: \n",
            "14\n",
            "Node is:\n",
            "6\n",
            "left child of node is:\n",
            "None\n",
            "right child of node is:\n",
            "None\n",
            "Node is:\n",
            "14\n",
            "left child of node is:\n",
            "None\n",
            "right child of node is: \n",
            "None\n",
            "Node is:\n",
            "6\n",
            "left child of node is:\n",
            "None\n",
            "right child of node is:\n",
            "None\n",
            "Node is: \n",
            "14\n",
            "left child of node is:\n",
            "None\n",
            "right child of node is: \n",
            "None\n"
          ]
        }
      ]
    }
  ]
}