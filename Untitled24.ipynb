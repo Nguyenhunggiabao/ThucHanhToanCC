{
  "nbformat": 4,
  "nbformat_minor": 0,
  "metadata": {
    "colab": {
      "provenance": [],
      "authorship_tag": "ABX9TyNjvHRA+Z0FLFi1WZ5aWm4E",
      "include_colab_link": true
    },
    "kernelspec": {
      "name": "python3",
      "display_name": "Python 3"
    },
    "language_info": {
      "name": "python"
    }
  },
  "cells": [
    {
      "cell_type": "markdown",
      "metadata": {
        "id": "view-in-github",
        "colab_type": "text"
      },
      "source": [
        "<a href=\"https://colab.research.google.com/github/Nguyenhunggiabao/ThucHanhToanCC/blob/main/Untitled24.ipynb\" target=\"_parent\"><img src=\"https://colab.research.google.com/assets/colab-badge.svg\" alt=\"Open In Colab\"/></a>"
      ]
    },
    {
      "cell_type": "code",
      "execution_count": 50,
      "metadata": {
        "colab": {
          "base_uri": "https://localhost:8080/",
          "height": 38
        },
        "id": "6ihzSARXg3y1",
        "outputId": "0895a7a3-32cc-4945-8856-a3590111f1df"
      },
      "outputs": [
        {
          "output_type": "execute_result",
          "data": {
            "text/plain": [
              "         ⎛ 2          2⎞\n",
              "(-y + x)⋅⎝y  + x⋅y + x ⎠"
            ],
            "image/png": "[encoded data removed]",
            "text/latex": "$\\displaystyle \\left(- y + x\\right) \\left(y^{2} + x y + x^{2}\\right)$"
          },
          "metadata": {},
          "execution_count": 50
        }
      ],
      "source": [
        "from sympy import factor, symbols\n",
        "x, y = symbols(\"x,y\")\n",
        "bieuthuc = (x**3) - (y**3) \n",
        "factor(bieuthuc)\n"
      ]
    },
    {
      "cell_type": "code",
      "source": [
        "from sympy import expand\n",
        "bieuthuc = (x-y)*(x**2 + x*y + y**2)\n",
        "expand(bieuthuc)"
      ],
      "metadata": {
        "colab": {
          "base_uri": "https://localhost:8080/",
          "height": 38
        },
        "id": "aT6GsNR0jxb-",
        "outputId": "5abfa2b6-62f6-438e-a76e-b8d734a1aa73"
      },
      "execution_count": 51,
      "outputs": [
        {
          "output_type": "execute_result",
          "data": {
            "text/plain": [
              "   3    3\n",
              "- y  + x "
            ],
            "image/png": "[encoded data removed]",
            "text/latex": "$\\displaystyle - y^{3} + x^{3}$"
          },
          "metadata": {},
          "execution_count": 51
        }
      ]
    },
    {
      "cell_type": "markdown",
      "source": [
        "bieu dien kp pprint"
      ],
      "metadata": {
        "id": "icHPsa3QkMS2"
      }
    },
    {
      "cell_type": "code",
      "source": [
        "from sympy import pprint\n",
        "bieuthuc = x*x - 2*x*y + y**2 \n",
        "pprint(bieuthuc)"
      ],
      "metadata": {
        "colab": {
          "base_uri": "https://localhost:8080/"
        },
        "id": "lS950YNBijHf",
        "outputId": "a39799da-07d5-4835-c044-9c8a9dc69206"
      },
      "execution_count": 52,
      "outputs": [
        {
          "output_type": "stream",
          "name": "stdout",
          "text": [
            " 2            2\n",
            "y  - 2⋅x⋅y + x \n"
          ]
        }
      ]
    },
    {
      "cell_type": "markdown",
      "source": [
        "in kp theo thu tu nghich"
      ],
      "metadata": {
        "id": "SPCfYWMxj2zc"
      }
    },
    {
      "cell_type": "code",
      "source": [
        "from sympy import init_printing\n",
        "init_printing(order='rev-lex')\n",
        "bieuthuc = x*x - 2*x*y + y**2 \n",
        "pprint(bieuthuc)\n",
        "bieuthuc1 = factor(bieuthuc)\n",
        "pprint(bieuthuc1)"
      ],
      "metadata": {
        "colab": {
          "base_uri": "https://localhost:8080/"
        },
        "id": "tR2_GLSGjGPV",
        "outputId": "030df29b-5339-4d85-b8e3-cbbc3a0a6309"
      },
      "execution_count": 53,
      "outputs": [
        {
          "output_type": "stream",
          "name": "stdout",
          "text": [
            " 2            2\n",
            "y  - 2⋅x⋅y + x \n",
            "        2\n",
            "(-y + x) \n"
          ]
        }
      ]
    },
    {
      "cell_type": "markdown",
      "source": [
        "bai 1 "
      ],
      "metadata": {
        "id": "9zyKm388kaXk"
      }
    },
    {
      "cell_type": "code",
      "source": [
        "A = ((x-1)/(x+3)-2/(x-3)+x**2/(9-x**2))/(2-(5/x+3))\n",
        "expand(A)\n"
      ],
      "metadata": {
        "colab": {
          "base_uri": "https://localhost:8080/",
          "height": 61
        },
        "id": "FsWUa93gkcBr",
        "outputId": "8d07a995-dff2-4f77-887a-155666262af7"
      },
      "execution_count": 54,
      "outputs": [
        {
          "output_type": "execute_result",
          "data": {
            "text/plain": [
              "                                                       2        \n",
              "       1             2             x                  x         \n",
              "- ──────────── - ────────── + ──────────── + ───────────────────\n",
              "    15           15             15             45              2\n",
              "  - ── - 8 - x   ── - 2 - x   - ── - 8 - x   - ── - 9 + 5⋅x + x \n",
              "    x            x              x              x                "
            ],
            "image/png": "[encoded data removed]",
            "text/latex": "$\\displaystyle - \\frac{1}{- \\frac{15}{x} - 8 - x} - \\frac{2}{\\frac{15}{x} - 2 - x} + \\frac{x}{- \\frac{15}{x} - 8 - x} + \\frac{x^{2}}{- \\frac{45}{x} - 9 + 5 x + x^{2}}$"
          },
          "metadata": {},
          "execution_count": 54
        }
      ]
    },
    {
      "cell_type": "code",
      "source": [
        "x = 5 \n",
        "A = ((x-1)/(x+3)-2/(x-3)+x**2/(9-x**2))/(2-(5/x+3))\n",
        "print(A)"
      ],
      "metadata": {
        "colab": {
          "base_uri": "https://localhost:8080/"
        },
        "id": "YvonIOzGnmv_",
        "outputId": "e72c4b7c-7c56-4059-d4e6-6ec0fd6970a3"
      },
      "execution_count": 55,
      "outputs": [
        {
          "output_type": "stream",
          "name": "stdout",
          "text": [
            "1.03125\n"
          ]
        }
      ]
    },
    {
      "cell_type": "markdown",
      "source": [
        "truong hop 1 "
      ],
      "metadata": {
        "id": "VnZ2AkF2t0r7"
      }
    },
    {
      "cell_type": "code",
      "source": [
        "bieuthuc = x*x - x*y + y*y\n",
        "giatri = bieuthuc.subs({x:3,y:x})\n",
        "giatri "
      ],
      "metadata": {
        "colab": {
          "base_uri": "https://localhost:8080/",
          "height": 37
        },
        "id": "ZFdHy4Fzt2pJ",
        "outputId": "eaf7659f-3306-4894-ee8e-18b0247c74c1"
      },
      "execution_count": 56,
      "outputs": [
        {
          "output_type": "execute_result",
          "data": {
            "text/plain": [
              "35"
            ],
            "image/png": "[encoded data removed]",
            "text/latex": "$\\displaystyle 35$"
          },
          "metadata": {},
          "execution_count": 56
        }
      ]
    },
    {
      "cell_type": "markdown",
      "source": [
        "truong hop 2 "
      ],
      "metadata": {
        "id": "57dyBJdyuXZC"
      }
    },
    {
      "cell_type": "code",
      "source": [
        "bieuthuc = x*x - x*y + y*y\n",
        "giatri = bieuthuc.subs({y:x,y:3})\n",
        "giatri "
      ],
      "metadata": {
        "colab": {
          "base_uri": "https://localhost:8080/",
          "height": 37
        },
        "id": "Nm2ZAzMEuXIo",
        "outputId": "9a115eb7-090a-48b1-d346-c08c564c4670"
      },
      "execution_count": 57,
      "outputs": [
        {
          "output_type": "execute_result",
          "data": {
            "text/plain": [
              "19"
            ],
            "image/png": "[encoded data removed]",
            "text/latex": "$\\displaystyle 19$"
          },
          "metadata": {},
          "execution_count": 57
        }
      ]
    },
    {
      "cell_type": "markdown",
      "source": [
        "truong hop 3 "
      ],
      "metadata": {
        "id": "zQAGcNw8vChB"
      }
    },
    {
      "cell_type": "code",
      "source": [
        "bieuthuc = x*x - x*y + y*y\n",
        "giatri = bieuthuc.subs({x:y}).subs({x:3})\n",
        "giatri"
      ],
      "metadata": {
        "colab": {
          "base_uri": "https://localhost:8080/",
          "height": 37
        },
        "id": "lzV2kA2LvCGp",
        "outputId": "4b42b7a7-ad26-4b07-df1d-342ae77290b2"
      },
      "execution_count": 58,
      "outputs": [
        {
          "output_type": "execute_result",
          "data": {
            "text/plain": [
              "25"
            ],
            "image/png": "[encoded data removed]",
            "text/latex": "$\\displaystyle 25$"
          },
          "metadata": {},
          "execution_count": 58
        }
      ]
    },
    {
      "cell_type": "markdown",
      "source": [
        "truong hop 4 "
      ],
      "metadata": {
        "id": "Cgzo-Av6vYgf"
      }
    },
    {
      "cell_type": "code",
      "source": [
        "bieuthucmoi = bieuthuc.subs({x:1-y})\n",
        "bieuthucmoi "
      ],
      "metadata": {
        "colab": {
          "base_uri": "https://localhost:8080/",
          "height": 38
        },
        "id": "sqXZQFVUvajn",
        "outputId": "a1a578ee-b934-4fe6-dd46-8e9e9fe734ea"
      },
      "execution_count": 59,
      "outputs": [
        {
          "output_type": "execute_result",
          "data": {
            "text/plain": [
              "                   2\n",
              "25 + y⋅(-1 + y) + y "
            ],
            "image/png": "[encoded data removed]",
            "text/latex": "$\\displaystyle 25 + y \\left(-1 + y\\right) + y^{2}$"
          },
          "metadata": {},
          "execution_count": 59
        }
      ]
    },
    {
      "cell_type": "markdown",
      "source": [
        "lam gon bang simplify() "
      ],
      "metadata": {
        "id": "Udskt6j7vtPi"
      }
    },
    {
      "cell_type": "code",
      "source": [
        "from sympy import simplify\n",
        "dongian = simplify(bieuthucmoi)\n",
        "dongian"
      ],
      "metadata": {
        "colab": {
          "base_uri": "https://localhost:8080/",
          "height": 38
        },
        "id": "Sbu_jBPGvsiX",
        "outputId": "8f0404c3-7d62-4694-b793-72b2e301560a"
      },
      "execution_count": 60,
      "outputs": [
        {
          "output_type": "execute_result",
          "data": {
            "text/plain": [
              "            2\n",
              "25 - y + 2⋅y "
            ],
            "image/png": "[encoded data removed]",
            "text/latex": "$\\displaystyle 25 - y + 2 y^{2}$"
          },
          "metadata": {},
          "execution_count": 60
        }
      ]
    },
    {
      "cell_type": "markdown",
      "source": [
        "bai 2 "
      ],
      "metadata": {
        "id": "7qr1LqNrx2xD"
      }
    },
    {
      "cell_type": "code",
      "source": [
        "from sympy import sin, cos \n",
        "B = sin(x)*cos(y)+ cos(x)*sin(y)\n",
        "rutgon = simplify(B)\n",
        "rutgon "
      ],
      "metadata": {
        "colab": {
          "base_uri": "https://localhost:8080/",
          "height": 38
        },
        "id": "iSNJKkeIx42L",
        "outputId": "e7e8e510-d143-4f64-942a-04d244461eaf"
      },
      "execution_count": 62,
      "outputs": [
        {
          "output_type": "execute_result",
          "data": {
            "text/plain": [
              "sin(5 + y)"
            ],
            "image/png": "[encoded data removed]",
            "text/latex": "$\\displaystyle \\sin{\\left(5 + y \\right)}$"
          },
          "metadata": {},
          "execution_count": 62
        }
      ]
    }
  ]
}