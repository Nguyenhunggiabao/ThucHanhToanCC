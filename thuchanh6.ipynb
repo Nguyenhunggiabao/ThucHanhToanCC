{
  "nbformat": 4,
  "nbformat_minor": 0,
  "metadata": {
    "colab": {
      "name": "Untitled4.ipynb",
      "provenance": [],
      "authorship_tag": "ABX9TyPOMmGr9cmD4O2fHmxQxi39",
      "include_colab_link": true
    },
    "kernelspec": {
      "name": "python3",
      "display_name": "Python 3"
    },
    "language_info": {
      "name": "python"
    }
  },
  "cells": [
    {
      "cell_type": "markdown",
      "metadata": {
        "id": "view-in-github",
        "colab_type": "text"
      },
      "source": [
        "<a href=\"https://colab.research.google.com/github/Nguyenhunggiabao/ThucHanhToanCC/blob/main/thuchanh6.ipynb\" target=\"_parent\"><img src=\"https://colab.research.google.com/assets/colab-badge.svg\" alt=\"Open In Colab\"/></a>"
      ]
    },
    {
      "cell_type": "markdown",
      "source": [
        "thưc hành 11"
      ],
      "metadata": {
        "id": "2W7wTEy4PJ8v"
      }
    },
    {
      "cell_type": "code",
      "execution_count": 26,
      "metadata": {
        "id": "P5v8_2hOPEox"
      },
      "outputs": [],
      "source": [
        "import math\n",
        "def giaithua(n):\n",
        "  if (n==0):\n",
        "    return 1\n",
        "  else:\n",
        "    return n*giaithua(n-1)"
      ]
    },
    {
      "cell_type": "code",
      "source": [
        "giaithua(33)"
      ],
      "metadata": {
        "colab": {
          "base_uri": "https://localhost:8080/"
        },
        "id": "Wp3zIb4BPscC",
        "outputId": "38fca4c1-2796-44e6-f0d3-e4bf14d0ea14"
      },
      "execution_count": 27,
      "outputs": [
        {
          "output_type": "execute_result",
          "data": {
            "text/plain": [
              "8683317618811886495518194401280000000"
            ]
          },
          "metadata": {},
          "execution_count": 27
        }
      ]
    },
    {
      "cell_type": "code",
      "source": [
        "giaithua(44)"
      ],
      "metadata": {
        "colab": {
          "base_uri": "https://localhost:8080/"
        },
        "id": "5kzxr5mRP1BJ",
        "outputId": "f0e4e520-e1a9-46df-e881-8538da47bfac"
      },
      "execution_count": 28,
      "outputs": [
        {
          "output_type": "execute_result",
          "data": {
            "text/plain": [
              "2658271574788448768043625811014615890319638528000000000"
            ]
          },
          "metadata": {},
          "execution_count": 28
        }
      ]
    },
    {
      "cell_type": "markdown",
      "source": [
        "thực hành 2 "
      ],
      "metadata": {
        "id": "KbdJksirPIB0"
      }
    },
    {
      "cell_type": "code",
      "source": [
        "def fibo(n):\n",
        "  if n == 0:\n",
        "    return 0\n",
        "  if n == 1:\n",
        "    return 1\n",
        "  return fibo(n-1)+ fibo(n-2)"
      ],
      "metadata": {
        "id": "YkqcQY_tP5Uj"
      },
      "execution_count": 29,
      "outputs": []
    },
    {
      "cell_type": "code",
      "source": [
        "fibo(4)"
      ],
      "metadata": {
        "colab": {
          "base_uri": "https://localhost:8080/"
        },
        "id": "2buOlrTQQWiH",
        "outputId": "399c7390-98b0-4928-dc8c-17350b7dc93f"
      },
      "execution_count": 30,
      "outputs": [
        {
          "output_type": "execute_result",
          "data": {
            "text/plain": [
              "3"
            ]
          },
          "metadata": {},
          "execution_count": 30
        }
      ]
    },
    {
      "cell_type": "code",
      "source": [
        "fibo(5)"
      ],
      "metadata": {
        "colab": {
          "base_uri": "https://localhost:8080/"
        },
        "id": "NkTwS_mCQiK9",
        "outputId": "b2f2482a-62ed-41b8-f31b-3f9ab2471744"
      },
      "execution_count": 31,
      "outputs": [
        {
          "output_type": "execute_result",
          "data": {
            "text/plain": [
              "5"
            ]
          },
          "metadata": {},
          "execution_count": 31
        }
      ]
    },
    {
      "cell_type": "code",
      "source": [
        "fibo(6)"
      ],
      "metadata": {
        "colab": {
          "base_uri": "https://localhost:8080/"
        },
        "id": "4xGtN4BSQmhE",
        "outputId": "2a39f385-6cac-4e3b-d45f-dae2485a47ea"
      },
      "execution_count": 32,
      "outputs": [
        {
          "output_type": "execute_result",
          "data": {
            "text/plain": [
              "8"
            ]
          },
          "metadata": {},
          "execution_count": 32
        }
      ]
    },
    {
      "cell_type": "markdown",
      "source": [
        "thực hành 3"
      ],
      "metadata": {
        "id": "vLHOW6o1Qs_Z"
      }
    },
    {
      "cell_type": "code",
      "source": [
        "def an_exp_an(n):\n",
        "  if n==1:\n",
        "    return 1.0/2\n",
        "  else:\n",
        "    return an_exp_an(n-1)**an_exp_an(n-1)"
      ],
      "metadata": {
        "id": "tU-mM9OhQvA8"
      },
      "execution_count": 33,
      "outputs": []
    },
    {
      "cell_type": "code",
      "source": [
        "an_exp_an(1)"
      ],
      "metadata": {
        "colab": {
          "base_uri": "https://localhost:8080/"
        },
        "id": "svquKozIRKYk",
        "outputId": "966ce0bd-8ab1-4193-e4e5-b85bb42b3806"
      },
      "execution_count": 34,
      "outputs": [
        {
          "output_type": "execute_result",
          "data": {
            "text/plain": [
              "0.5"
            ]
          },
          "metadata": {},
          "execution_count": 34
        }
      ]
    },
    {
      "cell_type": "code",
      "source": [
        "an_exp_an(2)"
      ],
      "metadata": {
        "colab": {
          "base_uri": "https://localhost:8080/"
        },
        "id": "ZqGWYzHIRbTw",
        "outputId": "cf0f1368-021f-4549-ed8d-e15a4ff5f06e"
      },
      "execution_count": 35,
      "outputs": [
        {
          "output_type": "execute_result",
          "data": {
            "text/plain": [
              "0.7071067811865476"
            ]
          },
          "metadata": {},
          "execution_count": 35
        }
      ]
    },
    {
      "cell_type": "code",
      "source": [
        "an_exp_an(3)"
      ],
      "metadata": {
        "colab": {
          "base_uri": "https://localhost:8080/"
        },
        "id": "soGG5fX9RcXi",
        "outputId": "021f4f0e-8e9a-4c22-9a0d-470ffd9ec92a"
      },
      "execution_count": 36,
      "outputs": [
        {
          "output_type": "execute_result",
          "data": {
            "text/plain": [
              "0.7826540273556803"
            ]
          },
          "metadata": {},
          "execution_count": 36
        }
      ]
    },
    {
      "cell_type": "code",
      "source": [
        "an_exp_an(4)"
      ],
      "metadata": {
        "colab": {
          "base_uri": "https://localhost:8080/"
        },
        "id": "OHSSmhTXRhV3",
        "outputId": "3abe8108-499d-4e1e-9034-9f9a2b966f13"
      },
      "execution_count": 37,
      "outputs": [
        {
          "output_type": "execute_result",
          "data": {
            "text/plain": [
              "0.8254713306050621"
            ]
          },
          "metadata": {},
          "execution_count": 37
        }
      ]
    },
    {
      "cell_type": "code",
      "source": [
        "an_exp_an(5)"
      ],
      "metadata": {
        "colab": {
          "base_uri": "https://localhost:8080/"
        },
        "id": "p3laURPoRjJw",
        "outputId": "d7685edc-f6ec-4292-986a-3341c34b0be9"
      },
      "execution_count": 38,
      "outputs": [
        {
          "output_type": "execute_result",
          "data": {
            "text/plain": [
              "0.8535714578150946"
            ]
          },
          "metadata": {},
          "execution_count": 38
        }
      ]
    },
    {
      "cell_type": "code",
      "source": [
        "an_exp_an(10)"
      ],
      "metadata": {
        "colab": {
          "base_uri": "https://localhost:8080/"
        },
        "id": "WB-2bl32Rkzx",
        "outputId": "f6bff7d5-5fd2-4a60-f52c-18d19b79bc24"
      },
      "execution_count": 39,
      "outputs": [
        {
          "output_type": "execute_result",
          "data": {
            "text/plain": [
              "0.9176411981636667"
            ]
          },
          "metadata": {},
          "execution_count": 39
        }
      ]
    },
    {
      "cell_type": "markdown",
      "source": [
        "thực hành 4 "
      ],
      "metadata": {
        "id": "R2zh-5ylRuki"
      }
    },
    {
      "cell_type": "code",
      "source": [
        "def bai4(n):\n",
        "  if n == 1:\n",
        "    return 4\n",
        "  else:\n",
        "    return 5.0/(6-bai4(n-1))"
      ],
      "metadata": {
        "id": "MIVh83N1RwAB"
      },
      "execution_count": 40,
      "outputs": []
    },
    {
      "cell_type": "code",
      "source": [
        "bai4(5)"
      ],
      "metadata": {
        "colab": {
          "base_uri": "https://localhost:8080/"
        },
        "id": "borprJh0R_iO",
        "outputId": "8d84dc68-a854-487d-8ce0-d3fe86548a8a"
      },
      "execution_count": 41,
      "outputs": [
        {
          "output_type": "execute_result",
          "data": {
            "text/plain": [
              "1.019108280254777"
            ]
          },
          "metadata": {},
          "execution_count": 41
        }
      ]
    },
    {
      "cell_type": "code",
      "source": [
        "bai4(6) "
      ],
      "metadata": {
        "colab": {
          "base_uri": "https://localhost:8080/"
        },
        "id": "ScYEsh_GSDIb",
        "outputId": "42952d71-2500-4484-df07-444ffe50bef2"
      },
      "execution_count": 42,
      "outputs": [
        {
          "output_type": "execute_result",
          "data": {
            "text/plain": [
              "1.0038363171355498"
            ]
          },
          "metadata": {},
          "execution_count": 42
        }
      ]
    },
    {
      "cell_type": "code",
      "source": [
        "bai4(7)"
      ],
      "metadata": {
        "colab": {
          "base_uri": "https://localhost:8080/"
        },
        "id": "Z5kBAPW4SIRY",
        "outputId": "e0628bed-0c6c-4f01-cc4c-9b3953b22a59"
      },
      "execution_count": 43,
      "outputs": [
        {
          "output_type": "execute_result",
          "data": {
            "text/plain": [
              "1.000767852572306"
            ]
          },
          "metadata": {},
          "execution_count": 43
        }
      ]
    },
    {
      "cell_type": "code",
      "source": [
        "bai4(10)"
      ],
      "metadata": {
        "colab": {
          "base_uri": "https://localhost:8080/"
        },
        "id": "fCSUyyxySLFE",
        "outputId": "177bb6ee-531f-4e51-f19a-32fcd4930d31"
      },
      "execution_count": 44,
      "outputs": [
        {
          "output_type": "execute_result",
          "data": {
            "text/plain": [
              "1.0000061439905628"
            ]
          },
          "metadata": {},
          "execution_count": 44
        }
      ]
    },
    {
      "cell_type": "code",
      "source": [
        "bai4(100)"
      ],
      "metadata": {
        "colab": {
          "base_uri": "https://localhost:8080/"
        },
        "id": "87_XbNVJSOLL",
        "outputId": "2374d975-9ec1-47b7-f141-c64f96fb9aea"
      },
      "execution_count": 45,
      "outputs": [
        {
          "output_type": "execute_result",
          "data": {
            "text/plain": [
              "1.0"
            ]
          },
          "metadata": {},
          "execution_count": 45
        }
      ]
    },
    {
      "cell_type": "markdown",
      "source": [
        "thực hành 5 "
      ],
      "metadata": {
        "id": "Z-ZZkAa_SVQB"
      }
    },
    {
      "cell_type": "code",
      "source": [
        "def tisoFibo(n): \n",
        "  if n==1: \n",
        "    return 1 \n",
        "  else: \n",
        "    return 1.0 + 1.0/tisoFibo(n-1) \n",
        "  "
      ],
      "metadata": {
        "id": "LoeUqwsbSbDc"
      },
      "execution_count": 46,
      "outputs": []
    },
    {
      "cell_type": "code",
      "source": [
        "for i in range(1, 11): \n",
        "  print (i, tisoFibo(i)) "
      ],
      "metadata": {
        "colab": {
          "base_uri": "https://localhost:8080/"
        },
        "id": "3uBG4DDoSrwa",
        "outputId": "a51b9f04-80b2-466f-8669-b9bb845f945f"
      },
      "execution_count": 47,
      "outputs": [
        {
          "output_type": "stream",
          "name": "stdout",
          "text": [
            "1 1\n",
            "2 2.0\n",
            "3 1.5\n",
            "4 1.6666666666666665\n",
            "5 1.6\n",
            "6 1.625\n",
            "7 1.6153846153846154\n",
            "8 1.619047619047619\n",
            "9 1.6176470588235294\n",
            "10 1.6181818181818182\n"
          ]
        }
      ]
    },
    {
      "cell_type": "markdown",
      "source": [
        "Chương trình tổng quát về Gradient Ascent"
      ],
      "metadata": {
        "id": "vD-OAVdv3WLU"
      }
    },
    {
      "cell_type": "code",
      "source": [
        "from sympy import Derivative, Symbol, sympify \n",
        "def grad_ascent(x0, ham_f1x, x):\n",
        "  epsilon = 1e-6\n",
        "  step_size = 1e-4\n",
        "  x_old = x0\n",
        "  x_new = x_old + step_size*ham_f1x.subs({x:x_old}).evalf()\n",
        "  while abs(x_old - x_new) > epsilon:\n",
        "    x_old = x_new\n",
        "    x_new = x_old + step_size*ham_f1x.subs({x:x_old}).evalf()\n",
        "  return x_new"
      ],
      "metadata": {
        "id": "MP_mV3LU3YTM"
      },
      "execution_count": 48,
      "outputs": []
    },
    {
      "cell_type": "code",
      "source": [
        "88if __name__ == '__main__':\n",
        "  f = input('Nhap ham 1 bien (f): ')\n",
        "  var = input('Nhap ten bien tuong ung (x): ')\n",
        "  var0 = float(input('Nhap gia tri khoi dau cho bien x: '))\n",
        "\n",
        "  try:\n",
        "    f = sympify(f) # kiem tra ham\n",
        "  except SympifyError:\n",
        "    print('Ham nhap khong hop le!')\n",
        "  else:\n",
        "    var = Symbol(var)\n",
        "    d = Derivative(f, var).doit()\n",
        "    var_max = grad_ascent(var0, d, var)\n",
        "    print('{0}: {1}'.format(var.name, var_max))\n",
        "    print('Maximum value: {0}'.format(f.subs({var:var_max})))"
      ],
      "metadata": {
        "id": "VrCvTioa3Z_G",
        "outputId": "e0e7e51e-8c36-48c6-c690-05cba497084e",
        "colab": {
          "base_uri": "https://localhost:8080/"
        }
      },
      "execution_count": 49,
      "outputs": [
        {
          "output_type": "stream",
          "name": "stdout",
          "text": [
            "Nhap ham 1 bien (f): 5\n",
            "Nhap ten bien tuong ung (x): 9\n",
            "Nhap gia tri khoi dau cho bien x: 6\n",
            "9: 6.00000000000000\n",
            "Maximum value: 5\n"
          ]
        }
      ]
    },
    {
      "cell_type": "markdown",
      "source": [
        "thử nghiệm 1 "
      ],
      "metadata": {
        "id": "UQZURwxO3dfs"
      }
    },
    {
      "cell_type": "code",
      "source": [
        "if __name__ == '__main__':\n",
        "  f = input('Nhap ham 1 bien (f): ')\n",
        "  var = input('Nhap ten bien tuong ung (x): ')\n",
        "  var0 = float(input('Nhap gia tri khoi dau cho bien x: '))\n",
        "\n",
        "  try:\n",
        "    f = sympify(f) # kiem tra ham\n",
        "  except SympifyError:\n",
        "    print('Ham nhap khong hop le!')\n",
        "  else:\n",
        "    var = Symbol(var)\n",
        "    d = Derivative(f, var).doit()\n",
        "    var_max = grad_ascent(var0, d, var)\n",
        "    print('{0}: {1}'.format(var.name, var_max))\n",
        "    print('Maximum value: {0}'.format(f.subs({var:var_max})))"
      ],
      "metadata": {
        "id": "wjEWDuQf3fEZ",
        "outputId": "63f0ae2d-f394-4f15-8763-3616f8725b2f",
        "colab": {
          "base_uri": "https://localhost:8080/"
        }
      },
      "execution_count": 50,
      "outputs": [
        {
          "output_type": "stream",
          "name": "stdout",
          "text": [
            "Nhap ham 1 bien (f): 45\n",
            "Nhap ten bien tuong ung (x): 54\n",
            "Nhap gia tri khoi dau cho bien x: 5\n",
            "54: 5.00000000000000\n",
            "Maximum value: 45\n"
          ]
        }
      ]
    },
    {
      "cell_type": "markdown",
      "source": [
        "thử nghiệm 2 "
      ],
      "metadata": {
        "id": "vFTT1DuO3gzh"
      }
    },
    {
      "cell_type": "code",
      "source": [
        "if __name__ == '__main__':\n",
        "  f = input('Nhap ham 1 bien (f): ')\n",
        "  var = input('Nhap ten bien tuong ung (x): ')\n",
        "  var0 = float(input('Nhap gia tri khoi dau cho bien x: '))\n",
        "\n",
        "  try:\n",
        "    f = sympify(f) # kiem tra ham\n",
        "  except SympifyError:\n",
        "    print('Ham nhap khong hop le!')\n",
        "  else:\n",
        "    var = Symbol(var)\n",
        "    d = Derivative(f, var).doit()\n",
        "    var_max = grad_ascent(var0, d, var)\n",
        "    print('{0}: {1}'.format(var.name, var_max))\n",
        "    print('Maximum value: {0}'.format(f.subs({var:var_max})))"
      ],
      "metadata": {
        "id": "i5YpJ-1W3jnF",
        "outputId": "86a5a20b-5814-498d-9e13-d514437be882",
        "colab": {
          "base_uri": "https://localhost:8080/"
        }
      },
      "execution_count": 51,
      "outputs": [
        {
          "output_type": "stream",
          "name": "stdout",
          "text": [
            "Nhap ham 1 bien (f): 66\n",
            "Nhap ten bien tuong ung (x): 55\n",
            "Nhap gia tri khoi dau cho bien x: 44\n",
            "55: 44.0000000000000\n",
            "Maximum value: 66\n"
          ]
        }
      ]
    },
    {
      "cell_type": "markdown",
      "source": [
        "các lưu ý "
      ],
      "metadata": {
        "id": "1Rl6yZ9e3m-_"
      }
    },
    {
      "cell_type": "code",
      "source": [
        "if __name__ == '__main__':\n",
        "  f = input('Nhap ham 1 bien (f): ')\n",
        "  var = input('Nhap ten bien tuong ung (x): ')\n",
        "  var0 = float(input('Nhap gia tri khoi dau cho bien x: '))\n",
        "\n",
        "  try:\n",
        "    f = sympify(f) # kiem tra ham\n",
        "  except SympifyError:\n",
        "    print('Ham nhap khong hop le!')\n",
        "  else:\n",
        "    var = Symbol(var)\n",
        "    d = Derivative(f, var).doit()\n",
        "    var_max = grad_ascent(var0, d, var)\n",
        "    print('{0}: {1}'.format(var.name, var_max))\n",
        "    print('Maximum value: {0}'.format(f.subs({var:var_max})))"
      ],
      "metadata": {
        "id": "eqE1cZxI3o4-",
        "outputId": "b53f57d0-6bd7-46ec-f9f6-f9aedbb55447",
        "colab": {
          "base_uri": "https://localhost:8080/"
        }
      },
      "execution_count": 52,
      "outputs": [
        {
          "output_type": "stream",
          "name": "stdout",
          "text": [
            "Nhap ham 1 bien (f): 5\n",
            "Nhap ten bien tuong ung (x): 8\n",
            "Nhap gia tri khoi dau cho bien x: 88\n",
            "8: 88.0000000000000\n",
            "Maximum value: 5\n"
          ]
        }
      ]
    },
    {
      "cell_type": "code",
      "source": [
        "if __name__ == '__main__':\n",
        "  f = input('Nhap ham 1 bien (f): ')\n",
        "  var = input('Nhap ten bien tuong ung (x): ')\n",
        "  var0 = float(input('Nhap gia tri khoi dau cho bien x: '))\n",
        "\n",
        "  try:\n",
        "    f = sympify(f) # kiem tra ham\n",
        "  except SympifyError:\n",
        "    print('Ham nhap khong hop le!')\n",
        "  else:\n",
        "    var = Symbol(var)\n",
        "    d = Derivative(f, var).doit()\n",
        "    var_max = grad_ascent(var0, d, var)\n",
        "    print('{0}: {1}'.format(var.name, var_max))\n",
        "    print('Maximum value: {0}'.format(f.subs({var:var_max})))\n"
      ],
      "metadata": {
        "id": "H60FvFv13q7y",
        "outputId": "369a6dbc-39cb-4520-a9ae-fca7d010d64a",
        "colab": {
          "base_uri": "https://localhost:8080/"
        }
      },
      "execution_count": 53,
      "outputs": [
        {
          "output_type": "stream",
          "name": "stdout",
          "text": [
            "Nhap ham 1 bien (f): 5\n",
            "Nhap ten bien tuong ung (x): 6\n",
            "Nhap gia tri khoi dau cho bien x: 5\n",
            "6: 5.00000000000000\n",
            "Maximum value: 5\n"
          ]
        }
      ]
    },
    {
      "cell_type": "markdown",
      "source": [
        "vai trò của bước nhảy (step_size) và Epsilon"
      ],
      "metadata": {
        "id": "p4l4vjY53unE"
      }
    },
    {
      "cell_type": "code",
      "source": [
        "from sympy import Derivative, Symbol, sympify\n",
        "def grad_ascent(x0, ham_f1x, x):\n",
        "  from sympy import solve, E\n",
        "  if not solve(ham_f1x):\n",
        "    print('Khong the tiep tuc, phuong trinh {0}=0 vo nghiem'.format(ham_f1x))\n",
        "    return\n",
        "\n",
        "  epsilon = 1e-6\n",
        "  step_size = 1e-4\n",
        "  x_old = x0\n",
        "  x_new = x_old + step_size*ham_f1x.subs({x:x_old}).evalf()\n",
        "  while abs(x_old - x_new) > epsilon:\n",
        "    x_old = x_new\n",
        "    x_new = x_old + step_size*ham_f1x.subs({x:x_old}).evalf()\n",
        "\n",
        "  return x_new"
      ],
      "metadata": {
        "id": "RCkuEJn23sf4"
      },
      "execution_count": 54,
      "outputs": []
    },
    {
      "cell_type": "code",
      "source": [
        "if __name__ == '__main__':\n",
        "  f = input('Nhap ham 1 bien(f): ')\n",
        "  var = input('Nhap ten bien tuong ung(x): ')\n",
        "  var0 = float(input('Nhap gia tri khoi dau cho bien x: '))\n",
        "\n",
        "  try:\n",
        "    f = sympify(f)\n",
        "  except SxympifyError:\n",
        "    print('Ham nhap khong hop le!')\n",
        "  else:\n",
        "    var = Symbol(var)\n",
        "    d = Derivative(f, var).doit()\n",
        "    var_max = grad_ascent(var0, d, var)\n",
        "    # thêm lệnh if (nằm trong khối lệnh else) để kiểm tra giá trị var_max trước khi kết luận:\n",
        "    if var_max:\n",
        "      print('{0}: {1}'.format(var_name, var_max))\n",
        "      print('Maximum value: {0}'.format(f.subs({var:var_max})))\n"
      ],
      "metadata": {
        "id": "nD9eSRWE308H",
        "outputId": "4bf5e58c-95bc-49b0-f305-7b8d94398aee",
        "colab": {
          "base_uri": "https://localhost:8080/"
        }
      },
      "execution_count": 55,
      "outputs": [
        {
          "output_type": "stream",
          "name": "stdout",
          "text": [
            "Nhap ham 1 bien(f): 5\n",
            "Nhap ten bien tuong ung(x): 7\n",
            "Nhap gia tri khoi dau cho bien x: 9\n",
            "Khong the tiep tuc, phuong trinh 0=0 vo nghiem\n"
          ]
        }
      ]
    },
    {
      "cell_type": "code",
      "source": [
        "if __name__ == '__main__':\n",
        "  f = input('Nhap ham 1 bien(f): ')\n",
        "  var = input('Nhap ten bien tuong ung(x): ')\n",
        "  var0 = float(input('Nhap gia tri khoi dau cho bien x: '))\n",
        "\n",
        "  try:\n",
        "    f = sympify(f)\n",
        "  except SxympifyError:\n",
        "    print('Ham nhap khong hop le!')\n",
        "  else:\n",
        "    var = Symbol(var)\n",
        "    d = Derivative(f, var).doit()\n",
        "    var_max = grad_ascent(var0, d, var)\n",
        "    # thêm lệnh if (nằm trong khối lệnh else) để kiểm tra giá trị var_max trước khi kết luận:\n",
        "    if var_max:\n",
        "      print('{0}: {1}'.format(var_name, var_max))\n",
        "      print('Maximum value: {0}'.format(f.subs({var:var_max})))"
      ],
      "metadata": {
        "id": "YVSUVQGi33EF",
        "outputId": "cba146a4-ab6e-4dd9-f262-96cbf6990950",
        "colab": {
          "base_uri": "https://localhost:8080/"
        }
      },
      "execution_count": 56,
      "outputs": [
        {
          "output_type": "stream",
          "name": "stdout",
          "text": [
            "Nhap ham 1 bien(f): 5\n",
            "Nhap ten bien tuong ung(x): 8\n",
            "Nhap gia tri khoi dau cho bien x: 8\n",
            "Khong the tiep tuc, phuong trinh 0=0 vo nghiem\n"
          ]
        }
      ]
    }
  ]
}