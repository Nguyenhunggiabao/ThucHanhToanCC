{
  "nbformat": 4,
  "nbformat_minor": 0,
  "metadata": {
    "colab": {
      "provenance": [],
      "authorship_tag": "ABX9TyOtbOlDQKS4is1JrecVPZKK",
      "include_colab_link": true
    },
    "kernelspec": {
      "name": "python3",
      "display_name": "Python 3"
    },
    "language_info": {
      "name": "python"
    }
  },
  "cells": [
    {
      "cell_type": "markdown",
      "metadata": {
        "id": "view-in-github",
        "colab_type": "text"
      },
      "source": [
        "<a href=\"https://colab.research.google.com/github/Nguyenhunggiabao/ThucHanhToanCC/blob/main/CTDLGT5.ipynb\" target=\"_parent\"><img src=\"https://colab.research.google.com/assets/colab-badge.svg\" alt=\"Open In Colab\"/></a>"
      ]
    },
    {
      "cell_type": "markdown",
      "source": [
        "thực hành 1.11"
      ],
      "metadata": {
        "id": "XTsZmy6L2J_u"
      }
    },
    {
      "cell_type": "code",
      "execution_count": 3,
      "metadata": {
        "colab": {
          "base_uri": "https://localhost:8080/"
        },
        "id": "mLO1msWv2H71",
        "outputId": "d8cd2711-812c-42d4-8b6a-5b3ba65f21d6"
      },
      "outputs": [
        {
          "output_type": "execute_result",
          "data": {
            "text/plain": [
              "['data science', 'data analytics', 'data structures and algorithms']"
            ]
          },
          "metadata": {},
          "execution_count": 3
        }
      ],
      "source": [
        "myStack = [] #??\n",
        "myStack.append('data science') #??\n",
        "myStack.append('data analytics')\n",
        "myStack.append('data structures and algorithms')\n",
        "myStack.append('big data')\n",
        "myStack.append('learning data analytics')\n",
        "myStack\n",
        "myStack.pop() #??\n",
        "myStack.pop()\n",
        "myStack\n"
      ]
    },
    {
      "cell_type": "markdown",
      "source": [
        "thực hành 1.22"
      ],
      "metadata": {
        "id": "xpvjyVh-2Ut9"
      }
    },
    {
      "cell_type": "code",
      "source": [
        "from collections import deque #??\n",
        "myStack = deque()\n",
        "myStack.append('data science') #??\n",
        "myStack.append('data structures and algorithms')\n",
        "myStack.append('learning data analytics')\n",
        "myStack.append('big data')\n",
        "myStack\n",
        "myStack.pop() #??\n",
        "myStack.pop()\n",
        "myStack"
      ],
      "metadata": {
        "colab": {
          "base_uri": "https://localhost:8080/"
        },
        "id": "eSFNqvFa2Xqz",
        "outputId": "940e18a3-baa3-4572-f989-36f1247c4acf"
      },
      "execution_count": 4,
      "outputs": [
        {
          "output_type": "execute_result",
          "data": {
            "text/plain": [
              "deque(['data science', 'data structures and algorithms'])"
            ]
          },
          "metadata": {},
          "execution_count": 4
        }
      ]
    },
    {
      "cell_type": "markdown",
      "source": [
        "thực hành 1.3 "
      ],
      "metadata": {
        "id": "krDl-sD32bFf"
      }
    },
    {
      "cell_type": "code",
      "source": [
        "class Node:\n",
        "  def __init__(self, value):\n",
        "    self.value = value\n",
        "    self.next = None\n",
        "class Stack:\n",
        "  def __init__(self):\n",
        "    self.head = Node(\"head\")\n",
        "    self.size = 0\n",
        "  def __str__(self):\n",
        "    cur = self.head.next\n",
        "    out = \"\"\n",
        "    while cur:\n",
        "      out += str(cur.value) + \"->\"\n",
        "      cur = cur.next\n",
        "    return out[:-3]\n",
        "  def getSize(self):\n",
        "    return self.size\n",
        "  def isEmpty(self):\n",
        "    return self.size == 0\n",
        "  def peek(self):\n",
        "    if self.isEmpty():\n",
        "      raise Exception(\"Peeking stack\")\n",
        "      return self.head.next.value\n",
        "  def push(self, value):\n",
        "      node = Node(value)\n",
        "      node.next = self.head.next\n",
        "      self.head.next = node\n",
        "      self.size += 1\n",
        "  def pop(self):\n",
        "    if self.isEmpty():\n",
        "      raise Exception(\"Popping from an empty stack\")\n",
        "      remove = self.head.next\n",
        "      self.head.next = self.head.next.next\n",
        "      self.size -= 1\n",
        "      return remove.value\n",
        "if __name__ == \"__main__\":\n",
        "    stack = Stack()\n",
        "    for i in range(1, 20):\n",
        "      stack.push(i)\n",
        "      print(f\"Stack: {stack}\")\n",
        "    for _ in range(1, 9):\n",
        "      remove = stack.pop()\n",
        "      print(f\"Pop: {remove}\")\n",
        "      print(f\"Stack: {stack}\")\n"
      ],
      "metadata": {
        "colab": {
          "base_uri": "https://localhost:8080/"
        },
        "id": "s6lgCg-A2agn",
        "outputId": "d98406bd-3b26-46dc-d592-17d79217545a"
      },
      "execution_count": 5,
      "outputs": [
        {
          "output_type": "stream",
          "name": "stdout",
          "text": [
            "Stack: \n",
            "Stack: 2->\n",
            "Stack: 3->2->\n",
            "Stack: 4->3->2->\n",
            "Stack: 5->4->3->2->\n",
            "Stack: 6->5->4->3->2->\n",
            "Stack: 7->6->5->4->3->2->\n",
            "Stack: 8->7->6->5->4->3->2->\n",
            "Stack: 9->8->7->6->5->4->3->2->\n",
            "Stack: 10->9->8->7->6->5->4->3->2->\n",
            "Stack: 11->10->9->8->7->6->5->4->3->2->\n",
            "Stack: 12->11->10->9->8->7->6->5->4->3->2->\n",
            "Stack: 13->12->11->10->9->8->7->6->5->4->3->2->\n",
            "Stack: 14->13->12->11->10->9->8->7->6->5->4->3->2->\n",
            "Stack: 15->14->13->12->11->10->9->8->7->6->5->4->3->2->\n",
            "Stack: 16->15->14->13->12->11->10->9->8->7->6->5->4->3->2->\n",
            "Stack: 17->16->15->14->13->12->11->10->9->8->7->6->5->4->3->2->\n",
            "Stack: 18->17->16->15->14->13->12->11->10->9->8->7->6->5->4->3->2->\n",
            "Stack: 19->18->17->16->15->14->13->12->11->10->9->8->7->6->5->4->3->2->\n",
            "Pop: None\n",
            "Stack: 19->18->17->16->15->14->13->12->11->10->9->8->7->6->5->4->3->2->\n",
            "Pop: None\n",
            "Stack: 19->18->17->16->15->14->13->12->11->10->9->8->7->6->5->4->3->2->\n",
            "Pop: None\n",
            "Stack: 19->18->17->16->15->14->13->12->11->10->9->8->7->6->5->4->3->2->\n",
            "Pop: None\n",
            "Stack: 19->18->17->16->15->14->13->12->11->10->9->8->7->6->5->4->3->2->\n",
            "Pop: None\n",
            "Stack: 19->18->17->16->15->14->13->12->11->10->9->8->7->6->5->4->3->2->\n",
            "Pop: None\n",
            "Stack: 19->18->17->16->15->14->13->12->11->10->9->8->7->6->5->4->3->2->\n",
            "Pop: None\n",
            "Stack: 19->18->17->16->15->14->13->12->11->10->9->8->7->6->5->4->3->2->\n",
            "Pop: None\n",
            "Stack: 19->18->17->16->15->14->13->12->11->10->9->8->7->6->5->4->3->2->\n"
          ]
        }
      ]
    },
    {
      "cell_type": "markdown",
      "source": [
        "thực hành 2.1"
      ],
      "metadata": {
        "id": "vzju5WS13l69"
      }
    },
    {
      "cell_type": "code",
      "source": [
        "myQueue = [] #??\n",
        "myQueue.append('data science') #??\n",
        "myQueue.append('data analytics')\n",
        "myQueue.append('data structures and algorithms')\n",
        "myQueue.append('big data')\n",
        "myQueue.append('learning data analytics')\n",
        "print(myQueue)\n",
        "print(myQueue.pop(0)) #??\n",
        "print(myQueue.pop(0))\n",
        "print(myQueue)"
      ],
      "metadata": {
        "colab": {
          "base_uri": "https://localhost:8080/"
        },
        "id": "e-5GWII03rL7",
        "outputId": "ef200245-98aa-401e-f6fe-4e6f719a2fdd"
      },
      "execution_count": 6,
      "outputs": [
        {
          "output_type": "stream",
          "name": "stdout",
          "text": [
            "['data science', 'data analytics', 'data structures and algorithms', 'big data', 'learning data analytics']\n",
            "data science\n",
            "data analytics\n",
            "['data structures and algorithms', 'big data', 'learning data analytics']\n"
          ]
        }
      ]
    },
    {
      "cell_type": "markdown",
      "source": [
        "thực hành 2.2"
      ],
      "metadata": {
        "id": "WorrQyRp3_s7"
      }
    },
    {
      "cell_type": "code",
      "source": [
        "from collections import deque\n",
        "q = deque() #??\n",
        "q.append('data analytics') #??\n",
        "q.append('data structures and algorithms')\n",
        "q.append('big data')\n",
        "q.append('learning data analytics')\n",
        "print(q)\n",
        "print(q.popleft()) #??\n",
        "print(q.popleft())\n",
        "print(q)"
      ],
      "metadata": {
        "colab": {
          "base_uri": "https://localhost:8080/"
        },
        "id": "BM25hvh-4DKL",
        "outputId": "dd574e31-066c-404c-af02-b93610d61c03"
      },
      "execution_count": 7,
      "outputs": [
        {
          "output_type": "stream",
          "name": "stdout",
          "text": [
            "deque(['data analytics', 'data structures and algorithms', 'big data', 'learning data analytics'])\n",
            "data analytics\n",
            "data structures and algorithms\n",
            "deque(['big data', 'learning data analytics'])\n"
          ]
        }
      ]
    },
    {
      "cell_type": "markdown",
      "source": [
        "thực hành 2.3 "
      ],
      "metadata": {
        "id": "EqSdPvpJ4Gbj"
      }
    },
    {
      "cell_type": "code",
      "source": [
        "from queue import Queue\n",
        "q = Queue(maxsize = 5)\n",
        "print(q.qsize())\n",
        "q.put('data analytics') #??\n",
        "q.put('data structures and algorithms')\n",
        "q.put('big data')\n",
        "q.put('learning data analytics')\n",
        "print(q.qsize())\n",
        "print(q.get()) #??\n",
        "print(q.get())"
      ],
      "metadata": {
        "colab": {
          "base_uri": "https://localhost:8080/"
        },
        "id": "WkKV2yog4IDK",
        "outputId": "5105a683-cf3b-4608-bfae-75b275ad6301"
      },
      "execution_count": 8,
      "outputs": [
        {
          "output_type": "stream",
          "name": "stdout",
          "text": [
            "0\n",
            "4\n",
            "data analytics\n",
            "data structures and algorithms\n"
          ]
        }
      ]
    }
  ]
}