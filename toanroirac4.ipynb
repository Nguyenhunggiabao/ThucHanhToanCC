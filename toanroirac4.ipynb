{
  "nbformat": 4,
  "nbformat_minor": 0,
  "metadata": {
    "colab": {
      "name": "Untitled12.ipynb",
      "provenance": [],
      "collapsed_sections": [],
      "authorship_tag": "ABX9TyOLjmevHpux32JtdZvbdpIK",
      "include_colab_link": true
    },
    "kernelspec": {
      "name": "python3",
      "display_name": "Python 3"
    },
    "language_info": {
      "name": "python"
    }
  },
  "cells": [
    {
      "cell_type": "markdown",
      "metadata": {
        "id": "view-in-github",
        "colab_type": "text"
      },
      "source": [
        "<a href=\"https://colab.research.google.com/github/Nguyenhunggiabao/ThucHanhToanCC/blob/main/toanroirac4.ipynb\" target=\"_parent\"><img src=\"https://colab.research.google.com/assets/colab-badge.svg\" alt=\"Open In Colab\"/></a>"
      ]
    },
    {
      "cell_type": "markdown",
      "source": [
        "CHƯƠNG 4: PHÉP ĐẾM – HOÁN VỊ, TỔ HỢP VÀ CHỈNH HỢP "
      ],
      "metadata": {
        "id": "Mwz5_GOg9VhN"
      }
    },
    {
      "cell_type": "markdown",
      "source": [
        "1. Giới thiêu về hoán vị, tổ hợp và chỉnh hợp "
      ],
      "metadata": {
        "id": "87kkljJ69YxS"
      }
    },
    {
      "cell_type": "code",
      "execution_count": null,
      "metadata": {
        "id": "h29lxbeg8XyQ"
      },
      "outputs": [],
      "source": [
        ""
      ]
    },
    {
      "cell_type": "markdown",
      "source": [
        "2. Sử dụng thư viện itertools với các phép toán hỗ trợ xử lý về tổ hợp"
      ],
      "metadata": {
        "id": "or5eBMm29cjO"
      }
    },
    {
      "cell_type": "code",
      "source": [
        "import itertools\n",
        "for i in itertools.accumulate([1,2,3,4,5,6,7,8,9,10]):\n",
        "  print(i) \n"
      ],
      "metadata": {
        "colab": {
          "base_uri": "https://localhost:8080/"
        },
        "id": "at8gvUdN9fN1",
        "outputId": "18155507-5e25-4a80-b462-6009ad411cd0"
      },
      "execution_count": null,
      "outputs": [
        {
          "output_type": "stream",
          "name": "stdout",
          "text": [
            "1\n",
            "3\n",
            "6\n",
            "10\n",
            "15\n",
            "21\n",
            "28\n",
            "36\n",
            "45\n",
            "55\n"
          ]
        }
      ]
    },
    {
      "cell_type": "code",
      "source": [
        "for i in itertools.repeat('Red', 3): \n",
        "  print (i)"
      ],
      "metadata": {
        "colab": {
          "base_uri": "https://localhost:8080/"
        },
        "id": "lwTVNWSM9xsM",
        "outputId": "579770f9-9723-4301-d113-5873edcb4718"
      },
      "execution_count": null,
      "outputs": [
        {
          "output_type": "stream",
          "name": "stdout",
          "text": [
            "Red\n",
            "Red\n",
            "Red\n"
          ]
        }
      ]
    },
    {
      "cell_type": "code",
      "source": [
        "for i in ((i,j) for j in [6,7,8,9]):\n",
        "  print(i)"
      ],
      "metadata": {
        "colab": {
          "base_uri": "https://localhost:8080/"
        },
        "id": "GqXDHAHL94NO",
        "outputId": "ab56a526-3a68-4afa-82e2-3dcd70268185"
      },
      "execution_count": null,
      "outputs": [
        {
          "output_type": "stream",
          "name": "stdout",
          "text": [
            "('Red', 6)\n",
            "(('Red', 6), 7)\n",
            "((('Red', 6), 7), 8)\n",
            "(((('Red', 6), 7), 8), 9)\n"
          ]
        }
      ]
    },
    {
      "cell_type": "code",
      "source": [
        "import itertools \n",
        "for i in itertools.product([1,2],[6,7,8,9]):\n",
        "  print(i)"
      ],
      "metadata": {
        "colab": {
          "base_uri": "https://localhost:8080/"
        },
        "id": "mR-_zcx_-tJ0",
        "outputId": "6ace263f-5a14-49ff-c2bc-b43ef4acf0d7"
      },
      "execution_count": null,
      "outputs": [
        {
          "output_type": "stream",
          "name": "stdout",
          "text": [
            "(1, 6)\n",
            "(1, 7)\n",
            "(1, 8)\n",
            "(1, 9)\n",
            "(2, 6)\n",
            "(2, 7)\n",
            "(2, 8)\n",
            "(2, 9)\n"
          ]
        }
      ]
    },
    {
      "cell_type": "code",
      "source": [
        "import itertools\n",
        "for i in itertools.product('AB', 'C', 'DEF'): \n",
        "  print(i)"
      ],
      "metadata": {
        "colab": {
          "base_uri": "https://localhost:8080/"
        },
        "id": "lBQUVyVi_QCE",
        "outputId": "c47f8e2b-6339-4e86-ae65-3d5e78f97ffa"
      },
      "execution_count": null,
      "outputs": [
        {
          "output_type": "stream",
          "name": "stdout",
          "text": [
            "('A', 'C', 'D')\n",
            "('A', 'C', 'E')\n",
            "('A', 'C', 'F')\n",
            "('B', 'C', 'D')\n",
            "('B', 'C', 'E')\n",
            "('B', 'C', 'F')\n"
          ]
        }
      ]
    },
    {
      "cell_type": "code",
      "source": [
        "for i in itertools.product('24', 'IT', repeat = 2): \n",
        "  print (i) "
      ],
      "metadata": {
        "colab": {
          "base_uri": "https://localhost:8080/"
        },
        "id": "e6vS2mh5_anF",
        "outputId": "a395c5ce-5f90-4cce-9bb5-6f048df506da"
      },
      "execution_count": null,
      "outputs": [
        {
          "output_type": "stream",
          "name": "stdout",
          "text": [
            "('2', 'I', '2', 'I')\n",
            "('2', 'I', '2', 'T')\n",
            "('2', 'I', '4', 'I')\n",
            "('2', 'I', '4', 'T')\n",
            "('2', 'T', '2', 'I')\n",
            "('2', 'T', '2', 'T')\n",
            "('2', 'T', '4', 'I')\n",
            "('2', 'T', '4', 'T')\n",
            "('4', 'I', '2', 'I')\n",
            "('4', 'I', '2', 'T')\n",
            "('4', 'I', '4', 'I')\n",
            "('4', 'I', '4', 'T')\n",
            "('4', 'T', '2', 'I')\n",
            "('4', 'T', '2', 'T')\n",
            "('4', 'T', '4', 'I')\n",
            "('4', 'T', '4', 'T')\n"
          ]
        }
      ]
    },
    {
      "cell_type": "markdown",
      "source": [
        "Hoán vị (permutation): (tương ứng với chỉnh hợp chập n từ n phần tử) "
      ],
      "metadata": {
        "id": "NnxoshC_Bg_B"
      }
    },
    {
      "cell_type": "code",
      "source": [
        "from itertools import permutations\n",
        "for i in permutations('ABC'):\n",
        "  print(i)"
      ],
      "metadata": {
        "colab": {
          "base_uri": "https://localhost:8080/"
        },
        "id": "CfZqHbNp_fUl",
        "outputId": "3bba157b-e26a-4ef5-b182-ddb3e911a833"
      },
      "execution_count": null,
      "outputs": [
        {
          "output_type": "stream",
          "name": "stdout",
          "text": [
            "('A', 'B', 'C')\n",
            "('A', 'C', 'B')\n",
            "('B', 'A', 'C')\n",
            "('B', 'C', 'A')\n",
            "('C', 'A', 'B')\n",
            "('C', 'B', 'A')\n"
          ]
        }
      ]
    },
    {
      "cell_type": "markdown",
      "source": [
        "Chỉnh hợp chập k từ n (permutation): "
      ],
      "metadata": {
        "id": "1CK7LZx9BoXA"
      }
    },
    {
      "cell_type": "code",
      "source": [
        "from itertools import permutations\n",
        "for i in permutations('ABC',2):\n",
        "  print(i)"
      ],
      "metadata": {
        "colab": {
          "base_uri": "https://localhost:8080/"
        },
        "id": "QTrmEWXkBqVa",
        "outputId": "0cf21cfd-da13-4110-cdb5-cef0841805e4"
      },
      "execution_count": null,
      "outputs": [
        {
          "output_type": "stream",
          "name": "stdout",
          "text": [
            "('A', 'B')\n",
            "('A', 'C')\n",
            "('B', 'A')\n",
            "('B', 'C')\n",
            "('C', 'A')\n",
            "('C', 'B')\n"
          ]
        }
      ]
    },
    {
      "cell_type": "markdown",
      "source": [
        "Tổ hợp (combinations): "
      ],
      "metadata": {
        "id": "YLLDUnotBzjl"
      }
    },
    {
      "cell_type": "code",
      "source": [
        "for i in itertools.combinations('ABCD',3):\n",
        "  print(i)"
      ],
      "metadata": {
        "colab": {
          "base_uri": "https://localhost:8080/"
        },
        "id": "z1UcxfmIB1vN",
        "outputId": "4072ff6f-34d8-4c15-be34-5998d3285570"
      },
      "execution_count": null,
      "outputs": [
        {
          "output_type": "stream",
          "name": "stdout",
          "text": [
            "('A', 'B', 'C')\n",
            "('A', 'B', 'D')\n",
            "('A', 'C', 'D')\n",
            "('B', 'C', 'D')\n"
          ]
        }
      ]
    },
    {
      "cell_type": "markdown",
      "source": [
        "Ví dụ khác:"
      ],
      "metadata": {
        "id": "bKiBsKCpCH-l"
      }
    },
    {
      "cell_type": "code",
      "source": [
        "import itertools\n",
        "nhaccu = 'Đàn Trống Sáo Bo'.split()\n",
        "chonmua2mon = list(itertools.combinations(nhaccu, 2))\n",
        "chonmua2mon"
      ],
      "metadata": {
        "colab": {
          "base_uri": "https://localhost:8080/"
        },
        "id": "LPa8yr4bCJ99",
        "outputId": "f3ffdcbc-c11d-49d3-bbda-2eedd16c17c3"
      },
      "execution_count": null,
      "outputs": [
        {
          "output_type": "execute_result",
          "data": {
            "text/plain": [
              "[('Đàn', 'Trống'),\n",
              " ('Đàn', 'Sáo'),\n",
              " ('Đàn', 'Bo'),\n",
              " ('Trống', 'Sáo'),\n",
              " ('Trống', 'Bo'),\n",
              " ('Sáo', 'Bo')]"
            ]
          },
          "metadata": {},
          "execution_count": 15
        }
      ]
    },
    {
      "cell_type": "markdown",
      "source": [
        " Tổ hợp có lặp (combinations): "
      ],
      "metadata": {
        "id": "bRhdocNpCPZ-"
      }
    },
    {
      "cell_type": "code",
      "source": [
        "for i in itertools.combinations_with_replacement('ABCDE', 3):\n",
        " print (i) "
      ],
      "metadata": {
        "colab": {
          "base_uri": "https://localhost:8080/"
        },
        "id": "jDoGs8JpCR02",
        "outputId": "cebc76e1-ebac-496c-f575-b7a42a7c875a"
      },
      "execution_count": null,
      "outputs": [
        {
          "output_type": "stream",
          "name": "stdout",
          "text": [
            "('A', 'A', 'A')\n",
            "('A', 'A', 'B')\n",
            "('A', 'A', 'C')\n",
            "('A', 'A', 'D')\n",
            "('A', 'A', 'E')\n",
            "('A', 'B', 'B')\n",
            "('A', 'B', 'C')\n",
            "('A', 'B', 'D')\n",
            "('A', 'B', 'E')\n",
            "('A', 'C', 'C')\n",
            "('A', 'C', 'D')\n",
            "('A', 'C', 'E')\n",
            "('A', 'D', 'D')\n",
            "('A', 'D', 'E')\n",
            "('A', 'E', 'E')\n",
            "('B', 'B', 'B')\n",
            "('B', 'B', 'C')\n",
            "('B', 'B', 'D')\n",
            "('B', 'B', 'E')\n",
            "('B', 'C', 'C')\n",
            "('B', 'C', 'D')\n",
            "('B', 'C', 'E')\n",
            "('B', 'D', 'D')\n",
            "('B', 'D', 'E')\n",
            "('B', 'E', 'E')\n",
            "('C', 'C', 'C')\n",
            "('C', 'C', 'D')\n",
            "('C', 'C', 'E')\n",
            "('C', 'D', 'D')\n",
            "('C', 'D', 'E')\n",
            "('C', 'E', 'E')\n",
            "('D', 'D', 'D')\n",
            "('D', 'D', 'E')\n",
            "('D', 'E', 'E')\n",
            "('E', 'E', 'E')\n"
          ]
        }
      ]
    },
    {
      "cell_type": "markdown",
      "source": [
        "Xoay vòng giá trị cần lấy: "
      ],
      "metadata": {
        "id": "7CghSPt8CnbB"
      }
    },
    {
      "cell_type": "code",
      "source": [
        "for i in itertools.repeat('Red', 3):\n",
        " print (i)"
      ],
      "metadata": {
        "colab": {
          "base_uri": "https://localhost:8080/"
        },
        "id": "OKoE24vhCoYB",
        "outputId": "a845ae75-ddfd-4973-dff5-e5de6e0c4592"
      },
      "execution_count": null,
      "outputs": [
        {
          "output_type": "stream",
          "name": "stdout",
          "text": [
            "Red\n",
            "Red\n",
            "Red\n"
          ]
        }
      ]
    },
    {
      "cell_type": "markdown",
      "source": [
        "3. Ôn luyện cơ bản về Python: Hàm ngẫu nhiên toán học và lặp trong Python "
      ],
      "metadata": {
        "id": "vmwJONHCCrPY"
      }
    },
    {
      "cell_type": "markdown",
      "source": [
        "3.1. Cơ bản về hàm ngẫu nhiên trong Python"
      ],
      "metadata": {
        "id": "Ap736uQTCwm0"
      }
    },
    {
      "cell_type": "markdown",
      "source": [
        "+ Chọn ngẫu nhiên trong tập hợp có sẵn: "
      ],
      "metadata": {
        "id": "GupmR0u4C-dZ"
      }
    },
    {
      "cell_type": "code",
      "source": [
        "import random\n",
        "random.choice(['Táo', 'Lê', 'Ổi', 'Chuối'])"
      ],
      "metadata": {
        "colab": {
          "base_uri": "https://localhost:8080/",
          "height": 36
        },
        "id": "pgfERByGCtvG",
        "outputId": "1ead7908-21f8-4349-a643-63c3a1aea41a"
      },
      "execution_count": null,
      "outputs": [
        {
          "output_type": "execute_result",
          "data": {
            "text/plain": [
              "'Lê'"
            ],
            "application/vnd.google.colaboratory.intrinsic+json": {
              "type": "string"
            }
          },
          "metadata": {},
          "execution_count": 18
        }
      ]
    },
    {
      "cell_type": "markdown",
      "source": [
        "+ Phát sinh số thực ngẫu nhiên trong khoảng số thực [0,1): "
      ],
      "metadata": {
        "id": "En43D4XbDAkY"
      }
    },
    {
      "cell_type": "code",
      "source": [
        "random.random()"
      ],
      "metadata": {
        "colab": {
          "base_uri": "https://localhost:8080/"
        },
        "id": "qY2OxuicC3bh",
        "outputId": "552a14f3-2d0c-49bf-bffe-f4c8a4738328"
      },
      "execution_count": null,
      "outputs": [
        {
          "output_type": "execute_result",
          "data": {
            "text/plain": [
              "0.2962144603160467"
            ]
          },
          "metadata": {},
          "execution_count": 19
        }
      ]
    },
    {
      "cell_type": "markdown",
      "source": [
        "+ Phát sinh số thực ngẫu nhiên trong khoảng số thực [a,b):"
      ],
      "metadata": {
        "id": "bG6qy3vzDCsA"
      }
    },
    {
      "cell_type": "code",
      "source": [
        "random. uniform(4.9, 10.0)"
      ],
      "metadata": {
        "colab": {
          "base_uri": "https://localhost:8080/"
        },
        "id": "GbJ6yA-xC7iM",
        "outputId": "81eea39c-1515-4b24-da6e-9cb69dddee11"
      },
      "execution_count": null,
      "outputs": [
        {
          "output_type": "execute_result",
          "data": {
            "text/plain": [
              "7.135023161797138"
            ]
          },
          "metadata": {},
          "execution_count": 20
        }
      ]
    },
    {
      "cell_type": "markdown",
      "source": [
        "+ Phát sinh số ngẫu nhiên trong khoảng 0 đến 5: "
      ],
      "metadata": {
        "id": "MS1zIyXDDXQs"
      }
    },
    {
      "cell_type": "code",
      "source": [
        " random.randrange(6) "
      ],
      "metadata": {
        "colab": {
          "base_uri": "https://localhost:8080/"
        },
        "id": "zSwf22oVDXwZ",
        "outputId": "05c9103b-a93a-47e9-c266-5a1eadc92757"
      },
      "execution_count": null,
      "outputs": [
        {
          "output_type": "execute_result",
          "data": {
            "text/plain": [
              "3"
            ]
          },
          "metadata": {},
          "execution_count": 21
        }
      ]
    },
    {
      "cell_type": "markdown",
      "source": [
        "+ Phát sinh số ngẫu nhiên trong khoảng 50 đến 500:"
      ],
      "metadata": {
        "id": "2UZ5ibCBDZd-"
      }
    },
    {
      "cell_type": "code",
      "source": [
        " random.randrange(50, 500) "
      ],
      "metadata": {
        "colab": {
          "base_uri": "https://localhost:8080/"
        },
        "id": "xzojVeU0Dctm",
        "outputId": "e2b5898c-7ffd-47fe-8d14-8a88399a2e82"
      },
      "execution_count": null,
      "outputs": [
        {
          "output_type": "execute_result",
          "data": {
            "text/plain": [
              "168"
            ]
          },
          "metadata": {},
          "execution_count": 22
        }
      ]
    },
    {
      "cell_type": "markdown",
      "source": [
        "+ Phát sinh số nguyên chẵn ngẫu nhiên trong khoảng 20 đến 100:"
      ],
      "metadata": {
        "id": "lDAEXyejDhJe"
      }
    },
    {
      "cell_type": "code",
      "source": [
        "random.randrange(20, 100, 2)"
      ],
      "metadata": {
        "colab": {
          "base_uri": "https://localhost:8080/"
        },
        "id": "kZuoBOFwDjDF",
        "outputId": "62f6c203-be4a-466b-a1a1-5a0b0a986380"
      },
      "execution_count": null,
      "outputs": [
        {
          "output_type": "execute_result",
          "data": {
            "text/plain": [
              "34"
            ]
          },
          "metadata": {},
          "execution_count": 23
        }
      ]
    },
    {
      "cell_type": "markdown",
      "source": [
        "+ Phát sinh ngẫu nhiên 10 giá trị trong khoảng 0 đến 99:"
      ],
      "metadata": {
        "id": "SzrGM8j7DlqX"
      }
    },
    {
      "cell_type": "code",
      "source": [
        "random.sample(range(100), 10)"
      ],
      "metadata": {
        "id": "VRgHpEYBDnqm"
      },
      "execution_count": null,
      "outputs": []
    },
    {
      "cell_type": "markdown",
      "source": [
        "+ Phát sinh ngẫu nhiên 15 giá trị trong khoảng 10 đến 99:"
      ],
      "metadata": {
        "id": "K1jyiy87Drhp"
      }
    },
    {
      "cell_type": "code",
      "source": [
        "random.sample(range(10, 100), 15) "
      ],
      "metadata": {
        "id": "gNgE5F08DvMj"
      },
      "execution_count": null,
      "outputs": []
    },
    {
      "cell_type": "markdown",
      "source": [
        "+ Phát sinh ngẫu nhiên 5 giá trị trong danh sách [‘a’, ‘b’, ‘c’, ‘d’, ‘e’, ‘f’, ‘g’, ‘h’, ‘i’, ‘j’]: "
      ],
      "metadata": {
        "id": "6S6usW3ODzCc"
      }
    },
    {
      "cell_type": "code",
      "source": [
        "chars = ['a', 'b', 'c', 'd', 'e', 'f', 'g', 'h', 'i', 'j']\n",
        "rand5_char = random.sample(chars, 5)\n",
        "print (rand5_char) "
      ],
      "metadata": {
        "colab": {
          "base_uri": "https://localhost:8080/"
        },
        "id": "lPy53jajD17R",
        "outputId": "98cc8c17-1535-4fd1-a351-62e586139b84"
      },
      "execution_count": 17,
      "outputs": [
        {
          "output_type": "stream",
          "name": "stdout",
          "text": [
            "['a', 'i', 'e', 'h', 'g']\n"
          ]
        }
      ]
    },
    {
      "cell_type": "markdown",
      "source": [
        "3.2. Ứng dụng minh họa: Vẽ ngẫu nhiên Eclipse "
      ],
      "metadata": {
        "id": "LMzrg_oqEF7R"
      }
    },
    {
      "cell_type": "code",
      "source": [
        "import matplotlib.pyplot as plt \n",
        "import numpy.random as rnd \n",
        "from matplotlib.patches import Ellipse \n",
        "NUM = 250 \n",
        "ells = [Ellipse(xy =rnd.rand(2)*10, width= rnd.rand(),height=rnd.rand(),angle=rnd.rand()*360) for i in range(NUM)]\n",
        "\n",
        "fig = plt.figure(0)\n",
        "ax =  fig.add_subplot(111,aspect='equal')\n",
        "for e in ells:\n",
        "  ax.add_artist(e)\n",
        "  e.set_clip_box(ax.bbox)\n",
        "  e.set_alpha(rnd.rand())\n",
        "  e.set_facecolor(rnd.rand(3))\n",
        "\n",
        "ax.set_xlim(0,10)\n",
        "ax.set_ylim(0,10)\n",
        "plt.show()"
      ],
      "metadata": {
        "colab": {
          "base_uri": "https://localhost:8080/",
          "height": 269
        },
        "id": "cH6HmCVOEGkc",
        "outputId": "02960fa2-11a3-4c38-e81f-bcc0908ee025"
      },
      "execution_count": 33,
      "outputs": [
        {
          "output_type": "display_data",
          "data": {
            "text/plain": [
              "<Figure size 432x288 with 1 Axes>"
            ],
            "image/png": "[encoded data removed]"
          },
          "metadata": {
            "needs_background": "light"
          }
        }
      ]
    },
    {
      "cell_type": "code",
      "source": [
        "NUM = 500\n",
        "ells = [Ellipse(xy =rnd.rand(2)*10, width= rnd.rand(),height=rnd.rand(),angle=rnd.rand()*360) for i in range(NUM)]\n",
        "\n",
        "fig = plt.figure(0)\n",
        "ax =  fig.add_subplot(111,aspect='equal')\n",
        "for e in ells:\n",
        "  ax.add_artist(e)\n",
        "  e.set_clip_box(ax.bbox)\n",
        "  e.set_alpha(rnd.rand())\n",
        "  e.set_facecolor(rnd.rand(3))\n",
        "\n",
        "ax.set_xlim(0,10)\n",
        "ax.set_ylim(0,10)\n",
        "plt.show()"
      ],
      "metadata": {
        "id": "axrBMHvVKzKw",
        "outputId": "279ba977-093e-4098-dd23-8bba823a6c0b",
        "colab": {
          "base_uri": "https://localhost:8080/",
          "height": 269
        }
      },
      "execution_count": 34,
      "outputs": [
        {
          "output_type": "display_data",
          "data": {
            "text/plain": [
              "<Figure size 432x288 with 1 Axes>"
            ],
            "image/png": "[encoded data removed]"
          },
          "metadata": {
            "needs_background": "light"
          }
        }
      ]
    },
    {
      "cell_type": "markdown",
      "source": [
        "3.3. Bài toán ứng dụng 1: Giới thiệu Roullete Wheel – “Chiếc nón kì diệu”"
      ],
      "metadata": {
        "id": "8-1kOjoXDZjO"
      }
    },
    {
      "cell_type": "code",
      "source": [
        "from __future__ import division\n",
        "import numpy as np\n",
        "import random,pdb\n",
        "import operator\n",
        "\n",
        "def roulette_selection(weights):\n",
        "  sorted_indexed_weights= sorted(enumerate(weights),key=operator.itemgetter(1));\n",
        "  indices, sorted_weights = zip(*sorted_indexed_weights);\n",
        "\n",
        "  tot_sum=sum(sorted_weights)\n",
        "  prob = [x/tot_sum for x in sorted_weights]\n",
        "  cum_prob=np.cumsum(prob)\n",
        "\n",
        "  random_num=random.random()\n",
        "\n",
        "  for index_value, cum_prod_value in zip(indices,cum_prob):\n",
        "    if random_num < cum_prod_value:\n",
        "      return index_value"
      ],
      "metadata": {
        "id": "CoAmqYWeDf2X"
      },
      "execution_count": 3,
      "outputs": []
    },
    {
      "cell_type": "code",
      "source": [
        " xanhdo =[87, 3, 20]"
      ],
      "metadata": {
        "id": "nAGE_TIqFpwO"
      },
      "execution_count": 20,
      "outputs": []
    },
    {
      "cell_type": "code",
      "source": [
        "for i in range(20):\n",
        " print (roulette_selection(xanhdo)) "
      ],
      "metadata": {
        "id": "yKNNjTsNF4DM",
        "outputId": "f0cc6fbd-327d-4854-902c-485741ad30cb",
        "colab": {
          "base_uri": "https://localhost:8080/"
        }
      },
      "execution_count": 7,
      "outputs": [
        {
          "output_type": "stream",
          "name": "stdout",
          "text": [
            "0\n",
            "0\n",
            "0\n",
            "0\n",
            "0\n",
            "0\n",
            "0\n",
            "0\n",
            "0\n",
            "0\n",
            "2\n",
            "0\n",
            "0\n",
            "0\n",
            "0\n",
            "0\n",
            "0\n",
            "0\n",
            "0\n",
            "0\n"
          ]
        }
      ]
    },
    {
      "cell_type": "code",
      "source": [
        "xanhdo =[27, 3, 30]"
      ],
      "metadata": {
        "id": "y5mXGqe1F8i7"
      },
      "execution_count": null,
      "outputs": []
    },
    {
      "cell_type": "code",
      "source": [
        "for i in range(20):\n",
        " print (roulette_selection(xanhdo))"
      ],
      "metadata": {
        "id": "B-lebfjEF9G7",
        "outputId": "f9210bee-a708-4fb4-daa8-3ec0fabbc044",
        "colab": {
          "base_uri": "https://localhost:8080/"
        }
      },
      "execution_count": 8,
      "outputs": [
        {
          "output_type": "stream",
          "name": "stdout",
          "text": [
            "0\n",
            "0\n",
            "0\n",
            "0\n",
            "2\n",
            "0\n",
            "2\n",
            "0\n",
            "0\n",
            "0\n",
            "0\n",
            "0\n",
            "0\n",
            "0\n",
            "0\n",
            "0\n",
            "0\n",
            "0\n",
            "0\n",
            "0\n"
          ]
        }
      ]
    },
    {
      "cell_type": "markdown",
      "source": [
        "4. Tập phủ trùm tối thiểu (Set Cover Problem)"
      ],
      "metadata": {
        "id": "w9JzVnzyGFPE"
      }
    },
    {
      "cell_type": "markdown",
      "source": [
        "5. Bài toán ứng dụng 2: Chọn tập các camera quan sát hội chợ"
      ],
      "metadata": {
        "id": "PN-W0TaZGIOx"
      }
    },
    {
      "cell_type": "markdown",
      "source": [
        "Bài toán: Là người đi thuê camera để giám sát an ninh, bạn hãy chọn các phương án thuê ít nhất\n",
        "các camera để phủ toàn bộ 25 khu vực hội chợ. Ví dụ: Nhìn vào bảng trên, chúng ta thấy, nếu đã\n",
        "thuê 2 camera I và III thì sẽ không cần thiết thuê thêm camera IX. Vì khu vực 1, 6, 11 đã được\n",
        "giám sát bởi camera I và III. "
      ],
      "metadata": {
        "id": "psehpDXHGWaU"
      }
    },
    {
      "cell_type": "code",
      "source": [
        " def difference(A, B):\n",
        "  phantu_moi = 0\n",
        "  for x in A:\n",
        "    if x not in B:\n",
        "      phantu_moi = phantu_moi + 1\n",
        "  return phantu_moi "
      ],
      "metadata": {
        "id": "EA4B9AdxGSAC"
      },
      "execution_count": 10,
      "outputs": []
    },
    {
      "cell_type": "code",
      "source": [
        "def add(A,B):\n",
        " ketqua = B\n",
        " for x in A:\n",
        "  if x not in B:\n",
        "    ketqua = ketqua + [x]\n",
        " return ketqua "
      ],
      "metadata": {
        "id": "OSIwJeMqGiJD"
      },
      "execution_count": 11,
      "outputs": []
    },
    {
      "cell_type": "markdown",
      "source": [
        "Khai báo các camera phủ các khu vực: "
      ],
      "metadata": {
        "id": "7IpWh1FIGr7S"
      }
    },
    {
      "cell_type": "code",
      "source": [
        "I = [1, 3, 4, 6, 7]\n",
        "II = [4, 7, 8, 12]\n",
        "III = [2, 5, 9, 11, 13]\n",
        "IV = [1, 2, 18, 19, 21]\n",
        "V = [3, 6, 10, 12, 14]\n",
        "VI = [8, 14, 15, 16, 17]\n",
        "VII = [18, 21, 24, 25]\n",
        "VIII = [2, 10, 16, 23]\n",
        "IX = [1, 6, 11]\n",
        "X = [20, 22, 24, 25]\n",
        "XI = [2, 4, 6, 8]\n",
        "XII =[1, 6, 12, 17] "
      ],
      "metadata": {
        "id": "OYyyTo8BGsjy"
      },
      "execution_count": 12,
      "outputs": []
    },
    {
      "cell_type": "markdown",
      "source": [
        "Khai báo tập các hợp camera và tập hợp các khu vực:"
      ],
      "metadata": {
        "id": "gcGLUz0_HDhu"
      }
    },
    {
      "cell_type": "code",
      "source": [
        "cameras = [I, II, III, IV, V, VI, VII, VIII, IX, X, XI, XII]\n",
        "khuvuc = range(1,26) # 25 khu vực từ 1 đến 25 "
      ],
      "metadata": {
        "id": "ByYIPlfEHEae"
      },
      "execution_count": 13,
      "outputs": []
    },
    {
      "cell_type": "code",
      "source": [
        "tapphu = [] \n",
        "while len(tapphu)<len(khuvuc):\n",
        " max_new_cameras = 0\n",
        " for camera in cameras:\n",
        "  max_new_cameras = max(difference(camera, tapphu), max_new_cameras)\n",
        " luachon = 0 \n",
        " while difference(cameras[luachon], tapphu) < max_new_cameras:\n",
        "  luachon = luachon +1\n",
        " if (luachon < len(cameras)):\n",
        "  tapphu = add(cameras[luachon], tapphu)\n",
        "  print ('Camera: ' , luachon+1, cameras[luachon], tapphu)"
      ],
      "metadata": {
        "id": "sEBxvUWlHOb1",
        "outputId": "a7022e2b-4784-4788-d67a-f9fd33decc2a",
        "colab": {
          "base_uri": "https://localhost:8080/"
        }
      },
      "execution_count": 15,
      "outputs": [
        {
          "output_type": "stream",
          "name": "stdout",
          "text": [
            "Camera:  1 [1, 3, 4, 6, 7] [1, 3, 4, 6, 7]\n",
            "Camera:  3 [2, 5, 9, 11, 13] [1, 3, 4, 6, 7, 2, 5, 9, 11, 13]\n",
            "Camera:  6 [8, 14, 15, 16, 17] [1, 3, 4, 6, 7, 2, 5, 9, 11, 13, 8, 14, 15, 16, 17]\n",
            "Camera:  7 [18, 21, 24, 25] [1, 3, 4, 6, 7, 2, 5, 9, 11, 13, 8, 14, 15, 16, 17, 18, 21, 24, 25]\n",
            "Camera:  5 [3, 6, 10, 12, 14] [1, 3, 4, 6, 7, 2, 5, 9, 11, 13, 8, 14, 15, 16, 17, 18, 21, 24, 25, 10, 12]\n",
            "Camera:  10 [20, 22, 24, 25] [1, 3, 4, 6, 7, 2, 5, 9, 11, 13, 8, 14, 15, 16, 17, 18, 21, 24, 25, 10, 12, 20, 22]\n",
            "Camera:  4 [1, 2, 18, 19, 21] [1, 3, 4, 6, 7, 2, 5, 9, 11, 13, 8, 14, 15, 16, 17, 18, 21, 24, 25, 10, 12, 20, 22, 19]\n",
            "Camera:  8 [2, 10, 16, 23] [1, 3, 4, 6, 7, 2, 5, 9, 11, 13, 8, 14, 15, 16, 17, 18, 21, 24, 25, 10, 12, 20, 22, 19, 23]\n"
          ]
        }
      ]
    },
    {
      "cell_type": "code",
      "source": [
        "tapphu.sort() \n",
        "print (tapphu) "
      ],
      "metadata": {
        "id": "mIm28TZ6Hk8X",
        "outputId": "5f7bc6ee-1d85-4645-9687-e1e96cf068b7",
        "colab": {
          "base_uri": "https://localhost:8080/"
        }
      },
      "execution_count": 16,
      "outputs": [
        {
          "output_type": "stream",
          "name": "stdout",
          "text": [
            "[1, 2, 3, 4, 5, 6, 7, 8, 9, 10, 11, 12, 13, 14, 15, 16, 17, 18, 19, 20, 21, 22, 23, 24, 25]\n"
          ]
        }
      ]
    },
    {
      "cell_type": "markdown",
      "source": [
        "BÀI TẬP CHƯƠNG 4"
      ],
      "metadata": {
        "id": "-lfYtrR5HuID"
      }
    },
    {
      "cell_type": "markdown",
      "source": [
        "Câu 1: Thử nghiệm chạy chương trình Roullete Wheel với nhiều bộ tham số đèn xanh/vàngđỏ\n",
        "khác nhau, như:\n",
        "[47, 3, 50], [17, 3, 50], [77, 3, 50] "
      ],
      "metadata": {
        "id": "53KlNo_fHuug"
      }
    },
    {
      "cell_type": "code",
      "source": [
        ""
      ],
      "metadata": {
        "id": "horPpAaXHxvs"
      },
      "execution_count": null,
      "outputs": []
    }
  ]
}