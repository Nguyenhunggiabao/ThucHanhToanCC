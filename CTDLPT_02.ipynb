{
  "nbformat": 4,
  "nbformat_minor": 0,
  "metadata": {
    "colab": {
      "provenance": [],
      "authorship_tag": "ABX9TyNfYN8s+1RzM4fYysXx3Ttp",
      "include_colab_link": true
    },
    "kernelspec": {
      "name": "python3",
      "display_name": "Python 3"
    },
    "language_info": {
      "name": "python"
    }
  },
  "cells": [
    {
      "cell_type": "markdown",
      "metadata": {
        "id": "view-in-github",
        "colab_type": "text"
      },
      "source": [
        "<a href=\"https://colab.research.google.com/github/Nguyenhunggiabao/ThucHanhToanCC/blob/main/CTDLPT_02.ipynb\" target=\"_parent\"><img src=\"https://colab.research.google.com/assets/colab-badge.svg\" alt=\"Open In Colab\"/></a>"
      ]
    },
    {
      "cell_type": "code",
      "execution_count": 2,
      "metadata": {
        "colab": {
          "base_uri": "https://localhost:8080/"
        },
        "id": "fNkiMiVA8qB6",
        "outputId": "3d0f5644-eb60-4631-f698-862b3725afe3"
      },
      "outputs": [
        {
          "output_type": "stream",
          "name": "stdout",
          "text": [
            "[15, 30, 40, 75, 90, 100, 160, 200]\n"
          ]
        }
      ],
      "source": [
        "def bubble_sort(arr):\n",
        "  for i in range(len(arr)):\n",
        "    for j in range(len(arr) - 1): # xét phần tử j trong mảng\n",
        "      if arr[j] > arr[j+1]: # so sánh\n",
        "        arr[j], arr[j+1] = arr[j+1], arr[j] # hoán đổi vị trí thứ j và j+1\n",
        "arr = [100, 30, 160, 40, 200, 75, 15, 90]\n",
        "bubble_sort(arr)\n",
        "print(arr)\n"
      ]
    },
    {
      "cell_type": "markdown",
      "source": [
        "input : arr = [100, 30, 160, 40, 200, 75, 15, 90]\n",
        "\n",
        "bubble_sort(arr)\n",
        "\n",
        "print(arr)\n",
        "\n",
        "output: [15, 30, 40, 75, 90, 100, 160, 200]"
      ],
      "metadata": {
        "id": "yA0gYm0c9pJS"
      }
    },
    {
      "cell_type": "code",
      "source": [
        "def bubble_sort(arr): # tạo hàm có tên bubble_sort có biến là arr\n",
        "  for i in range(len(arr)):# duyệt mảng từ vị trí đầu tiên đến n\n",
        "    for j in range(len(arr) - 1):\n",
        "      if arr[j] > arr[j+1]: # so sánh phần tử thứ j với phần tử j + 1\n",
        "        arr[j], arr[j+1] = arr[j+1], arr[j] # hoán đổi vị trí thứ j và j+1\n",
        "arr = [39, 25, 16, 20]\n",
        "bubble_sort(arr)\n",
        "print(arr)"
      ],
      "metadata": {
        "colab": {
          "base_uri": "https://localhost:8080/"
        },
        "id": "RnV8QuF592jB",
        "outputId": "8dbf25ae-981a-4aa3-c6bc-66d2383ffd8b"
      },
      "execution_count": 3,
      "outputs": [
        {
          "output_type": "stream",
          "name": "stdout",
          "text": [
            "[16, 20, 25, 39]\n"
          ]
        }
      ]
    },
    {
      "cell_type": "code",
      "source": [
        "def insertion_Sort(arr):\n",
        "  for i in range(1, len(arr)):\n",
        "    insert = arr[i]\n",
        "    j = i-1\n",
        "    while (j >= 0 and insert < arr[j]) :\n",
        "      arr[j + 1] = arr[j]\n",
        "      j -= 1\n",
        "    arr[j + 1] = insert\n",
        "arr = [14, 33, 27, 10, 35, 19, 42, 44]\n",
        "insertion_Sort(arr)\n",
        "for i in range(len(arr)):\n",
        "  print (\"% d\" % arr[i])\n"
      ],
      "metadata": {
        "colab": {
          "base_uri": "https://localhost:8080/"
        },
        "id": "bxQHUFcE-VS9",
        "outputId": "3047c207-528b-4548-8fe4-abe440a737e2"
      },
      "execution_count": 4,
      "outputs": [
        {
          "output_type": "stream",
          "name": "stdout",
          "text": [
            " 10\n",
            " 14\n",
            " 19\n",
            " 27\n",
            " 33\n",
            " 35\n",
            " 42\n",
            " 44\n"
          ]
        }
      ]
    },
    {
      "cell_type": "code",
      "source": [
        "import math\n",
        "import sys\n",
        "arr = [50, 15, 12, 9]\n",
        "for i in range(len(arr)):\n",
        "  minimum = i\n",
        "for j in range(i+1, len(arr)):\n",
        "  if arr[minimum] > arr[j]:\n",
        "    minimum = j\n",
        "arr[i], arr[minimum] = arr[minimum], arr[i]\n",
        "print (\"Mang duoc sap xep la:\")\n",
        "for i in range(len(arr)):\n",
        "  print(\"%d\" %arr[i])"
      ],
      "metadata": {
        "colab": {
          "base_uri": "https://localhost:8080/"
        },
        "id": "z-EhgZB7-l3P",
        "outputId": "7bf21edc-90be-497f-9291-bbf4fd2f5f40"
      },
      "execution_count": 5,
      "outputs": [
        {
          "output_type": "stream",
          "name": "stdout",
          "text": [
            "Mang duoc sap xep la:\n",
            "50\n",
            "15\n",
            "12\n",
            "9\n"
          ]
        }
      ]
    },
    {
      "cell_type": "code",
      "source": [
        "def selection_sort(arr):\n",
        "  for i in range(len(arr)): # duyệt mảng từ vị trí đầu tiên đến n\n",
        "    min = i\n",
        "  for j in range(i + 1, len(arr)):\n",
        "    if arr[j] < arr[min]: # so sánh phần tử thứ j với phần tử min\n",
        "      min = j\n",
        "    arr[min], arr[i] = arr[i], arr[min] # hoán đổi vị trí thứ i với phần tử min\n",
        "  return arr\n",
        "arr = [65, 27, 16, 24, 3]\n",
        "selection_sort(arr)\n"
      ],
      "metadata": {
        "colab": {
          "base_uri": "https://localhost:8080/"
        },
        "id": "UaxWUuge-vZb",
        "outputId": "91d694ad-1d39-4275-de89-cf0416b0b780"
      },
      "execution_count": 6,
      "outputs": [
        {
          "output_type": "execute_result",
          "data": {
            "text/plain": [
              "[65, 27, 16, 24, 3]"
            ]
          },
          "metadata": {},
          "execution_count": 6
        }
      ]
    }
  ]
}