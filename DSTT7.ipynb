{
  "nbformat": 4,
  "nbformat_minor": 0,
  "metadata": {
    "colab": {
      "provenance": [],
      "authorship_tag": "ABX9TyO/JX3xJX3OW3LxpSWjAdvm",
      "include_colab_link": true
    },
    "kernelspec": {
      "name": "python3",
      "display_name": "Python 3"
    },
    "language_info": {
      "name": "python"
    }
  },
  "cells": [
    {
      "cell_type": "markdown",
      "metadata": {
        "id": "view-in-github",
        "colab_type": "text"
      },
      "source": [
        "<a href=\"https://colab.research.google.com/github/Nguyenhunggiabao/ThucHanhToanCC/blob/main/DSTT7.ipynb\" target=\"_parent\"><img src=\"https://colab.research.google.com/assets/colab-badge.svg\" alt=\"Open In Colab\"/></a>"
      ]
    },
    {
      "cell_type": "markdown",
      "source": [
        "Nguyễn Hùng Gia Bảo "
      ],
      "metadata": {
        "id": "rd7u2Hc2iESS"
      }
    },
    {
      "cell_type": "markdown",
      "source": [
        "CHƯƠNG 7: KHÔNG GIAN VECTOR VÀ ÁNH XẠ TUYẾN TÍNH (PHẦN 1)"
      ],
      "metadata": {
        "id": "A4bMBDYHiGrz"
      }
    },
    {
      "cell_type": "markdown",
      "source": [
        "Giới thiệu một số ứng dụng của tích vector (dot product)"
      ],
      "metadata": {
        "id": "IrrU4O_oiKJY"
      }
    },
    {
      "cell_type": "code",
      "source": [
        "import numpy as np\n",
        "signals = np.array([[1,2],[3,4],[10,0]])\n",
        "sample = np.array([3,-1])\n",
        "np.inner(signals, sample)"
      ],
      "metadata": {
        "colab": {
          "base_uri": "https://localhost:8080/"
        },
        "id": "M4-QYcRpiK9-",
        "outputId": "b48262a3-090b-4bed-c6d6-f862cf99747b"
      },
      "execution_count": 1,
      "outputs": [
        {
          "output_type": "execute_result",
          "data": {
            "text/plain": [
              "array([ 1,  5, 30])"
            ]
          },
          "metadata": {},
          "execution_count": 1
        }
      ]
    },
    {
      "cell_type": "code",
      "source": [
        "import numpy as np\n",
        "A = np.array([0,0,-1,2,3,-1,0,1,-1,-1])\n",
        "search_vector = np.array([0,1,-1])\n",
        "len(A), len(search_vector) "
      ],
      "metadata": {
        "colab": {
          "base_uri": "https://localhost:8080/"
        },
        "id": "dEnOyFtBiQjZ",
        "outputId": "0d54c5a2-bed7-431f-cfa4-77bdece6873e"
      },
      "execution_count": 2,
      "outputs": [
        {
          "output_type": "execute_result",
          "data": {
            "text/plain": [
              "(10, 3)"
            ]
          },
          "metadata": {},
          "execution_count": 2
        }
      ]
    },
    {
      "cell_type": "code",
      "source": [
        "B = np.array([1])\n",
        "B = np.resize(B, (len(A)-len(search_vector)+1, len(search_vector)))\n",
        "B = np.asmatrix(B)\n",
        "for i in range(len(A)-len(search_vector)+1): \n",
        " for j in range(len(search_vector)): \n",
        "   B[i,j] = A[i+j] "
      ],
      "metadata": {
        "id": "KQ0bhrlFiT_e"
      },
      "execution_count": 4,
      "outputs": []
    },
    {
      "cell_type": "code",
      "source": [
        "C = np.inner(B, search_vector)\n",
        "for i in range(len(A)-len(search_vector)+1): \n",
        " if ( C[0,i] == np.inner(search_vector, search_vector) ):\n",
        "   print (i, B[i]) "
      ],
      "metadata": {
        "colab": {
          "base_uri": "https://localhost:8080/"
        },
        "id": "-UQ47tNViarM",
        "outputId": "4f924422-e67e-4f92-da99-b6f5946c54c1"
      },
      "execution_count": 5,
      "outputs": [
        {
          "output_type": "stream",
          "name": "stdout",
          "text": [
            "6 [[ 0  1 -1]]\n"
          ]
        }
      ]
    },
    {
      "cell_type": "code",
      "source": [],
      "metadata": {
        "id": "DJvNoMAWigDQ"
      },
      "execution_count": null,
      "outputs": []
    }
  ]
}