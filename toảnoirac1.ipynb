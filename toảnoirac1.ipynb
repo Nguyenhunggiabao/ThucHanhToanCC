{
  "nbformat": 4,
  "nbformat_minor": 0,
  "metadata": {
    "colab": {
      "name": "Untitled9.ipynb",
      "provenance": [],
      "collapsed_sections": [],
      "authorship_tag": "ABX9TyMM1LyAfXvJrYsr07hF55ch",
      "include_colab_link": true
    },
    "kernelspec": {
      "name": "python3",
      "display_name": "Python 3"
    },
    "language_info": {
      "name": "python"
    }
  },
  "cells": [
    {
      "cell_type": "markdown",
      "metadata": {
        "id": "view-in-github",
        "colab_type": "text"
      },
      "source": [
        "<a href=\"https://colab.research.google.com/github/Nguyenhunggiabao/ThucHanhToanCC/blob/main/to%E1%BA%A3noirac1.ipynb\" target=\"_parent\"><img src=\"https://colab.research.google.com/assets/colab-badge.svg\" alt=\"Open In Colab\"/></a>"
      ]
    },
    {
      "cell_type": "markdown",
      "source": [
        "1.1. Luận lý trong Python "
      ],
      "metadata": {
        "id": "vQu3cFmZB3Dl"
      }
    },
    {
      "cell_type": "code",
      "execution_count": 1,
      "metadata": {
        "colab": {
          "base_uri": "https://localhost:8080/"
        },
        "id": "hJwVEZJgBYQR",
        "outputId": "e3561d4c-6971-4682-dd84-f50e04dc4426"
      },
      "outputs": [
        {
          "output_type": "execute_result",
          "data": {
            "text/plain": [
              "False"
            ]
          },
          "metadata": {},
          "execution_count": 1
        }
      ],
      "source": [
        "a = True \n",
        "b = False\n",
        "a and b "
      ]
    },
    {
      "cell_type": "code",
      "source": [
        " a or b "
      ],
      "metadata": {
        "colab": {
          "base_uri": "https://localhost:8080/"
        },
        "id": "OIEAEs0MBoRv",
        "outputId": "09ac47d5-d5a3-413c-dd7c-051cd1994f3e"
      },
      "execution_count": 2,
      "outputs": [
        {
          "output_type": "execute_result",
          "data": {
            "text/plain": [
              "True"
            ]
          },
          "metadata": {},
          "execution_count": 2
        }
      ]
    },
    {
      "cell_type": "code",
      "source": [
        "a^b "
      ],
      "metadata": {
        "colab": {
          "base_uri": "https://localhost:8080/"
        },
        "id": "CFbDdcJ2BseF",
        "outputId": "1ff379e9-43c3-4998-91e7-95b40a55514e"
      },
      "execution_count": 4,
      "outputs": [
        {
          "output_type": "execute_result",
          "data": {
            "text/plain": [
              "True"
            ]
          },
          "metadata": {},
          "execution_count": 4
        }
      ]
    },
    {
      "cell_type": "markdown",
      "source": [
        "1.2. Biểu thức điều kiện if "
      ],
      "metadata": {
        "id": "Ty36e14JB7CM"
      }
    },
    {
      "cell_type": "code",
      "source": [
        "def kiemtra_nuocsoi(nhiet_do):\n",
        "  if nhiet_do < 100:\n",
        "    return \"Nuoc chua soi!\"\n",
        "  else:\n",
        "    return \"Nuoc da soi!\" \n"
      ],
      "metadata": {
        "id": "sdVF-9CVB_tN"
      },
      "execution_count": 5,
      "outputs": []
    },
    {
      "cell_type": "code",
      "source": [
        " kiemtra_nuocsoi(100) "
      ],
      "metadata": {
        "colab": {
          "base_uri": "https://localhost:8080/",
          "height": 35
        },
        "id": "pTsQmoYKCXik",
        "outputId": "8bbf0ee4-6b8d-4702-e83d-161f1d00a4a6"
      },
      "execution_count": 6,
      "outputs": [
        {
          "output_type": "execute_result",
          "data": {
            "text/plain": [
              "'Nuoc da soi!'"
            ],
            "application/vnd.google.colaboratory.intrinsic+json": {
              "type": "string"
            }
          },
          "metadata": {},
          "execution_count": 6
        }
      ]
    },
    {
      "cell_type": "code",
      "source": [
        "kiemtra_nuocsoi(99) "
      ],
      "metadata": {
        "colab": {
          "base_uri": "https://localhost:8080/",
          "height": 35
        },
        "id": "eIawAajHCent",
        "outputId": "15eef16e-5f97-4737-ff00-d575a3384324"
      },
      "execution_count": 7,
      "outputs": [
        {
          "output_type": "execute_result",
          "data": {
            "text/plain": [
              "'Nuoc chua soi!'"
            ],
            "application/vnd.google.colaboratory.intrinsic+json": {
              "type": "string"
            }
          },
          "metadata": {},
          "execution_count": 7
        }
      ]
    },
    {
      "cell_type": "code",
      "source": [
        "def kiemtra_nuocsoi(nhiet_do):\n",
        "  return 'Nuoc' + ('da soi!' if nhiet_do == 100 else 'chua soi')"
      ],
      "metadata": {
        "id": "SCVkkomKCenE"
      },
      "execution_count": 8,
      "outputs": []
    },
    {
      "cell_type": "code",
      "source": [
        "kiemtra_nuocsoi(99) "
      ],
      "metadata": {
        "colab": {
          "base_uri": "https://localhost:8080/",
          "height": 35
        },
        "id": "GeAwFAFEDGQc",
        "outputId": "e38c5c44-bb7b-4920-823a-3ccf9001285d"
      },
      "execution_count": 9,
      "outputs": [
        {
          "output_type": "execute_result",
          "data": {
            "text/plain": [
              "'Nuocchua soi'"
            ],
            "application/vnd.google.colaboratory.intrinsic+json": {
              "type": "string"
            }
          },
          "metadata": {},
          "execution_count": 9
        }
      ]
    },
    {
      "cell_type": "code",
      "source": [
        " kiemtra_nuocsoi(100) "
      ],
      "metadata": {
        "colab": {
          "base_uri": "https://localhost:8080/",
          "height": 35
        },
        "id": "HrmeqDJCDIu8",
        "outputId": "2a370145-0972-45f5-e468-22a0eb5df4c9"
      },
      "execution_count": 10,
      "outputs": [
        {
          "output_type": "execute_result",
          "data": {
            "text/plain": [
              "'Nuocda soi!'"
            ],
            "application/vnd.google.colaboratory.intrinsic+json": {
              "type": "string"
            }
          },
          "metadata": {},
          "execution_count": 10
        }
      ]
    },
    {
      "cell_type": "code",
      "source": [
        "ds_dau=[]\n",
        "for diem_so in range(10):\n",
        "  if diem_so > 5:\n",
        "    ds_dau.append(str(diem_so)) "
      ],
      "metadata": {
        "id": "oyW20AbaDXCT"
      },
      "execution_count": 15,
      "outputs": []
    },
    {
      "cell_type": "code",
      "source": [
        "ds_dau"
      ],
      "metadata": {
        "colab": {
          "base_uri": "https://localhost:8080/"
        },
        "id": "FQh_t9TIECTr",
        "outputId": "037918dd-267e-46cf-96ec-2cfd9512acf8"
      },
      "execution_count": 17,
      "outputs": [
        {
          "output_type": "execute_result",
          "data": {
            "text/plain": [
              "['6', '7', '8', '9']"
            ]
          },
          "metadata": {},
          "execution_count": 17
        }
      ]
    },
    {
      "cell_type": "code",
      "source": [
        "ds_dau = [str(diem_so) for value in range(10) if diem_so > 5] "
      ],
      "metadata": {
        "id": "a7qMlZ_uEHHq"
      },
      "execution_count": 18,
      "outputs": []
    },
    {
      "cell_type": "code",
      "source": [
        "ds_dau"
      ],
      "metadata": {
        "colab": {
          "base_uri": "https://localhost:8080/"
        },
        "id": "Ch0HSI_rEHGb",
        "outputId": "c52b371f-8013-4400-d52a-f22339472958"
      },
      "execution_count": 19,
      "outputs": [
        {
          "output_type": "execute_result",
          "data": {
            "text/plain": [
              "['9', '9', '9', '9', '9', '9', '9', '9', '9', '9']"
            ]
          },
          "metadata": {},
          "execution_count": 19
        }
      ]
    },
    {
      "cell_type": "markdown",
      "source": [
        "1.3. Thứ tự tính toán trong Python \n"
      ],
      "metadata": {
        "id": "jO_4t-2gEZ5r"
      }
    },
    {
      "cell_type": "code",
      "source": [
        "a = True \n",
        "b = False\n",
        "if a == b and (1/0>0):\n",
        "  print('a=b')\n",
        "else:\n",
        "  print ('a khac b')"
      ],
      "metadata": {
        "colab": {
          "base_uri": "https://localhost:8080/"
        },
        "id": "ilo-ao3MEcRD",
        "outputId": "642c6720-36e8-4414-e7ff-cf1a26407ce1"
      },
      "execution_count": 22,
      "outputs": [
        {
          "output_type": "stream",
          "name": "stdout",
          "text": [
            "a khac b\n"
          ]
        }
      ]
    },
    {
      "cell_type": "markdown",
      "source": [
        "2. Dữ liệu dạng tập hợp trong Python: Set"
      ],
      "metadata": {
        "id": "GWo0IP_6FUnr"
      }
    },
    {
      "cell_type": "markdown",
      "source": [
        "ví dụ 1 "
      ],
      "metadata": {
        "id": "OrNwKTAHFlC8"
      }
    },
    {
      "cell_type": "code",
      "source": [
        "S = [2*x for x in range(20)] "
      ],
      "metadata": {
        "id": "igqC8wuOFSzT"
      },
      "execution_count": 23,
      "outputs": []
    },
    {
      "cell_type": "code",
      "source": [
        "S "
      ],
      "metadata": {
        "colab": {
          "base_uri": "https://localhost:8080/"
        },
        "id": "o9I7v9oPFhbT",
        "outputId": "2a36e53f-61e2-43ea-a93a-63640c5b47a6"
      },
      "execution_count": 24,
      "outputs": [
        {
          "output_type": "execute_result",
          "data": {
            "text/plain": [
              "[0, 2, 4, 6, 8, 10, 12, 14, 16, 18, 20, 22, 24, 26, 28, 30, 32, 34, 36, 38]"
            ]
          },
          "metadata": {},
          "execution_count": 24
        }
      ]
    },
    {
      "cell_type": "markdown",
      "source": [
        "ví dụ 2 "
      ],
      "metadata": {
        "id": "SjFRrRS4Fopb"
      }
    },
    {
      "cell_type": "code",
      "source": [
        "A = set([x for x in range(-50, 50) if x**2 + x - 6 == 0])\n",
        "B = set([2, -3]) "
      ],
      "metadata": {
        "id": "YdKKQ9l4Fq4S"
      },
      "execution_count": 25,
      "outputs": []
    },
    {
      "cell_type": "code",
      "source": [
        "A == B "
      ],
      "metadata": {
        "colab": {
          "base_uri": "https://localhost:8080/"
        },
        "id": "lvVWU53fFwEa",
        "outputId": "71fa9fc7-0003-4df5-bd87-279b35f9e836"
      },
      "execution_count": 26,
      "outputs": [
        {
          "output_type": "execute_result",
          "data": {
            "text/plain": [
              "True"
            ]
          },
          "metadata": {},
          "execution_count": 26
        }
      ]
    },
    {
      "cell_type": "code",
      "source": [
        "A = set([x for x in range(-50, 50) if x**2 + x - 6 == 0])\n",
        "B = set([-50, 50])"
      ],
      "metadata": {
        "id": "gDC1jOwqF8o6"
      },
      "execution_count": 29,
      "outputs": []
    },
    {
      "cell_type": "code",
      "source": [
        "A == B"
      ],
      "metadata": {
        "colab": {
          "base_uri": "https://localhost:8080/"
        },
        "id": "xCNVpFzMGEdE",
        "outputId": "b525ac2b-dd68-49fe-e86d-603c54ea36e4"
      },
      "execution_count": 30,
      "outputs": [
        {
          "output_type": "execute_result",
          "data": {
            "text/plain": [
              "False"
            ]
          },
          "metadata": {},
          "execution_count": 30
        }
      ]
    },
    {
      "cell_type": "markdown",
      "source": [
        "Ví dụ 3: Xây dựng tập các số nguyên tố nhỏ hơn 40 "
      ],
      "metadata": {
        "id": "gi_HnhxBFzW7"
      }
    },
    {
      "cell_type": "code",
      "source": [
        "def isPrime(N):\n",
        "  for i in [ x+1 for x in range(N) ]:\n",
        "    if N % i == 0 and (i!=1 and i!=N):\n",
        "      return False\n",
        "  return True"
      ],
      "metadata": {
        "id": "w5brnOsMF11y"
      },
      "execution_count": 31,
      "outputs": []
    },
    {
      "cell_type": "code",
      "source": [
        "S_prime = set([x for x in range(40) if (isPrime(x) == True and x>0)]) "
      ],
      "metadata": {
        "id": "XimubBHDGfca"
      },
      "execution_count": 45,
      "outputs": []
    },
    {
      "cell_type": "code",
      "source": [
        "S_prime"
      ],
      "metadata": {
        "colab": {
          "base_uri": "https://localhost:8080/"
        },
        "id": "NJEckI2vGnOa",
        "outputId": "3bbf9a8c-5497-44f4-e6d7-5dae9c9b1b5e"
      },
      "execution_count": 48,
      "outputs": [
        {
          "output_type": "execute_result",
          "data": {
            "text/plain": [
              "{1, 2, 3, 5, 7, 11, 13, 17, 19, 23, 29, 31, 37}"
            ]
          },
          "metadata": {},
          "execution_count": 48
        }
      ]
    },
    {
      "cell_type": "markdown",
      "source": [
        "Ví dụ 4: Tạo tập tích từ hai tập (set product). Giả sử, chúng ta cần lấy 2 lần giá trị nghiệm, 20\n",
        "lần giá trị nghiệm và 200 lần giá trị nghiệm của phương trình \u0004\n",
        "\u000f + \u0004 − 6 = 0. Chúng ta có thể\n",
        "viết lệnh như sau: "
      ],
      "metadata": {
        "id": "PiH11HOOIJpS"
      }
    },
    {
      "cell_type": "code",
      "source": [
        "Apro = set([2*x *y for x in range(-50,50) if x**2+x-6 == 0 for y in [1, 10, 100]])"
      ],
      "metadata": {
        "id": "9goye1kTINhJ"
      },
      "execution_count": 52,
      "outputs": []
    },
    {
      "cell_type": "code",
      "source": [
        "Apro "
      ],
      "metadata": {
        "colab": {
          "base_uri": "https://localhost:8080/"
        },
        "id": "KauQuCf3ISER",
        "outputId": "3135b997-4736-4a1f-bd12-425bb53aa41c"
      },
      "execution_count": 53,
      "outputs": [
        {
          "output_type": "execute_result",
          "data": {
            "text/plain": [
              "{-600, -60, -6, 4, 40, 400}"
            ]
          },
          "metadata": {},
          "execution_count": 53
        }
      ]
    },
    {
      "cell_type": "markdown",
      "source": [
        "Ví dụ 5: Ý tưởng tương tự ví dụ 4 nhưng tập tích được tạo giữ hai nhóm giá trị từ 2 tập nguồn: "
      ],
      "metadata": {
        "id": "ahklhIviIX7p"
      }
    },
    {
      "cell_type": "code",
      "source": [
        "AB = set([ (x, 2*y) for x in range(-50,50) if x**2+x-6 == 0 for y in [1, 10, 100]]) "
      ],
      "metadata": {
        "id": "hN3UowyaIbsJ"
      },
      "execution_count": 54,
      "outputs": []
    },
    {
      "cell_type": "code",
      "source": [
        "AB "
      ],
      "metadata": {
        "colab": {
          "base_uri": "https://localhost:8080/"
        },
        "id": "61fy6WAmIe4x",
        "outputId": "97eb6958-c91b-4b4c-be9d-e95fb0d70be0"
      },
      "execution_count": 55,
      "outputs": [
        {
          "output_type": "execute_result",
          "data": {
            "text/plain": [
              "{(-3, 2), (-3, 20), (-3, 200), (2, 2), (2, 20), (2, 200)}"
            ]
          },
          "metadata": {},
          "execution_count": 55
        }
      ]
    },
    {
      "cell_type": "markdown",
      "source": [
        "3. Dữ liệu dạng tập hợp trong Sympy: FiniteSet"
      ],
      "metadata": {
        "id": "DcQEePBUIhBB"
      }
    },
    {
      "cell_type": "markdown",
      "source": [
        "3.1.1. Xây dựng tập hợp "
      ],
      "metadata": {
        "id": "E1AJOutgI1hY"
      }
    },
    {
      "cell_type": "code",
      "source": [
        "from sympy import FiniteSet\n",
        "s = FiniteSet(3, 5, 7)\n",
        "s "
      ],
      "metadata": {
        "colab": {
          "base_uri": "https://localhost:8080/",
          "height": 37
        },
        "id": "EquC51alJDww",
        "outputId": "343d077b-721e-456f-cd7d-ef4e231cf8d6"
      },
      "execution_count": 56,
      "outputs": [
        {
          "output_type": "execute_result",
          "data": {
            "text/plain": [
              "FiniteSet(3, 5, 7)"
            ],
            "text/latex": "$\\displaystyle \\left\\{3, 5, 7\\right\\}$"
          },
          "metadata": {},
          "execution_count": 56
        }
      ]
    },
    {
      "cell_type": "code",
      "source": [
        "from sympy import FiniteSet\n",
        "from fractions import Fraction\n",
        "s = FiniteSet(1, 1.5, Fraction(1, 5))\n",
        "s"
      ],
      "metadata": {
        "colab": {
          "base_uri": "https://localhost:8080/",
          "height": 58
        },
        "id": "MvkKHXSFJK9Q",
        "outputId": "6e60a384-810f-4615-bc30-4b197072d22d"
      },
      "execution_count": 57,
      "outputs": [
        {
          "output_type": "execute_result",
          "data": {
            "text/plain": [
              "FiniteSet(1/5, 1, 1.5)"
            ],
            "text/latex": "$\\displaystyle \\left\\{\\frac{1}{5}, 1, 1.5\\right\\}$"
          },
          "metadata": {},
          "execution_count": 57
        }
      ]
    },
    {
      "cell_type": "code",
      "source": [
        "s = FiniteSet(1, 1.5, Fraction(8, 2))\n",
        "s "
      ],
      "metadata": {
        "colab": {
          "base_uri": "https://localhost:8080/",
          "height": 37
        },
        "id": "3MC7tkXnJS0g",
        "outputId": "d1610b38-15bd-45b9-b06e-4e9777419308"
      },
      "execution_count": 58,
      "outputs": [
        {
          "output_type": "execute_result",
          "data": {
            "text/plain": [
              "FiniteSet(1, 1.5, 4)"
            ],
            "text/latex": "$\\displaystyle \\left\\{1, 1.5, 4\\right\\}$"
          },
          "metadata": {},
          "execution_count": 58
        }
      ]
    },
    {
      "cell_type": "code",
      "source": [
        "len(s)"
      ],
      "metadata": {
        "colab": {
          "base_uri": "https://localhost:8080/"
        },
        "id": "pygwFQ6IJVey",
        "outputId": "d39e8856-4311-4afc-f8f4-f0b0923f9498"
      },
      "execution_count": 59,
      "outputs": [
        {
          "output_type": "execute_result",
          "data": {
            "text/plain": [
              "3"
            ]
          },
          "metadata": {},
          "execution_count": 59
        }
      ]
    },
    {
      "cell_type": "markdown",
      "source": [
        "3.1.2. Kiểm tra một số trong một tập hợp"
      ],
      "metadata": {
        "id": "7a-_E5lwJcdN"
      }
    },
    {
      "cell_type": "code",
      "source": [
        "8 in s "
      ],
      "metadata": {
        "colab": {
          "base_uri": "https://localhost:8080/"
        },
        "id": "w41wSoeLJdHI",
        "outputId": "c083c9f9-ffdd-4a2d-d3a8-544055025c52"
      },
      "execution_count": 60,
      "outputs": [
        {
          "output_type": "execute_result",
          "data": {
            "text/plain": [
              "False"
            ]
          },
          "metadata": {},
          "execution_count": 60
        }
      ]
    },
    {
      "cell_type": "code",
      "source": [
        "1 in s "
      ],
      "metadata": {
        "colab": {
          "base_uri": "https://localhost:8080/"
        },
        "id": "qw1t4uLZJfbP",
        "outputId": "b9899266-5f92-424f-b659-0b5284a7f075"
      },
      "execution_count": 61,
      "outputs": [
        {
          "output_type": "execute_result",
          "data": {
            "text/plain": [
              "True"
            ]
          },
          "metadata": {},
          "execution_count": 61
        }
      ]
    },
    {
      "cell_type": "markdown",
      "source": [
        "3.1.3. Tạo tập hợp rỗng"
      ],
      "metadata": {
        "id": "pIZyWLoRJi2f"
      }
    },
    {
      "cell_type": "code",
      "source": [
        "from sympy import FiniteSet\n",
        "s = FiniteSet()\n",
        "s"
      ],
      "metadata": {
        "colab": {
          "base_uri": "https://localhost:8080/",
          "height": 37
        },
        "id": "aE8S3E9aJkz_",
        "outputId": "40701b70-df4a-4176-bfb2-e341ea540e4f"
      },
      "execution_count": 67,
      "outputs": [
        {
          "output_type": "execute_result",
          "data": {
            "text/plain": [
              "EmptySet"
            ],
            "text/latex": "$\\displaystyle \\emptyset$"
          },
          "metadata": {},
          "execution_count": 67
        }
      ]
    },
    {
      "cell_type": "code",
      "source": [
        "from sympy import EmptySet\n",
        "s = EmptySet\n",
        "s "
      ],
      "metadata": {
        "colab": {
          "base_uri": "https://localhost:8080/",
          "height": 37
        },
        "id": "AYTJTsYEKOAA",
        "outputId": "f732057f-8caa-49ee-bf11-60b068d09f19"
      },
      "execution_count": 68,
      "outputs": [
        {
          "output_type": "execute_result",
          "data": {
            "text/plain": [
              "EmptySet"
            ],
            "text/latex": "$\\displaystyle \\emptyset$"
          },
          "metadata": {},
          "execution_count": 68
        }
      ]
    },
    {
      "cell_type": "markdown",
      "source": [
        "3.1.4. Tạo tập hợp từ List hoặc Tuple"
      ],
      "metadata": {
        "id": "gFWjB2VtKaxo"
      }
    },
    {
      "cell_type": "code",
      "source": [
        "phantu = [2, 4, 6, 8, 10]\n",
        "tap = FiniteSet(*phantu)\n",
        "tap"
      ],
      "metadata": {
        "colab": {
          "base_uri": "https://localhost:8080/",
          "height": 37
        },
        "id": "luNFD1G2KdnB",
        "outputId": "c386f77a-f95b-4eae-c42f-61e3f28cad90"
      },
      "execution_count": 69,
      "outputs": [
        {
          "output_type": "execute_result",
          "data": {
            "text/plain": [
              "FiniteSet(2, 4, 6, 8, 10)"
            ],
            "text/latex": "$\\displaystyle \\left\\{2, 4, 6, 8, 10\\right\\}$"
          },
          "metadata": {},
          "execution_count": 69
        }
      ]
    },
    {
      "cell_type": "markdown",
      "source": [
        "3.1.5. Loại bỏ các phần tử trùng và sắp thứ tự tập hợp"
      ],
      "metadata": {
        "id": "kNPDpsO0KkfX"
      }
    },
    {
      "cell_type": "code",
      "source": [
        "from sympy import FiniteSet\n",
        "phantu = [6, 7, 8, 9, 6, 7]\n",
        "taphop = FiniteSet(*phantu)\n",
        "taphop "
      ],
      "metadata": {
        "colab": {
          "base_uri": "https://localhost:8080/",
          "height": 37
        },
        "id": "du1rXORtKiQ_",
        "outputId": "7b3af361-1d7b-41ea-cf9d-e54c388edf3f"
      },
      "execution_count": 70,
      "outputs": [
        {
          "output_type": "execute_result",
          "data": {
            "text/plain": [
              "FiniteSet(6, 7, 8, 9)"
            ],
            "text/latex": "$\\displaystyle \\left\\{6, 7, 8, 9\\right\\}$"
          },
          "metadata": {},
          "execution_count": 70
        }
      ]
    },
    {
      "cell_type": "code",
      "source": [
        "for thanhphan in taphop:\n",
        "  print(thanhphan) "
      ],
      "metadata": {
        "colab": {
          "base_uri": "https://localhost:8080/"
        },
        "id": "KVJ1zNTsKxuv",
        "outputId": "7fb8c6bc-49cd-4d11-bf22-4c3cb3ff463b"
      },
      "execution_count": 71,
      "outputs": [
        {
          "output_type": "stream",
          "name": "stdout",
          "text": [
            "6\n",
            "7\n",
            "8\n",
            "9\n"
          ]
        }
      ]
    },
    {
      "cell_type": "code",
      "source": [
        "from sympy import FiniteSet\n",
        "ds1 = [2, 4, 6]\n",
        "ds2 = [6, 2, 4]\n",
        "ds1 == ds2 "
      ],
      "metadata": {
        "colab": {
          "base_uri": "https://localhost:8080/"
        },
        "id": "qmkx0teUK76w",
        "outputId": "6721aec8-af9b-4cc7-9239-b457c2244378"
      },
      "execution_count": 72,
      "outputs": [
        {
          "output_type": "execute_result",
          "data": {
            "text/plain": [
              "False"
            ]
          },
          "metadata": {},
          "execution_count": 72
        }
      ]
    },
    {
      "cell_type": "code",
      "source": [
        "s = FiniteSet(*ds1)\n",
        "t = FiniteSet(*ds2)\n",
        "s == t "
      ],
      "metadata": {
        "colab": {
          "base_uri": "https://localhost:8080/"
        },
        "id": "23x3lggyLD25",
        "outputId": "91cb35b1-ac7c-4d42-edfe-f2e13d9ccb54"
      },
      "execution_count": 73,
      "outputs": [
        {
          "output_type": "execute_result",
          "data": {
            "text/plain": [
              "True"
            ]
          },
          "metadata": {},
          "execution_count": 73
        }
      ]
    },
    {
      "cell_type": "markdown",
      "source": [
        "3.2. Tập con (subset), tập cha (superset) và tập các tập con (power set) "
      ],
      "metadata": {
        "id": "XyXRqptCLJgA"
      }
    },
    {
      "cell_type": "code",
      "source": [
        "s = FiniteSet(1)\n",
        "t = FiniteSet(1,2)\n",
        "s.is_subset(t) "
      ],
      "metadata": {
        "colab": {
          "base_uri": "https://localhost:8080/"
        },
        "id": "n-gTBFFnLJ8M",
        "outputId": "900c9126-05f9-444b-e3d6-d1bbc53c1679"
      },
      "execution_count": 74,
      "outputs": [
        {
          "output_type": "execute_result",
          "data": {
            "text/plain": [
              "True"
            ]
          },
          "metadata": {},
          "execution_count": 74
        }
      ]
    },
    {
      "cell_type": "code",
      "source": [
        "t.is_subset(s)"
      ],
      "metadata": {
        "colab": {
          "base_uri": "https://localhost:8080/"
        },
        "id": "JdQzn21-LNrf",
        "outputId": "f6bffc6f-7af6-4d79-c89a-823f8d9d6ef6"
      },
      "execution_count": 75,
      "outputs": [
        {
          "output_type": "execute_result",
          "data": {
            "text/plain": [
              "False"
            ]
          },
          "metadata": {},
          "execution_count": 75
        }
      ]
    },
    {
      "cell_type": "code",
      "source": [
        "t.is_subset(t)"
      ],
      "metadata": {
        "colab": {
          "base_uri": "https://localhost:8080/"
        },
        "id": "yvhusL5iLQfu",
        "outputId": "75a82b9c-cd7a-4d85-c11a-be45d04b7c57"
      },
      "execution_count": 76,
      "outputs": [
        {
          "output_type": "execute_result",
          "data": {
            "text/plain": [
              "True"
            ]
          },
          "metadata": {},
          "execution_count": 76
        }
      ]
    },
    {
      "cell_type": "code",
      "source": [
        "s.is_superset(t) "
      ],
      "metadata": {
        "colab": {
          "base_uri": "https://localhost:8080/"
        },
        "id": "sQZ-TiGXLbI2",
        "outputId": "b02a63b4-03fe-4fb7-d041-a23fe5d2f64d"
      },
      "execution_count": 77,
      "outputs": [
        {
          "output_type": "execute_result",
          "data": {
            "text/plain": [
              "False"
            ]
          },
          "metadata": {},
          "execution_count": 77
        }
      ]
    },
    {
      "cell_type": "code",
      "source": [
        "t.is_superset(s) "
      ],
      "metadata": {
        "colab": {
          "base_uri": "https://localhost:8080/"
        },
        "id": "NJP1soQ6LcDW",
        "outputId": "ea4bd5e6-353b-4090-e926-125cee6aadb3"
      },
      "execution_count": 78,
      "outputs": [
        {
          "output_type": "execute_result",
          "data": {
            "text/plain": [
              "True"
            ]
          },
          "metadata": {},
          "execution_count": 78
        }
      ]
    },
    {
      "cell_type": "code",
      "source": [
        "s = FiniteSet(1,2,3)\n",
        "ps = s.powerset() \n",
        "len(ps) \n",
        "ps "
      ],
      "metadata": {
        "colab": {
          "base_uri": "https://localhost:8080/",
          "height": 37
        },
        "id": "cYValsLdLhVd",
        "outputId": "b43b6082-ee4e-48ef-cb93-3512e065e3f7"
      },
      "execution_count": 80,
      "outputs": [
        {
          "output_type": "execute_result",
          "data": {
            "text/plain": [
              "FiniteSet(FiniteSet(1), FiniteSet(1, 2), FiniteSet(1, 3), FiniteSet(1, 2, 3), FiniteSet(2), FiniteSet(2, 3), FiniteSet(3), EmptySet)"
            ],
            "text/latex": "$\\displaystyle \\left\\{\\emptyset, \\left\\{1\\right\\}, \\left\\{2\\right\\}, \\left\\{3\\right\\}, \\left\\{1, 2\\right\\}, \\left\\{1, 3\\right\\}, \\left\\{2, 3\\right\\}, \\left\\{1, 2, 3\\right\\}\\right\\}$"
          },
          "metadata": {},
          "execution_count": 80
        }
      ]
    },
    {
      "cell_type": "code",
      "source": [
        "from sympy import FiniteSet\n",
        "s = FiniteSet(1, 2, 3)\n",
        "t = FiniteSet(3, 2, 1)\n",
        "s.is_proper_subset(t) "
      ],
      "metadata": {
        "colab": {
          "base_uri": "https://localhost:8080/"
        },
        "id": "2aJGJxJNLoSW",
        "outputId": "4c8701f5-2fca-4196-cb6e-3e36716fb112"
      },
      "execution_count": 87,
      "outputs": [
        {
          "output_type": "execute_result",
          "data": {
            "text/plain": [
              "False"
            ]
          },
          "metadata": {},
          "execution_count": 87
        }
      ]
    },
    {
      "cell_type": "code",
      "source": [
        "t.is_proper_powerset(s) "
      ],
      "metadata": {
        "colab": {
          "base_uri": "https://localhost:8080/",
          "height": 165
        },
        "id": "wkDwkRR3Lsmw",
        "outputId": "0e4e0f61-ff10-4686-d2aa-b9a91aab9c6e"
      },
      "execution_count": 89,
      "outputs": [
        {
          "output_type": "error",
          "ename": "AttributeError",
          "evalue": "ignored",
          "traceback": [
            "\u001b[0;31m---------------------------------------------------------------------------\u001b[0m",
            "\u001b[0;31mAttributeError\u001b[0m                            Traceback (most recent call last)",
            "\u001b[0;32m<ipython-input-89-9c4ae1b54b76>\u001b[0m in \u001b[0;36m<module>\u001b[0;34m()\u001b[0m\n\u001b[0;32m----> 1\u001b[0;31m \u001b[0mt\u001b[0m\u001b[0;34m.\u001b[0m\u001b[0mis_proper_powerset\u001b[0m\u001b[0;34m(\u001b[0m\u001b[0ms\u001b[0m\u001b[0;34m)\u001b[0m\u001b[0;34m\u001b[0m\u001b[0;34m\u001b[0m\u001b[0m\n\u001b[0m",
            "\u001b[0;31mAttributeError\u001b[0m: 'FiniteSet' object has no attribute 'is_proper_powerset'"
          ]
        }
      ]
    },
    {
      "cell_type": "code",
      "source": [
        "t = FiniteSet(3, 2, 1, 4)\n",
        "s.is_proper_subset(t) "
      ],
      "metadata": {
        "colab": {
          "base_uri": "https://localhost:8080/"
        },
        "id": "dcvdwcOMMXuX",
        "outputId": "90e89a92-8abd-47a3-b82a-27aacd626770"
      },
      "execution_count": 91,
      "outputs": [
        {
          "output_type": "execute_result",
          "data": {
            "text/plain": [
              "True"
            ]
          },
          "metadata": {},
          "execution_count": 91
        }
      ]
    },
    {
      "cell_type": "code",
      "source": [
        "t.is_proper_ powerset (s) "
      ],
      "metadata": {
        "colab": {
          "base_uri": "https://localhost:8080/",
          "height": 130
        },
        "id": "zIgA6RZUOb0m",
        "outputId": "2934cdc6-1ca1-43b7-e595-d5d6cb7e8814"
      },
      "execution_count": 92,
      "outputs": [
        {
          "output_type": "error",
          "ename": "SyntaxError",
          "evalue": "ignored",
          "traceback": [
            "\u001b[0;36m  File \u001b[0;32m\"<ipython-input-92-46b2f6b6d021>\"\u001b[0;36m, line \u001b[0;32m1\u001b[0m\n\u001b[0;31m    t.is_proper_ powerset (s)\u001b[0m\n\u001b[0m                        ^\u001b[0m\n\u001b[0;31mSyntaxError\u001b[0m\u001b[0;31m:\u001b[0m invalid syntax\n"
          ]
        }
      ]
    },
    {
      "cell_type": "markdown",
      "source": [
        "3.3. Các phép toán trên tập hợp"
      ],
      "metadata": {
        "id": "d30WjXI5OgDm"
      }
    },
    {
      "cell_type": "markdown",
      "source": [
        "3.3.1. Union và Intersection "
      ],
      "metadata": {
        "id": "cwOwztsSOwtV"
      }
    },
    {
      "cell_type": "code",
      "source": [
        "from sympy import FiniteSet\n",
        "s = FiniteSet(2, 4, 6)\n",
        "t = FiniteSet(3, 5, 7)\n",
        "kq = s.union(t)\n",
        "kq"
      ],
      "metadata": {
        "colab": {
          "base_uri": "https://localhost:8080/",
          "height": 37
        },
        "id": "9bSCHp-VOh42",
        "outputId": "87e1721b-734c-4788-8055-933aad5f1d56"
      },
      "execution_count": 93,
      "outputs": [
        {
          "output_type": "execute_result",
          "data": {
            "text/plain": [
              "FiniteSet(2, 3, 4, 5, 6, 7)"
            ],
            "text/latex": "$\\displaystyle \\left\\{2, 3, 4, 5, 6, 7\\right\\}$"
          },
          "metadata": {},
          "execution_count": 93
        }
      ]
    },
    {
      "cell_type": "code",
      "source": [
        "from sympy import FiniteSet\n",
        "u = FiniteSet(10, 20, 50)\n",
        "v = FiniteSet(1, 2, 5)\n",
        "u + v "
      ],
      "metadata": {
        "colab": {
          "base_uri": "https://localhost:8080/",
          "height": 37
        },
        "id": "Iri7zwMiO5R9",
        "outputId": "55e4d9f9-2ebc-4e47-94f5-1c23297832d7"
      },
      "execution_count": 94,
      "outputs": [
        {
          "output_type": "execute_result",
          "data": {
            "text/plain": [
              "FiniteSet(1, 2, 5, 10, 20, 50)"
            ],
            "text/latex": "$\\displaystyle \\left\\{1, 2, 5, 10, 20, 50\\right\\}$"
          },
          "metadata": {},
          "execution_count": 94
        }
      ]
    },
    {
      "cell_type": "code",
      "source": [
        "from sympy import FiniteSet\n",
        "s = FiniteSet(1, 2, 10)\n",
        "t = FiniteSet(1, 3, 10)\n",
        "giao = s.intersect(t)\n",
        "giao "
      ],
      "metadata": {
        "colab": {
          "base_uri": "https://localhost:8080/",
          "height": 37
        },
        "id": "HK_oi7bTPBvl",
        "outputId": "a72a08c7-78d0-43ea-f20b-f8df0c4848fe"
      },
      "execution_count": 96,
      "outputs": [
        {
          "output_type": "execute_result",
          "data": {
            "text/plain": [
              "FiniteSet(1, 10)"
            ],
            "text/latex": "$\\displaystyle \\left\\{1, 10\\right\\}$"
          },
          "metadata": {},
          "execution_count": 96
        }
      ]
    },
    {
      "cell_type": "code",
      "source": [
        "from sympy import FiniteSet\n",
        "s = FiniteSet(1, 2, 10)\n",
        "t = FiniteSet(1, 3, 10)\n",
        "u = FiniteSet(10, 20, 50)\n",
        "hop = s.union(t).union(u)\n",
        "hop "
      ],
      "metadata": {
        "colab": {
          "base_uri": "https://localhost:8080/",
          "height": 37
        },
        "id": "sNpnWjfxPI6q",
        "outputId": "40a601bd-c7a3-43f5-8acd-1d93cd7c94a2"
      },
      "execution_count": 97,
      "outputs": [
        {
          "output_type": "execute_result",
          "data": {
            "text/plain": [
              "FiniteSet(1, 2, 3, 10, 20, 50)"
            ],
            "text/latex": "$\\displaystyle \\left\\{1, 2, 3, 10, 20, 50\\right\\}$"
          },
          "metadata": {},
          "execution_count": 97
        }
      ]
    },
    {
      "cell_type": "code",
      "source": [
        "giao = s.intersect(t).intersect(u)\n",
        "giao"
      ],
      "metadata": {
        "colab": {
          "base_uri": "https://localhost:8080/",
          "height": 37
        },
        "id": "gEiTLf0aPOUJ",
        "outputId": "1ee8530b-5f27-4d8b-c43f-f845557be99b"
      },
      "execution_count": 98,
      "outputs": [
        {
          "output_type": "execute_result",
          "data": {
            "text/plain": [
              "FiniteSet(10)"
            ],
            "text/latex": "$\\displaystyle \\left\\{10\\right\\}$"
          },
          "metadata": {},
          "execution_count": 98
        }
      ]
    },
    {
      "cell_type": "code",
      "source": [
        "from sympy import FiniteSet\n",
        "from sympy import EmptySet\n",
        "u = FiniteSet(10, 20, 50)\n",
        "v = FiniteSet(1, 2, 5)\n",
        "rong = u.intersect(v)\n",
        "rong\n",
        "rong = v.intersect(u)\n",
        "rong"
      ],
      "metadata": {
        "colab": {
          "base_uri": "https://localhost:8080/",
          "height": 37
        },
        "id": "mfVTt9BIPVK4",
        "outputId": "f531f2e1-932f-404e-a39b-56b9205c2c84"
      },
      "execution_count": 100,
      "outputs": [
        {
          "output_type": "execute_result",
          "data": {
            "text/plain": [
              "EmptySet"
            ],
            "text/latex": "$\\displaystyle \\emptyset$"
          },
          "metadata": {},
          "execution_count": 100
        }
      ]
    },
    {
      "cell_type": "markdown",
      "source": [
        "3.3.2. Tích Descart – Cartesian Product"
      ],
      "metadata": {
        "id": "esoXFQ75Plbj"
      }
    },
    {
      "cell_type": "code",
      "source": [
        "from sympy import FiniteSet\n",
        "v = FiniteSet(1, 2, 5)\n",
        "p = v ** 2\n",
        "p"
      ],
      "metadata": {
        "colab": {
          "base_uri": "https://localhost:8080/",
          "height": 38
        },
        "id": "dDvxFmlqPi8e",
        "outputId": "6893a97f-2e6e-4f68-c042-12e36962ca66"
      },
      "execution_count": 101,
      "outputs": [
        {
          "output_type": "execute_result",
          "data": {
            "text/plain": [
              "ProductSet(FiniteSet(1, 2, 5), FiniteSet(1, 2, 5))"
            ],
            "text/latex": "$\\displaystyle \\left\\{1, 2, 5\\right\\}^{2}$"
          },
          "metadata": {},
          "execution_count": 101
        }
      ]
    },
    {
      "cell_type": "code",
      "source": [
        "for phantu in p:\n",
        " print(phantu)"
      ],
      "metadata": {
        "colab": {
          "base_uri": "https://localhost:8080/"
        },
        "id": "Riq_lSGLPsLd",
        "outputId": "33b335d6-ed7a-44e0-b2c6-e61552785502"
      },
      "execution_count": 102,
      "outputs": [
        {
          "output_type": "stream",
          "name": "stdout",
          "text": [
            "(1, 1)\n",
            "(2, 1)\n",
            "(1, 2)\n",
            "(5, 1)\n",
            "(2, 2)\n",
            "(1, 5)\n",
            "(5, 2)\n",
            "(2, 5)\n",
            "(5, 5)\n"
          ]
        }
      ]
    },
    {
      "cell_type": "markdown",
      "source": [
        "3.3.3. Áp dụng công thức cho tập nhiều biến"
      ],
      "metadata": {
        "id": "GiiKsoT0PwxN"
      }
    },
    {
      "cell_type": "code",
      "source": [
        "from sympy import FiniteSet\n",
        "K = FiniteSet(35, 18, 27, 29, 24)\n",
        "for k in K:\n",
        " T = k/10.0\n",
        " print (T, k)"
      ],
      "metadata": {
        "colab": {
          "base_uri": "https://localhost:8080/"
        },
        "id": "nmu8cQGoP0lM",
        "outputId": "af4193cd-f275-4e62-b48e-27ea5d0e7ca9"
      },
      "execution_count": 103,
      "outputs": [
        {
          "output_type": "stream",
          "name": "stdout",
          "text": [
            "1.80000000000000 18\n",
            "2.40000000000000 24\n",
            "2.70000000000000 27\n",
            "2.90000000000000 29\n",
            "3.50000000000000 35\n"
          ]
        }
      ]
    },
    {
      "cell_type": "markdown",
      "source": [
        "3.3.4. Ứng dụng: Tính toán xác suất sự kiện A và sự kiện B cùng xảy ra"
      ],
      "metadata": {
        "id": "DVWe_LgDP6lW"
      }
    },
    {
      "cell_type": "code",
      "source": [
        "from sympy import FiniteSet\n",
        "s = FiniteSet(0, 1, 2, 3, 4, 5, 6, 7, 8, 9) # cac so co the trong bien so\n",
        "a = FiniteSet(2, 3, 5, 7) # cac so nguyen to\n",
        "b = FiniteSet(1, 3, 5, 7, 9) # cac so le\n",
        "e = a.intersect(b)\n",
        "len(e)/len(s)"
      ],
      "metadata": {
        "colab": {
          "base_uri": "https://localhost:8080/"
        },
        "id": "Qs_X6USDP8PU",
        "outputId": "314ec4e6-8ffe-48a5-8112-131aebc12852"
      },
      "execution_count": 104,
      "outputs": [
        {
          "output_type": "execute_result",
          "data": {
            "text/plain": [
              "0.3"
            ]
          },
          "metadata": {},
          "execution_count": 104
        }
      ]
    }
  ]
}