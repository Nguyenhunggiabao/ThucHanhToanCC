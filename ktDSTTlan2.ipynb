{
  "nbformat": 4,
  "nbformat_minor": 0,
  "metadata": {
    "colab": {
      "provenance": [],
      "authorship_tag": "ABX9TyN3N9EuO6xvGUHAAmd/9RYA",
      "include_colab_link": true
    },
    "kernelspec": {
      "name": "python3",
      "display_name": "Python 3"
    },
    "language_info": {
      "name": "python"
    }
  },
  "cells": [
    {
      "cell_type": "markdown",
      "metadata": {
        "id": "view-in-github",
        "colab_type": "text"
      },
      "source": [
        "<a href=\"https://colab.research.google.com/github/Nguyenhunggiabao/ThucHanhToanCC/blob/main/ktDSTTlan2.ipynb\" target=\"_parent\"><img src=\"https://colab.research.google.com/assets/colab-badge.svg\" alt=\"Open In Colab\"/></a>"
      ]
    },
    {
      "cell_type": "markdown",
      "source": [
        "Nguyễn Hùng Gia Bảo "
      ],
      "metadata": {
        "id": "ofSJyqyI3aL5"
      }
    },
    {
      "cell_type": "markdown",
      "source": [
        "kiểm tra giữa kì lần 2 "
      ],
      "metadata": {
        "id": "5mpYq3zj3e7A"
      }
    },
    {
      "cell_type": "markdown",
      "source": [
        "câu 1 a"
      ],
      "metadata": {
        "id": "s7ewN4KF3k7H"
      }
    },
    {
      "cell_type": "code",
      "source": [
        "import numpy as np\n",
        "from numpy import linalg as la\n",
        "\n",
        "w, v = la.eig(np.array([[-1, 2],[3,0]]))\n",
        "print(w)"
      ],
      "metadata": {
        "colab": {
          "base_uri": "https://localhost:8080/"
        },
        "id": "eyVaJtUY582E",
        "outputId": "d1d7c499-535e-4792-978a-8dfbd91f1fd5"
      },
      "execution_count": 2,
      "outputs": [
        {
          "output_type": "stream",
          "name": "stdout",
          "text": [
            "[-3.  2.]\n"
          ]
        }
      ]
    },
    {
      "cell_type": "markdown",
      "source": [
        "câu 1 b "
      ],
      "metadata": {
        "id": "bNPr2J646JHr"
      }
    },
    {
      "cell_type": "code",
      "source": [
        "import numpy as np\n",
        "from numpy import linalg as la\n",
        "\n",
        "w, v = la.eig(np.array([[1,-1,0],[-4,1,0],[0,0,3]]))\n",
        "print(w)"
      ],
      "metadata": {
        "colab": {
          "base_uri": "https://localhost:8080/"
        },
        "id": "O34Q1jfq6KVj",
        "outputId": "64168a7f-f957-4819-df3e-a69087e11822"
      },
      "execution_count": 3,
      "outputs": [
        {
          "output_type": "stream",
          "name": "stdout",
          "text": [
            "[ 3. -1.  3.]\n"
          ]
        }
      ]
    },
    {
      "cell_type": "markdown",
      "source": [
        "câu 2 a"
      ],
      "metadata": {
        "id": "bn6dX7466cqC"
      }
    },
    {
      "cell_type": "code",
      "source": [
        "import numpy as np\n",
        "u = np.array([1,0,3])\n",
        "v = np.array([-2,2,5])\n",
        "tich = np.inner(u,v)\n",
        "print (tich)"
      ],
      "metadata": {
        "colab": {
          "base_uri": "https://localhost:8080/"
        },
        "id": "XWIpo91Z61aS",
        "outputId": "b572b524-5c02-457e-96b1-a0a613258f8d"
      },
      "execution_count": 4,
      "outputs": [
        {
          "output_type": "stream",
          "name": "stdout",
          "text": [
            "13\n"
          ]
        }
      ]
    },
    {
      "cell_type": "markdown",
      "source": [
        "câu 2 b "
      ],
      "metadata": {
        "id": "H7lhefi17rxf"
      }
    },
    {
      "cell_type": "code",
      "source": [
        "import numpy as np\n",
        "u = np.array([1,0,3])\n",
        "np.linalg.norm(u)"
      ],
      "metadata": {
        "colab": {
          "base_uri": "https://localhost:8080/"
        },
        "id": "bwmCMEMd724v",
        "outputId": "c399aff5-d192-4bbc-9e9e-f74f0668b4f6"
      },
      "execution_count": 5,
      "outputs": [
        {
          "output_type": "execute_result",
          "data": {
            "text/plain": [
              "3.1622776601683795"
            ]
          },
          "metadata": {},
          "execution_count": 5
        }
      ]
    },
    {
      "cell_type": "code",
      "source": [
        "import numpy as np\n",
        "v = np.array([-2,2,5])\n",
        "np.linalg.norm(v)"
      ],
      "metadata": {
        "colab": {
          "base_uri": "https://localhost:8080/"
        },
        "id": "qV9i8yXH8Dt-",
        "outputId": "b54ef935-f7d9-4e64-d419-8feff2fbd034"
      },
      "execution_count": 6,
      "outputs": [
        {
          "output_type": "execute_result",
          "data": {
            "text/plain": [
              "5.744562646538029"
            ]
          },
          "metadata": {},
          "execution_count": 6
        }
      ]
    },
    {
      "cell_type": "markdown",
      "source": [
        "câu 2 c "
      ],
      "metadata": {
        "id": "o8MKry368LlW"
      }
    },
    {
      "cell_type": "code",
      "source": [
        "import math \n",
        "tich = np.inner(u,v)\n",
        "tichdd = np.linalg.norm(u,1)* np.linalg.norm(v,1)\n",
        "goc = math.acos(tich/tichdd)\n",
        "print(goc)"
      ],
      "metadata": {
        "colab": {
          "base_uri": "https://localhost:8080/"
        },
        "id": "7xsbx6A18Obn",
        "outputId": "1be90e9d-6db3-41de-8aa8-ac9a35f8fb61"
      },
      "execution_count": 7,
      "outputs": [
        {
          "output_type": "stream",
          "name": "stdout",
          "text": [
            "1.2013371968951267\n"
          ]
        }
      ]
    },
    {
      "cell_type": "markdown",
      "source": [
        "câu 3 "
      ],
      "metadata": {
        "id": "PKnddBDJ9Boc"
      }
    },
    {
      "cell_type": "code",
      "source": [
        "import numpy as np \n",
        "u = np.array([2,-1,5,0])\n",
        "v = np.array([4,3,1,-1])\n",
        "w = np.array([-6,2,0,3])"
      ],
      "metadata": {
        "id": "Nn4M1jHF-klB"
      },
      "execution_count": 12,
      "outputs": []
    },
    {
      "cell_type": "code",
      "source": [
        "x = 2*u-(v+3*w) \n",
        "print(x)"
      ],
      "metadata": {
        "colab": {
          "base_uri": "https://localhost:8080/"
        },
        "id": "aqsHgVdfAkhm",
        "outputId": "648c7e9d-bff8-4dd5-a8cc-0d6a1e6269b2"
      },
      "execution_count": 13,
      "outputs": [
        {
          "output_type": "stream",
          "name": "stdout",
          "text": [
            "[ 18 -11   9  -8]\n"
          ]
        }
      ]
    },
    {
      "cell_type": "code",
      "source": [
        "x= (2*u - v + 2*x + 3*w)/3\n",
        "print(x)"
      ],
      "metadata": {
        "colab": {
          "base_uri": "https://localhost:8080/"
        },
        "id": "WI6uX6XWArSP",
        "outputId": "89a28c5b-5463-4a3b-b31b-2ae3870555a7"
      },
      "execution_count": 15,
      "outputs": [
        {
          "output_type": "stream",
          "name": "stdout",
          "text": [
            "[ 6. -7.  9. -2.]\n"
          ]
        }
      ]
    },
    {
      "cell_type": "markdown",
      "source": [
        "câu 4 "
      ],
      "metadata": {
        "id": "GES12r9JBShT"
      }
    },
    {
      "cell_type": "code",
      "source": [
        "from numpy import linalg\n",
        "A = np.matrix([[0, -1, 3],[1, 1, 1],[4, 2, 2]])\n",
        "B = np.array([-1, -2, -2])\n",
        "X = np.linalg.solve(A, B)\n",
        "print (X)  "
      ],
      "metadata": {
        "colab": {
          "base_uri": "https://localhost:8080/"
        },
        "id": "KPQRNO1NBV4H",
        "outputId": "45123961-c798-4d76-f518-8ab1323b0ccf"
      },
      "execution_count": 16,
      "outputs": [
        {
          "output_type": "stream",
          "name": "stdout",
          "text": [
            "[ 1. -2. -1.]\n"
          ]
        }
      ]
    },
    {
      "cell_type": "markdown",
      "source": [
        "câu 6 "
      ],
      "metadata": {
        "id": "4J3VAofWB8W8"
      }
    },
    {
      "cell_type": "code",
      "source": [
        "import sympy as sp\n",
        "c1, c2, c3 = sp.symbols('c1 c2 c3')\n",
        "sp.solve([c1 - c2 + c3, 3*c1+2*c2, c1+c2+3*c3], [c1, c2, c3]) "
      ],
      "metadata": {
        "colab": {
          "base_uri": "https://localhost:8080/"
        },
        "id": "zfjSfuU2B-IE",
        "outputId": "9ffb49a8-1b5f-4b73-9fbd-fb2fbeb43a2f"
      },
      "execution_count": 18,
      "outputs": [
        {
          "output_type": "execute_result",
          "data": {
            "text/plain": [
              "{c1: 0, c2: 0, c3: 0}"
            ]
          },
          "metadata": {},
          "execution_count": 18
        }
      ]
    },
    {
      "cell_type": "markdown",
      "source": [
        "tìm ra chỉ 1 kết quả c nên 3 vector trên độc lập tuyến tính trong hệ R3"
      ],
      "metadata": {
        "id": "WoEc3AFoDGYy"
      }
    },
    {
      "cell_type": "markdown",
      "source": [
        "câu 5 a"
      ],
      "metadata": {
        "id": "JtVKbCyxDSVy"
      }
    },
    {
      "cell_type": "code",
      "source": [
        "import sympy as sp\n",
        "c1, c2, c3 = sp.symbols('c1 c2 c3')\n",
        "sp.solve([c1-c3-1, 2*c1+c2-1, 3*c1+2*c2+c3-1], [c1, c2, c3]) "
      ],
      "metadata": {
        "colab": {
          "base_uri": "https://localhost:8080/"
        },
        "id": "hvyJMgb-DUmf",
        "outputId": "1a830260-34e9-4304-ad63-28396eefd9cd"
      },
      "execution_count": 22,
      "outputs": [
        {
          "output_type": "execute_result",
          "data": {
            "text/plain": [
              "{c1: c3 + 1, c2: -2*c3 - 1}"
            ]
          },
          "metadata": {},
          "execution_count": 22
        }
      ]
    },
    {
      "cell_type": "markdown",
      "source": [
        "vector (1,1,1) là tổ hợp tuyến tính của 3 vector "
      ],
      "metadata": {
        "id": "Aki3Yp8KFxwG"
      }
    },
    {
      "cell_type": "markdown",
      "source": [
        "câu 5 b "
      ],
      "metadata": {
        "id": "B4aeYPVKFfWn"
      }
    },
    {
      "cell_type": "code",
      "source": [
        "import sympy as sp\n",
        "c1, c2, c3 = sp.symbols('c1 c2 c3')\n",
        "sp.solve([c1-c3 -1, 2*c1+c2+2, 3*c1+2*c2+c3-2], [c1, c2, c3]) "
      ],
      "metadata": {
        "colab": {
          "base_uri": "https://localhost:8080/"
        },
        "id": "PAVl4gfKFgw-",
        "outputId": "96ee7c3c-ed76-4072-8ce3-1617ca6816b1"
      },
      "execution_count": 24,
      "outputs": [
        {
          "output_type": "execute_result",
          "data": {
            "text/plain": [
              "[]"
            ]
          },
          "metadata": {},
          "execution_count": 24
        }
      ]
    },
    {
      "cell_type": "markdown",
      "source": [
        "vector (1,-2,2) không là tổ hợp tuyến tính của 3 vector "
      ],
      "metadata": {
        "id": "uu6IBXxAF7QV"
      }
    }
  ]
}