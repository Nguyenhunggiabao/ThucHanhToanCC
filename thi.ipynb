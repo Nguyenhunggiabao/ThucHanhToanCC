{
  "nbformat": 4,
  "nbformat_minor": 0,
  "metadata": {
    "colab": {
      "name": "Untitled7.ipynb",
      "provenance": [],
      "authorship_tag": "ABX9TyNRBlDz0lJ1AmnGJ7GnXDcA",
      "include_colab_link": true
    },
    "kernelspec": {
      "name": "python3",
      "display_name": "Python 3"
    },
    "language_info": {
      "name": "python"
    }
  },
  "cells": [
    {
      "cell_type": "markdown",
      "metadata": {
        "id": "view-in-github",
        "colab_type": "text"
      },
      "source": [
        "<a href=\"https://colab.research.google.com/github/Nguyenhunggiabao/ThucHanhToanCC/blob/main/thi.ipynb\" target=\"_parent\"><img src=\"https://colab.research.google.com/assets/colab-badge.svg\" alt=\"Open In Colab\"/></a>"
      ]
    },
    {
      "cell_type": "markdown",
      "source": [
        "đạo hàm"
      ],
      "metadata": {
        "id": "Po5hKPSQtR3O"
      }
    },
    {
      "cell_type": "code",
      "execution_count": 3,
      "metadata": {
        "colab": {
          "base_uri": "https://localhost:8080/",
          "height": 58
        },
        "id": "dXC-CgCSog5f",
        "outputId": "bb1a390d-e8de-4f7c-a418-986e16a432a9"
      },
      "outputs": [
        {
          "output_type": "execute_result",
          "data": {
            "text/plain": [
              "2/(x + 2) - (2*x - 1)/(x + 2)**2"
            ],
            "text/latex": "$\\displaystyle \\frac{2}{x + 2} - \\frac{2 x - 1}{\\left(x + 2\\right)^{2}}$"
          },
          "metadata": {},
          "execution_count": 3
        }
      ],
      "source": [
        "from sympy import Derivative, Symbol\n",
        "x = Symbol('x')\n",
        "y = (2*x-1)/(x+2)\n",
        "Derivative( y,x ).doit()"
      ]
    },
    {
      "cell_type": "code",
      "source": [
        "from sympy import Derivative, Symbol\n",
        "x = Symbol('x')\n",
        "y = (x**2+3*x-1)/(x+11)\n",
        "Derivative( y,x ).doit()"
      ],
      "metadata": {
        "colab": {
          "base_uri": "https://localhost:8080/",
          "height": 61
        },
        "id": "Cr6sdgyosBqQ",
        "outputId": "9ddef4fb-fdad-455e-f0f6-ba577e4682cc"
      },
      "execution_count": 4,
      "outputs": [
        {
          "output_type": "execute_result",
          "data": {
            "text/plain": [
              "(2*x + 3)/(x + 11) - (x**2 + 3*x - 1)/(x + 11)**2"
            ],
            "text/latex": "$\\displaystyle \\frac{2 x + 3}{x + 11} - \\frac{x^{2} + 3 x - 1}{\\left(x + 11\\right)^{2}}$"
          },
          "metadata": {},
          "execution_count": 4
        }
      ]
    },
    {
      "cell_type": "markdown",
      "source": [
        "giới hạn"
      ],
      "metadata": {
        "id": "n7UmRvTPtl9h"
      }
    },
    {
      "cell_type": "code",
      "source": [
        "from sympy import Symbol, Limit, sqrt\n",
        "x = Symbol('x')\n",
        "f = Limit((sqrt(x**2-2*x+3)/(x+1)),x ,1)\n",
        "f.doit()"
      ],
      "metadata": {
        "colab": {
          "base_uri": "https://localhost:8080/",
          "height": 55
        },
        "id": "eAlGmL0ntraN",
        "outputId": "0e1d5720-4a18-4ec8-99bb-f73cfb20e72f"
      },
      "execution_count": 9,
      "outputs": [
        {
          "output_type": "execute_result",
          "data": {
            "text/plain": [
              "sqrt(2)/2"
            ],
            "text/latex": "$\\displaystyle \\frac{\\sqrt{2}}{2}$"
          },
          "metadata": {},
          "execution_count": 9
        }
      ]
    },
    {
      "cell_type": "code",
      "source": [
        "from sympy import Symbol, Limit, sqrt\n",
        "x = Symbol('x')\n",
        "f = Limit((sqrt(x**2-x+1)/(x-1)),x ,2)\n",
        "f.doit()"
      ],
      "metadata": {
        "colab": {
          "base_uri": "https://localhost:8080/",
          "height": 38
        },
        "id": "Io3L_3RbuoOT",
        "outputId": "1a7ea1e6-b951-4df3-8efa-5bc5e8063eed"
      },
      "execution_count": 10,
      "outputs": [
        {
          "output_type": "execute_result",
          "data": {
            "text/plain": [
              "sqrt(3)"
            ],
            "text/latex": "$\\displaystyle \\sqrt{3}$"
          },
          "metadata": {},
          "execution_count": 10
        }
      ]
    }
  ]
}