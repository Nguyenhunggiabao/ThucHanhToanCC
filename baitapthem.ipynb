{
  "nbformat": 4,
  "nbformat_minor": 0,
  "metadata": {
    "colab": {
      "name": "Untitled18.ipynb",
      "provenance": [],
      "collapsed_sections": [],
      "authorship_tag": "ABX9TyMUwFrrItcfqy+zuNffCLRj",
      "include_colab_link": true
    },
    "kernelspec": {
      "name": "python3",
      "display_name": "Python 3"
    },
    "language_info": {
      "name": "python"
    }
  },
  "cells": [
    {
      "cell_type": "markdown",
      "metadata": {
        "id": "view-in-github",
        "colab_type": "text"
      },
      "source": [
        "<a href=\"https://colab.research.google.com/github/Nguyenhunggiabao/ThucHanhToanCC/blob/main/baitapthem.ipynb\" target=\"_parent\"><img src=\"https://colab.research.google.com/assets/colab-badge.svg\" alt=\"Open In Colab\"/></a>"
      ]
    },
    {
      "cell_type": "markdown",
      "source": [
        "bài tập "
      ],
      "metadata": {
        "id": "qm2MSr5RV8IH"
      }
    },
    {
      "cell_type": "markdown",
      "source": [
        "câu 1 "
      ],
      "metadata": {
        "id": "_OLHs1KuV_-u"
      }
    },
    {
      "cell_type": "code",
      "execution_count": 1,
      "metadata": {
        "id": "imVxCoH8Uo7a"
      },
      "outputs": [],
      "source": [
        "import math\n",
        "import sys\n",
        "class Graph():\n",
        "  def __init__(cung, dinh):\n",
        "    cung.x = dinh\n",
        "    cung.graph = [[0 for column in range(dinh)]\n",
        "                  for row in range(dinh)]\n",
        "  def inketqua(cung, L, a):\n",
        "    print (\"đỉnh nguồn xuất phát từ: \")\n",
        "    for nut in range(cung.x):\n",
        "      print (a,\" đến đỉnh \",nut, \"độ dài đường đi là: \", L[nut])\n",
        "  def duongdinhonhat(cung, L, P):\n",
        "    min = sys.maxsize\n",
        "    for x in range(cung.x):\n",
        "      if L[x] < min and P[x] == False:\n",
        "        min = L[x]\n",
        "        min_index = x\n",
        "    return min_index\n",
        "  def timduongdi(cung, a):\n",
        "    L = [sys.maxsize] * cung.x\n",
        "    L[a] = 0\n",
        "    P = [False] * cung.x\n",
        "    for cout in range(cung.x):\n",
        "      u = cung.duongdinhonhat(L, P)\n",
        "      P[u] = True\n",
        "      for x in range(cung.x):\n",
        "        if cung.graph[u][x] > 0 and P[x] == False and L[x] > L[u] + cung.graph[u][x]:\n",
        "          L[x] = L[u] + cung.graph[u][x]\n",
        "    cung.inketqua(L, a)\n",
        "g = Graph(6)"
      ]
    },
    {
      "cell_type": "code",
      "source": [
        "g.graph =[[0, 4, 0, 1, 0, 0],\n",
        "[0, 0, 8, 0, 0, 0],\n",
        "[0, 0, 0, 0, 0, 4] ,\n",
        "[0, 0, 9, 0, 5, 0],\n",
        "[0, 0, 1, 0, 0, 7],\n",
        "[0, 0, 0, 0, 0, 0]\n",
        "];\n",
        "\n",
        "g.timduongdi(0);"
      ],
      "metadata": {
        "colab": {
          "base_uri": "https://localhost:8080/"
        },
        "id": "jIedSP87WCbb",
        "outputId": "5685c6a4-65cf-451f-a4f3-5b99c5eb041f"
      },
      "execution_count": 3,
      "outputs": [
        {
          "output_type": "stream",
          "name": "stdout",
          "text": [
            "đỉnh nguồn xuất phát từ: \n",
            "0  đến đỉnh  0 độ dài đường đi là:  0\n",
            "0  đến đỉnh  1 độ dài đường đi là:  4\n",
            "0  đến đỉnh  2 độ dài đường đi là:  7\n",
            "0  đến đỉnh  3 độ dài đường đi là:  1\n",
            "0  đến đỉnh  4 độ dài đường đi là:  6\n",
            "0  đến đỉnh  5 độ dài đường đi là:  11\n"
          ]
        }
      ]
    },
    {
      "cell_type": "markdown",
      "source": [
        "Đồ thị có hướng \n",
        "gồm 6 đỉnh.\n",
        "L= 11\n",
        "đường đi từ a,f,g,c,z"
      ],
      "metadata": {
        "id": "fbzzMjT2WTgi"
      }
    },
    {
      "cell_type": "markdown",
      "source": [
        "câu 2 "
      ],
      "metadata": {
        "id": "o20fRpxYXxFQ"
      }
    },
    {
      "cell_type": "code",
      "source": [
        "import math\n",
        "import sys\n",
        "class Graph():\n",
        "  def __init__(cung, dinh):\n",
        "    cung.x = dinh\n",
        "    cung.graph = [[0 for column in range(dinh)]\n",
        "                  for row in range(dinh)]\n",
        "  def inketqua(cung, L, a):\n",
        "    print (\"đỉnh nguồn xuất phát từ: \")\n",
        "    for nut in range(cung.x):\n",
        "      print (a,\" đến đỉnh \",nut, \"độ dài đường đi là: \", L[nut])\n",
        "  def duongdinhonhat(cung, L, P):\n",
        "    min = sys.maxsize\n",
        "    for x in range(cung.x):\n",
        "      if L[x] < min and P[x] == False:\n",
        "        min = L[x]\n",
        "        min_index = x\n",
        "    return min_index\n",
        "  def timduongdi(cung, a):\n",
        "    L = [sys.maxsize] * cung.x\n",
        "    L[a] = 0\n",
        "    P = [False] * cung.x\n",
        "    for cout in range(cung.x):\n",
        "      u = cung.duongdinhonhat(L, P)\n",
        "      P[u] = True\n",
        "      for x in range(cung.x):\n",
        "        if cung.graph[u][x] > 0 and P[x] == False and L[x] > L[u] + cung.graph[u][x]:\n",
        "          L[x] = L[u] + cung.graph[u][x]\n",
        "    cung.inketqua(L, a)\n",
        "g = Graph(8)"
      ],
      "metadata": {
        "id": "bhWnYpyYjU9Z"
      },
      "execution_count": 5,
      "outputs": []
    },
    {
      "cell_type": "code",
      "source": [
        "g.graph =[[0,6,0,5,0,0,0,0],\n",
        "[6,0,7,0,0,10,9,0],\n",
        "[0,7,0,11,0,1,0,0],\n",
        "[5,0,11,0,9,9,0,0],\n",
        "[0,0,0,9,0,3,0,14],\n",
        "[0,10,1,9,3,0,3,0],\n",
        "[0,9,0,0,0,3,0,7],\n",
        "[0,0,0,0,14,0,7,0]\n",
        "];\n",
        "\n",
        "g.timduongdi(0);"
      ],
      "metadata": {
        "colab": {
          "base_uri": "https://localhost:8080/"
        },
        "id": "Laxx3v7zXzNO",
        "outputId": "107f5113-a407-418e-c5b9-e8b2d073d819"
      },
      "execution_count": 7,
      "outputs": [
        {
          "output_type": "stream",
          "name": "stdout",
          "text": [
            "đỉnh nguồn xuất phát từ: \n",
            "0  đến đỉnh  0 độ dài đường đi là:  0\n",
            "0  đến đỉnh  1 độ dài đường đi là:  6\n",
            "0  đến đỉnh  2 độ dài đường đi là:  13\n",
            "0  đến đỉnh  3 độ dài đường đi là:  5\n",
            "0  đến đỉnh  4 độ dài đường đi là:  14\n",
            "0  đến đỉnh  5 độ dài đường đi là:  14\n",
            "0  đến đỉnh  6 độ dài đường đi là:  15\n",
            "0  đến đỉnh  7 độ dài đường đi là:  22\n"
          ]
        }
      ]
    },
    {
      "cell_type": "markdown",
      "source": [
        "đồ thị vô hướng\n",
        "gồm 8 đỉnh \n",
        "L = 22\n",
        "đi từ 0,1,6,7"
      ],
      "metadata": {
        "id": "A-dbJ_8amPy-"
      }
    }
  ]
}