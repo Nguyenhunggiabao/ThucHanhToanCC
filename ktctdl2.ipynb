{
  "nbformat": 4,
  "nbformat_minor": 0,
  "metadata": {
    "colab": {
      "provenance": [],
      "authorship_tag": "ABX9TyM5IQ5hHHQBPilz74r+yf/M",
      "include_colab_link": true
    },
    "kernelspec": {
      "name": "python3",
      "display_name": "Python 3"
    },
    "language_info": {
      "name": "python"
    }
  },
  "cells": [
    {
      "cell_type": "markdown",
      "metadata": {
        "id": "view-in-github",
        "colab_type": "text"
      },
      "source": [
        "<a href=\"https://colab.research.google.com/github/Nguyenhunggiabao/ThucHanhToanCC/blob/main/ktctdl2.ipynb\" target=\"_parent\"><img src=\"https://colab.research.google.com/assets/colab-badge.svg\" alt=\"Open In Colab\"/></a>"
      ]
    },
    {
      "cell_type": "markdown",
      "source": [
        "Nguyễn Hùng Gia Bảo"
      ],
      "metadata": {
        "id": "6TvKdfJkJRMg"
      }
    },
    {
      "cell_type": "markdown",
      "source": [
        "câu 1 "
      ],
      "metadata": {
        "id": "DQqXkWb0JT6o"
      }
    },
    {
      "cell_type": "code",
      "execution_count": 11,
      "metadata": {
        "colab": {
          "base_uri": "https://localhost:8080/"
        },
        "id": "A1J9pMFFIjAG",
        "outputId": "e83677aa-f059-4fad-98df-b402482aa4b7"
      },
      "outputs": [
        {
          "output_type": "stream",
          "name": "stdout",
          "text": [
            "20\n",
            "11\n",
            "26\n",
            "10\n",
            "29\n",
            "25\n",
            "52\n"
          ]
        }
      ],
      "source": [
        "class treeNode:\n",
        "  def __init__(self,val = None):\n",
        "    self.val = val\n",
        "    self.left = None\n",
        "    self.right = None\n",
        "root = treeNode(20)# khởi tạo nút gốc bằng 20 \n",
        "root.left = treeNode(11)# nút trái lv 1 bằng 11 \n",
        "root.right = treeNode(26)# nút phải lv 1 bằng 26 \n",
        "root.left.left = treeNode(10) # nhánh trái nút trái lv 2 bằng 10\n",
        "root.left.right = treeNode(29)# nhánh trái nút phải lv 2 bằng 29\n",
        "root.right.left = treeNode(25) # nhánh phải nút trái lv 2 bằng 25\n",
        "root.right.right = treeNode(52)# nhánh phải nút phải lv 2 bằng 52\n",
        "print(root.val) # in giá trị gốc\n",
        "print(root.left.val) # in giá trị nút trái lv 1\n",
        "print(root.right.val)# in giá trị nút phải lv 1\n",
        "print(root.left.left.val)# in giá trị nhánh trái nút trái lv 2 \n",
        "print(root.left.right.val) # in giá trị nhánh trái nút phải lv 2\n",
        "print(root.right.left.val) # in giá trị nhánh phải nút trái lv 2 \n",
        "print(root.right.right.val)# in giá trị nhánh phải nút phải lv 2"
      ]
    },
    {
      "cell_type": "markdown",
      "source": [
        "INPUT:  Khởi tạo cây nhị phân \n",
        "\n",
        "CẤP 0 : cho nút gốc bằng 20 \n",
        "\n",
        "CẤP 1:\n",
        "\n",
        "Cho nút con bên trái bằng 11 \n",
        "\n",
        "Cho nút con bên phải bằng 26 \n",
        "\n",
        "CẤP 2:\n",
        "\n",
        "nhánh trái nút con bên trái bằng 10 \n",
        "\n",
        "nhánh trái nút con bên phải bằng 29 \n",
        "\n",
        "nhánh phải nút con bên tráo bằng 25\n",
        "\n",
        "nhánh phải nút con bên phải bằng 52\n",
        "\n",
        "OUTPUT:\n",
        "\n",
        "  In ra các giá trị từ ngọn đến gốc từ \n",
        "  \n",
        "  ----------20\n",
        "\n",
        "  -------11   26\n",
        "\n",
        "---10  29 25 52"
      ],
      "metadata": {
        "id": "c-Fx84pcR-uq"
      }
    },
    {
      "cell_type": "markdown",
      "source": [
        "câu 2 "
      ],
      "metadata": {
        "id": "IEk4WZeCMq6c"
      }
    },
    {
      "cell_type": "code",
      "source": [
        "def display_hash(hashTable): # hàm display_hash với biến hashTable\n",
        "  for i in range(len(hashTable)): # duyệt phần tử trong hashTable\n",
        "    print(i, end = \" \") # in kết quả i \n",
        "\n",
        "    for j in hashTable[i]:# cho j chạy trong i \n",
        "      print(\"-->\", end = \" \")# in dấu --> \n",
        "      print(j, end = \" \")# in kết quả j \n",
        "\n",
        "    print()# in phần tử của i \n",
        "HashTable = [[] for _ in range(10)] # bảng băm có giá trị là 10 \n",
        "def Hashing(keyvalue): # hàm Băm \n",
        "  return (keyvalue % len(HashTable)) # công thức tính của hàm băm \n",
        "def insert(Hashtable, keyvalue, value): # hàm thêm phần tử vào bảng băm \n",
        "\n",
        "  hash_key = Hashing(keyvalue) # gán hash_key bằng hàm băm \n",
        "  Hashtable[hash_key].append(value)# gán giá trị append vào vị trí của bẳng băm \n",
        "\n",
        "\n",
        "insert(HashTable, 26, 'A') # thêm gia trị vào vị trí tương ứng trong bảng băm \n",
        "insert(HashTable, 22, 'C')# thêm gia trị vào vị trí tương ứng trong bảng băm \n",
        "insert(HashTable, 18, 'E')# thêm gia trị vào vị trí tương ứng trong bảng băm\n",
        "insert(HashTable, 34, 'B')# thêm gia trị vào vị trí tương ứng trong bảng băm\n",
        "insert(HashTable, 50, 'F ')# thêm gia trị vào vị trí tương ứng trong bảng băm\n",
        "insert(HashTable, 49, 'G')# thêm gia trị vào vị trí tương ứng trong bảng băm\n",
        "insert(HashTable, 65, 'H')# thêm gia trị vào vị trí tương ứng trong bảng băm\n",
        "insert(HashTable, 31, 'R')# thêm gia trị vào vị trí tương ứng trong bảng băm\n",
        "insert(HashTable, 63, 'P')# thêm gia trị vào vị trí tương ứng trong bảng băm\n",
        "insert(HashTable, 57, 'O')# thêm gia trị vào vị trí tương ứng trong bảng băm\n",
        "insert(HashTable, 55, 'Y')# thêm gia trị vào vị trí tương ứng trong bảng băm\n",
        "display_hash (HashTable) # hiện thị bảng băm "
      ],
      "metadata": {
        "id": "oE37S6HIMAhF",
        "colab": {
          "base_uri": "https://localhost:8080/"
        },
        "outputId": "da0e52e4-7ba0-4ec2-8127-a2f9eaf22cb6"
      },
      "execution_count": 9,
      "outputs": [
        {
          "output_type": "stream",
          "name": "stdout",
          "text": [
            "0 --> F  \n",
            "1 --> R \n",
            "2 --> C \n",
            "3 --> P \n",
            "4 --> B \n",
            "5 --> H --> Y \n",
            "6 --> A \n",
            "7 --> O \n",
            "8 --> E \n",
            "9 --> G \n"
          ]
        }
      ]
    },
    {
      "cell_type": "markdown",
      "source": [
        "input:\n",
        "\n",
        "thêm các giá trị A,B,C,E,F,G,H,R,P,O,Y\n",
        "\n",
        "kích thước của bảng băm bằng 10 \n",
        "\n",
        "output:\n",
        "\n",
        "0 --> F  \n",
        "\n",
        "1 --> R \n",
        "\n",
        "2 --> C \n",
        "\n",
        "3 --> P \n",
        "\n",
        "4 --> B \n",
        "\n",
        "5 --> H --> Y \n",
        "\n",
        "6 --> A \n",
        "\n",
        "7 --> O \n",
        "\n",
        "8 --> E \n",
        "\n",
        "9 --> G \n",
        "\n"
      ],
      "metadata": {
        "id": "NJIuYdMPNcaL"
      }
    },
    {
      "cell_type": "markdown",
      "source": [
        "nhận xét: có xảy ra xung đột\n",
        "\n",
        "phương pháp giải quyết xung đột là phương pháp ánh xạ "
      ],
      "metadata": {
        "id": "O1h7YsmnOKXh"
      }
    }
  ]
}