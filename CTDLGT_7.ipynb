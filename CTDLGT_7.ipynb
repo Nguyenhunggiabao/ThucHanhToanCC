{
  "nbformat": 4,
  "nbformat_minor": 0,
  "metadata": {
    "colab": {
      "provenance": [],
      "authorship_tag": "ABX9TyOUp9p/NvVMGYBuMjSyBQp1",
      "include_colab_link": true
    },
    "kernelspec": {
      "name": "python3",
      "display_name": "Python 3"
    },
    "language_info": {
      "name": "python"
    }
  },
  "cells": [
    {
      "cell_type": "markdown",
      "metadata": {
        "id": "view-in-github",
        "colab_type": "text"
      },
      "source": [
        "<a href=\"https://colab.research.google.com/github/Nguyenhunggiabao/ThucHanhToanCC/blob/main/CTDLGT_7.ipynb\" target=\"_parent\"><img src=\"https://colab.research.google.com/assets/colab-badge.svg\" alt=\"Open In Colab\"/></a>"
      ]
    },
    {
      "cell_type": "markdown",
      "source": [
        "Nguyen Hung Gia Bao"
      ],
      "metadata": {
        "id": "ZJPanSYVuoD_"
      }
    },
    {
      "cell_type": "markdown",
      "source": [
        "thuc hanh 1 "
      ],
      "metadata": {
        "id": "AnayojBDu42R"
      }
    },
    {
      "cell_type": "code",
      "execution_count": 3,
      "metadata": {
        "colab": {
          "base_uri": "https://localhost:8080/"
        },
        "id": "FnGY0Uinugxv",
        "outputId": "2780a9c1-3337-4b9a-e39d-e4bb65d26844"
      },
      "outputs": [
        {
          "output_type": "stream",
          "name": "stdout",
          "text": [
            "8\n",
            "5\n"
          ]
        }
      ],
      "source": [
        "class treeNode:\n",
        "  def __init__(self,val = None):\n",
        "    self.val = val\n",
        "    self.left = None\n",
        "    self.right = None\n",
        "root = treeNode(10)\n",
        "root.left = treeNode(7)\n",
        "root.right = treeNode(13)\n",
        "root.left.left = treeNode(5)\n",
        "root.left.right = treeNode(8)\n",
        "print(root.left.right.val) # -> 8\n",
        "print(root.left.left.val) # -> 5"
      ]
    },
    {
      "cell_type": "markdown",
      "source": [
        "thuc hanh 2 "
      ],
      "metadata": {
        "id": "8rmC_cDSvfql"
      }
    },
    {
      "cell_type": "code",
      "source": [
        "class BinaryTreeNode:\n",
        "  def __init__(self, data):\n",
        "    self.data = data\n",
        "    self.leftChild = None\n",
        "    self.rightChild=None\n",
        "def insert(root,newValue):\n",
        "  if root is None:\n",
        "    root=BinaryTreeNode(newValue)\n",
        "    return root\n",
        "  if newValue<root.data:\n",
        "    root.leftChild=insert(root.leftChild,newValue)\n",
        "  else:\n",
        "    root.rightChild=insert(root.rightChild,newValue)\n",
        "    return root\n",
        "root= insert(None,15)\n",
        "insert(root,10)\n",
        "insert(root,25)\n",
        "insert(root,6)\n",
        "insert(root,14)\n",
        "insert(root,20)\n",
        "insert(root,60)\n",
        "a1=root\n",
        "a2=a1.leftChild\n",
        "a3=a1.rightChild\n",
        "a4=a2.leftChild\n",
        "a5=a2.rightChild\n",
        "a6=a3.leftChild \n",
        "a7=a3.rightChild\n",
        "\n",
        "print(\"Root Node is:\")\n"
      ],
      "metadata": {
        "colab": {
          "base_uri": "https://localhost:8080/"
        },
        "id": "Zs_VeYqlvhUU",
        "outputId": "b247f797-6722-43a0-afd4-6f34a31be5fe"
      },
      "execution_count": 4,
      "outputs": [
        {
          "output_type": "stream",
          "name": "stdout",
          "text": [
            "Root Node is:\n"
          ]
        }
      ]
    },
    {
      "cell_type": "code",
      "source": [
        "Root Node is:\n",
        "  print(a1.data)\n",
        "15\n",
        "  print(\"left child of node is:\")\n",
        "left child of node is:\n",
        "  print(a1.leftChild.data)\n",
        "10\n",
        "  print(\"right child of node is:\")\n",
        "right child of node is:\n",
        "  print(a1.rightChild.data)\n",
        "25 \n",
        "  print(\"Node is:\")\n",
        "Node is:\n",
        "  print(a2.data)\n",
        "10\n",
        "  print(\"left child of node is:\")\n",
        "left child of node is:\n",
        "  print(a2.leftChild.data) \n",
        "6\n",
        "  print(\"right child of node is:\")\n",
        "right child of node is:\n",
        "  print(a2.rightChild.data)\n",
        "14\n",
        "  print(\"Node is:\")\n",
        "Node is:\n",
        "  print(a3.data)\n",
        "25"
      ],
      "metadata": {
        "id": "mq8akz6Vy855"
      },
      "execution_count": null,
      "outputs": []
    }
  ]
}