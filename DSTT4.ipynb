{
  "nbformat": 4,
  "nbformat_minor": 0,
  "metadata": {
    "colab": {
      "provenance": [],
      "authorship_tag": "ABX9TyOb0kL2qIeY9or92VYuYeWk",
      "include_colab_link": true
    },
    "kernelspec": {
      "name": "python3",
      "display_name": "Python 3"
    },
    "language_info": {
      "name": "python"
    }
  },
  "cells": [
    {
      "cell_type": "markdown",
      "metadata": {
        "id": "view-in-github",
        "colab_type": "text"
      },
      "source": [
        "<a href=\"https://colab.research.google.com/github/Nguyenhunggiabao/ThucHanhToanCC/blob/main/DSTT4.ipynb\" target=\"_parent\"><img src=\"https://colab.research.google.com/assets/colab-badge.svg\" alt=\"Open In Colab\"/></a>"
      ]
    },
    {
      "cell_type": "markdown",
      "source": [
        "Nguyễn Hùng Gia Bảo "
      ],
      "metadata": {
        "id": "qTD1MSLU2kSX"
      }
    },
    {
      "cell_type": "markdown",
      "source": [
        "CHƯƠNG 4: CƠ BẢN VỀ ĐỊNH THỨC"
      ],
      "metadata": {
        "id": "-CFFzUwY2nhE"
      }
    },
    {
      "cell_type": "markdown",
      "source": [
        "Phép thế của một tập hợp hữu hạn: "
      ],
      "metadata": {
        "id": "NClaG18x2vz9"
      }
    },
    {
      "cell_type": "code",
      "execution_count": 5,
      "metadata": {
        "colab": {
          "base_uri": "https://localhost:8080/"
        },
        "id": "8QjlSoMS2fLF",
        "outputId": "7966884b-82b7-43af-cfcc-f2a4ff79f292"
      },
      "outputs": [
        {
          "output_type": "execute_result",
          "data": {
            "text/plain": [
              "-1"
            ]
          },
          "metadata": {},
          "execution_count": 5
        }
      ],
      "source": [
        "import numpy as np\n",
        "n = 4\n",
        "X = np.array(range(1,n+1))\n",
        "sigma = np.array([4,3,2,1]) \n",
        "def sgn_by_def(sigma):\n",
        "  ketqua = 1.0\n",
        "  for i in range (len(X)-1):\n",
        "    for j in range (i+1, len(X)):\n",
        "      ketqua = ketqua * ((X[i]-X[j])/(sigma[i]-sigma[j]))\n",
        "  return int(ketqua)\n",
        "sigma = np.array([2,1,3,4,])\n",
        "sgn_by_def(sigma)"
      ]
    },
    {
      "cell_type": "code",
      "source": [
        "sigma = np.array([1,2,3,4])\n",
        "sgn_by_def(sigma) "
      ],
      "metadata": {
        "colab": {
          "base_uri": "https://localhost:8080/"
        },
        "id": "06Eborrc364j",
        "outputId": "0f67ebab-a68e-4689-87d3-1fd74b3b167b"
      },
      "execution_count": 6,
      "outputs": [
        {
          "output_type": "execute_result",
          "data": {
            "text/plain": [
              "1"
            ]
          },
          "metadata": {},
          "execution_count": 6
        }
      ]
    },
    {
      "cell_type": "code",
      "source": [
        "sigma = np.array([4,3,2,1])\n",
        "sgn_by_def(sigma) "
      ],
      "metadata": {
        "colab": {
          "base_uri": "https://localhost:8080/"
        },
        "id": "ID8_ou1I4BnA",
        "outputId": "136ecc7c-c61b-4301-cb50-6fcec0b8d446"
      },
      "execution_count": 7,
      "outputs": [
        {
          "output_type": "execute_result",
          "data": {
            "text/plain": [
              "1"
            ]
          },
          "metadata": {},
          "execution_count": 7
        }
      ]
    },
    {
      "cell_type": "markdown",
      "source": [
        "Định thức: "
      ],
      "metadata": {
        "id": "LcSFXzeq4Jg-"
      }
    },
    {
      "cell_type": "code",
      "source": [
        "from itertools import permutations\n",
        "n = 3\n",
        "X = []\n",
        "for i in range (1, n+1):\n",
        " X.append(i)\n",
        "Sn = list(permutations(X))\n",
        "print (Sn) \n",
        "det = 0"
      ],
      "metadata": {
        "colab": {
          "base_uri": "https://localhost:8080/"
        },
        "id": "ooMBwAQJ4KFa",
        "outputId": "77457b73-3064-41d3-e8f3-ed86d3f351d0"
      },
      "execution_count": 8,
      "outputs": [
        {
          "output_type": "stream",
          "name": "stdout",
          "text": [
            "[(1, 2, 3), (1, 3, 2), (2, 1, 3), (2, 3, 1), (3, 1, 2), (3, 2, 1)]\n"
          ]
        }
      ]
    },
    {
      "cell_type": "code",
      "source": [
        "import numpy as np \n",
        "def phatsinh_dinhthuc(n):\n",
        "  X = []\n",
        "  for i in range(1, n+1):\n",
        "    X.append(i)\n",
        "  Sn = list(permutations(X))\n",
        "  dinhthuc = \"\"\n",
        "  for sn in Sn:\n",
        "    sigma = np.array([1])\n",
        "    sigma.resize([n])\n",
        "    product = \"\"\n",
        "    for i in range(1,n+1):\n",
        "      sigma[sn.index(i)] =i\n",
        "      product = product + \"a\"+str(i) + str(sn.index(i)+1)\n",
        "    dau = sgn_by_def(sigma)\n",
        "    if (dau != 1 ):\n",
        "      product = \"-\" + product \n",
        "    else:\n",
        "      product = \"+\" + product\n",
        "    dinhthuc = dinhthuc + product \n",
        "  return dinhthuc  \n"
      ],
      "metadata": {
        "id": "Cx35p3xW4UTm"
      },
      "execution_count": 9,
      "outputs": []
    },
    {
      "cell_type": "markdown",
      "source": [
        "Quy tắc Cramer "
      ],
      "metadata": {
        "id": "eeBgxBr24PV0"
      }
    },
    {
      "cell_type": "code",
      "source": [
        "import numpy as np\n",
        "A = np.array([[4, -2],[3, -5]]) \n",
        "A1 = np.array([[10, -2],[11, -5]])\n",
        "A2 = np.array([[4, 10],[3, 11]])\n",
        "from scipy import linalg \n",
        "detA = linalg.det(A)\n",
        "detA1 = linalg.det(A1) \n",
        "detA2 = linalg.det(A2)\n",
        "print (detA, detA1, detA2) "
      ],
      "metadata": {
        "colab": {
          "base_uri": "https://localhost:8080/"
        },
        "id": "5ZzaNTu-YbXQ",
        "outputId": "6edf0bb3-d10b-4810-e3e2-cc937aa6ed02"
      },
      "execution_count": 10,
      "outputs": [
        {
          "output_type": "stream",
          "name": "stdout",
          "text": [
            "-14.0 -28.0 14.000000000000004\n"
          ]
        }
      ]
    },
    {
      "cell_type": "code",
      "source": [
        "if (detA != 0):\n",
        " x1 = detA1 / detA\n",
        " x2 = detA2 / detA\n",
        " print (\"Hai nghiệm của phương trình là: \", x1, x2) "
      ],
      "metadata": {
        "colab": {
          "base_uri": "https://localhost:8080/"
        },
        "id": "zTEdyKYIYkCA",
        "outputId": "cf9eb5df-6ba6-4be0-e85a-7e1122ea17f0"
      },
      "execution_count": 11,
      "outputs": [
        {
          "output_type": "stream",
          "name": "stdout",
          "text": [
            "Hai nghiệm của phương trình là:  2.0 -1.0000000000000002\n"
          ]
        }
      ]
    }
  ]
}