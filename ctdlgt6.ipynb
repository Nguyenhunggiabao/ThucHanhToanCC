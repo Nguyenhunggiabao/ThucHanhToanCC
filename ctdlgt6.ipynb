{
  "nbformat": 4,
  "nbformat_minor": 0,
  "metadata": {
    "colab": {
      "provenance": [],
      "collapsed_sections": [],
      "authorship_tag": "ABX9TyOMuUrS6edk3vAcvA+83Pja",
      "include_colab_link": true
    },
    "kernelspec": {
      "name": "python3",
      "display_name": "Python 3"
    },
    "language_info": {
      "name": "python"
    }
  },
  "cells": [
    {
      "cell_type": "markdown",
      "metadata": {
        "id": "view-in-github",
        "colab_type": "text"
      },
      "source": [
        "<a href=\"https://colab.research.google.com/github/Nguyenhunggiabao/ThucHanhToanCC/blob/main/ctdlgt6.ipynb\" target=\"_parent\"><img src=\"https://colab.research.google.com/assets/colab-badge.svg\" alt=\"Open In Colab\"/></a>"
      ]
    },
    {
      "cell_type": "markdown",
      "source": [
        "Nguyễn Hùng Gia Bảo "
      ],
      "metadata": {
        "id": "fcAM7ynquENU"
      }
    },
    {
      "cell_type": "markdown",
      "source": [
        "chương 6"
      ],
      "metadata": {
        "id": "Kl_RaZhIuK56"
      }
    },
    {
      "cell_type": "markdown",
      "source": [
        "thực hành 1 "
      ],
      "metadata": {
        "id": "6WiKxxV8uNBN"
      }
    },
    {
      "cell_type": "code",
      "execution_count": 2,
      "metadata": {
        "colab": {
          "base_uri": "https://localhost:8080/"
        },
        "id": "mjpTl_AztzTh",
        "outputId": "eb28c9ca-9b09-43db-f46b-5500f64190f7"
      },
      "outputs": [
        {
          "output_type": "stream",
          "name": "stdout",
          "text": [
            "The hash value is 1\n",
            "The hash value is 2\n",
            "The hash value is 3\n",
            "The hash value is 2\n",
            "The hash value is 4\n",
            "The hash value is 0\n"
          ]
        }
      ],
      "source": [
        "def hash_key( key, m): # gọi hàm hash_key với hai biến key và m\n",
        "  return (key % m) # trả về giá trị chia lấy dư của key chia m \n",
        "m = 7# gán m bằng 7\n",
        "print(f'The hash value is {hash_key(15,m)}') #??\n",
        "print(f'The hash value is {hash_key(2,m)}')\n",
        "print(f'The hash value is {hash_key(3,m)}')\n",
        "print(f'The hash value is {hash_key(9,m)}')\n",
        "print(f'The hash value is {hash_key(11,m)}')\n",
        "print(f'The hash value is {hash_key(7,m)}')"
      ]
    },
    {
      "cell_type": "markdown",
      "source": [
        "thực hành 2 "
      ],
      "metadata": {
        "id": "9f-hviI9uYrd"
      }
    },
    {
      "cell_type": "code",
      "source": [
        "def display_hash(hashTable): #??\n",
        "  for i in range(len(hashTable)):\n",
        "    print(i, end = \" \")\n",
        "\n",
        "  for j in hashTable[i]:\n",
        "    print(\"-->\", end = \" \")\n",
        "    print(j, end = \" \")\n",
        "\n",
        "  print()\n",
        "HashTable = [[] for _ in range(10)] #??\n",
        "def Hashing(keyvalue): #??\n",
        "  return (keyvalue % len(HashTable))\n",
        "def insert(Hashtable, keyvalue, value): #??\n",
        "\n",
        "  hash_key = Hashing(keyvalue)\n",
        "  Hashtable[hash_key].append(value)\n",
        "insert(HashTable, 10, 'MachineLearning') #??\n",
        "insert(HashTable, 45, 'DataScience')\n",
        "insert(HashTable, 20, 'DataAnalytics')\n",
        "insert(HashTable, 9, 'BigData')\n",
        "insert(HashTable, 21, 'DataStructure ')\n",
        "insert(HashTable, 41, 'IoT')\n",
        "insert(HashTable, 35, 'Probability')\n",
        "display_hash (HashTable) #??"
      ],
      "metadata": {
        "colab": {
          "base_uri": "https://localhost:8080/"
        },
        "id": "rVjFYK-XuOOx",
        "outputId": "a8ad28aa-e63b-44af-cb90-4db69bc2b01c"
      },
      "execution_count": 3,
      "outputs": [
        {
          "output_type": "stream",
          "name": "stdout",
          "text": [
            "0 1 2 3 4 5 6 7 8 9 --> BigData \n"
          ]
        }
      ]
    }
  ]
}