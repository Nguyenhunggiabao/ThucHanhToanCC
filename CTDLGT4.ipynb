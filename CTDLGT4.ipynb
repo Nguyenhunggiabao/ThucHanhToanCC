{
  "nbformat": 4,
  "nbformat_minor": 0,
  "metadata": {
    "colab": {
      "provenance": [],
      "authorship_tag": "ABX9TyOZYYiLqXRhhVeH6i3pBDHU",
      "include_colab_link": true
    },
    "kernelspec": {
      "name": "python3",
      "display_name": "Python 3"
    },
    "language_info": {
      "name": "python"
    }
  },
  "cells": [
    {
      "cell_type": "markdown",
      "metadata": {
        "id": "view-in-github",
        "colab_type": "text"
      },
      "source": [
        "<a href=\"https://colab.research.google.com/github/Nguyenhunggiabao/ThucHanhToanCC/blob/main/CTDLGT4.ipynb\" target=\"_parent\"><img src=\"https://colab.research.google.com/assets/colab-badge.svg\" alt=\"Open In Colab\"/></a>"
      ]
    },
    {
      "cell_type": "markdown",
      "source": [
        "Nguyễn Hùng Gia Bảo 2174802010827 "
      ],
      "metadata": {
        "id": "oRaPJR86yYtx"
      }
    },
    {
      "cell_type": "markdown",
      "source": [
        "thực hành 2.1: "
      ],
      "metadata": {
        "id": "vHoWR0mCyw0Y"
      }
    },
    {
      "cell_type": "code",
      "source": [
        "#Linked List;\n",
        "class Node:# tạo class Node\n",
        "  def __init__(self, data): # tạo hàm khởi tạo \n",
        "    self.data = data # data\n",
        "    self.next = None # khởi tạo kế tiếp là 0 \n",
        "class LinkedList:# tạo class LinkedList\n",
        "  def __init__(self):# hàm khởi tạo\n",
        "    self.head = None # khởi tạo gán biến bằng 0\n",
        "  def printList(self):# hàm printList\n",
        "    temp = self.head # gán temp = self.head\n",
        "    while (temp): # vòng lặp while( temp)\n",
        "      print (temp.data) # in temp.data\n",
        "      temp = temp.next# gán temp = temp.next\n",
        "if __name__=='__main__':#khai báo main\n",
        "  llist = LinkedList() # gán llist = LinkedList()\n",
        "  llist.head = Node(10)# phần tử đầu = 10\n",
        "  second = Node(11)# phần tử 2 = 11\n",
        "  third = Node(12)# phần tử 3 = 12\n",
        "  llist.head.next = second; # liên kết cái đầu và cái thứ 2 \n",
        "  second.next = third; # liên kết cái 2 với cái thứ 3 \n",
        "  llist.printList()# in llist.printList()"
      ],
      "metadata": {
        "colab": {
          "base_uri": "https://localhost:8080/"
        },
        "id": "I7G__n64zOFT",
        "outputId": "d374f526-3a1b-465f-94ad-101542f4ec27"
      },
      "execution_count": 7,
      "outputs": [
        {
          "output_type": "stream",
          "name": "stdout",
          "text": [
            "10\n",
            "11\n",
            "12\n"
          ]
        }
      ]
    },
    {
      "cell_type": "markdown",
      "source": [
        "input :\n",
        "\n",
        "phần tử đầu = 10\n",
        "\n",
        "phần tử 2 = 11 \n",
        "\n",
        "phần tử 3 = 12\n",
        "\n",
        "output:\n",
        "\n",
        "10\n",
        "\n",
        "11\n",
        "\n",
        "12\n",
        "\n",
        "Hàm main dừng ở dòng llist.printList()\n"
      ],
      "metadata": {
        "id": "IdsS9UnDVakT"
      }
    },
    {
      "cell_type": "markdown",
      "source": [
        "thực hành 2.2:"
      ],
      "metadata": {
        "id": "aIJJ9Ghl0TeX"
      }
    },
    {
      "cell_type": "code",
      "source": [
        "#Linked_list\n",
        "from collections import deque# gọi hàm deque từ collections\n",
        "deque()# gọi deque\n",
        "deque([{'data': 'a'}, {'data': 'b'}]) # gán giá trị 2 đầu là a và b \n",
        "llist = deque(\"abcd\") # gán llist = deque(\"abcd\")\n",
        "llist# in llist \n"
      ],
      "metadata": {
        "colab": {
          "base_uri": "https://localhost:8080/"
        },
        "id": "MaxBYK4D0TOb",
        "outputId": "a1140228-13d8-4a7a-c657-536be008d4d1"
      },
      "execution_count": 8,
      "outputs": [
        {
          "output_type": "execute_result",
          "data": {
            "text/plain": [
              "deque(['a', 'b', 'c', 'd'])"
            ]
          },
          "metadata": {},
          "execution_count": 8
        }
      ]
    },
    {
      "cell_type": "code",
      "source": [
        "llist.append(\"h\") # thêm phần tử vào cuối danh sách\n",
        "llist# in llist \n"
      ],
      "metadata": {
        "colab": {
          "base_uri": "https://localhost:8080/"
        },
        "id": "WSrhbjG4UQk3",
        "outputId": "66f73e5b-67c3-48f2-d160-61a555b66e24"
      },
      "execution_count": 9,
      "outputs": [
        {
          "output_type": "execute_result",
          "data": {
            "text/plain": [
              "deque(['a', 'b', 'c', 'd', 'h'])"
            ]
          },
          "metadata": {},
          "execution_count": 9
        }
      ]
    },
    {
      "cell_type": "markdown",
      "source": [],
      "metadata": {
        "id": "mG3jGP-GaoW5"
      }
    },
    {
      "cell_type": "code",
      "source": [
        "llist.pop() # xóa phần tử cuối danh sách\n",
        "llist # in llist \n"
      ],
      "metadata": {
        "colab": {
          "base_uri": "https://localhost:8080/"
        },
        "id": "zqPJXxc7UR8G",
        "outputId": "5d05339c-8cd9-40d5-abdc-178ccc812644"
      },
      "execution_count": 10,
      "outputs": [
        {
          "output_type": "execute_result",
          "data": {
            "text/plain": [
              "deque(['a', 'b', 'c', 'd'])"
            ]
          },
          "metadata": {},
          "execution_count": 10
        }
      ]
    },
    {
      "cell_type": "code",
      "source": [
        "from collections import deque# gọi hàm deque từ collections\n",
        "d = deque([1,2,3,4,5,6]) # dán d = deque([1,2,3,4,5,6])\n",
        "print(d)# in d\n",
        "for i in d:# duyệt từng phần tử trong danh sách d\n",
        "  print(i)# in các phần tử trong danh sách \n",
        "print(d.pop(), d) # in ra phần tử bị xóa và danh sách "
      ],
      "metadata": {
        "colab": {
          "base_uri": "https://localhost:8080/"
        },
        "id": "2o7yqh2zUTgO",
        "outputId": "01f7c334-3231-4782-9271-4ae8c5aa47d9"
      },
      "execution_count": 11,
      "outputs": [
        {
          "output_type": "stream",
          "name": "stdout",
          "text": [
            "deque([1, 2, 3, 4, 5, 6])\n",
            "1\n",
            "2\n",
            "3\n",
            "4\n",
            "5\n",
            "6\n",
            "6 deque([1, 2, 3, 4, 5])\n"
          ]
        }
      ]
    },
    {
      "cell_type": "markdown",
      "source": [
        "input:\n",
        "\n",
        "d = deque([1,2,3,4,5,6])\n",
        "\n",
        "output:\n",
        "\n",
        "deque([1, 2, 3, 4, 5, 6])\n",
        "\n",
        "1\n",
        "\n",
        "2\n",
        "\n",
        "3\n",
        "\n",
        "4\n",
        "\n",
        "5\n",
        "\n",
        "6\n",
        "\n",
        "6 deque([1, 2, 3, 4, 5])\n",
        "\n",
        " đoạn code có ý nghĩa là xét duyệt các phần tử trong danh sách và in tất cả ra "
      ],
      "metadata": {
        "id": "mp7VwP4yjown"
      }
    },
    {
      "cell_type": "markdown",
      "source": [
        "thực hành 2.3: "
      ],
      "metadata": {
        "id": "sq0UuzUaasGy"
      }
    },
    {
      "cell_type": "code",
      "source": [
        "class Node: # tạo class Node\n",
        "  def __init__(self,dataval=None):# hàm khởi tạo\n",
        "    self.dataval = dataval# khởi tạo dataval\n",
        "    self.nextval = None # khởi tạo nextval = 0\n",
        "class SLinkedList:# tạo class SLinkedList\n",
        "  def __init__(self):# hàm khởi tạo\n",
        "    self.headval=None# khởi tạo headval = 0\n",
        "\n",
        "    #Function to add newnode\n",
        "  def AtEnd(self,newdata):# hàm AtEnd\n",
        "    NewNode = Node(newdata)# gán NewNode = 0\n",
        "    if self.headval is None:# nếu head không có giá trị\n",
        "      self.headval = NewNode# gán headval bằng giá trị NewNode\n",
        "      return# khởi chạy\n",
        "    laste = self.headval# gán laste bằng giá trị headval\n",
        "    while(laste.nextval):# khởi chạy vòng lặp while \n",
        "      laste=laste.nextval# gán laste bằng laste.nextval\n",
        "    laste.nextval= NewNode# gán laste.nextval = giá trị NewNode\n",
        "\n",
        "  #Print the linked list\n",
        "  def listprint(self):# tạo hàm listprint\n",
        "    printval = self.headval # gán printval bằng gái trị của headval\n",
        "    while printval is not None: # khi printval không phải Node\n",
        "      print (printval.dataval)# in printval.dataval\n",
        "      printval= printval.nextval# gán printval bằng printval.dataval\n",
        "\n",
        "list = SLinkedList()# khởi tạo list\n",
        "list.headval = Node('mot')# giá trị đầu bằng 'mot'\n",
        "e2 = Node('hai')# giá trị thứ 2 bằng 'hai'\n",
        "e3 = Node('ba')# giá trị thứ 3 bằng 'ba'\n",
        "\n",
        "list.headval.nextval = e2 # gán tiếp tục danh sách đầu bằng danh sách 2\n",
        "e2.nextval = e3 # danh sách thứ 2 tiếp theo danh sách 3\n",
        "\n",
        "list.AtEnd('bay')# thêm phần tử 'bay' vào cuối\n",
        "\n",
        "list.listprint()# in danh sách \n",
        "\n",
        "\n"
      ],
      "metadata": {
        "colab": {
          "base_uri": "https://localhost:8080/"
        },
        "id": "I7ZaWLyUauiZ",
        "outputId": "a0d3ce8f-3ee3-4a40-a644-4e75ca66db08"
      },
      "execution_count": 15,
      "outputs": [
        {
          "output_type": "stream",
          "name": "stdout",
          "text": [
            "mot\n",
            "hai\n",
            "ba\n",
            "bay\n"
          ]
        }
      ]
    },
    {
      "cell_type": "markdown",
      "source": [
        "input:\n",
        "\n",
        "giá trị đầu bằng 'mot'\n",
        "\n",
        "giá trị thứ 2 bằng 'hai'\n",
        "\n",
        "giá trị thứ 3 bằng 'ba'\n",
        "\n",
        "giá trị được thêm vào 'bay'\n",
        "\n",
        "output:\n",
        "\n",
        "mot\n",
        "\n",
        "hai\n",
        "\n",
        "ba \n",
        "\n",
        "bay\n",
        "\n",
        "\n",
        "\n",
        "đoạn code cho thấy thêm giá trị vào \n",
        "\n",
        "\n",
        "def AtEnd(self,newdata):# hàm AtEnd\n",
        "\n",
        "\n",
        "    NewNode = Node(newdata)# gán NewNode = 0\n",
        "\n",
        "\n",
        "    if self.headval is None:# nếu head không có giá trị\n",
        "\n",
        "\n",
        "      self.headval = NewNode# gán headval bằng giá trị NewNode\n",
        "\n",
        "\n",
        "      return# khởi chạy\n",
        "\n",
        "\n",
        "    laste = self.headval# gán laste bằng giá trị headval\n",
        "\n",
        "\n",
        "    while(laste.nextval):# khởi chạy vòng lặp while \n",
        "\n",
        "\n",
        "      laste=laste.nextval# gán laste bằng laste.nextval\n",
        "\n",
        "\n",
        "    laste.nextval= NewNode# gán laste.nextval = giá trị NewNode\n",
        "\n",
        "\n",
        "\n",
        "list.AtEnd('bay')\n",
        "\n",
        "và thêm phần tử 'bay' vào cuối danh sách"
      ],
      "metadata": {
        "id": "p-I9nD7AiqHK"
      }
    }
  ]
}