{
  "nbformat": 4,
  "nbformat_minor": 0,
  "metadata": {
    "colab": {
      "name": "Untitled10.ipynb",
      "provenance": [],
      "collapsed_sections": [],
      "authorship_tag": "ABX9TyNKVca6GqMKdbsmCW+1h3Yc",
      "include_colab_link": true
    },
    "kernelspec": {
      "name": "python3",
      "display_name": "Python 3"
    },
    "language_info": {
      "name": "python"
    }
  },
  "cells": [
    {
      "cell_type": "markdown",
      "metadata": {
        "id": "view-in-github",
        "colab_type": "text"
      },
      "source": [
        "<a href=\"https://colab.research.google.com/github/Nguyenhunggiabao/ThucHanhToanCC/blob/main/to%E1%BA%A3noirac2.ipynb\" target=\"_parent\"><img src=\"https://colab.research.google.com/assets/colab-badge.svg\" alt=\"Open In Colab\"/></a>"
      ]
    },
    {
      "cell_type": "markdown",
      "source": [
        "chương 2: ánh xạ và quy nạp toán học "
      ],
      "metadata": {
        "id": "R8X0bBm69HoT"
      }
    },
    {
      "cell_type": "markdown",
      "source": [
        "1.1. Viết hàm trong Python"
      ],
      "metadata": {
        "id": "Umrfmu2z9Lef"
      }
    },
    {
      "cell_type": "code",
      "execution_count": 90,
      "metadata": {
        "id": "e0Z1mkup9GO7"
      },
      "outputs": [],
      "source": [
        "def luythua(x, n):\n",
        " ketqua= 1\n",
        " for i in range(n):\n",
        "  ketqua = ketqua *x\n",
        " return ketqua "
      ]
    },
    {
      "cell_type": "code",
      "source": [
        " luythua(2,1) "
      ],
      "metadata": {
        "colab": {
          "base_uri": "https://localhost:8080/"
        },
        "id": "EdP-stJb9ZSa",
        "outputId": "b14df496-f96a-4c47-e8b8-610be319a27a"
      },
      "execution_count": 91,
      "outputs": [
        {
          "output_type": "execute_result",
          "data": {
            "text/plain": [
              "2"
            ]
          },
          "metadata": {},
          "execution_count": 91
        }
      ]
    },
    {
      "cell_type": "code",
      "source": [
        " luythua(2,0) "
      ],
      "metadata": {
        "colab": {
          "base_uri": "https://localhost:8080/"
        },
        "id": "oLB0vSrW9iJb",
        "outputId": "f9b29264-6f8e-4a72-ac66-0da90db957b5"
      },
      "execution_count": 92,
      "outputs": [
        {
          "output_type": "execute_result",
          "data": {
            "text/plain": [
              "1"
            ]
          },
          "metadata": {},
          "execution_count": 92
        }
      ]
    },
    {
      "cell_type": "markdown",
      "source": [
        "1.2. Kiểu dữ liệu tập hợp (set) trong Python"
      ],
      "metadata": {
        "id": "5-vt3sMV-cqY"
      }
    },
    {
      "cell_type": "markdown",
      "source": [
        "ví dụ 1 "
      ],
      "metadata": {
        "id": "yNEjhRMtALWz"
      }
    },
    {
      "cell_type": "code",
      "source": [
        "{2, 4, 6}"
      ],
      "metadata": {
        "colab": {
          "base_uri": "https://localhost:8080/"
        },
        "id": "alD9vq8Q-dvv",
        "outputId": "698d42f1-a8f4-49c3-e542-12b796ffbc07"
      },
      "execution_count": 93,
      "outputs": [
        {
          "output_type": "execute_result",
          "data": {
            "text/plain": [
              "{2, 4, 6}"
            ]
          },
          "metadata": {},
          "execution_count": 93
        }
      ]
    },
    {
      "cell_type": "markdown",
      "source": [
        "ví dụ 2 "
      ],
      "metadata": {
        "id": "opRZv8G-AP8b"
      }
    },
    {
      "cell_type": "code",
      "source": [
        " { n for n in range(100) if n % 2 == 1 } "
      ],
      "metadata": {
        "colab": {
          "base_uri": "https://localhost:8080/"
        },
        "id": "Sf7x3jx1AR4y",
        "outputId": "3d225310-02ba-4d36-dbc6-75e95634a2d5"
      },
      "execution_count": 94,
      "outputs": [
        {
          "output_type": "execute_result",
          "data": {
            "text/plain": [
              "{1,\n",
              " 3,\n",
              " 5,\n",
              " 7,\n",
              " 9,\n",
              " 11,\n",
              " 13,\n",
              " 15,\n",
              " 17,\n",
              " 19,\n",
              " 21,\n",
              " 23,\n",
              " 25,\n",
              " 27,\n",
              " 29,\n",
              " 31,\n",
              " 33,\n",
              " 35,\n",
              " 37,\n",
              " 39,\n",
              " 41,\n",
              " 43,\n",
              " 45,\n",
              " 47,\n",
              " 49,\n",
              " 51,\n",
              " 53,\n",
              " 55,\n",
              " 57,\n",
              " 59,\n",
              " 61,\n",
              " 63,\n",
              " 65,\n",
              " 67,\n",
              " 69,\n",
              " 71,\n",
              " 73,\n",
              " 75,\n",
              " 77,\n",
              " 79,\n",
              " 81,\n",
              " 83,\n",
              " 85,\n",
              " 87,\n",
              " 89,\n",
              " 91,\n",
              " 93,\n",
              " 95,\n",
              " 97,\n",
              " 99}"
            ]
          },
          "metadata": {},
          "execution_count": 94
        }
      ]
    },
    {
      "cell_type": "markdown",
      "source": [
        "ví dụ 3 "
      ],
      "metadata": {
        "id": "9osKT6YxAVJP"
      }
    },
    {
      "cell_type": "code",
      "source": [
        "tap_rong = set()\n",
        "print (tap_rong) "
      ],
      "metadata": {
        "colab": {
          "base_uri": "https://localhost:8080/"
        },
        "id": "QsiGm7-PAXVm",
        "outputId": "0d9d7441-dbae-4076-b502-26f6327e6b43"
      },
      "execution_count": 95,
      "outputs": [
        {
          "output_type": "stream",
          "name": "stdout",
          "text": [
            "set()\n"
          ]
        }
      ]
    },
    {
      "cell_type": "code",
      "source": [
        "setA = { n for n in range(100) if n % 2 == 1 }\n",
        "setB = { n for n in range(100) if n % 2 == 1 } "
      ],
      "metadata": {
        "id": "Qx2Xc4S7Aqs0"
      },
      "execution_count": 96,
      "outputs": []
    },
    {
      "cell_type": "code",
      "source": [
        "setA | setB "
      ],
      "metadata": {
        "colab": {
          "base_uri": "https://localhost:8080/"
        },
        "id": "5MIHDxa2AvjK",
        "outputId": "0c4a0ca5-2662-45b6-93cb-82646396656a"
      },
      "execution_count": 97,
      "outputs": [
        {
          "output_type": "execute_result",
          "data": {
            "text/plain": [
              "{1,\n",
              " 3,\n",
              " 5,\n",
              " 7,\n",
              " 9,\n",
              " 11,\n",
              " 13,\n",
              " 15,\n",
              " 17,\n",
              " 19,\n",
              " 21,\n",
              " 23,\n",
              " 25,\n",
              " 27,\n",
              " 29,\n",
              " 31,\n",
              " 33,\n",
              " 35,\n",
              " 37,\n",
              " 39,\n",
              " 41,\n",
              " 43,\n",
              " 45,\n",
              " 47,\n",
              " 49,\n",
              " 51,\n",
              " 53,\n",
              " 55,\n",
              " 57,\n",
              " 59,\n",
              " 61,\n",
              " 63,\n",
              " 65,\n",
              " 67,\n",
              " 69,\n",
              " 71,\n",
              " 73,\n",
              " 75,\n",
              " 77,\n",
              " 79,\n",
              " 81,\n",
              " 83,\n",
              " 85,\n",
              " 87,\n",
              " 89,\n",
              " 91,\n",
              " 93,\n",
              " 95,\n",
              " 97,\n",
              " 99}"
            ]
          },
          "metadata": {},
          "execution_count": 97
        }
      ]
    },
    {
      "cell_type": "code",
      "source": [
        "setA & setB "
      ],
      "metadata": {
        "colab": {
          "base_uri": "https://localhost:8080/"
        },
        "id": "otFpUsghAyn2",
        "outputId": "765b1356-7351-4d52-a88e-a1d3811b3881"
      },
      "execution_count": 98,
      "outputs": [
        {
          "output_type": "execute_result",
          "data": {
            "text/plain": [
              "{1,\n",
              " 3,\n",
              " 5,\n",
              " 7,\n",
              " 9,\n",
              " 11,\n",
              " 13,\n",
              " 15,\n",
              " 17,\n",
              " 19,\n",
              " 21,\n",
              " 23,\n",
              " 25,\n",
              " 27,\n",
              " 29,\n",
              " 31,\n",
              " 33,\n",
              " 35,\n",
              " 37,\n",
              " 39,\n",
              " 41,\n",
              " 43,\n",
              " 45,\n",
              " 47,\n",
              " 49,\n",
              " 51,\n",
              " 53,\n",
              " 55,\n",
              " 57,\n",
              " 59,\n",
              " 61,\n",
              " 63,\n",
              " 65,\n",
              " 67,\n",
              " 69,\n",
              " 71,\n",
              " 73,\n",
              " 75,\n",
              " 77,\n",
              " 79,\n",
              " 81,\n",
              " 83,\n",
              " 85,\n",
              " 87,\n",
              " 89,\n",
              " 91,\n",
              " 93,\n",
              " 95,\n",
              " 97,\n",
              " 99}"
            ]
          },
          "metadata": {},
          "execution_count": 98
        }
      ]
    },
    {
      "cell_type": "code",
      "source": [
        "setA - setB"
      ],
      "metadata": {
        "colab": {
          "base_uri": "https://localhost:8080/"
        },
        "id": "1OLIkTwlA0oc",
        "outputId": "ebfb3143-d548-4dfa-977d-86ae32db8317"
      },
      "execution_count": 99,
      "outputs": [
        {
          "output_type": "execute_result",
          "data": {
            "text/plain": [
              "set()"
            ]
          },
          "metadata": {},
          "execution_count": 99
        }
      ]
    },
    {
      "cell_type": "code",
      "source": [
        "setA < setB"
      ],
      "metadata": {
        "colab": {
          "base_uri": "https://localhost:8080/"
        },
        "id": "wjcih_ROA2fe",
        "outputId": "79b18f9f-f284-4464-dba0-ef0b2521aae4"
      },
      "execution_count": 100,
      "outputs": [
        {
          "output_type": "execute_result",
          "data": {
            "text/plain": [
              "False"
            ]
          },
          "metadata": {},
          "execution_count": 100
        }
      ]
    },
    {
      "cell_type": "code",
      "source": [
        " setA <= setB"
      ],
      "metadata": {
        "colab": {
          "base_uri": "https://localhost:8080/"
        },
        "id": "DfAqUvvLA4Vk",
        "outputId": "8dd3727f-43c0-416d-f440-99bf4d44f737"
      },
      "execution_count": 101,
      "outputs": [
        {
          "output_type": "execute_result",
          "data": {
            "text/plain": [
              "True"
            ]
          },
          "metadata": {},
          "execution_count": 101
        }
      ]
    },
    {
      "cell_type": "code",
      "source": [
        "10 in setA "
      ],
      "metadata": {
        "colab": {
          "base_uri": "https://localhost:8080/"
        },
        "id": "Hkz1Sc1aA6T0",
        "outputId": "96fd0d2b-a8a6-431a-bdfd-04b01431847c"
      },
      "execution_count": 102,
      "outputs": [
        {
          "output_type": "execute_result",
          "data": {
            "text/plain": [
              "False"
            ]
          },
          "metadata": {},
          "execution_count": 102
        }
      ]
    },
    {
      "cell_type": "code",
      "source": [
        "11 in setA "
      ],
      "metadata": {
        "colab": {
          "base_uri": "https://localhost:8080/"
        },
        "id": "ULtnYuL6A9jL",
        "outputId": "dd28b959-b751-4679-e8cb-fed7b3a54e18"
      },
      "execution_count": 103,
      "outputs": [
        {
          "output_type": "execute_result",
          "data": {
            "text/plain": [
              "True"
            ]
          },
          "metadata": {},
          "execution_count": 103
        }
      ]
    },
    {
      "cell_type": "code",
      "source": [
        "setA.add(0) "
      ],
      "metadata": {
        "id": "n-eXqg7sA_lY"
      },
      "execution_count": 104,
      "outputs": []
    },
    {
      "cell_type": "code",
      "source": [
        "setA > setB "
      ],
      "metadata": {
        "colab": {
          "base_uri": "https://localhost:8080/"
        },
        "id": "_EYese_bBCSR",
        "outputId": "e628865c-5c81-4ed5-8219-9a041afec16d"
      },
      "execution_count": 105,
      "outputs": [
        {
          "output_type": "execute_result",
          "data": {
            "text/plain": [
              "True"
            ]
          },
          "metadata": {},
          "execution_count": 105
        }
      ]
    },
    {
      "cell_type": "markdown",
      "source": [
        "1.3. Hàm lambda trong Python "
      ],
      "metadata": {
        "id": "k8CURaRFBNBE"
      }
    },
    {
      "cell_type": "markdown",
      "source": [
        "Ví dụ 1: Sử dụng hàm lambda để tính x*x "
      ],
      "metadata": {
        "id": "jRhxwM8pBQ0H"
      }
    },
    {
      "cell_type": "code",
      "source": [
        "def f (x):\n",
        "  return x**2"
      ],
      "metadata": {
        "id": "Lxum-8LGBN0m"
      },
      "execution_count": 106,
      "outputs": []
    },
    {
      "cell_type": "code",
      "source": [
        "print(f(8))\n"
      ],
      "metadata": {
        "colab": {
          "base_uri": "https://localhost:8080/"
        },
        "id": "yukL5YOlBkpJ",
        "outputId": "38a5a3bd-3694-4761-89e3-1852b4e1640b"
      },
      "execution_count": 107,
      "outputs": [
        {
          "output_type": "stream",
          "name": "stdout",
          "text": [
            "64\n"
          ]
        }
      ]
    },
    {
      "cell_type": "code",
      "source": [
        "g = lambda x: x**2\n",
        "print(g(8))"
      ],
      "metadata": {
        "colab": {
          "base_uri": "https://localhost:8080/"
        },
        "id": "hxcLixAxBac3",
        "outputId": "bee84073-8fd5-4d0b-abe6-d713075a538d"
      },
      "execution_count": 108,
      "outputs": [
        {
          "output_type": "stream",
          "name": "stdout",
          "text": [
            "64\n"
          ]
        }
      ]
    },
    {
      "cell_type": "markdown",
      "source": [
        "Ví dụ 2: Tính thuế theo địa phương "
      ],
      "metadata": {
        "id": "PPziSoH9CNOY"
      }
    },
    {
      "cell_type": "code",
      "source": [
        "def thue(phan_tram): return lambda x: x * phan_tram"
      ],
      "metadata": {
        "id": "jB9NaErlCHfo"
      },
      "execution_count": 109,
      "outputs": []
    },
    {
      "cell_type": "code",
      "source": [
        "hcm = thue(0.012)"
      ],
      "metadata": {
        "id": "yrVNS-gQCTfk"
      },
      "execution_count": 110,
      "outputs": []
    },
    {
      "cell_type": "code",
      "source": [
        "hn = thue(0.01)"
      ],
      "metadata": {
        "id": "MDa3FclKCWss"
      },
      "execution_count": 111,
      "outputs": []
    },
    {
      "cell_type": "code",
      "source": [
        "hcm(1000000)"
      ],
      "metadata": {
        "colab": {
          "base_uri": "https://localhost:8080/"
        },
        "id": "sQflE3NiCeBy",
        "outputId": "6d0b4462-3b52-4b33-b672-8b843a8f7210"
      },
      "execution_count": 112,
      "outputs": [
        {
          "output_type": "execute_result",
          "data": {
            "text/plain": [
              "12000.0"
            ]
          },
          "metadata": {},
          "execution_count": 112
        }
      ]
    },
    {
      "cell_type": "markdown",
      "source": [
        "Ví dụ 3: Liệt kê các số chia hết cho 3 từ 2 đến 49. "
      ],
      "metadata": {
        "id": "Av07TDXBChtf"
      }
    },
    {
      "cell_type": "code",
      "source": [
        "day_so = range(2, 50)\n",
        "list(filter(lambda x: x % 3 == 0, day_so))"
      ],
      "metadata": {
        "colab": {
          "base_uri": "https://localhost:8080/"
        },
        "id": "3NEPqQlHCjlR",
        "outputId": "760a7e50-8b8e-49d4-f0ad-202e0b78a47a"
      },
      "execution_count": 123,
      "outputs": [
        {
          "output_type": "execute_result",
          "data": {
            "text/plain": [
              "[3, 6, 9, 12, 15, 18, 21, 24, 27, 30, 33, 36, 39, 42, 45, 48]"
            ]
          },
          "metadata": {},
          "execution_count": 123
        }
      ]
    },
    {
      "cell_type": "markdown",
      "source": [
        "Ví dụ 4: Về hàm map()"
      ],
      "metadata": {
        "id": "DFb_62iIEVV9"
      }
    },
    {
      "cell_type": "code",
      "source": [
        "list(map(lambda x: x * x , day_so))"
      ],
      "metadata": {
        "colab": {
          "base_uri": "https://localhost:8080/"
        },
        "id": "AIblJjfsEYWq",
        "outputId": "2021d87d-2efe-438c-f741-22e9c4b9ea74"
      },
      "execution_count": 124,
      "outputs": [
        {
          "output_type": "execute_result",
          "data": {
            "text/plain": [
              "[4,\n",
              " 9,\n",
              " 16,\n",
              " 25,\n",
              " 36,\n",
              " 49,\n",
              " 64,\n",
              " 81,\n",
              " 100,\n",
              " 121,\n",
              " 144,\n",
              " 169,\n",
              " 196,\n",
              " 225,\n",
              " 256,\n",
              " 289,\n",
              " 324,\n",
              " 361,\n",
              " 400,\n",
              " 441,\n",
              " 484,\n",
              " 529,\n",
              " 576,\n",
              " 625,\n",
              " 676,\n",
              " 729,\n",
              " 784,\n",
              " 841,\n",
              " 900,\n",
              " 961,\n",
              " 1024,\n",
              " 1089,\n",
              " 1156,\n",
              " 1225,\n",
              " 1296,\n",
              " 1369,\n",
              " 1444,\n",
              " 1521,\n",
              " 1600,\n",
              " 1681,\n",
              " 1764,\n",
              " 1849,\n",
              " 1936,\n",
              " 2025,\n",
              " 2116,\n",
              " 2209,\n",
              " 2304,\n",
              " 2401]"
            ]
          },
          "metadata": {},
          "execution_count": 124
        }
      ]
    },
    {
      "cell_type": "markdown",
      "source": [
        "Ví dụ 5: Giới thiệu hàm reduce() cho hàm lambd"
      ],
      "metadata": {
        "id": "bVH-lvoFGc1P"
      }
    },
    {
      "cell_type": "code",
      "source": [
        "from functools import reduce \n",
        "day_so = range(1, 11)\n",
        "reduce(lambda x, y: x+y, day_so) "
      ],
      "metadata": {
        "colab": {
          "base_uri": "https://localhost:8080/"
        },
        "id": "WuGWcQamGboG",
        "outputId": "0a4d84f2-40a0-4e90-9e98-bcfc511c5668"
      },
      "execution_count": 139,
      "outputs": [
        {
          "output_type": "execute_result",
          "data": {
            "text/plain": [
              "55"
            ]
          },
          "metadata": {},
          "execution_count": 139
        }
      ]
    },
    {
      "cell_type": "markdown",
      "source": [
        "Ví dụ 6: Tìm số lớn nhất trong một dãy số "
      ],
      "metadata": {
        "id": "PwXYL_46HeGA"
      }
    },
    {
      "cell_type": "code",
      "source": [
        "ds = [20, 25, 50, 103, 13, 19] \n",
        "f = lambda a,b: a if (a>b) else b \n",
        "print (reduce(f, ds)) "
      ],
      "metadata": {
        "colab": {
          "base_uri": "https://localhost:8080/"
        },
        "id": "W8E2yJvfHh2K",
        "outputId": "25b79b16-290a-462a-de83-3c1f3e62a69c"
      },
      "execution_count": 140,
      "outputs": [
        {
          "output_type": "stream",
          "name": "stdout",
          "text": [
            "103\n"
          ]
        }
      ]
    },
    {
      "cell_type": "markdown",
      "source": [
        "Ví dụ 7: in ra ma trận đường chéo In với n là số nguyên (n>1):"
      ],
      "metadata": {
        "id": "t1feVLMIHhaG"
      }
    },
    {
      "cell_type": "code",
      "source": [
        "imatrix = lambda n:[[1 if j==i else 0 for j in range(n)] for i in range(n)] \n",
        "imatrix(3) "
      ],
      "metadata": {
        "colab": {
          "base_uri": "https://localhost:8080/"
        },
        "id": "_gCVsSNUIV4u",
        "outputId": "a2e828c1-e5b0-4c1a-ce9e-6142354bb97c"
      },
      "execution_count": 141,
      "outputs": [
        {
          "output_type": "execute_result",
          "data": {
            "text/plain": [
              "[[1, 0, 0], [0, 1, 0], [0, 0, 1]]"
            ]
          },
          "metadata": {},
          "execution_count": 141
        }
      ]
    },
    {
      "cell_type": "code",
      "source": [
        "import numpy\n",
        "list_eye = lambda n: numpy.eye(n).tolist()\n",
        "list_eye(4) "
      ],
      "metadata": {
        "colab": {
          "base_uri": "https://localhost:8080/"
        },
        "id": "F79HyTwLI0fD",
        "outputId": "98e9e641-32b3-44be-c924-bdc69c0e3e67"
      },
      "execution_count": 142,
      "outputs": [
        {
          "output_type": "execute_result",
          "data": {
            "text/plain": [
              "[[1.0, 0.0, 0.0, 0.0],\n",
              " [0.0, 1.0, 0.0, 0.0],\n",
              " [0.0, 0.0, 1.0, 0.0],\n",
              " [0.0, 0.0, 0.0, 1.0]]"
            ]
          },
          "metadata": {},
          "execution_count": 142
        }
      ]
    },
    {
      "cell_type": "markdown",
      "source": [
        "Ví dụ 8: In ra ma trận hệ số: với n==3 thì là ma trận 3x3 có đường chéo là căn 2."
      ],
      "metadata": {
        "id": "uoeHCZadIqwA"
      }
    },
    {
      "cell_type": "code",
      "source": [
        "import math \n",
        "g = lambda n:[[1 if (j+1==i or j==i+1) else math.sqrt(2) for j in range(n)] for i in range(n)] \n",
        "g(3)"
      ],
      "metadata": {
        "colab": {
          "base_uri": "https://localhost:8080/"
        },
        "id": "v58MuqVnI7Km",
        "outputId": "4400ff13-4389-4b1d-f198-2abd662028e3"
      },
      "execution_count": 146,
      "outputs": [
        {
          "output_type": "execute_result",
          "data": {
            "text/plain": [
              "[[1.4142135623730951, 1, 1.4142135623730951],\n",
              " [1, 1.4142135623730951, 1],\n",
              " [1.4142135623730951, 1, 1.4142135623730951]]"
            ]
          },
          "metadata": {},
          "execution_count": 146
        }
      ]
    },
    {
      "cell_type": "markdown",
      "source": [
        "Ví dụ 9: Như ví dụ 8 nhưng ô ở giữa bằng 0"
      ],
      "metadata": {
        "id": "mMjZAw5vJDul"
      }
    },
    {
      "cell_type": "code",
      "source": [
        "g = lambda n:[[1 if (j+1==i or j==i+1) else 0 if(i==n/2) else math.sqrt(2) for j in range(n)]\n",
        "for i in range(n)]\n",
        "g(3)"
      ],
      "metadata": {
        "colab": {
          "base_uri": "https://localhost:8080/"
        },
        "id": "hZNfNnWiJZqX",
        "outputId": "490633eb-a98a-4de1-e617-4e074dc17ec9"
      },
      "execution_count": 147,
      "outputs": [
        {
          "output_type": "execute_result",
          "data": {
            "text/plain": [
              "[[1.4142135623730951, 1, 1.4142135623730951],\n",
              " [1, 1.4142135623730951, 1],\n",
              " [1.4142135623730951, 1, 1.4142135623730951]]"
            ]
          },
          "metadata": {},
          "execution_count": 147
        }
      ]
    },
    {
      "cell_type": "markdown",
      "source": [
        "2. Ánh xạ và hàm hợp\n",
        "2.1. Phân loại ánh xạ và một số tính chất "
      ],
      "metadata": {
        "id": "TJQ67rTHIooS"
      }
    },
    {
      "cell_type": "markdown",
      "source": [
        "2.2. Hàm hợp trong Python "
      ],
      "metadata": {
        "id": "7qc_5mVCJtwq"
      }
    },
    {
      "cell_type": "code",
      "source": [
        "def alpha(a):\n",
        "  return a+10\n",
        "def beta(b):\n",
        "  return b*3\n",
        "def ham_hop(g, f): \n",
        "  return (lambda x: g(f(x)))\n",
        "h = ham_hop(alpha,beta) \n"
      ],
      "metadata": {
        "id": "oND31-gjKZ2m"
      },
      "execution_count": 177,
      "outputs": []
    },
    {
      "cell_type": "code",
      "source": [
        "h(1)"
      ],
      "metadata": {
        "colab": {
          "base_uri": "https://localhost:8080/"
        },
        "id": "yoQyPenbKqhx",
        "outputId": "ba692057-0f03-4bb3-a6f9-096c2cd18d44"
      },
      "execution_count": 178,
      "outputs": [
        {
          "output_type": "execute_result",
          "data": {
            "text/plain": [
              "13"
            ]
          },
          "metadata": {},
          "execution_count": 178
        }
      ]
    },
    {
      "cell_type": "code",
      "source": [
        "g = ham_hop(beta, alpha)\n",
        "g(1)"
      ],
      "metadata": {
        "colab": {
          "base_uri": "https://localhost:8080/"
        },
        "id": "7RkqIEU4K7TV",
        "outputId": "efca963b-5925-451d-bae7-16380cced8af"
      },
      "execution_count": 179,
      "outputs": [
        {
          "output_type": "execute_result",
          "data": {
            "text/plain": [
              "33"
            ]
          },
          "metadata": {},
          "execution_count": 179
        }
      ]
    },
    {
      "cell_type": "markdown",
      "source": [
        "3. Quy nạp toán học và xây dựng hàm đệ quy trong Python "
      ],
      "metadata": {
        "id": "o_1bd921LDGn"
      }
    },
    {
      "cell_type": "code",
      "source": [
        "from datetime import datetime \n",
        "from datetime import timedelta\n",
        "def millis(start_time):\n",
        " dt = datetime.now() - start_time\n",
        " ms = (dt.days * 24 * 60 * 60 + dt.seconds) * 1000 + dt.microseconds / 1000.0\n",
        " return ms\n",
        "def milisec_passed(start_time):\n",
        "  thoigian_troi_qua = millis(start_time)\n",
        "  s = \"Thoi gian da troi qua:\" + str(int(thoigian_troi_qua)) + \" mili giay.\"\n",
        "  return s"
      ],
      "metadata": {
        "id": "QkmVFdwELExN"
      },
      "execution_count": 159,
      "outputs": []
    },
    {
      "cell_type": "code",
      "source": [
        "def tong(n):\n",
        " bat_dau = datetime.now()\n",
        " ketqua = 0\n",
        " for i in range(n+1):\n",
        "  ketqua = ketqua + i\n",
        " thoi_gian = str(milisec_passed(bat_dau))\n",
        " print(thoi_gian)\n",
        " return ketqua "
      ],
      "metadata": {
        "id": "pmQRHWW3LbWd"
      },
      "execution_count": 160,
      "outputs": []
    },
    {
      "cell_type": "code",
      "source": [
        "tong(100000000)"
      ],
      "metadata": {
        "colab": {
          "base_uri": "https://localhost:8080/"
        },
        "id": "w5llMg1hLipE",
        "outputId": "862743af-91d3-4935-89af-2ae6ffff82fc"
      },
      "execution_count": 161,
      "outputs": [
        {
          "output_type": "stream",
          "name": "stdout",
          "text": [
            "Thoi gian da troi qua:7088 mili giay.\n"
          ]
        },
        {
          "output_type": "execute_result",
          "data": {
            "text/plain": [
              "5000000050000000"
            ]
          },
          "metadata": {},
          "execution_count": 161
        }
      ]
    },
    {
      "cell_type": "code",
      "source": [
        " def tong1(n):\n",
        "  bat_dau = datetime.now()\n",
        "  ket_qua = n*(n+1)/2\n",
        "  thoi_gian = str(milisec_passed(bat_dau))\n",
        "  print(thoi_gian)\n",
        "  return ket_qua "
      ],
      "metadata": {
        "id": "pEM4JOiMLjbM"
      },
      "execution_count": 162,
      "outputs": []
    },
    {
      "cell_type": "code",
      "source": [
        "tong1(100000000)"
      ],
      "metadata": {
        "colab": {
          "base_uri": "https://localhost:8080/"
        },
        "id": "BX1PBJ9fLzQh",
        "outputId": "b8768e69-a391-4603-860e-5bedf16d8d01"
      },
      "execution_count": 163,
      "outputs": [
        {
          "output_type": "stream",
          "name": "stdout",
          "text": [
            "Thoi gian da troi qua:0 mili giay.\n"
          ]
        },
        {
          "output_type": "execute_result",
          "data": {
            "text/plain": [
              "5000000050000000.0"
            ]
          },
          "metadata": {},
          "execution_count": 163
        }
      ]
    },
    {
      "cell_type": "code",
      "source": [
        " def fibo(n):\n",
        "  if (n == 0) or (n == 1):\n",
        "    return 1\n",
        "  else:\n",
        "    return fibo(n-1) + fibo(n-2) "
      ],
      "metadata": {
        "id": "Yg_KT9gsL5Qn"
      },
      "execution_count": 164,
      "outputs": []
    },
    {
      "cell_type": "code",
      "source": [
        "fibo(2)"
      ],
      "metadata": {
        "colab": {
          "base_uri": "https://localhost:8080/"
        },
        "id": "HaduyakXL_sc",
        "outputId": "d819b2d2-73a6-4ed4-c1c5-82f156f43371"
      },
      "execution_count": 165,
      "outputs": [
        {
          "output_type": "execute_result",
          "data": {
            "text/plain": [
              "2"
            ]
          },
          "metadata": {},
          "execution_count": 165
        }
      ]
    },
    {
      "cell_type": "code",
      "source": [
        "fibo(3)"
      ],
      "metadata": {
        "colab": {
          "base_uri": "https://localhost:8080/"
        },
        "id": "aI--ubwIMC9c",
        "outputId": "8d166d82-e3b0-4d1a-dd69-2e222a50e4e4"
      },
      "execution_count": 167,
      "outputs": [
        {
          "output_type": "execute_result",
          "data": {
            "text/plain": [
              "3"
            ]
          },
          "metadata": {},
          "execution_count": 167
        }
      ]
    },
    {
      "cell_type": "code",
      "source": [
        "fibo(4)"
      ],
      "metadata": {
        "colab": {
          "base_uri": "https://localhost:8080/"
        },
        "id": "0aDAS5HYMH_b",
        "outputId": "6a3cfd1a-69e1-41e1-a07b-126f4f3c40f4"
      },
      "execution_count": 168,
      "outputs": [
        {
          "output_type": "execute_result",
          "data": {
            "text/plain": [
              "5"
            ]
          },
          "metadata": {},
          "execution_count": 168
        }
      ]
    },
    {
      "cell_type": "code",
      "source": [
        "fibo(5)"
      ],
      "metadata": {
        "colab": {
          "base_uri": "https://localhost:8080/"
        },
        "id": "3MU55P2xMIYX",
        "outputId": "09547bda-eec6-45e9-a9a8-5500a42b7114"
      },
      "execution_count": 169,
      "outputs": [
        {
          "output_type": "execute_result",
          "data": {
            "text/plain": [
              "8"
            ]
          },
          "metadata": {},
          "execution_count": 169
        }
      ]
    },
    {
      "cell_type": "code",
      "source": [
        "def fibo_mem(n, so_da_tinh = {0:0, 1: 1}):\n",
        "  if n not in so_da_tinh:\n",
        "    so_da_tinh[n] = fibo_mem(n-1, so_da_tinh) + fibo_mem(n-2, so_da_tinh)\n",
        "  return so_da_tinh[n]"
      ],
      "metadata": {
        "id": "x25iB0RzMSwN"
      },
      "execution_count": 170,
      "outputs": []
    },
    {
      "cell_type": "code",
      "source": [
        "fibo_mem(3)"
      ],
      "metadata": {
        "colab": {
          "base_uri": "https://localhost:8080/"
        },
        "id": "E2RgZZbVMX0O",
        "outputId": "eb1711a1-5f17-4c11-99eb-016709fb300b"
      },
      "execution_count": 171,
      "outputs": [
        {
          "output_type": "execute_result",
          "data": {
            "text/plain": [
              "2"
            ]
          },
          "metadata": {},
          "execution_count": 171
        }
      ]
    },
    {
      "cell_type": "code",
      "source": [
        "fibo_mem(200) "
      ],
      "metadata": {
        "colab": {
          "base_uri": "https://localhost:8080/"
        },
        "id": "te6uGgxQMZ3x",
        "outputId": "b06244fc-0687-4b3b-a470-ce21a3d05e01"
      },
      "execution_count": 172,
      "outputs": [
        {
          "output_type": "execute_result",
          "data": {
            "text/plain": [
              "280571172992510140037611932413038677189525"
            ]
          },
          "metadata": {},
          "execution_count": 172
        }
      ]
    },
    {
      "cell_type": "code",
      "source": [
        "fibo_mem(500)"
      ],
      "metadata": {
        "colab": {
          "base_uri": "https://localhost:8080/"
        },
        "id": "6r5ysG_LMdYv",
        "outputId": "801ad6e1-a664-4f2b-ce8f-a5f60cc69e69"
      },
      "execution_count": 173,
      "outputs": [
        {
          "output_type": "execute_result",
          "data": {
            "text/plain": [
              "139423224561697880139724382870407283950070256587697307264108962948325571622863290691557658876222521294125"
            ]
          },
          "metadata": {},
          "execution_count": 173
        }
      ]
    },
    {
      "cell_type": "markdown",
      "source": [
        "BÀI TẬP CHƯƠNG 2"
      ],
      "metadata": {
        "id": "w74XZij9ONuk"
      }
    },
    {
      "cell_type": "markdown",
      "source": [
        "Câu 1:"
      ],
      "metadata": {
        "id": "14IO-XOqORuy"
      }
    },
    {
      "cell_type": "code",
      "source": [
        ""
      ],
      "metadata": {
        "id": "6cvAZp0COTjt"
      },
      "execution_count": null,
      "outputs": []
    }
  ]
}