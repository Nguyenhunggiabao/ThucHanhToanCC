{
  "nbformat": 4,
  "nbformat_minor": 0,
  "metadata": {
    "colab": {
      "provenance": [],
      "authorship_tag": "ABX9TyMZ44T98EjD/TLPT/LmEHm3",
      "include_colab_link": true
    },
    "kernelspec": {
      "name": "python3",
      "display_name": "Python 3"
    },
    "language_info": {
      "name": "python"
    }
  },
  "cells": [
    {
      "cell_type": "markdown",
      "metadata": {
        "id": "view-in-github",
        "colab_type": "text"
      },
      "source": [
        "<a href=\"https://colab.research.google.com/github/Nguyenhunggiabao/ThucHanhToanCC/blob/main/CTDLGT4.ipynb\" target=\"_parent\"><img src=\"https://colab.research.google.com/assets/colab-badge.svg\" alt=\"Open In Colab\"/></a>"
      ]
    },
    {
      "cell_type": "markdown",
      "source": [
        "Nguyễn Hùng Gia Bảo 2174802010827 "
      ],
      "metadata": {
        "id": "oRaPJR86yYtx"
      }
    },
    {
      "cell_type": "markdown",
      "source": [
        "thực hành 1:"
      ],
      "metadata": {
        "id": "GwyCSPwXyi-5"
      }
    },
    {
      "cell_type": "code",
      "execution_count": 1,
      "metadata": {
        "colab": {
          "base_uri": "https://localhost:8080/"
        },
        "id": "GUzNHu_IyW2c",
        "outputId": "5ca65cac-ff22-45be-cffd-4acf6677d56b"
      },
      "outputs": [
        {
          "output_type": "stream",
          "name": "stdout",
          "text": [
            "['hanoi', 'saigon', 'danang', 'nhatrang', 'cantho']\n"
          ]
        }
      ],
      "source": [
        "#Array List\n",
        "thislist = [\"hanoi\", \"saigon\", \"danang\", \"nhatrang\", \"cantho\"]\n",
        "print(thislist)"
      ]
    },
    {
      "cell_type": "code",
      "source": [
        "thislist.insert(2, \"cantho\") #insert\n",
        "print(thislist)\n",
        "thislist.insert(3, \"Hue\")\n",
        "print(thislist)\n"
      ],
      "metadata": {
        "colab": {
          "base_uri": "https://localhost:8080/"
        },
        "id": "Vyn1z0bsyu4c",
        "outputId": "0e786205-bc0c-4633-d539-d830aee281b0"
      },
      "execution_count": 2,
      "outputs": [
        {
          "output_type": "stream",
          "name": "stdout",
          "text": [
            "['hanoi', 'saigon', 'cantho', 'danang', 'nhatrang', 'cantho']\n",
            "['hanoi', 'saigon', 'cantho', 'Hue', 'danang', 'nhatrang', 'cantho']\n"
          ]
        }
      ]
    },
    {
      "cell_type": "code",
      "source": [
        "thislist = [\"hanoi\", \"saigon\", \"danang\", \"nhatrang\"]\n",
        "thislist.pop(2) #pop"
      ],
      "metadata": {
        "colab": {
          "base_uri": "https://localhost:8080/",
          "height": 36
        },
        "id": "1slwFQeUy0R3",
        "outputId": "af7717d5-d6ce-45fd-830f-a1b6953e2392"
      },
      "execution_count": 3,
      "outputs": [
        {
          "output_type": "execute_result",
          "data": {
            "text/plain": [
              "'danang'"
            ],
            "application/vnd.google.colaboratory.intrinsic+json": {
              "type": "string"
            }
          },
          "metadata": {},
          "execution_count": 3
        }
      ]
    },
    {
      "cell_type": "code",
      "source": [
        "thislist = [\"hanoi\", \"saigon\", \"danang\", \"nhatrang\", \"cantho\"]\n",
        "thislist.sort()\n",
        "print(thislist)"
      ],
      "metadata": {
        "colab": {
          "base_uri": "https://localhost:8080/"
        },
        "id": "PV_Wl8dYy029",
        "outputId": "ff596dae-7476-4232-f602-27006ad4ece5"
      },
      "execution_count": 4,
      "outputs": [
        {
          "output_type": "stream",
          "name": "stdout",
          "text": [
            "['cantho', 'danang', 'hanoi', 'nhatrang', 'saigon']\n"
          ]
        }
      ]
    },
    {
      "cell_type": "code",
      "source": [
        "thislist = [100, 15, 50, 65, 82, 23]\n",
        "thislist.sort() #sort\n",
        "print(thislist)\n"
      ],
      "metadata": {
        "colab": {
          "base_uri": "https://localhost:8080/"
        },
        "id": "W6WLoHoGy3oh",
        "outputId": "501e4ee6-eecc-4ce8-a1cb-31d5d438b847"
      },
      "execution_count": 5,
      "outputs": [
        {
          "output_type": "stream",
          "name": "stdout",
          "text": [
            "[15, 23, 50, 65, 82, 100]\n"
          ]
        }
      ]
    },
    {
      "cell_type": "code",
      "source": [
        "list1 = ['data analytics', 'data science', 'data structures andalgorithms', 2020, 2021]\n",
        "list2 = [0, 1, 2, 3, 4, 5, 6, 7, 8, 9]\n",
        "print (\"list1[1]: \", list1[1])\n",
        "print (\"list2[2:8]: \", list2[2:8])"
      ],
      "metadata": {
        "colab": {
          "base_uri": "https://localhost:8080/"
        },
        "id": "SGz2X5hhy5y1",
        "outputId": "fcf66304-f0cc-47b8-fb00-8c068dae4125"
      },
      "execution_count": 7,
      "outputs": [
        {
          "output_type": "stream",
          "name": "stdout",
          "text": [
            "list1[1]:  data science\n",
            "list2[2:8]:  [2, 3, 4, 5, 6, 7]\n"
          ]
        }
      ]
    },
    {
      "cell_type": "markdown",
      "source": [
        "thực hành 2,1;"
      ],
      "metadata": {
        "id": "vHoWR0mCyw0Y"
      }
    },
    {
      "cell_type": "code",
      "source": [
        "#Linked List;\n",
        "class Node:\n",
        "  def __init__(self, data):\n",
        "    self.data = data # data\n",
        "    self.next = None # khởi tạo kế tiếp là null \n",
        "class LinkedList:\n",
        "  def __init__(self):\n",
        "    self.head = None\n",
        "  def printList(self):\n",
        "    temp = self.head\n",
        "    while (temp):\n",
        "      print (temp.data)\n",
        "      temp = temp.next\n",
        "if __name__=='__main__':\n",
        "  llist = LinkedList()\n",
        "  llist.head = Node(10)\n",
        "  second = Node(11)\n",
        "  third = Node(12)\n",
        "  llist.head.next = second; # liên kết cái đầu và cái thứ 2 \n",
        "  second.next = third; # liên kết cái 2 với cái thứ 3 \n",
        "  llist.printList()"
      ],
      "metadata": {
        "colab": {
          "base_uri": "https://localhost:8080/"
        },
        "id": "I7G__n64zOFT",
        "outputId": "8110f8d1-0b60-435b-8548-3a6e089db17b"
      },
      "execution_count": 8,
      "outputs": [
        {
          "output_type": "stream",
          "name": "stdout",
          "text": [
            "10\n",
            "11\n",
            "12\n"
          ]
        }
      ]
    },
    {
      "cell_type": "markdown",
      "source": [
        "thực hành 2.2:"
      ],
      "metadata": {
        "id": "aIJJ9Ghl0TeX"
      }
    },
    {
      "cell_type": "code",
      "source": [
        "#Linked_list\n",
        "from collections import deque\n",
        "deque()\n",
        "deque([{'data': 'a'}, {'data': 'b'}])\n",
        "llist = deque(\"abcd\") #??\n",
        "llist\n",
        "llist.append(\"h\") #??\n",
        "llist\n",
        "llist.pop() #??\n",
        "llist #??\n",
        "from collections import deque\n",
        "d = deque([1,2,3,4,5,6])\n",
        "print(d)\n",
        "for i in d:\n",
        "  print(i)\n",
        "print(d.pop(), d) #??"
      ],
      "metadata": {
        "colab": {
          "base_uri": "https://localhost:8080/"
        },
        "id": "MaxBYK4D0TOb",
        "outputId": "765258e5-f617-4523-dc25-d0c70b3425f3"
      },
      "execution_count": 9,
      "outputs": [
        {
          "output_type": "stream",
          "name": "stdout",
          "text": [
            "deque([1, 2, 3, 4, 5, 6])\n",
            "1\n",
            "2\n",
            "3\n",
            "4\n",
            "5\n",
            "6\n",
            "6 deque([1, 2, 3, 4, 5])\n"
          ]
        }
      ]
    }
  ]
}