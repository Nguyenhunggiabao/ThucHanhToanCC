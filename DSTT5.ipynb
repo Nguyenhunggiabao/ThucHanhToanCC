{
  "nbformat": 4,
  "nbformat_minor": 0,
  "metadata": {
    "colab": {
      "provenance": [],
      "authorship_tag": "ABX9TyOK6nsVLog7nUtHsqICIUHE",
      "include_colab_link": true
    },
    "kernelspec": {
      "name": "python3",
      "display_name": "Python 3"
    },
    "language_info": {
      "name": "python"
    }
  },
  "cells": [
    {
      "cell_type": "markdown",
      "metadata": {
        "id": "view-in-github",
        "colab_type": "text"
      },
      "source": [
        "<a href=\"https://colab.research.google.com/github/Nguyenhunggiabao/ThucHanhToanCC/blob/main/DSTT5.ipynb\" target=\"_parent\"><img src=\"https://colab.research.google.com/assets/colab-badge.svg\" alt=\"Open In Colab\"/></a>"
      ]
    },
    {
      "cell_type": "markdown",
      "source": [
        "Nguyễn Hùng Gia Bảo "
      ],
      "metadata": {
        "id": "1pHgDVoMeCK4"
      }
    },
    {
      "cell_type": "markdown",
      "source": [
        "CHƯƠNG 5: ĐỊNH THỨC, MA TRẬN VÀ ỨNG DỤNG"
      ],
      "metadata": {
        "id": "37swE7BneE-P"
      }
    },
    {
      "cell_type": "markdown",
      "source": [
        "Sử dụng array và matrix trong numpy"
      ],
      "metadata": {
        "id": "msnMcYp3eIsP"
      }
    },
    {
      "cell_type": "code",
      "execution_count": 1,
      "metadata": {
        "colab": {
          "base_uri": "https://localhost:8080/"
        },
        "id": "Rw8nSvidd_qm",
        "outputId": "961ca6a7-d15d-48c4-b503-e05552f2bd12"
      },
      "outputs": [
        {
          "output_type": "stream",
          "name": "stdout",
          "text": [
            "[[1. 0. 0. 0. 0.]\n",
            " [0. 1. 0. 0. 0.]\n",
            " [0. 0. 1. 0. 0.]\n",
            " [0. 0. 0. 1. 0.]\n",
            " [0. 0. 0. 0. 1.]]\n"
          ]
        }
      ],
      "source": [
        "from numpy import matlib\n",
        "G = matlib.identity(5)\n",
        "print (G)"
      ]
    },
    {
      "cell_type": "code",
      "source": [
        "H = matlib.randn(3,2)\n",
        "print(H)"
      ],
      "metadata": {
        "colab": {
          "base_uri": "https://localhost:8080/"
        },
        "id": "yejVox5_eati",
        "outputId": "e1a0ae00-e2ab-4c33-8ba0-d82a512af0f7"
      },
      "execution_count": 2,
      "outputs": [
        {
          "output_type": "stream",
          "name": "stdout",
          "text": [
            "[[ 0.72419066  0.45673324]\n",
            " [-0.79361729  0.02052057]\n",
            " [-0.15817859 -0.8589396 ]]\n"
          ]
        }
      ]
    },
    {
      "cell_type": "code",
      "source": [
        "K = matlib.zeros([4,4])\n",
        "print(K)"
      ],
      "metadata": {
        "colab": {
          "base_uri": "https://localhost:8080/"
        },
        "id": "GOrpQqO1eeTq",
        "outputId": "a3fba72b-dfb5-48df-b1e6-453ee3c513b1"
      },
      "execution_count": 3,
      "outputs": [
        {
          "output_type": "stream",
          "name": "stdout",
          "text": [
            "[[0. 0. 0. 0.]\n",
            " [0. 0. 0. 0.]\n",
            " [0. 0. 0. 0.]\n",
            " [0. 0. 0. 0.]]\n"
          ]
        }
      ]
    },
    {
      "cell_type": "markdown",
      "source": [
        "Ứng dụng 2 –Liên phân số và số pi"
      ],
      "metadata": {
        "id": "MvkAjC5pekXM"
      }
    },
    {
      "cell_type": "code",
      "source": [
        "import numpy as np\n",
        "c = [3, 7, 15, 1, 292, 1, 1, 1, 2, 1, 3, 1, 14, 2] \n",
        "M = np.mat([[1,2],[3,4]]) \n",
        "for i in range(len(c)):\n",
        " ci = np.mat([[1,1],[1,0]])\n",
        " ci[0, 0] = c[i]\n",
        " if (i==0):\n",
        "    M = ci\n",
        " else:\n",
        "    M = M.dot(ci)\n",
        "print(M)\n",
        "print (M[0,0]/M[1,0])"
      ],
      "metadata": {
        "colab": {
          "base_uri": "https://localhost:8080/"
        },
        "id": "ImzYdKJ0emSY",
        "outputId": "89cab60f-8467-413a-8c92-374398b4e5b8"
      },
      "execution_count": 4,
      "outputs": [
        {
          "output_type": "stream",
          "name": "stdout",
          "text": [
            "[[165707065  80143857]\n",
            " [ 52746197  25510582]]\n",
            "3.1415926535897936\n"
          ]
        }
      ]
    }
  ]
}