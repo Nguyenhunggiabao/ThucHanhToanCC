{
  "nbformat": 4,
  "nbformat_minor": 0,
  "metadata": {
    "colab": {
      "provenance": [],
      "authorship_tag": "ABX9TyNxTP8JC/IFqQGF+2javSyK",
      "include_colab_link": true
    },
    "kernelspec": {
      "name": "python3",
      "display_name": "Python 3"
    },
    "language_info": {
      "name": "python"
    }
  },
  "cells": [
    {
      "cell_type": "markdown",
      "metadata": {
        "id": "view-in-github",
        "colab_type": "text"
      },
      "source": [
        "<a href=\"https://colab.research.google.com/github/Nguyenhunggiabao/ThucHanhToanCC/blob/main/Untitled35.ipynb\" target=\"_parent\"><img src=\"https://colab.research.google.com/assets/colab-badge.svg\" alt=\"Open In Colab\"/></a>"
      ]
    },
    {
      "cell_type": "markdown",
      "source": [
        "chương 7: không gian véc tơ và ánh xạ tuyến tính \n",
        "\n",
        "1.1 ứng dụng 1 - nguyên lý nốt nhạc trong chuỗi âm thanh(Audio search)\n",
        "\n",
        "vd1: cần tìm chuỗi tín hiệu âm thanh [0,1,-1] trong chuỗi âm [0,0,-1,2,3,-1,0,1,-1,-1]:"
      ],
      "metadata": {
        "id": "XumzKHIXzWCq"
      }
    },
    {
      "cell_type": "code",
      "execution_count": 4,
      "metadata": {
        "colab": {
          "base_uri": "https://localhost:8080/"
        },
        "id": "eyvd0LYezUz-",
        "outputId": "2ef9b685-b3c2-4cf3-921a-4fb9c618d933"
      },
      "outputs": [
        {
          "output_type": "stream",
          "name": "stdout",
          "text": [
            "6 [[ 0  1 -1]]\n",
            "6 [[ 0  1 -1]]\n"
          ]
        }
      ],
      "source": [
        "import numpy as np\n",
        "A = np.array([0,0,-1,2,3,-1,0,1,-1,-1])\n",
        "search_vector = np.array([0,1,-1])\n",
        "len(A), len(search_vector)\n",
        "B = np.array([1])\n",
        "B = np.resize(B, (len(A)- len(search_vector)+1, len(search_vector)))\n",
        "B = np.matrix(B)\n",
        "for i in range (len(A) - len(search_vector)+1):\n",
        "  for j in range(len(search_vector)):\n",
        "    B[i,j] = A[i+j]\n",
        "  C = np.inner(B, search_vector)\n",
        "  for i in range(len(A)- len(search_vector)+1):\n",
        "    if (C[0,i]==np.inner(search_vector,search_vector)):\n",
        "      print(i,B[i])"
      ]
    },
    {
      "cell_type": "markdown",
      "source": [
        "1.2 tạo ảnh mẫu và làm mờ ảnh"
      ],
      "metadata": {
        "id": "ggbcd8cO2jNE"
      }
    },
    {
      "cell_type": "code",
      "source": [
        "from PIL import Image\n",
        "img = Image.open(\"C:/junvu_lammo.PNG\")\n",
        "img.height\n",
        "img.width\n",
        "img.mode\n",
        "new_width = int(img.width/2)\n",
        "new_height = int(img.height/2)\n",
        "new_img = img.resize((new_height,new_width),Image.ANTIALIAS)\n",
        "new_img.save(\"C:/small.PNG\")"
      ],
      "metadata": {
        "colab": {
          "base_uri": "https://localhost:8080/",
          "height": 356
        },
        "id": "AfKildVD2qAj",
        "outputId": "7e961854-cfb2-4b28-8458-ef18c38f9ebb"
      },
      "execution_count": 5,
      "outputs": [
        {
          "output_type": "error",
          "ename": "FileNotFoundError",
          "evalue": "ignored",
          "traceback": [
            "\u001b[0;31m---------------------------------------------------------------------------\u001b[0m",
            "\u001b[0;31mFileNotFoundError\u001b[0m                         Traceback (most recent call last)",
            "\u001b[0;32m<ipython-input-5-71dbf2258f10>\u001b[0m in \u001b[0;36m<module>\u001b[0;34m\u001b[0m\n\u001b[1;32m      1\u001b[0m \u001b[0;32mfrom\u001b[0m \u001b[0mPIL\u001b[0m \u001b[0;32mimport\u001b[0m \u001b[0mImage\u001b[0m\u001b[0;34m\u001b[0m\u001b[0;34m\u001b[0m\u001b[0m\n\u001b[0;32m----> 2\u001b[0;31m \u001b[0mimg\u001b[0m \u001b[0;34m=\u001b[0m \u001b[0mImage\u001b[0m\u001b[0;34m.\u001b[0m\u001b[0mopen\u001b[0m\u001b[0;34m(\u001b[0m\u001b[0;34m\"C:/junvu_lammo.PNG\"\u001b[0m\u001b[0;34m)\u001b[0m\u001b[0;34m\u001b[0m\u001b[0;34m\u001b[0m\u001b[0m\n\u001b[0m\u001b[1;32m      3\u001b[0m \u001b[0mimg\u001b[0m\u001b[0;34m.\u001b[0m\u001b[0mheight\u001b[0m\u001b[0;34m\u001b[0m\u001b[0;34m\u001b[0m\u001b[0m\n\u001b[1;32m      4\u001b[0m \u001b[0mimg\u001b[0m\u001b[0;34m.\u001b[0m\u001b[0mwidth\u001b[0m\u001b[0;34m\u001b[0m\u001b[0;34m\u001b[0m\u001b[0m\n\u001b[1;32m      5\u001b[0m \u001b[0mimg\u001b[0m\u001b[0;34m.\u001b[0m\u001b[0mmode\u001b[0m\u001b[0;34m\u001b[0m\u001b[0;34m\u001b[0m\u001b[0m\n",
            "\u001b[0;32m/usr/local/lib/python3.7/dist-packages/PIL/Image.py\u001b[0m in \u001b[0;36mopen\u001b[0;34m(fp, mode)\u001b[0m\n\u001b[1;32m   2841\u001b[0m \u001b[0;34m\u001b[0m\u001b[0m\n\u001b[1;32m   2842\u001b[0m     \u001b[0;32mif\u001b[0m \u001b[0mfilename\u001b[0m\u001b[0;34m:\u001b[0m\u001b[0;34m\u001b[0m\u001b[0;34m\u001b[0m\u001b[0m\n\u001b[0;32m-> 2843\u001b[0;31m         \u001b[0mfp\u001b[0m \u001b[0;34m=\u001b[0m \u001b[0mbuiltins\u001b[0m\u001b[0;34m.\u001b[0m\u001b[0mopen\u001b[0m\u001b[0;34m(\u001b[0m\u001b[0mfilename\u001b[0m\u001b[0;34m,\u001b[0m \u001b[0;34m\"rb\"\u001b[0m\u001b[0;34m)\u001b[0m\u001b[0;34m\u001b[0m\u001b[0;34m\u001b[0m\u001b[0m\n\u001b[0m\u001b[1;32m   2844\u001b[0m         \u001b[0mexclusive_fp\u001b[0m \u001b[0;34m=\u001b[0m \u001b[0;32mTrue\u001b[0m\u001b[0;34m\u001b[0m\u001b[0;34m\u001b[0m\u001b[0m\n\u001b[1;32m   2845\u001b[0m \u001b[0;34m\u001b[0m\u001b[0m\n",
            "\u001b[0;31mFileNotFoundError\u001b[0m: [Errno 2] No such file or directory: 'C:/junvu_lammo.PNG'"
          ]
        }
      ]
    },
    {
      "cell_type": "markdown",
      "source": [
        "bài 1:"
      ],
      "metadata": {
        "id": "zzsfC3mvGMeP"
      }
    },
    {
      "cell_type": "markdown",
      "source": [
        "câu a"
      ],
      "metadata": {
        "id": "hxtNpf61G8jN"
      }
    },
    {
      "cell_type": "code",
      "source": [
        "import numpy as np \n",
        "u = np.array([2,-1,5,0])\n",
        "v = np.array([4,3,1,-1])\n",
        "w = np.array([-6,2,0,3])\n",
        "x = 2*u -(v + 3*w)\n",
        "print(x)"
      ],
      "metadata": {
        "colab": {
          "base_uri": "https://localhost:8080/"
        },
        "id": "dSzmhStmGL8X",
        "outputId": "5d0858fe-87ad-4860-83a7-9ddda831f125"
      },
      "execution_count": 7,
      "outputs": [
        {
          "output_type": "stream",
          "name": "stdout",
          "text": [
            "[ 18 -11   9  -8]\n"
          ]
        }
      ]
    },
    {
      "cell_type": "markdown",
      "source": [
        "câu b"
      ],
      "metadata": {
        "id": "cQbHKpcSG-39"
      }
    },
    {
      "cell_type": "code",
      "source": [
        "x= (-3*w+2*u-v)/2 \n",
        "print(x)"
      ],
      "metadata": {
        "colab": {
          "base_uri": "https://localhost:8080/"
        },
        "id": "vEX6r6doG_4k",
        "outputId": "6018516b-ab0e-4b59-c0ef-a9c302e4fa2c"
      },
      "execution_count": 9,
      "outputs": [
        {
          "output_type": "stream",
          "name": "stdout",
          "text": [
            "[ 9.  -5.5  4.5 -4. ]\n"
          ]
        }
      ]
    },
    {
      "cell_type": "markdown",
      "source": [
        "bài 2 "
      ],
      "metadata": {
        "id": "7-4R6BGWHGtF"
      }
    },
    {
      "cell_type": "code",
      "source": [
        "import sympy as sp \n",
        "a= sp.Symbol('a')\n",
        "b=sp.Symbol('b')\n",
        "c=sp.Symbol('c')\n",
        "d=sp.solve([-1*b + 3*c +1,a+b+c+2,4*a+2*b+2*c+3],[a,b,c])\n",
        "print(d)"
      ],
      "metadata": {
        "colab": {
          "base_uri": "https://localhost:8080/"
        },
        "id": "cQwWOHaZHIT1",
        "outputId": "fd8d2238-6d22-4a59-ba37-1bec9c83a325"
      },
      "execution_count": 10,
      "outputs": [
        {
          "output_type": "stream",
          "name": "stdout",
          "text": [
            "{a: 1/2, b: -13/8, c: -7/8}\n"
          ]
        }
      ]
    },
    {
      "cell_type": "markdown",
      "source": [
        "bài 3 "
      ],
      "metadata": {
        "id": "n7J72LtHHTyN"
      }
    },
    {
      "cell_type": "code",
      "source": [
        "import sympy as sp  \n",
        "v1= sp.Symbol('v1')\n",
        "v2=sp.Symbol('v2')\n",
        "v3=sp.Symbol('v3')\n",
        "d=sp.solve([1*v1-v3 -1,2*v1+v2-1,3*v1+2*v2+v3+-1],[v1,v2,v3])\n",
        "print(d)\n",
        "d=sp.solve([1*v1-v3 -1,2*v1+v2+2,3*v1+2*v2+v3-2],[v1,v2,v3])\n",
        "print(d)"
      ],
      "metadata": {
        "colab": {
          "base_uri": "https://localhost:8080/"
        },
        "id": "HJdVUFzDHV5d",
        "outputId": "3fc7a865-3161-4ff0-9893-4c2319692ed6"
      },
      "execution_count": 15,
      "outputs": [
        {
          "output_type": "stream",
          "name": "stdout",
          "text": [
            "{v1: v3 + 1, v2: -2*v3 - 1}\n",
            "[]\n"
          ]
        }
      ]
    }
  ]
}