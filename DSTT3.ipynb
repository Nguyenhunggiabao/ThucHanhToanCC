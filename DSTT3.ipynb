{
  "nbformat": 4,
  "nbformat_minor": 0,
  "metadata": {
    "colab": {
      "provenance": [],
      "authorship_tag": "ABX9TyNpOuL8gbBUSzdmK8NCQfng",
      "include_colab_link": true
    },
    "kernelspec": {
      "name": "python3",
      "display_name": "Python 3"
    },
    "language_info": {
      "name": "python"
    }
  },
  "cells": [
    {
      "cell_type": "markdown",
      "metadata": {
        "id": "view-in-github",
        "colab_type": "text"
      },
      "source": [
        "<a href=\"https://colab.research.google.com/github/Nguyenhunggiabao/ThucHanhToanCC/blob/main/DSTT3.ipynb\" target=\"_parent\"><img src=\"https://colab.research.google.com/assets/colab-badge.svg\" alt=\"Open In Colab\"/></a>"
      ]
    },
    {
      "cell_type": "markdown",
      "source": [
        "Nguyễn Hùng Gia Bảo "
      ],
      "metadata": {
        "id": "BgvWZ3bvtnjs"
      }
    },
    {
      "cell_type": "markdown",
      "source": [
        "CHƯƠNG 3: MA TRẬN VÀ HỆ PHƯƠNG TRÌNH TUYẾN TÍNH"
      ],
      "metadata": {
        "id": "WNCf7cfAtq8d"
      }
    },
    {
      "cell_type": "markdown",
      "source": [
        "1.1. Một số phép xử lý ma trận của NumPy và Scipy "
      ],
      "metadata": {
        "id": "llgItAhGtuXV"
      }
    },
    {
      "cell_type": "code",
      "execution_count": 65,
      "metadata": {
        "id": "wl3iQ8zTtmvU"
      },
      "outputs": [],
      "source": [
        "from scipy import linalg \n",
        "import numpy as np "
      ]
    },
    {
      "cell_type": "code",
      "source": [
        "a = np.array([1, 2, 3])\n",
        "b = np.array([(1+9j, 2j, 3j), (4j, 5j, 6j)])\n",
        "c = np.array([[ (0.5, 1.5, 10), (3,2,1) ] , [(6,5,4), (7,8,9)]])\n",
        "A = np.matrix(np.random.random( (2,2) ) )\n",
        "B = np.asmatrix(b) # Chuyển b thành dạng ma trận\n",
        "C = np.mat(np.random.random( (10,5) ) )\n",
        "D = np.mat([ [4, 3], [2, 6] ])\n",
        "F = np.eye(3, k=1) # tạo ma trận đường chéo. 3 là ma trận 3x3, k=1 là đường chéo nằm phía trên đường chéo chính (k = 0). "
      ],
      "metadata": {
        "id": "XaZkZH5Et04a"
      },
      "execution_count": 66,
      "outputs": []
    },
    {
      "cell_type": "markdown",
      "source": [
        "Xem hạng ma trận:"
      ],
      "metadata": {
        "id": "M_HD-bJ2uawF"
      }
    },
    {
      "cell_type": "code",
      "source": [
        "np.linalg.matrix_rank(C)"
      ],
      "metadata": {
        "colab": {
          "base_uri": "https://localhost:8080/"
        },
        "id": "15ZYchQCt9CA",
        "outputId": "b475e2ab-b241-403d-ecd2-ffafbb65ffb9"
      },
      "execution_count": 67,
      "outputs": [
        {
          "output_type": "execute_result",
          "data": {
            "text/plain": [
              "5"
            ]
          },
          "metadata": {},
          "execution_count": 67
        }
      ]
    },
    {
      "cell_type": "markdown",
      "source": [
        "Tính ma trận nghịch đảo: "
      ],
      "metadata": {
        "id": "bN9IhrPmuggv"
      }
    },
    {
      "cell_type": "code",
      "source": [
        "A.I "
      ],
      "metadata": {
        "colab": {
          "base_uri": "https://localhost:8080/"
        },
        "id": "9B_GFE9jujTf",
        "outputId": "fd370814-0776-4774-a9e8-20ddf5bbd7e5"
      },
      "execution_count": 68,
      "outputs": [
        {
          "output_type": "execute_result",
          "data": {
            "text/plain": [
              "matrix([[-14.00803422,   7.79447086],\n",
              "        [  3.48841931,  -0.32154174]])"
            ]
          },
          "metadata": {},
          "execution_count": 68
        }
      ]
    },
    {
      "cell_type": "code",
      "source": [
        "linalg.inv(A)"
      ],
      "metadata": {
        "colab": {
          "base_uri": "https://localhost:8080/"
        },
        "id": "p6owtDNAumuT",
        "outputId": "57fb415f-0c90-4497-8329-0d78a7e8aada"
      },
      "execution_count": 69,
      "outputs": [
        {
          "output_type": "execute_result",
          "data": {
            "text/plain": [
              "array([[-14.00803422,   7.79447086],\n",
              "       [  3.48841931,  -0.32154174]])"
            ]
          },
          "metadata": {},
          "execution_count": 69
        }
      ]
    },
    {
      "cell_type": "markdown",
      "source": [
        "Định thức ma trận: "
      ],
      "metadata": {
        "id": "ZBiU3d-vuk9p"
      }
    },
    {
      "cell_type": "code",
      "source": [
        "linalg.det(A)"
      ],
      "metadata": {
        "colab": {
          "base_uri": "https://localhost:8080/"
        },
        "id": "8PtEx8Gqupka",
        "outputId": "26506fdd-776b-4737-b713-f0ae507a2fc5"
      },
      "execution_count": 70,
      "outputs": [
        {
          "output_type": "execute_result",
          "data": {
            "text/plain": [
              "-0.044079631821775114"
            ]
          },
          "metadata": {},
          "execution_count": 70
        }
      ]
    },
    {
      "cell_type": "markdown",
      "source": [
        "Chuyển đổi ma trận: "
      ],
      "metadata": {
        "id": "JqEH7a5CuuVU"
      }
    },
    {
      "cell_type": "code",
      "source": [
        "A.T"
      ],
      "metadata": {
        "colab": {
          "base_uri": "https://localhost:8080/"
        },
        "id": "bKuoztE6uvCz",
        "outputId": "34a14186-3a66-4761-afcb-d951251c0fdc"
      },
      "execution_count": 71,
      "outputs": [
        {
          "output_type": "execute_result",
          "data": {
            "text/plain": [
              "matrix([[0.01417344, 0.15376824],\n",
              "        [0.34357741, 0.61746899]])"
            ]
          },
          "metadata": {},
          "execution_count": 71
        }
      ]
    },
    {
      "cell_type": "code",
      "source": [
        "A.H"
      ],
      "metadata": {
        "colab": {
          "base_uri": "https://localhost:8080/"
        },
        "id": "tjymv33quybn",
        "outputId": "a1acf7da-410c-4519-a7e3-00a97d200346"
      },
      "execution_count": 72,
      "outputs": [
        {
          "output_type": "execute_result",
          "data": {
            "text/plain": [
              "matrix([[0.01417344, 0.15376824],\n",
              "        [0.34357741, 0.61746899]])"
            ]
          },
          "metadata": {},
          "execution_count": 72
        }
      ]
    },
    {
      "cell_type": "markdown",
      "source": [
        "Giải các loại phương trình tuyến tính:"
      ],
      "metadata": {
        "id": "dZGWHHMpu3Zy"
      }
    },
    {
      "cell_type": "code",
      "source": [
        "linalg.solve(A, b) "
      ],
      "metadata": {
        "colab": {
          "base_uri": "https://localhost:8080/"
        },
        "id": "mcgLSMx_u4BU",
        "outputId": "487dec80-d4ac-4dbf-bb96-90566937145a"
      },
      "execution_count": 73,
      "outputs": [
        {
          "output_type": "execute_result",
          "data": {
            "text/plain": [
              "array([[-14.00803422-94.89442451j,   0.        +10.95628587j,\n",
              "          0.         +4.74272251j],\n",
              "       [  3.48841931+30.1096068j ,   0.         +5.3691299j ,\n",
              "          0.         +8.53600746j]])"
            ]
          },
          "metadata": {},
          "execution_count": 73
        }
      ]
    },
    {
      "cell_type": "code",
      "source": [
        "E = np.mat(a).T"
      ],
      "metadata": {
        "id": "S7OlFkmau9PA"
      },
      "execution_count": 74,
      "outputs": []
    },
    {
      "cell_type": "code",
      "source": [
        "linalg.lstsq(F, E)"
      ],
      "metadata": {
        "colab": {
          "base_uri": "https://localhost:8080/"
        },
        "id": "CtDQfMCUu-ya",
        "outputId": "3a1ed02c-2f11-4107-85cf-82ed91c3c489"
      },
      "execution_count": 75,
      "outputs": [
        {
          "output_type": "execute_result",
          "data": {
            "text/plain": [
              "(array([[0.],\n",
              "        [1.],\n",
              "        [2.]]), array([], dtype=float64), 2, array([1., 1., 0.]))"
            ]
          },
          "metadata": {},
          "execution_count": 75
        }
      ]
    },
    {
      "cell_type": "markdown",
      "source": [
        "Cộng ma trận"
      ],
      "metadata": {
        "id": "b6ha6ZxDvDDW"
      }
    },
    {
      "cell_type": "code",
      "source": [
        "np.add(A, D)"
      ],
      "metadata": {
        "colab": {
          "base_uri": "https://localhost:8080/"
        },
        "id": "k_MFa6TBvBiu",
        "outputId": "95553b53-f5e4-48f7-e701-ecfc5fc76c0d"
      },
      "execution_count": 76,
      "outputs": [
        {
          "output_type": "execute_result",
          "data": {
            "text/plain": [
              "matrix([[4.01417344, 3.34357741],\n",
              "        [2.15376824, 6.61746899]])"
            ]
          },
          "metadata": {},
          "execution_count": 76
        }
      ]
    },
    {
      "cell_type": "markdown",
      "source": [
        "Trừ ma trận: "
      ],
      "metadata": {
        "id": "I1FDLtCivFMy"
      }
    },
    {
      "cell_type": "code",
      "source": [
        "np.subtract(A, D) "
      ],
      "metadata": {
        "colab": {
          "base_uri": "https://localhost:8080/"
        },
        "id": "DqzGFyS5vGsD",
        "outputId": "0b953d7d-0d88-4efa-9fad-5d301850e4b7"
      },
      "execution_count": 77,
      "outputs": [
        {
          "output_type": "execute_result",
          "data": {
            "text/plain": [
              "matrix([[-3.98582656, -2.65642259],\n",
              "        [-1.84623176, -5.38253101]])"
            ]
          },
          "metadata": {},
          "execution_count": 77
        }
      ]
    },
    {
      "cell_type": "markdown",
      "source": [
        "Chia ma trận:"
      ],
      "metadata": {
        "id": "qhKwHi0uvJ2u"
      }
    },
    {
      "cell_type": "code",
      "source": [
        "np.divide(A, D) "
      ],
      "metadata": {
        "colab": {
          "base_uri": "https://localhost:8080/"
        },
        "id": "QVKYjWSXvJfw",
        "outputId": "813e608d-7b5c-43ee-98de-e75071b8c3ba"
      },
      "execution_count": 78,
      "outputs": [
        {
          "output_type": "execute_result",
          "data": {
            "text/plain": [
              "matrix([[0.00354336, 0.1145258 ],\n",
              "        [0.07688412, 0.1029115 ]])"
            ]
          },
          "metadata": {},
          "execution_count": 78
        }
      ]
    },
    {
      "cell_type": "markdown",
      "source": [
        "Nhân ma trận: "
      ],
      "metadata": {
        "id": "pgbLzYskvLtG"
      }
    },
    {
      "cell_type": "code",
      "source": [
        "A @ D"
      ],
      "metadata": {
        "colab": {
          "base_uri": "https://localhost:8080/"
        },
        "id": "pS0q5wE8vNOQ",
        "outputId": "c2b827da-3ca2-47a4-dbf1-be6ed4b0d225"
      },
      "execution_count": 79,
      "outputs": [
        {
          "output_type": "execute_result",
          "data": {
            "text/plain": [
              "matrix([[0.74384858, 2.10398476],\n",
              "        [1.85001094, 4.16611866]])"
            ]
          },
          "metadata": {},
          "execution_count": 79
        }
      ]
    },
    {
      "cell_type": "code",
      "source": [
        "np.multiply(D, A) "
      ],
      "metadata": {
        "colab": {
          "base_uri": "https://localhost:8080/"
        },
        "id": "OMAi8JBevOf_",
        "outputId": "b52c2a24-1a40-47e0-a890-df0a51b4069f"
      },
      "execution_count": 80,
      "outputs": [
        {
          "output_type": "execute_result",
          "data": {
            "text/plain": [
              "matrix([[0.05669377, 1.03073222],\n",
              "        [0.30753648, 3.70481394]])"
            ]
          },
          "metadata": {},
          "execution_count": 80
        }
      ]
    },
    {
      "cell_type": "code",
      "source": [
        "np.dot(A, D) "
      ],
      "metadata": {
        "colab": {
          "base_uri": "https://localhost:8080/"
        },
        "id": "pucWUwJxvP78",
        "outputId": "69c1d869-2eb0-4199-e830-ea6284869054"
      },
      "execution_count": 81,
      "outputs": [
        {
          "output_type": "execute_result",
          "data": {
            "text/plain": [
              "matrix([[0.74384858, 2.10398476],\n",
              "        [1.85001094, 4.16611866]])"
            ]
          },
          "metadata": {},
          "execution_count": 81
        }
      ]
    },
    {
      "cell_type": "code",
      "source": [
        "np.vdot(A, D) "
      ],
      "metadata": {
        "colab": {
          "base_uri": "https://localhost:8080/"
        },
        "id": "wjC8g5sYvS0m",
        "outputId": "bfc94d8f-036c-4a05-95bb-72a15a4b1f91"
      },
      "execution_count": 82,
      "outputs": [
        {
          "output_type": "execute_result",
          "data": {
            "text/plain": [
              "matrix([[0.05669377]])"
            ]
          },
          "metadata": {},
          "execution_count": 82
        }
      ]
    },
    {
      "cell_type": "markdown",
      "source": [
        "Hàm lũy thừa và logarith ma trận: "
      ],
      "metadata": {
        "id": "pjO8wcWbver1"
      }
    },
    {
      "cell_type": "code",
      "source": [
        "linalg.expm(A) "
      ],
      "metadata": {
        "colab": {
          "base_uri": "https://localhost:8080/"
        },
        "id": "wD610TcivfOJ",
        "outputId": "9795e642-7b44-48e9-9f17-7402bf27392f"
      },
      "execution_count": 83,
      "outputs": [
        {
          "output_type": "execute_result",
          "data": {
            "text/plain": [
              "array([[1.04752804, 0.48255274],\n",
              "       [0.21596672, 1.89485361]])"
            ]
          },
          "metadata": {},
          "execution_count": 83
        }
      ]
    },
    {
      "cell_type": "code",
      "source": [
        "linalg.logm(A)"
      ],
      "metadata": {
        "colab": {
          "base_uri": "https://localhost:8080/"
        },
        "id": "XLKNBg8hvghU",
        "outputId": "ddbfe73b-7ddb-4f64-cfcc-043b445503ab"
      },
      "execution_count": 84,
      "outputs": [
        {
          "output_type": "execute_result",
          "data": {
            "text/plain": [
              "array([[-2.5130721 +2.8202102j ,  1.0845501 -1.42308485j],\n",
              "       [ 0.48539094-0.63690233j, -0.60868537+0.32138245j]])"
            ]
          },
          "metadata": {},
          "execution_count": 84
        }
      ]
    },
    {
      "cell_type": "markdown",
      "source": [
        "Ma trận phân kỳ: "
      ],
      "metadata": {
        "id": "Cvu7GQBevh0G"
      }
    },
    {
      "cell_type": "code",
      "source": [
        "import numpy as np\n",
        "A = np.array([ [0,1], [1,0]])\n",
        "print(A) "
      ],
      "metadata": {
        "colab": {
          "base_uri": "https://localhost:8080/"
        },
        "id": "yRh6Rkj-vofx",
        "outputId": "4340502c-5da7-40ff-d4c6-2dd54e849730"
      },
      "execution_count": 85,
      "outputs": [
        {
          "output_type": "stream",
          "name": "stdout",
          "text": [
            "[[0 1]\n",
            " [1 0]]\n"
          ]
        }
      ]
    },
    {
      "cell_type": "code",
      "source": [
        "temp = A.dot(A)\n",
        "print(temp) \n",
        "k= 6\n",
        "for i in range(k-1):\n",
        " temp = temp.dot(A)\n",
        " print (temp)\n",
        " print('---') "
      ],
      "metadata": {
        "colab": {
          "base_uri": "https://localhost:8080/"
        },
        "id": "z5IHUCahvuq-",
        "outputId": "4c6592e5-8628-47bd-e562-f6de181fc47b"
      },
      "execution_count": 86,
      "outputs": [
        {
          "output_type": "stream",
          "name": "stdout",
          "text": [
            "[[1 0]\n",
            " [0 1]]\n",
            "[[0 1]\n",
            " [1 0]]\n",
            "---\n",
            "[[1 0]\n",
            " [0 1]]\n",
            "---\n",
            "[[0 1]\n",
            " [1 0]]\n",
            "---\n",
            "[[1 0]\n",
            " [0 1]]\n",
            "---\n",
            "[[0 1]\n",
            " [1 0]]\n",
            "---\n"
          ]
        }
      ]
    },
    {
      "cell_type": "code",
      "source": [
        "B = np.array([ [0,-1], [-1,0]])\n",
        "print(B) \n",
        "temp = B.dot(B)\n",
        "print(temp) \n",
        "k= 5\n",
        "for i in range(k-1):\n",
        " temp = temp.dot(B)\n",
        " print (temp)\n",
        " print('---')"
      ],
      "metadata": {
        "colab": {
          "base_uri": "https://localhost:8080/"
        },
        "id": "yTrkQduqv1uM",
        "outputId": "71989584-0bc6-47e0-8b0b-75819f9bb947"
      },
      "execution_count": 87,
      "outputs": [
        {
          "output_type": "stream",
          "name": "stdout",
          "text": [
            "[[ 0 -1]\n",
            " [-1  0]]\n",
            "[[1 0]\n",
            " [0 1]]\n",
            "[[ 0 -1]\n",
            " [-1  0]]\n",
            "---\n",
            "[[1 0]\n",
            " [0 1]]\n",
            "---\n",
            "[[ 0 -1]\n",
            " [-1  0]]\n",
            "---\n",
            "[[1 0]\n",
            " [0 1]]\n",
            "---\n"
          ]
        }
      ]
    },
    {
      "cell_type": "markdown",
      "source": [
        "Ma trận hội tụ - Convergent matrix:"
      ],
      "metadata": {
        "id": "pCn4fsLQwGtR"
      }
    },
    {
      "cell_type": "code",
      "source": [
        "C = np.array([ [1, 0, 0], [0, 0.5, 1], [0, 0, 0.5] ])\n",
        "print(C) \n",
        "temp = C.dot(C)\n",
        "print(temp)\n",
        "k= 1000\n",
        "for i in range(k-1):\n",
        " temp = temp.dot(C)\n",
        "print(temp)\n",
        "k= 1000\n",
        "for i in range(k-1):\n",
        " temp = temp.dot(C)\n",
        "print(temp)"
      ],
      "metadata": {
        "colab": {
          "base_uri": "https://localhost:8080/"
        },
        "id": "WNY-wbOlwI4Y",
        "outputId": "1893dfdd-22f6-420e-d7f1-560917e772c1"
      },
      "execution_count": 88,
      "outputs": [
        {
          "output_type": "stream",
          "name": "stdout",
          "text": [
            "[[1.  0.  0. ]\n",
            " [0.  0.5 1. ]\n",
            " [0.  0.  0.5]]\n",
            "[[1.   0.   0.  ]\n",
            " [0.   0.25 1.  ]\n",
            " [0.   0.   0.25]]\n",
            "[[1.00000000e+000 0.00000000e+000 0.00000000e+000]\n",
            " [0.00000000e+000 4.66631809e-302 9.34196882e-299]\n",
            " [0.00000000e+000 0.00000000e+000 4.66631809e-302]]\n",
            "[[1. 0. 0.]\n",
            " [0. 0. 0.]\n",
            " [0. 0. 0.]]\n"
          ]
        }
      ]
    },
    {
      "cell_type": "markdown",
      "source": [
        "2.4. Ma trận Markov"
      ],
      "metadata": {
        "id": "lwvF_b4qwjL0"
      }
    },
    {
      "cell_type": "code",
      "source": [
        "M = np.array([ [0.8, 0.3], [0.2, 0.7]])\n",
        "MM = M.dot(M) # tính M2, nghĩa là M2\n",
        "print (MM) "
      ],
      "metadata": {
        "colab": {
          "base_uri": "https://localhost:8080/"
        },
        "id": "afWmULmZwjyw",
        "outputId": "07f47d2a-9943-4fcd-92fd-4a316a347c35"
      },
      "execution_count": 89,
      "outputs": [
        {
          "output_type": "stream",
          "name": "stdout",
          "text": [
            "[[0.7  0.45]\n",
            " [0.3  0.55]]\n"
          ]
        }
      ]
    },
    {
      "cell_type": "code",
      "source": [
        "MM = M.dot(M) # tính M3\n",
        "print (MM)"
      ],
      "metadata": {
        "colab": {
          "base_uri": "https://localhost:8080/"
        },
        "id": "pmlFO00OwtbE",
        "outputId": "7c38f2dc-8dcd-4bd7-e0b9-be5a43ded1a1"
      },
      "execution_count": 90,
      "outputs": [
        {
          "output_type": "stream",
          "name": "stdout",
          "text": [
            "[[0.7  0.45]\n",
            " [0.3  0.55]]\n"
          ]
        }
      ]
    },
    {
      "cell_type": "code",
      "source": [
        "for i in range(100): # tính các M^ khác.\n",
        " MM = MM.dot(M)\n",
        "print (MM)"
      ],
      "metadata": {
        "colab": {
          "base_uri": "https://localhost:8080/"
        },
        "id": "Pb04OkuYwt5R",
        "outputId": "f0cde95f-73c3-4cff-f630-3ed3e94ee403"
      },
      "execution_count": 91,
      "outputs": [
        {
          "output_type": "stream",
          "name": "stdout",
          "text": [
            "[[0.6 0.6]\n",
            " [0.4 0.4]]\n"
          ]
        }
      ]
    },
    {
      "cell_type": "markdown",
      "source": [
        "Bài toán loan tin"
      ],
      "metadata": {
        "id": "aF1vDrSS1whg"
      }
    },
    {
      "cell_type": "code",
      "source": [
        "A = np.array([ [0,1,0,1],[0,0,1,0],[1,0,0,1],[1,1,0,0]])\n",
        "temp = A.dot(A)\n",
        "print(temp)"
      ],
      "metadata": {
        "colab": {
          "base_uri": "https://localhost:8080/"
        },
        "id": "Ai_8Bbqk1xMC",
        "outputId": "432295ec-c0ea-4310-9112-8ae33c4b834f"
      },
      "execution_count": 92,
      "outputs": [
        {
          "output_type": "stream",
          "name": "stdout",
          "text": [
            "[[1 1 1 0]\n",
            " [1 0 0 1]\n",
            " [1 2 0 1]\n",
            " [0 1 1 1]]\n"
          ]
        }
      ]
    },
    {
      "cell_type": "code",
      "source": [
        "temp = temp.dot(A)\n",
        "print(temp)"
      ],
      "metadata": {
        "colab": {
          "base_uri": "https://localhost:8080/"
        },
        "id": "_N219cYc18dB",
        "outputId": "65d9f3a2-e55b-46f5-d723-47dfc8ccdd2e"
      },
      "execution_count": 93,
      "outputs": [
        {
          "output_type": "stream",
          "name": "stdout",
          "text": [
            "[[1 1 1 2]\n",
            " [1 2 0 1]\n",
            " [1 2 2 1]\n",
            " [2 1 1 1]]\n"
          ]
        }
      ]
    },
    {
      "cell_type": "code",
      "source": [
        "A = np.array([ [0,1,0,1],[0,0,1,0],[1,0,0,1],[1,1,0,0]])\n",
        "sumA = A\n",
        "temp = A.dot(A)\n",
        "k = 3\n",
        "sumA = sumA + temp\n",
        "for i in range(1, k-1):\n",
        " temp = temp.dot(A)\n",
        " sumA = sumA + temp\n",
        "print (temp)\n",
        "print (sumA) "
      ],
      "metadata": {
        "colab": {
          "base_uri": "https://localhost:8080/"
        },
        "id": "HM3P9Nqr2F9A",
        "outputId": "6523c390-1a44-4367-9fc7-0bcb941542a6"
      },
      "execution_count": 94,
      "outputs": [
        {
          "output_type": "stream",
          "name": "stdout",
          "text": [
            "[[1 1 1 2]\n",
            " [1 2 0 1]\n",
            " [1 2 2 1]\n",
            " [2 1 1 1]]\n",
            "[[2 3 2 3]\n",
            " [2 2 1 2]\n",
            " [3 4 2 3]\n",
            " [3 3 2 2]]\n"
          ]
        }
      ]
    }
  ]
}