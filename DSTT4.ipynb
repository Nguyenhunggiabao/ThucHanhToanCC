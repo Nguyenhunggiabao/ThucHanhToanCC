{
  "nbformat": 4,
  "nbformat_minor": 0,
  "metadata": {
    "colab": {
      "provenance": [],
      "authorship_tag": "ABX9TyM0IX9ftB3SQJTDfVSNNRKG",
      "include_colab_link": true
    },
    "kernelspec": {
      "name": "python3",
      "display_name": "Python 3"
    },
    "language_info": {
      "name": "python"
    }
  },
  "cells": [
    {
      "cell_type": "markdown",
      "metadata": {
        "id": "view-in-github",
        "colab_type": "text"
      },
      "source": [
        "<a href=\"https://colab.research.google.com/github/Nguyenhunggiabao/ThucHanhToanCC/blob/main/DSTT4.ipynb\" target=\"_parent\"><img src=\"https://colab.research.google.com/assets/colab-badge.svg\" alt=\"Open In Colab\"/></a>"
      ]
    },
    {
      "cell_type": "markdown",
      "source": [
        "Nguyễn Hùng Gia Bảo "
      ],
      "metadata": {
        "id": "qTD1MSLU2kSX"
      }
    },
    {
      "cell_type": "markdown",
      "source": [
        "CHƯƠNG 4: CƠ BẢN VỀ ĐỊNH THỨC"
      ],
      "metadata": {
        "id": "-CFFzUwY2nhE"
      }
    },
    {
      "cell_type": "markdown",
      "source": [
        "Phép thế của một tập hợp hữu hạn: "
      ],
      "metadata": {
        "id": "NClaG18x2vz9"
      }
    },
    {
      "cell_type": "code",
      "execution_count": 2,
      "metadata": {
        "colab": {
          "base_uri": "https://localhost:8080/"
        },
        "id": "8QjlSoMS2fLF",
        "outputId": "41666439-8e23-4c89-ca06-898bf4124207"
      },
      "outputs": [
        {
          "output_type": "execute_result",
          "data": {
            "text/plain": [
              "-1"
            ]
          },
          "metadata": {},
          "execution_count": 2
        }
      ],
      "source": [
        "import numpy as np\n",
        "n = 4\n",
        "X = np.array(range(1,n+1))\n",
        "sigma = np.array([4,3,2,1]) \n",
        "def sgn_by_def(sigma):\n",
        "  ketqua = 1.0\n",
        "  for i in range (len(X)-1):\n",
        "    for j in range (i+1, len(X)):\n",
        "      ketqua = ketqua * ((X[i]-X[j])/(sigma[i]-sigma[j]))\n",
        "  return int(ketqua)\n",
        "sigma = np.array([2,1,3,4,])\n",
        "sgn_by_def(sigma)"
      ]
    },
    {
      "cell_type": "code",
      "source": [
        "sigma = np.array([1,2,3,4])\n",
        "sgn_by_def(sigma) "
      ],
      "metadata": {
        "colab": {
          "base_uri": "https://localhost:8080/"
        },
        "id": "06Eborrc364j",
        "outputId": "7fcdad09-5e9f-4b8d-9ef0-d6ae38b1c6da"
      },
      "execution_count": 3,
      "outputs": [
        {
          "output_type": "execute_result",
          "data": {
            "text/plain": [
              "1"
            ]
          },
          "metadata": {},
          "execution_count": 3
        }
      ]
    },
    {
      "cell_type": "code",
      "source": [
        "sigma = np.array([4,3,2,1])\n",
        "sgn_by_def(sigma) "
      ],
      "metadata": {
        "colab": {
          "base_uri": "https://localhost:8080/"
        },
        "id": "ID8_ou1I4BnA",
        "outputId": "2d3b2a85-4686-462a-9ac5-53a790efd5a6"
      },
      "execution_count": 4,
      "outputs": [
        {
          "output_type": "execute_result",
          "data": {
            "text/plain": [
              "1"
            ]
          },
          "metadata": {},
          "execution_count": 4
        }
      ]
    },
    {
      "cell_type": "markdown",
      "source": [
        "Định thức: "
      ],
      "metadata": {
        "id": "LcSFXzeq4Jg-"
      }
    },
    {
      "cell_type": "code",
      "source": [
        "from itertools import permutations\n",
        "n = 3\n",
        "X = []\n",
        "for i in range (1, n+1):\n",
        " X.append(i)\n",
        "Sn = list(permutations(X))\n",
        "print (Sn) \n",
        "det = 0"
      ],
      "metadata": {
        "colab": {
          "base_uri": "https://localhost:8080/"
        },
        "id": "ooMBwAQJ4KFa",
        "outputId": "0fce248a-8704-4c5d-f22a-30b811273809"
      },
      "execution_count": 5,
      "outputs": [
        {
          "output_type": "stream",
          "name": "stdout",
          "text": [
            "[(1, 2, 3), (1, 3, 2), (2, 1, 3), (2, 3, 1), (3, 1, 2), (3, 2, 1)]\n"
          ]
        }
      ]
    },
    {
      "cell_type": "code",
      "source": [
        "import numpy as np \n",
        "def phatsinh_dinhthuc(n):\n",
        "  X = []\n",
        "  for i in range(1, n+1):\n",
        "    X.append(i)\n",
        "  Sn = list(permutations(X))\n",
        "  dinhthuc = \"\"\n",
        "  for sn in Sn:\n",
        "    sigma = np.array([1])\n",
        "    sigma.resize([n])\n",
        "    product = \"\"\n",
        "    for i in range(1,n+1):\n",
        "      sigma[sn.index(i)] =i\n",
        "      product = product + \"a\"+str(i) + str(sn.index(i)+1)\n",
        "    dau = sgn_by_def(sigma)\n",
        "    if (dau != 1 ):\n",
        "      product = \"-\" + product \n",
        "    else:\n",
        "      product = \"+\" + product\n",
        "    dinhthuc = dinhthuc + product \n",
        "  return dinhthuc  \n"
      ],
      "metadata": {
        "id": "Cx35p3xW4UTm"
      },
      "execution_count": 1,
      "outputs": []
    },
    {
      "cell_type": "markdown",
      "source": [
        "Quy tắc Cramer "
      ],
      "metadata": {
        "id": "eeBgxBr24PV0"
      }
    },
    {
      "cell_type": "code",
      "source": [
        "import numpy as np\n",
        "A = np.array([[4, -2],[3, -5]]) # khai báo ma trận A\n",
        "A1 = np.array([[10, -2],[11, -5]])\n",
        "A2 = np.array([[4, 10],[3, 11]])\n",
        "from scipy import linalg # lưu ý: hàm tính định thức của ma trận là scipy.linalg.det(A)\n",
        "detA = linalg.det(A) # tính định thức cho ma trận A\n",
        "detA1 = linalg.det(A1) \n",
        "detA2 = linalg.det(A2)\n",
        "print (detA, detA1, detA2) "
      ],
      "metadata": {
        "colab": {
          "base_uri": "https://localhost:8080/"
        },
        "id": "5ZzaNTu-YbXQ",
        "outputId": "8eea0779-16a8-49d6-aa8e-fcf573616764"
      },
      "execution_count": 4,
      "outputs": [
        {
          "output_type": "stream",
          "name": "stdout",
          "text": [
            "-14.0 -28.0 14.000000000000004\n"
          ]
        }
      ]
    },
    {
      "cell_type": "code",
      "source": [
        "if (detA != 0):\n",
        " x1 = detA1 / detA\n",
        " x2 = detA2 / detA\n",
        " print (\"Hai nghiệm của phương trình là: \", x1, x2) "
      ],
      "metadata": {
        "colab": {
          "base_uri": "https://localhost:8080/"
        },
        "id": "zTEdyKYIYkCA",
        "outputId": "696972b2-01de-4528-a7ec-0f6590fcd654"
      },
      "execution_count": 5,
      "outputs": [
        {
          "output_type": "stream",
          "name": "stdout",
          "text": [
            "Hai nghiệm của phương trình là:  2.0 -1.0000000000000002\n"
          ]
        }
      ]
    }
  ]
}