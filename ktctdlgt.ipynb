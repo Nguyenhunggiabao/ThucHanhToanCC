{
  "nbformat": 4,
  "nbformat_minor": 0,
  "metadata": {
    "colab": {
      "provenance": [],
      "authorship_tag": "ABX9TyPm6yi9EogZ/BRmHNbeOFZ2",
      "include_colab_link": true
    },
    "kernelspec": {
      "name": "python3",
      "display_name": "Python 3"
    },
    "language_info": {
      "name": "python"
    }
  },
  "cells": [
    {
      "cell_type": "markdown",
      "metadata": {
        "id": "view-in-github",
        "colab_type": "text"
      },
      "source": [
        "<a href=\"https://colab.research.google.com/github/Nguyenhunggiabao/ThucHanhToanCC/blob/main/ktctdlgt.ipynb\" target=\"_parent\"><img src=\"https://colab.research.google.com/assets/colab-badge.svg\" alt=\"Open In Colab\"/></a>"
      ]
    },
    {
      "cell_type": "markdown",
      "source": [
        "Nguyễn Hùng Gia Bảo 2174802010827 "
      ],
      "metadata": {
        "id": "8FvpbY4KKdcC"
      }
    },
    {
      "cell_type": "markdown",
      "source": [
        "câu 1 "
      ],
      "metadata": {
        "id": "eZaUQPeNVD6Z"
      }
    },
    {
      "cell_type": "markdown",
      "source": [
        "Giải thuật\n",
        "\n",
        "Bước 1: left = 0; right = n-1; //tìm kiếm tất cả các phần tử\n",
        "\n",
        "\n",
        "Bước 2:\n",
        "mid = (left+right)/2; //so sánh\n",
        "\n",
        "\n",
        "So sánh a[mid] với x, có 3 khả năng :\n",
        "\n",
        "\n",
        "• a[mid] = x: Tìm thấy. Dừng kết thúc.\n",
        "\n",
        "\n",
        "• a[mid] > x: //tìm tiếp x trong dãy con aleft .. amid -1\n",
        "right =mid - 1;\n",
        "\n",
        "\n",
        "• a[mid] < x: //tìm tiếp x trong dãy con amid +1\n",
        ".. aright\n",
        "left = mid + 1;\n",
        "\n",
        "\n",
        "Bước 3:\n",
        "Nếu left <= right //còn phần tử chưa xét tìm tiếp\n",
        "Lặp lại Bước 2.\n",
        "\n",
        "\n",
        "Ngược lại: Dừng kết thúc. //xét hết các phần tử trong mản\n"
      ],
      "metadata": {
        "id": "TdMIR__sLl3N"
      }
    },
    {
      "cell_type": "code",
      "execution_count": 11,
      "metadata": {
        "id": "Bj7GpIAZv1S-"
      },
      "outputs": [],
      "source": [
        "import math # nhập hàm math \n",
        "def binary_search(arr, key): # tạo hàm binary_search với 2 biến arr và key \n",
        "  mid = 0 # gán mid bằng 0 \n",
        "  left = 0 \n",
        "  right = len(arr) -1 \n",
        "  step = 0\n",
        "  while (left <= right): # loop while left bé hơn bằng right\n",
        "    step = step+1 # step bằng step + 1 \n",
        "    mid = (left + right) // 2 # mid bằng tổng left và right chia 2 lấy nguyên \n",
        "    if (key == arr[mid]): # nếu key bằng với sô ở vị trí mid trong arr \n",
        "      return mid # in ra vị trí đó \n",
        "    if (key < arr[mid]): # nếu key lớn hơn sô ở vị trí mid trong arr \n",
        "      right = mid - 1 # right bằng mid - 1\n",
        "    else:\n",
        "      left = mid + 1 # left bằng mid + 1\n",
        "  return -1 # in ra -1 nếu không tìm ra key \n"
      ]
    },
    {
      "cell_type": "code",
      "source": [
        "arr = [12,5,7,8,14,17,24,29,45,48,55]\n",
        "key = 46 \n",
        "result = binary_search(arr, key)\n",
        "print(\"Vi tri tim kiem thu i la:\", result)"
      ],
      "metadata": {
        "colab": {
          "base_uri": "https://localhost:8080/",
          "height": 0
        },
        "id": "UM2luCAM3dmO",
        "outputId": "39c83d0b-1af2-46d8-ea31-6ac222d196f5"
      },
      "execution_count": 12,
      "outputs": [
        {
          "output_type": "stream",
          "name": "stdout",
          "text": [
            "Vi tri tim kiem thu i la: -1\n"
          ]
        }
      ]
    },
    {
      "cell_type": "markdown",
      "source": [
        "input: \n",
        "\n",
        "arr = [12,5,7,8,14,17,24,29,45,48,55]\n",
        "\n",
        "key = 46 \n",
        "\n",
        "\n",
        "output: \n",
        "\n",
        "Vi tri tim kiem thu i la: -1 \n",
        "\n",
        "phần tử không tìm thấy trong mảng arr "
      ],
      "metadata": {
        "id": "F6fa9uz9K2RG"
      }
    },
    {
      "cell_type": "markdown",
      "source": [
        "câu 2 "
      ],
      "metadata": {
        "id": "n-rQvIe0wlTy"
      }
    },
    {
      "cell_type": "markdown",
      "source": [
        "#Giải thuật Nổi bọt - Bubble Sort:\n",
        "\n",
        "B.1: Gán i = 0\n",
        "\n",
        "B.2: Gán j = 0 //danh sách có n phần tử a0,a1,a2…,an-1\n",
        "\n",
        "B.3: Nếu A[j] > A[j + 1] thì Hoán đối chỗ giữa A[j] và A[j + 1]\n",
        "\n",
        "B.4: Nếu (j < n – i – 1):\n",
        "\n",
        "-Đúng thì j = j + 1 và quay lui bước 3\n",
        "\n",
        "-Sai thì chuyển sang bước 5\n",
        "\n",
        "B.5: Nếu (i < n – 1):\n",
        "\n",
        "-Đúng thì i = i + 1 và quay lui bước 2\n",
        "\n",
        "-Sai thì dừng Kết Thúc."
      ],
      "metadata": {
        "id": "HudsnzQtN5et"
      }
    },
    {
      "cell_type": "code",
      "source": [
        "def bubble_sort(arr): # tạo hàm có tên bubble_sort có biến là arr\n",
        "  for i in range(len(arr)):# duyệt mảng từ vị trí đầu tiên đến n\n",
        "    for j in range(len(arr) - 1):\n",
        "      if arr[j] > arr[j+1]: # so sánh phần tử thứ j với phần tử j + 1\n",
        "        arr[j], arr[j+1] = arr[j+1], arr[j] # hoán đổi vị trí thứ j và j+1\n"
      ],
      "metadata": {
        "id": "WXyrv4oCwm75"
      },
      "execution_count": 13,
      "outputs": []
    },
    {
      "cell_type": "code",
      "source": [
        "arr = [20, 125, 70, 40, 221, 65, 20, 82, 237, 146, 10]\n",
        "bubble_sort(arr)\n",
        "print(arr)"
      ],
      "metadata": {
        "colab": {
          "base_uri": "https://localhost:8080/",
          "height": 0
        },
        "id": "g9tsyYdx0BLY",
        "outputId": "89c66e38-e93e-4e7d-c71e-0998cb2e9f42"
      },
      "execution_count": 14,
      "outputs": [
        {
          "output_type": "stream",
          "name": "stdout",
          "text": [
            "[10, 20, 20, 40, 65, 70, 82, 125, 146, 221, 237]\n"
          ]
        }
      ]
    },
    {
      "cell_type": "markdown",
      "source": [
        "input: \n",
        "arr = [20, 125, 70, 40, 221, 65, 20, 82, 237, 146, 10]\n",
        "\n",
        "output: \n",
        "\n",
        "[10, 20, 20, 40, 65, 70, 82, 125, 146, 221, 237] "
      ],
      "metadata": {
        "id": "iVtny6OgUUyE"
      }
    },
    {
      "cell_type": "markdown",
      "source": [
        "câu 3 "
      ],
      "metadata": {
        "id": "T2ggCaKWxLCS"
      }
    },
    {
      "cell_type": "markdown",
      "source": [
        "giải thuật:\n",
        "\n",
        "Bước 1: Khởi tạo: Gán L(a):= 0. Với mọi đỉnh x≠ a gán L(x) := ∞. Đặt T:= V.\n",
        "Gán P(x):=∅,∀𝒙 𝛜 𝐕 (P(x) là đỉnh trước đỉnh x trên đường đi ngắn nhất từ a đến x).\n",
        "\n",
        "Bước 2: Tính m := min {L(u) |u ϵ T}.\n",
        "Nếu m = +∞ , kết luận không tồn tại đường đi từ a đến z. Kết thúc.\n",
        "Ngược lại, nếu m < +∞, chọn v ϵ T sao cho L(v) = m, và đặt\n",
        "T:= T – {v}\n",
        " Sang bước 3.\n",
        "\n",
        "Bước 3: Nếu z = v, L(z) là chiều dài đường đi ngắn nhất từ a đến z.\n",
        "Từ z lần ngược theo đỉnh được ghi nhớ trong hàm P(x) ta tìm được đường đi ngắn nhất\n",
        "như sau:\n",
        "Đặt z1 = P(z) , z2 =P(z1),...., zk = P(zk-1), a = P(𝒛𝒌).\n",
        "Suy ra đường đi ngắn nhất là\n",
        "𝒂 → 𝒛𝒌 → 𝒛𝒌−𝟏 → ⋯ → 𝒛𝟏 → 𝒛\n",
        "Kết thúc.\n",
        "Ngược lại, nếu z ≠ v, sang bước 4 .\n",
        "\n",
        "Bước 4: Với mỗi x 𝛜 T (kề sau đối với đồ thị có hướng) v, tức là tồn tại cạnh (cung đối với đồ thị có hướng) (v, x), nếu\n",
        "L(x) > L(v) + w(v, x)\n",
        "thì gán\n",
        "L(x) := L(v) + w(v, x).\n",
        "và ghi nhớ đỉnh v cạnh đỉnh x, gán P(x) := v (để sau này xây dựng đường đi ngắn nhất).\n",
        "Quay về bước 2.\n"
      ],
      "metadata": {
        "id": "ZTlmayMcQPg3"
      }
    },
    {
      "cell_type": "code",
      "source": [
        "import math # nhập hàm math\n",
        "import sys# nhập hàm sys \n",
        "class Graph(): # tạo class Graph \n",
        "  def __init__(cung, dinh): # hàm khởi tạo\n",
        "    cung.x = dinh #gán cung.x bằng dinh \n",
        "    cung.graph = [[0 for column in range(dinh)]# duyệt các phần tử từ 0 đến 7\n",
        "                  for row in range(dinh)]\n",
        "  def inketqua(cung, L, a):# hàm inketqua\n",
        "    print (\"đỉnh nguồn xuất phát từ: \")# in \"đỉnh nguồn xuất phát từ\"\n",
        "    for nut in range(cung.x): #chạy vòng lặp từ nut tới cung.x \n",
        "      print (a,\" đến đỉnh \",nut, \"độ dài đường đi là: \", L[nut])#in a, \"đến đỉnh\",nut, \"độ dài đường đi là: \"\n",
        "  def duongdinhonhat(cung, L, P): # hàm duongdinhonhat\n",
        "    min = sys.maxsize# gán min bằng sys.maxsize\n",
        "    for x in range(cung.x): # chạy vòng lặp từ x đến cung.x \n",
        "      if L[x] < min and P[x] == False: # nếu L[x] nhỏ hơn min và p[x] sai\n",
        "        min = L[x] # gán min = L[x]\n",
        "        min_index = x #gán min_index bằng x\n",
        "    return min_index # in min_index\n",
        "  def timduongdi(cung, a): # hàm timduongdi \n",
        "    L = [sys.maxsize] * cung.x # gán L = [sys.maxsize] * cung.x\n",
        "    L[a] = 0 # gán L[a] = 0\n",
        "    P = [False] * cung.x # P = [False] * cung.x \n",
        "    for cout in range(cung.x): # chạy vòng lặp từ cout đến cung.x \n",
        "      u = cung.duongdinhonhat(L, P) # gán u = cung.duongdinhonhat(L, P)\n",
        "      P[u] = True # P[u] đúng \n",
        "      for x in range(cung.x): # chạy vòng lặp từ x đến cung.x \n",
        "        if cung.graph[u][x] > 0 and P[x] == False and L[x] > L[u] + cung.graph[u][x]:\n",
        "          # nếu cung.graph[u][x] > 0 và P[x] sai và L[x] > L[u] + cung.graph[u][x]\n",
        "          L[x] = L[u] + cung.graph[u][x] # gán L[x] = L[u] + cung.graph[u][x]\n",
        "    cung.inketqua(L, a) # in ket qua \n",
        "g = Graph(8)"
      ],
      "metadata": {
        "id": "HzsFeXZn4hXz"
      },
      "execution_count": 15,
      "outputs": []
    },
    {
      "cell_type": "code",
      "source": [
        "g = Graph(8) #đồ thị có hướng\n",
        "g.graph = [[0,5,0,3,0,0,0,0],\n",
        " [0,0,2,0,0,6,0,0],\n",
        " [0,0,0,0,0,0,0,7],\n",
        " [0,0,0,0,4,2,0,0],\n",
        " [0,0,0,0,0,0,0,5],\n",
        " [0,0,0,0,0,0,6,0],\n",
        " [0,0,3,0,1,0,0,0],\n",
        " [0,0,0,0,0,0,0,0],\n",
        " ];\n",
        "g.timduongdi(0);"
      ],
      "metadata": {
        "colab": {
          "base_uri": "https://localhost:8080/",
          "height": 0
        },
        "id": "lDFE2Ke64k0W",
        "outputId": "e507e8e1-dab1-4660-b7b2-6d2f12cdb4ca"
      },
      "execution_count": 16,
      "outputs": [
        {
          "output_type": "stream",
          "name": "stdout",
          "text": [
            "đỉnh nguồn xuất phát từ: \n",
            "0  đến đỉnh  0 độ dài đường đi là:  0\n",
            "0  đến đỉnh  1 độ dài đường đi là:  5\n",
            "0  đến đỉnh  2 độ dài đường đi là:  7\n",
            "0  đến đỉnh  3 độ dài đường đi là:  3\n",
            "0  đến đỉnh  4 độ dài đường đi là:  7\n",
            "0  đến đỉnh  5 độ dài đường đi là:  5\n",
            "0  đến đỉnh  6 độ dài đường đi là:  11\n",
            "0  đến đỉnh  7 độ dài đường đi là:  12\n"
          ]
        }
      ]
    },
    {
      "cell_type": "markdown",
      "source": [
        "input:\n",
        "g.graph = [[0,5,0,3,0,0,0,0],\n",
        "\n",
        " [0,0,2,0,0,6,0,0],\n",
        "\n",
        " [0,0,0,0,0,0,0,7],\n",
        "\n",
        " [0,0,0,0,4,2,0,0],\n",
        "\n",
        " [0,0,0,0,0,0,0,5],\n",
        "\n",
        " [0,0,0,0,0,0,6,0],\n",
        "\n",
        " [0,0,3,0,1,0,0,0],\n",
        "\n",
        " [0,0,0,0,0,0,0,0],\n",
        " ];\n",
        "\n",
        " output: \n",
        " đỉnh nguồn xuất phát từ: \n",
        "\n",
        "0  đến đỉnh  0 độ dài đường đi là:  0\n",
        "\n",
        "0  đến đỉnh  1 độ dài đường đi là:  5\n",
        "\n",
        "0  đến đỉnh  2 độ dài đường đi là:  7\n",
        "\n",
        "0  đến đỉnh  3 độ dài đường đi là:  3\n",
        "\n",
        "0  đến đỉnh  4 độ dài đường đi là:  7\n",
        "\n",
        "0  đến đỉnh  5 độ dài đường đi là:  5\n",
        "\n",
        "0  đến đỉnh  6 độ dài đường đi là:  11\n",
        "\n",
        "0  đến đỉnh  7 độ dài đường đi là:  12\n",
        "\n",
        "đường đi ngắn nhất là: 0->3->4->7 với L = 12 "
      ],
      "metadata": {
        "id": "Jmbs_KjRUS1L"
      }
    }
  ]
}