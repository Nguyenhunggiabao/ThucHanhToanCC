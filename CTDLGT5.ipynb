{
  "nbformat": 4,
  "nbformat_minor": 0,
  "metadata": {
    "colab": {
      "provenance": [],
      "authorship_tag": "ABX9TyOFAXDi4WyuagMCGTLpUAXC",
      "include_colab_link": true
    },
    "kernelspec": {
      "name": "python3",
      "display_name": "Python 3"
    },
    "language_info": {
      "name": "python"
    }
  },
  "cells": [
    {
      "cell_type": "markdown",
      "metadata": {
        "id": "view-in-github",
        "colab_type": "text"
      },
      "source": [
        "<a href=\"https://colab.research.google.com/github/Nguyenhunggiabao/ThucHanhToanCC/blob/main/CTDLGT5.ipynb\" target=\"_parent\"><img src=\"https://colab.research.google.com/assets/colab-badge.svg\" alt=\"Open In Colab\"/></a>"
      ]
    },
    {
      "cell_type": "markdown",
      "source": [
        "Nguễn Hùng Gia Bảo 2174802010827 "
      ],
      "metadata": {
        "id": "nZ2zVxXAhZlF"
      }
    },
    {
      "cell_type": "markdown",
      "source": [
        "thực hành 1.1"
      ],
      "metadata": {
        "id": "XTsZmy6L2J_u"
      }
    },
    {
      "cell_type": "code",
      "execution_count": null,
      "metadata": {
        "colab": {
          "base_uri": "https://localhost:8080/"
        },
        "id": "mLO1msWv2H71",
        "outputId": "fc6c5784-6b36-46c6-8ac1-78f9f5e9d3d0"
      },
      "outputs": [
        {
          "output_type": "execute_result",
          "data": {
            "text/plain": [
              "['data science',\n",
              " 'data analytics',\n",
              " 'data structures and algorithms',\n",
              " 'big data',\n",
              " 'learning data analytics']"
            ]
          },
          "metadata": {},
          "execution_count": 2
        }
      ],
      "source": [
        "myStack = [] # gán biến myStack bằng list rỗng\n",
        "myStack.append('data science') # thêm data science vào list\n",
        "myStack.append('data analytics')# thêm data analytics\n",
        "myStack.append('data structures and algorithms')# thêm data structures and algorithms \n",
        "myStack.append('big data')# thêm big data vào list\n",
        "myStack.append('learning data analytics')# thêm learning data analytics vào list\n",
        "myStack# in danh sách myStack"
      ]
    },
    {
      "cell_type": "code",
      "source": [
        "myStack.pop() # xóa learning data analytics ra khỏi list\n",
        "myStack.pop() # xóa big data ra khỏi list\n",
        "myStack# in danh sách myStack \n"
      ],
      "metadata": {
        "id": "XxKiEhEHX8uQ",
        "outputId": "b331cb1a-76d0-4f56-b0ff-01814e5f777b",
        "colab": {
          "base_uri": "https://localhost:8080/"
        }
      },
      "execution_count": null,
      "outputs": [
        {
          "output_type": "execute_result",
          "data": {
            "text/plain": [
              "['data science', 'data analytics', 'data structures and algorithms']"
            ]
          },
          "metadata": {},
          "execution_count": 3
        }
      ]
    },
    {
      "cell_type": "markdown",
      "source": [
        "input: danh sách rỗng\n",
        "\n",
        "output:\n",
        "['data science', 'data analytics', 'data structures and algorithms']"
      ],
      "metadata": {
        "id": "t9YciWdIhP7T"
      }
    },
    {
      "cell_type": "markdown",
      "source": [
        "thực hành 1.2"
      ],
      "metadata": {
        "id": "xpvjyVh-2Ut9"
      }
    },
    {
      "cell_type": "code",
      "source": [
        "from collections import deque # từ thư viện collections gọi hàm deque\n",
        "myStack = deque() # gán biến myStack bằng hàm hàng đợi rỗng\n",
        "myStack.append('data science') # thêm data science\n",
        "myStack.append('data structures and algorithms')# thêm data structures and algorithms\n",
        "myStack.append('learning data analytics')# thêm learning data analytics\n",
        "myStack.append('big data')# thêm big data\n",
        "myStack# in danh sách myStack"
      ],
      "metadata": {
        "colab": {
          "base_uri": "https://localhost:8080/"
        },
        "id": "eSFNqvFa2Xqz",
        "outputId": "8c52d9f5-54a8-4f73-d345-b2b4b8aad899"
      },
      "execution_count": null,
      "outputs": [
        {
          "output_type": "execute_result",
          "data": {
            "text/plain": [
              "deque(['data science',\n",
              "       'data structures and algorithms',\n",
              "       'learning data analytics',\n",
              "       'big data'])"
            ]
          },
          "metadata": {},
          "execution_count": 4
        }
      ]
    },
    {
      "cell_type": "code",
      "source": [
        "myStack.pop() # xóa big data\n",
        "myStack.pop()# xóa learning data analytics\n",
        "myStack# in danh sách myStack "
      ],
      "metadata": {
        "id": "E5XPHYhuZOfs",
        "outputId": "4853605b-656a-4167-a119-f796a511ea2d",
        "colab": {
          "base_uri": "https://localhost:8080/"
        }
      },
      "execution_count": null,
      "outputs": [
        {
          "output_type": "execute_result",
          "data": {
            "text/plain": [
              "deque(['data science', 'data structures and algorithms'])"
            ]
          },
          "metadata": {},
          "execution_count": 5
        }
      ]
    },
    {
      "cell_type": "markdown",
      "source": [
        "input: danh sách rỗng \n",
        "\n",
        "output: deque(['data science', 'data structures and algorithms'])"
      ],
      "metadata": {
        "id": "qk2eMpXHhA50"
      }
    },
    {
      "cell_type": "markdown",
      "source": [
        "thực hành 1.3 "
      ],
      "metadata": {
        "id": "krDl-sD32bFf"
      }
    },
    {
      "cell_type": "code",
      "source": [
        "class Node:# tạo lớp node \n",
        "  def __init__(self, value):# hàm khởi tạo \n",
        "    self.value = value # gán giá trị vlaue\n",
        "    self.next = None# gán giá trị biến next là none\n",
        "class Stack:# tạo lớp Stack\n",
        "  def __init__(self):# hàm khởi tạo\n",
        "    self.head = Node(\"head\")# gán biến head bằng head\n",
        "    self.size = 0# gán biến size bằng 0\n",
        "  def __str__(self):# tạo hàm string\n",
        "    cur = self.head.next# đặt tên biến cho giá trị kế đầu\n",
        "    out = \"\"# gán giá trị out là rỗng\n",
        "    while cur:# vòng lập while với biến cur\n",
        "      out += str(cur.value) + \"->\"# out bằng giá trị cur trong str cộng out với \"->\"\n",
        "      cur = cur.next# giá trị biến cur bằng giá trị cur kế tiếp \n",
        "    return out[:-3]# thoát vòng lặp với giá trị lớn hơn trừ -3 và hiển thị từ lớn đến bé\n",
        "  def getSize(self):# hàm lấy chiều dài\n",
        "    return self.size # trả về giá trị size\n",
        "  def isEmpty(self):# hàm isEmpty \n",
        "    return self.size == 0# trả và giá trị size gán bằng 0\n",
        "  def peek(self):# hàm peek \n",
        "    if self.isEmpty():# tạo vòng lặp với hàm self.isEmpty()\n",
        "      raise Exception(\"Peeking stack\")# trả về giá trị ngoại lệ \"Peeking stack\"\n",
        "    return self.head.next.value # trả về giá trị self.head.next.value\n",
        "  def push(self, value): # hàm thêm vào \n",
        "      node = Node(value)# gán biến node bằng hàm Node \n",
        "      node.next = self.head.next # gán node.next bằng giá trị của head.next\n",
        "      self.head.next = node# gán giá trị head.next bằng 0\n",
        "      self.size += 1 # giá trị size bằng size + 1\n",
        "  def pop(self):# Hàm xóa \n",
        "    if self.isEmpty():# tạo vòng lặp với hàm self.isEmpty()\n",
        "      raise Exception(\"Popping from an empty stack\")# trả về giá trị ngoại lệ \"Popping from an empty stack\"\n",
        "    remove = self.head.next# gán giá trị biến remove bằng head.next\n",
        "    self.head.next = self.head.next.next # gán giá trị của head.next bằng giá trị kế tiếp \n",
        "    self.size -= 1# size bằng size - 1\n",
        "    return remove.value# trả về giá trị remove\n",
        "if __name__ == \"__main__\":# hàm main để chạy\n",
        "    stack = Stack()# gán biến stack bằng lớp Stack()\n",
        "    for i in range(1, 20):# duyệt từng phần tử từ 1 đến 20\n",
        "      stack.push(i)# thêm giá trị vào stack\n",
        "    print(f\"Stack: {stack}\")# in ra \"Stack\" với danh sách stack\n",
        "    for _ in range(1, 9):# duyệt từng phần tử từ 1 đến 9\n",
        "      remove = stack.pop() # giá trị remove bằng giá trị cuối bị xóa trong stack\n",
        "      print(f\"Pop: {remove}\")# in ra \"Pop\" với giá trị remove\n",
        "    print(f\"Stack: {stack}\")# in ra \"Stack\" với giá trị mới của stack\n"
      ],
      "metadata": {
        "colab": {
          "base_uri": "https://localhost:8080/"
        },
        "id": "s6lgCg-A2agn",
        "outputId": "6dcde036-99b3-4754-e93b-5d5c6db1949b"
      },
      "execution_count": null,
      "outputs": [
        {
          "output_type": "stream",
          "name": "stdout",
          "text": [
            "Stack: 19->18->17->16->15->14->13->12->11->10->9->8->7->6->5->4->3->2->\n",
            "Pop: 19\n",
            "Pop: 18\n",
            "Pop: 17\n",
            "Pop: 16\n",
            "Pop: 15\n",
            "Pop: 14\n",
            "Pop: 13\n",
            "Pop: 12\n",
            "Stack: 11->10->9->8->7->6->5->4->3->2->\n"
          ]
        }
      ]
    },
    {
      "cell_type": "markdown",
      "source": [
        "input: stack [2,3,4,5,6,7,8,9,10,11,12,13,14,15,16,17,18,19]\n",
        "\n",
        "output:\n",
        "\n",
        "Pop: 19\n",
        "\n",
        "Pop: 18\n",
        "\n",
        "Pop: 17\n",
        "\n",
        "Pop: 16\n",
        "\n",
        "Pop: 15\n",
        "\n",
        "Pop: 14\n",
        "\n",
        "Pop: 13\n",
        "\n",
        "Pop: 12\n",
        "\n",
        "Stack: 11->10->9->8->7->6->5->4->3->2->"
      ],
      "metadata": {
        "id": "98ZEimmRggis"
      }
    },
    {
      "cell_type": "markdown",
      "source": [
        "thực hành 2.1"
      ],
      "metadata": {
        "id": "vzju5WS13l69"
      }
    },
    {
      "cell_type": "code",
      "source": [
        "myQueue = [] # gán myQueue bằng một list rỗng \n",
        "myQueue.append('data science') # thêm data science\n",
        "myQueue.append('data analytics')# thêm data analytics\n",
        "myQueue.append('data structures and algorithms')# them data structures and algorithms\n",
        "myQueue.append('big data')# thêm big data \n",
        "myQueue.append('learning data analytics')#thêm learning data analytics\n",
        "print(myQueue)# in danh sách myQueue\n",
        "print(myQueue.pop(0)) # in ra giá trị bị xóa ở vị trí đầu \n",
        "print(myQueue.pop(0))# in ra giá trị bị xóa ở vị trí đầu\n",
        "print(myQueue)# in ra danh sách myQueue mới"
      ],
      "metadata": {
        "colab": {
          "base_uri": "https://localhost:8080/"
        },
        "id": "e-5GWII03rL7",
        "outputId": "ef200245-98aa-401e-f6fe-4e6f719a2fdd"
      },
      "execution_count": null,
      "outputs": [
        {
          "output_type": "stream",
          "name": "stdout",
          "text": [
            "['data science', 'data analytics', 'data structures and algorithms', 'big data', 'learning data analytics']\n",
            "data science\n",
            "data analytics\n",
            "['data structures and algorithms', 'big data', 'learning data analytics']\n"
          ]
        }
      ]
    },
    {
      "cell_type": "markdown",
      "source": [
        "input: một danh sách rỗng \n",
        "\n",
        "output: \n",
        "\n",
        "['data science', 'data analytics', 'data structures and algorithms', 'big data', 'learning data analytics']( danh sách ban đâu)\n",
        "\n",
        "\n",
        "data science( phần tử bị xóa )\n",
        "\n",
        "\n",
        "data analytics( phần tử bị xóa )\n",
        "\n",
        "\n",
        "['data structures and algorithms', 'big data', 'learning data analytics'] ( danh sách mới )"
      ],
      "metadata": {
        "id": "ppHc5EMpEaCb"
      }
    },
    {
      "cell_type": "markdown",
      "source": [
        "thực hành 2.2"
      ],
      "metadata": {
        "id": "WorrQyRp3_s7"
      }
    },
    {
      "cell_type": "code",
      "source": [
        "from collections import deque# từ thư viện collection gọi hàm deque\n",
        "q = deque() # gán biến q bằng một hàm deque rỗng\n",
        "q.append('data analytics') #thêm ata analytics\n",
        "q.append('data structures and algorithms')# thêm data structures and algorithms\n",
        "q.append('big data')# thêm big data\n",
        "q.append('learning data analytics')# learning data analytics\n",
        "print(q)# in danh sách q \n",
        "print(q.popleft()) # xóa phần tử ngoài cùng bên trái \n",
        "print(q.popleft())# xóa phần tử ngoài cùng bên trái \n",
        "print(q)# in danh sách q mới"
      ],
      "metadata": {
        "colab": {
          "base_uri": "https://localhost:8080/"
        },
        "id": "BM25hvh-4DKL",
        "outputId": "dd574e31-066c-404c-af02-b93610d61c03"
      },
      "execution_count": null,
      "outputs": [
        {
          "output_type": "stream",
          "name": "stdout",
          "text": [
            "deque(['data analytics', 'data structures and algorithms', 'big data', 'learning data analytics'])\n",
            "data analytics\n",
            "data structures and algorithms\n",
            "deque(['big data', 'learning data analytics'])\n"
          ]
        }
      ]
    },
    {
      "cell_type": "markdown",
      "source": [
        "input: một dnah sách rỗng \n",
        "\n",
        "output: \n",
        "\n",
        "deque(['data analytics', 'data structures and algorithms', 'big data', 'learning data analytics']) ( danh sách ban đầu )\n",
        "\n",
        "data analytics( phần tử thứ nhất bị xóa )\n",
        "\n",
        "\n",
        "data structures and algorithms( phần tử thứ 2 bị xóa )\n",
        "\n",
        "\n",
        "deque(['big data', 'learning data analytics']) ( danh sách mới )"
      ],
      "metadata": {
        "id": "_F8FRCrhGiZ0"
      }
    },
    {
      "cell_type": "markdown",
      "source": [
        "thực hành 2.3 "
      ],
      "metadata": {
        "id": "EqSdPvpJ4Gbj"
      }
    },
    {
      "cell_type": "code",
      "source": [
        "from queue import Queue # từ thư viện queue gọi hàm hàng đợi Queue\n",
        "q = Queue(maxsize = 5) # gán biến q bằng hàm hàng đợi có độ dài lớn nhất là 5 \n",
        "print(q.qsize()) # in kích thước hiện tại của danh sách \n",
        "q.put('data analytics') # thêm data analytics\n",
        "q.put('data structures and algorithms')# data structures and algorithms\n",
        "q.put('big data')# thêm big data\n",
        "q.put('learning data analytics')# thêm learning data analytics\n",
        "print(q.qsize())# in kích thước hiện tại của danh sách\n",
        "print(q.get()) # lấy giá trị đầu \n",
        "print(q.get())# lấy giá trị đầu \n"
      ],
      "metadata": {
        "colab": {
          "base_uri": "https://localhost:8080/"
        },
        "id": "WkKV2yog4IDK",
        "outputId": "27947705-df8f-42c6-9260-c308fddd20dc"
      },
      "execution_count": 3,
      "outputs": [
        {
          "output_type": "stream",
          "name": "stdout",
          "text": [
            "0\n",
            "4\n",
            "data analytics\n",
            "data structures and algorithms\n"
          ]
        }
      ]
    },
    {
      "cell_type": "markdown",
      "source": [
        "input: một danh sách rỗng với kích thước tối đa là 5 \n",
        "\n",
        "output: \n",
        "\n",
        "0 ( kích thước ban dâu của list )\n",
        "\n",
        "4 ( kíhc thuóc lúc sau của list )\n",
        "\n",
        "data analytics (phần tử được lấy đầu)\n",
        "\n",
        "data structures and algorithms( phần tử được láy tiếp theo )\n"
      ],
      "metadata": {
        "id": "ORcd8YW5M4Eq"
      }
    }
  ]
}