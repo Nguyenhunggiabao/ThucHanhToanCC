{
  "nbformat": 4,
  "nbformat_minor": 0,
  "metadata": {
    "colab": {
      "provenance": [],
      "authorship_tag": "ABX9TyPe+/chTqOGXAgIhZeWnJr8",
      "include_colab_link": true
    },
    "kernelspec": {
      "name": "python3",
      "display_name": "Python 3"
    },
    "language_info": {
      "name": "python"
    }
  },
  "cells": [
    {
      "cell_type": "markdown",
      "metadata": {
        "id": "view-in-github",
        "colab_type": "text"
      },
      "source": [
        "<a href=\"https://colab.research.google.com/github/Nguyenhunggiabao/ThucHanhToanCC/blob/main/ktctdlgt.ipynb\" target=\"_parent\"><img src=\"https://colab.research.google.com/assets/colab-badge.svg\" alt=\"Open In Colab\"/></a>"
      ]
    },
    {
      "cell_type": "markdown",
      "source": [
        "câu 1 "
      ],
      "metadata": {
        "id": "cWCtOThdv54H"
      }
    },
    {
      "cell_type": "code",
      "execution_count": 8,
      "metadata": {
        "id": "Bj7GpIAZv1S-"
      },
      "outputs": [],
      "source": [
        "import math # nhập hàm math \n",
        "def binary_search(arr, key): # tạo hàm binary_search với 2 biến arr và key \n",
        "  mid = 0 # gán mid bằng 0 \n",
        "  left = 0 \n",
        "  right = len(arr)\n",
        "  step = 0\n",
        "  while (left <= right): # loop while left bé hơn bằng right\n",
        "    step = step+1 # step bằng step + 1 \n",
        "    mid = (left + right) // 2 # mid bằng tổng left và right chia 2 lấy nguyên \n",
        "    if (key == arr[mid]): # nếu key bằng với sô ở vị trí mid trong arr \n",
        "      return mid # in ra vị trí đó \n",
        "    if (key < arr[mid]): # nếu key lớn hơn sô ở vị trí mid trong arr \n",
        "      right = mid - 1 # right bằng mid - 1\n",
        "    else:\n",
        "      left = mid + 1 # left bằng mid + 1\n",
        "  return -1 # in ra -1 \n"
      ]
    },
    {
      "cell_type": "code",
      "source": [
        "arr = [12,5,7,8,14,17,24,29,45,48,55]\n",
        "key = 45 \n",
        "result = binary_search(arr, key)\n",
        "print(\"Vi tri tim kiem thu i la:\", result)"
      ],
      "metadata": {
        "colab": {
          "base_uri": "https://localhost:8080/"
        },
        "id": "UM2luCAM3dmO",
        "outputId": "c46bade9-44b8-4df9-f536-1b11518f9225"
      },
      "execution_count": 9,
      "outputs": [
        {
          "output_type": "stream",
          "name": "stdout",
          "text": [
            "Vi tri tim kiem thu i la: 8\n"
          ]
        }
      ]
    },
    {
      "cell_type": "markdown",
      "source": [
        "câu 2 "
      ],
      "metadata": {
        "id": "n-rQvIe0wlTy"
      }
    },
    {
      "cell_type": "code",
      "source": [
        "def bubble_sort(arr): # tạo hàm có tên bubble_sort có biến là arr\n",
        "  for i in range(len(arr)):# duyệt mảng từ vị trí đầu tiên đến n\n",
        "    for j in range(len(arr) - 1):\n",
        "      if arr[j] > arr[j+1]: # so sánh phần tử thứ j với phần tử j + 1\n",
        "        arr[j], arr[j+1] = arr[j+1], arr[j] # hoán đổi vị trí thứ j và j+1\n"
      ],
      "metadata": {
        "id": "WXyrv4oCwm75"
      },
      "execution_count": 4,
      "outputs": []
    },
    {
      "cell_type": "code",
      "source": [
        "arr = [100, 120, 60,140,220,185,20,80,25,150]\n",
        "bubble_sort(arr)\n",
        "print(arr)"
      ],
      "metadata": {
        "colab": {
          "base_uri": "https://localhost:8080/"
        },
        "id": "g9tsyYdx0BLY",
        "outputId": "92529db0-6ff6-4cef-cfe9-f64a825db656"
      },
      "execution_count": 5,
      "outputs": [
        {
          "output_type": "stream",
          "name": "stdout",
          "text": [
            "[20, 25, 60, 80, 100, 120, 140, 150, 185, 220]\n"
          ]
        }
      ]
    },
    {
      "cell_type": "markdown",
      "source": [
        "câu 3 "
      ],
      "metadata": {
        "id": "T2ggCaKWxLCS"
      }
    },
    {
      "cell_type": "code",
      "source": [
        "import math\n",
        "import sys\n",
        "class Graph():\n",
        "  def __init__(cung, dinh):\n",
        "    cung.x = dinh\n",
        "    cung.graph = [[0 for column in range(dinh)]\n",
        "                  for row in range(dinh)]\n",
        "  def inketqua(cung, L, a):\n",
        "    print (\"đỉnh nguồn xuất phát từ: \")\n",
        "    for nut in range(cung.x):\n",
        "      print (a,\" đến đỉnh \",nut, \"độ dài đường đi là: \", L[nut])\n",
        "  def duongdinhonhat(cung, L, P):\n",
        "    min = sys.maxsize\n",
        "    for x in range(cung.x):\n",
        "      if L[x] < min and P[x] == False:\n",
        "        min = L[x]\n",
        "        min_index = x\n",
        "    return min_index\n",
        "  def timduongdi(cung, a):\n",
        "    L = [sys.maxsize] * cung.x\n",
        "    L[a] = 0\n",
        "    P = [False] * cung.x\n",
        "    for cout in range(cung.x):\n",
        "      u = cung.duongdinhonhat(L, P)\n",
        "      P[u] = True\n",
        "      for x in range(cung.x):\n",
        "        if cung.graph[u][x] > 0 and P[x] == False and L[x] > L[u] + cung.graph[u][x]:\n",
        "          L[x] = L[u] + cung.graph[u][x]\n",
        "    cung.inketqua(L, a)\n",
        "g = Graph(6)"
      ],
      "metadata": {
        "id": "HzsFeXZn4hXz"
      },
      "execution_count": 10,
      "outputs": []
    },
    {
      "cell_type": "code",
      "source": [
        "g = Graph(6) #đồ thị vô hướng\n",
        "g.graph = [[0, 3, 0, 1, 0, 0],\n",
        " [3, 0, 5, 2, 0, 0],\n",
        " [0, 5, 0, 0, 4, 2],\n",
        " [1, 2, 0, 0, 6, 0],\n",
        " [0, 0, 4, 6, 0, 7],\n",
        " [0, 0, 2, 0, 7, 0]\n",
        " ];\n",
        "g.timduongdi(0);"
      ],
      "metadata": {
        "colab": {
          "base_uri": "https://localhost:8080/"
        },
        "id": "lDFE2Ke64k0W",
        "outputId": "98f2b14e-74bd-4f7d-869b-f49fcda0bb65"
      },
      "execution_count": 11,
      "outputs": [
        {
          "output_type": "stream",
          "name": "stdout",
          "text": [
            "đỉnh nguồn xuất phát từ: \n",
            "0  đến đỉnh  0 độ dài đường đi là:  0\n",
            "0  đến đỉnh  1 độ dài đường đi là:  3\n",
            "0  đến đỉnh  2 độ dài đường đi là:  8\n",
            "0  đến đỉnh  3 độ dài đường đi là:  1\n",
            "0  đến đỉnh  4 độ dài đường đi là:  7\n",
            "0  đến đỉnh  5 độ dài đường đi là:  10\n"
          ]
        }
      ]
    }
  ]
}