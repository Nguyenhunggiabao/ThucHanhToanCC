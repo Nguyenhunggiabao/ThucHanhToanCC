{
  "nbformat": 4,
  "nbformat_minor": 0,
  "metadata": {
    "colab": {
      "provenance": [],
      "authorship_tag": "ABX9TyNdvQDegCdMHwU+wADO1ldZ",
      "include_colab_link": true
    },
    "kernelspec": {
      "name": "python3",
      "display_name": "Python 3"
    },
    "language_info": {
      "name": "python"
    }
  },
  "cells": [
    {
      "cell_type": "markdown",
      "metadata": {
        "id": "view-in-github",
        "colab_type": "text"
      },
      "source": [
        "<a href=\"https://colab.research.google.com/github/Nguyenhunggiabao/ThucHanhToanCC/blob/main/CTDLGT_3.ipynb\" target=\"_parent\"><img src=\"https://colab.research.google.com/assets/colab-badge.svg\" alt=\"Open In Colab\"/></a>"
      ]
    },
    {
      "cell_type": "markdown",
      "source": [
        "Nguyễn Hùng Gia Bảo-2174802010827"
      ],
      "metadata": {
        "id": "laPw_Ux6KTGf"
      }
    },
    {
      "cell_type": "markdown",
      "source": [
        "thực hành 1:"
      ],
      "metadata": {
        "id": "s6MnATeeKfQi"
      }
    },
    {
      "cell_type": "code",
      "execution_count": 1,
      "metadata": {
        "id": "BzfASA3TKBPe"
      },
      "outputs": [],
      "source": [
        "import math\n",
        "import sys\n",
        "class Graph():\n",
        "  def __init__(cung, dinh):\n",
        "    cung.x = dinh\n",
        "    cung.graph = [[0 for column in range(dinh)]\n",
        "                  for row in range(dinh)]\n",
        "  def inketqua(cung, L, a):\n",
        "    print (\"đỉnh nguồn xuất phát từ: \")\n",
        "    for nut in range(cung.x):\n",
        "      print (a,\" đến đỉnh \",nut, \"độ dài đường đi là: \", L[nut])\n",
        "  def duongdinhonhat(cung, L, P):\n",
        "    min = sys.maxsize\n",
        "    for x in range(cung.x):\n",
        "      if L[x] < min and P[x] == False:\n",
        "        min = L[x]\n",
        "        min_index = x\n",
        "    return min_index\n",
        "  def timduongdi(cung, a):\n",
        "    L = [sys.maxsize] * cung.x\n",
        "    L[a] = 0\n",
        "    P = [False] * cung.x\n",
        "    for cout in range(cung.x):\n",
        "      u = cung.duongdinhonhat(L, P)\n",
        "      P[u] = True\n",
        "      for x in range(cung.x):\n",
        "        if cung.graph[u][x] > 0 and P[x] == False and L[x] > L[u] + cung.graph[u][x]:\n",
        "          L[x] = L[u] + cung.graph[u][x]\n",
        "    cung.inketqua(L, a)\n",
        "g = Graph(6)"
      ]
    },
    {
      "cell_type": "code",
      "source": [
        "g = Graph(6) #đồ thị vô hướng\n",
        "g.graph = [[0, 3, 0, 1, 0, 0],\n",
        " [3, 0, 5, 2, 0, 0],\n",
        " [0, 5, 0, 0, 4, 2],\n",
        " [1, 2, 0, 0, 6, 0],\n",
        " [0, 0, 4, 6, 0, 7],\n",
        " [0, 0, 2, 0, 7, 0]\n",
        " ];\n",
        "g.timduongdi(0);"
      ],
      "metadata": {
        "colab": {
          "base_uri": "https://localhost:8080/"
        },
        "id": "OXCO1fE1KhoO",
        "outputId": "0794c561-efa6-4e91-90b2-9782f054361a"
      },
      "execution_count": 2,
      "outputs": [
        {
          "output_type": "stream",
          "name": "stdout",
          "text": [
            "đỉnh nguồn xuất phát từ: \n",
            "0  đến đỉnh  0 độ dài đường đi là:  0\n",
            "0  đến đỉnh  1 độ dài đường đi là:  3\n",
            "0  đến đỉnh  2 độ dài đường đi là:  8\n",
            "0  đến đỉnh  3 độ dài đường đi là:  1\n",
            "0  đến đỉnh  4 độ dài đường đi là:  7\n",
            "0  đến đỉnh  5 độ dài đường đi là:  10\n"
          ]
        }
      ]
    },
    {
      "cell_type": "markdown",
      "source": [
        "input: [[0, 3, 0, 1, 0, 0],\n",
        "\n",
        " [3, 0, 5, 2, 0, 0],\n",
        "\n",
        " [0, 5, 0, 0, 4, 2],\n",
        "\n",
        " [1, 2, 0, 0, 6, 0],\n",
        "\n",
        " [0, 0, 4, 6, 0, 7],\n",
        "\n",
        " [0, 0, 2, 0, 7, 0]\n",
        " ]\n",
        "\n",
        " output:\n",
        "\n",
        " đỉnh nguồn xuất phát từ: \n",
        " \n",
        "0  đến đỉnh  0 độ dài đường đi là:  0\n",
        "\n",
        "0  đến đỉnh  1 độ dài đường đi là:  3\n",
        "\n",
        "0  đến đỉnh  2 độ dài đường đi là:  8\n",
        "\n",
        "0  đến đỉnh  3 độ dài đường đi là:  1\n",
        "\n",
        "0  đến đỉnh  4 độ dài đường đi là:  7\n",
        "\n",
        "0  đến đỉnh  5 độ dài đường đi là:  10\n"
      ],
      "metadata": {
        "id": "F-uu-kehM7Yf"
      }
    },
    {
      "cell_type": "markdown",
      "source": [
        "thực hành 2: "
      ],
      "metadata": {
        "id": "qF0cAxf0Kz9h"
      }
    },
    {
      "cell_type": "code",
      "source": [
        "g = Graph(6) #đồ thị có hướng\n",
        "g.graph = [[0, 3, 0, 4, 0, 0],\n",
        "[0, 0, 6, 2, 0, 0],\n",
        "[0, 0, 0, 0, 4, 3],\n",
        "[0, 0, 1, 0, 4, 0],\n",
        "[0, 0, 0, 0, 0, 5],\n",
        "[0, 0, 0, 0, 0, 0]\n",
        "];\n",
        "g.timduongdi(0);"
      ],
      "metadata": {
        "colab": {
          "base_uri": "https://localhost:8080/"
        },
        "id": "boG_Vo2EK2F2",
        "outputId": "c7a6ca1c-33d8-4081-fa18-a3e4f4f0bc66"
      },
      "execution_count": 3,
      "outputs": [
        {
          "output_type": "stream",
          "name": "stdout",
          "text": [
            "đỉnh nguồn xuất phát từ: \n",
            "0  đến đỉnh  0 độ dài đường đi là:  0\n",
            "0  đến đỉnh  1 độ dài đường đi là:  3\n",
            "0  đến đỉnh  2 độ dài đường đi là:  5\n",
            "0  đến đỉnh  3 độ dài đường đi là:  4\n",
            "0  đến đỉnh  4 độ dài đường đi là:  8\n",
            "0  đến đỉnh  5 độ dài đường đi là:  8\n"
          ]
        }
      ]
    },
    {
      "cell_type": "markdown",
      "source": [
        "thực hành 3: "
      ],
      "metadata": {
        "id": "njJdUSjuLGSN"
      }
    },
    {
      "cell_type": "code",
      "source": [
        "g = Graph(6) #đồ thị có hướng\n",
        "g.graph = [[0, 3, 0, 1, 0, 0],\n",
        "[0, 0, 7, 0, 0, 0],\n",
        "[0, 0, 0, 0, 0, 3],\n",
        "[0, 0, 9, 0, 2, 0],\n",
        "[0, 0, 3, 0, 0, 7],\n",
        "[0, 0, 0, 0, 0, 0]\n",
        "];\n",
        "g.timduongdi(0);"
      ],
      "metadata": {
        "colab": {
          "base_uri": "https://localhost:8080/"
        },
        "id": "h9XXm1zKLIvN",
        "outputId": "26ce1328-c06b-40a7-8972-3018d8386bca"
      },
      "execution_count": 4,
      "outputs": [
        {
          "output_type": "stream",
          "name": "stdout",
          "text": [
            "đỉnh nguồn xuất phát từ: \n",
            "0  đến đỉnh  0 độ dài đường đi là:  0\n",
            "0  đến đỉnh  1 độ dài đường đi là:  3\n",
            "0  đến đỉnh  2 độ dài đường đi là:  6\n",
            "0  đến đỉnh  3 độ dài đường đi là:  1\n",
            "0  đến đỉnh  4 độ dài đường đi là:  3\n",
            "0  đến đỉnh  5 độ dài đường đi là:  9\n"
          ]
        }
      ]
    }
  ]
}