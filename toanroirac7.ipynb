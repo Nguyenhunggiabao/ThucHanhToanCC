{
  "nbformat": 4,
  "nbformat_minor": 0,
  "metadata": {
    "colab": {
      "name": "Untitled16.ipynb",
      "provenance": [],
      "authorship_tag": "ABX9TyNtPS7MzXOWwFhlgKYbJ+m3",
      "include_colab_link": true
    },
    "kernelspec": {
      "name": "python3",
      "display_name": "Python 3"
    },
    "language_info": {
      "name": "python"
    }
  },
  "cells": [
    {
      "cell_type": "markdown",
      "metadata": {
        "id": "view-in-github",
        "colab_type": "text"
      },
      "source": [
        "<a href=\"https://colab.research.google.com/github/Nguyenhunggiabao/ThucHanhToanCC/blob/main/toanroirac7.ipynb\" target=\"_parent\"><img src=\"https://colab.research.google.com/assets/colab-badge.svg\" alt=\"Open In Colab\"/></a>"
      ]
    },
    {
      "cell_type": "markdown",
      "source": [
        "chương 7 "
      ],
      "metadata": {
        "id": "bP8KL8U6Twum"
      }
    },
    {
      "cell_type": "markdown",
      "source": [
        "thức hành 1 "
      ],
      "metadata": {
        "id": "QKPmVvYVT02a"
      }
    },
    {
      "cell_type": "code",
      "execution_count": 8,
      "metadata": {
        "id": "t2OTzN65Te2Y"
      },
      "outputs": [],
      "source": [
        "import math\n",
        "import sys\n",
        "class Graph():\n",
        "  def __init__(cung, dinh):\n",
        "    cung.x = dinh\n",
        "    cung.graph = [[0 for column in range(dinh)]\n",
        "                  for row in range(dinh)]\n",
        "  def inketqua(cung, L, a):\n",
        "    print (\"đỉnh nguồn xuất phát từ: \")\n",
        "    for nut in range(cung.x):\n",
        "      print (a,\" đến đỉnh \",nut, \"độ dài đường đi là: \", L[nut])\n",
        "  def duongdinhonhat(cung, L, P):\n",
        "    min = sys.maxsize\n",
        "    for x in range(cung.x):\n",
        "      if L[x] < min and P[x] == False:\n",
        "        min = L[x]\n",
        "        min_index = x\n",
        "    return min_index\n",
        "  def timduongdi(cung, a):\n",
        "    L = [sys.maxsize] * cung.x\n",
        "    L[a] = 0\n",
        "    P = [False] * cung.x\n",
        "    for cout in range(cung.x):\n",
        "      u = cung.duongdinhonhat(L, P)\n",
        "      P[u] = True\n",
        "      for x in range(cung.x):\n",
        "        if cung.graph[u][x] > 0 and P[x] == False and L[x] > L[u] + cung.graph[u][x]:\n",
        "          L[x] = L[u] + cung.graph[u][x]\n",
        "    cung.inketqua(L, a)\n",
        "g = Graph(6)\n",
        "\n"
      ]
    },
    {
      "cell_type": "code",
      "source": [
        "g.graph = [[0, 2, 0, 1, 0, 0],\n",
        " [3, 0, 8, 4, 0, 0],\n",
        " [0, 2, 0, 0, 7, 4],\n",
        " [4, 2, 0, 0, 2, 0],\n",
        " [0, 0, 11, 1, 0, 5],\n",
        " [0, 0, 3, 0, 5, 0]\n",
        " ];\n",
        "g.timduongdi(0);"
      ],
      "metadata": {
        "colab": {
          "base_uri": "https://localhost:8080/"
        },
        "id": "xZK-oELsUCga",
        "outputId": "8affb896-4290-44c3-bcdb-2f90e0a4f2b6"
      },
      "execution_count": 9,
      "outputs": [
        {
          "output_type": "stream",
          "name": "stdout",
          "text": [
            "đỉnh nguồn xuất phát từ: \n",
            "0  đến đỉnh  0 độ dài đường đi là:  0\n",
            "0  đến đỉnh  1 độ dài đường đi là:  2\n",
            "0  đến đỉnh  2 độ dài đường đi là:  10\n",
            "0  đến đỉnh  3 độ dài đường đi là:  1\n",
            "0  đến đỉnh  4 độ dài đường đi là:  3\n",
            "0  đến đỉnh  5 độ dài đường đi là:  8\n"
          ]
        }
      ]
    },
    {
      "cell_type": "markdown",
      "source": [
        "thực hành 2 "
      ],
      "metadata": {
        "id": "uRldigbaZok9"
      }
    },
    {
      "cell_type": "code",
      "source": [
        "import math\n",
        "import sys\n",
        "class Graph1():\n",
        "  def __init__(cung, dinh):\n",
        "    cung.x = dinh\n",
        "    cung.graph = [[0 for column in range(dinh)]\n",
        "                  for row in range(dinh)]\n",
        "  def inketqua(cung, L, a):\n",
        "    print (\"đỉnh nguồn xuất phát từ: \")\n",
        "    for nut in range(cung.x):\n",
        "      print (a,\" đến đỉnh \",nut, \"độ dài đường đi là: \", L[nut])\n",
        "  def duongdinhonhat(cung, L, P):\n",
        "    min = sys.maxsize\n",
        "    for x in range(cung.x):\n",
        "      if L[x] < min and P[x] == False:\n",
        "        min = L[x]\n",
        "        min_index = x\n",
        "    return min_index\n",
        "  def timduongdi(cung, a):\n",
        "    L = [sys.maxsize] * cung.x\n",
        "    L[a] = 0\n",
        "    P = [False] * cung.x\n",
        "    for cout in range(cung.x):\n",
        "      u = cung.duongdinhonhat(L, P)\n",
        "      P[u] = True\n",
        "      for x in range(cung.x):\n",
        "        if cung.graph[u][x] > 0 and P[x] == False and L[x] > L[u] + cung.graph[u][x]:\n",
        "          L[x] = L[u] + cung.graph[u][x]\n",
        "    cung.inketqua(L, a)\n",
        "g = Graph1(6)"
      ],
      "metadata": {
        "id": "SzNbHZ60aen5"
      },
      "execution_count": 10,
      "outputs": []
    },
    {
      "cell_type": "code",
      "source": [
        "g.graph = [[0, 3, 0, 1, 0, 0],\n",
        " [3, 0, 5, 2, 0, 0],\n",
        " [0, 5, 0, 0, 4, 2],\n",
        " [1, 2, 0, 0, 6, 0],\n",
        " [0, 0, 4, 6, 0, 7],\n",
        " [0, 0, 2, 0, 7, 0]\n",
        " ];\n",
        "g.timduongdi(0)"
      ],
      "metadata": {
        "colab": {
          "base_uri": "https://localhost:8080/"
        },
        "id": "BDKFoWuPZqIb",
        "outputId": "e4961758-0f05-4ca3-8d84-ba5276305bfa"
      },
      "execution_count": 11,
      "outputs": [
        {
          "output_type": "stream",
          "name": "stdout",
          "text": [
            "đỉnh nguồn xuất phát từ: \n",
            "0  đến đỉnh  0 độ dài đường đi là:  0\n",
            "0  đến đỉnh  1 độ dài đường đi là:  3\n",
            "0  đến đỉnh  2 độ dài đường đi là:  8\n",
            "0  đến đỉnh  3 độ dài đường đi là:  1\n",
            "0  đến đỉnh  4 độ dài đường đi là:  7\n",
            "0  đến đỉnh  5 độ dài đường đi là:  10\n"
          ]
        }
      ]
    },
    {
      "cell_type": "markdown",
      "source": [
        "thực hành 3 "
      ],
      "metadata": {
        "id": "V2dKv4K2dTx3"
      }
    },
    {
      "cell_type": "code",
      "source": [
        "import math\n",
        "import sys\n",
        "class Graph2():\n",
        "  def __init__(cung, dinh):\n",
        "    cung.x = dinh\n",
        "    cung.graph = [[0 for column in range(dinh)]\n",
        "                  for row in range(dinh)]\n",
        "  def inketqua(cung, L, a):\n",
        "    print (\"đỉnh nguồn xuất phát từ: \")\n",
        "    for nut in range(cung.x):\n",
        "      print (a,\" đến đỉnh \",nut, \"độ dài đường đi là: \", L[nut])\n",
        "  def duongdinhonhat(cung, L, P):\n",
        "    min = sys.maxsize\n",
        "    for x in range(cung.x):\n",
        "      if L[x] < min and P[x] == False:\n",
        "        min = L[x]\n",
        "        min_index = x\n",
        "    return min_index\n",
        "  def timduongdi(cung, a):\n",
        "    L = [sys.maxsize] * cung.x\n",
        "    L[a] = 0\n",
        "    P = [False] * cung.x\n",
        "    for cout in range(cung.x):\n",
        "      u = cung.duongdinhonhat(L, P)\n",
        "      P[u] = True\n",
        "      for x in range(cung.x):\n",
        "        if cung.graph[u][x] > 0 and P[x] == False and L[x] > L[u] + cung.graph[u][x]:\n",
        "          L[x] = L[u] + cung.graph[u][x]\n",
        "    cung.inketqua(L, a)\n",
        "g = Graph2(6)"
      ],
      "metadata": {
        "id": "VkDP06lAbDga"
      },
      "execution_count": 12,
      "outputs": []
    },
    {
      "cell_type": "code",
      "source": [
        "g.graph = [[0, 4, 0, 1, 0, 0],\n",
        " [0, 0, 8, 0, 0, 0],\n",
        " [0, 0, 0, 0, 0, 4],\n",
        " [0, 0, 9, 0, 5, 0],\n",
        " [0, 0, 1, 0, 0, 7],\n",
        " [0, 0, 0, 0, 0, 0]\n",
        " ];\n",
        "g.timduongdi(0)"
      ],
      "metadata": {
        "colab": {
          "base_uri": "https://localhost:8080/"
        },
        "id": "V0WGPLAfbGvs",
        "outputId": "e94f21a3-4459-4347-fbc6-8952be8561a2"
      },
      "execution_count": 13,
      "outputs": [
        {
          "output_type": "stream",
          "name": "stdout",
          "text": [
            "đỉnh nguồn xuất phát từ: \n",
            "0  đến đỉnh  0 độ dài đường đi là:  0\n",
            "0  đến đỉnh  1 độ dài đường đi là:  4\n",
            "0  đến đỉnh  2 độ dài đường đi là:  7\n",
            "0  đến đỉnh  3 độ dài đường đi là:  1\n",
            "0  đến đỉnh  4 độ dài đường đi là:  6\n",
            "0  đến đỉnh  5 độ dài đường đi là:  11\n"
          ]
        }
      ]
    }
  ]
}